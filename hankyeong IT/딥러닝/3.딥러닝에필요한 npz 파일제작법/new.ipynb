{
 "cells": [
  {
   "cell_type": "code",
   "execution_count": 6,
   "metadata": {},
   "outputs": [
    {
     "data": {
      "text/plain": [
       "array([[ 7.5,  0.2,  1. ,  0.1],\n",
       "       [ 6. ,  0. ,  0. ,  0.2],\n",
       "       [ 2.4,  0.2,  0.5,  0.5],\n",
       "       [ 4.5,  0.2,  0. ,  0.2],\n",
       "       [10.5,  0. ,  1.5,  0.1],\n",
       "       [12. ,  0. ,  2.5,  0.4]])"
      ]
     },
     "execution_count": 6,
     "metadata": {},
     "output_type": "execute_result"
    }
   ],
   "source": [
    "import numpy as np\n",
    "\n",
    "x=[[25,1,2,1],\n",
    "[20,0,0,2],\n",
    "[8,1,1,5],\n",
    "[15,1,0,2],\n",
    "[35,0,3,1],\n",
    "[40,0,5,4]]\n",
    "\n",
    "x = np.array(x)\n",
    "w = [0.3,0.2,0.5,0.1]\n",
    "b = [0.1]\n",
    "\n",
    "x*w"
   ]
  },
  {
   "cell_type": "code",
   "execution_count": 5,
   "metadata": {},
   "outputs": [
    {
     "data": {
      "text/plain": [
       "array([ 8.8,  6.2,  3.6,  4.9, 12.1, 14.9])"
      ]
     },
     "execution_count": 5,
     "metadata": {},
     "output_type": "execute_result"
    }
   ],
   "source": [
    "np.sum(x*w,axis=1)"
   ]
  },
  {
   "cell_type": "code",
   "execution_count": 7,
   "metadata": {},
   "outputs": [
    {
     "data": {
      "text/plain": [
       "array([ 8.8,  6.2,  3.6,  4.9, 12.1, 14.9])"
      ]
     },
     "execution_count": 7,
     "metadata": {},
     "output_type": "execute_result"
    }
   ],
   "source": [
    "np.dot(x,w)  #매적골    "
   ]
  },
  {
   "cell_type": "code",
   "execution_count": null,
   "metadata": {},
   "outputs": [],
   "source": []
  }
 ],
 "metadata": {
  "kernelspec": {
   "display_name": "Python 3.10.4 ('han')",
   "language": "python",
   "name": "python3"
  },
  "language_info": {
   "codemirror_mode": {
    "name": "ipython",
    "version": 3
   },
   "file_extension": ".py",
   "mimetype": "text/x-python",
   "name": "python",
   "nbconvert_exporter": "python",
   "pygments_lexer": "ipython3",
   "version": "3.10.4"
  },
  "orig_nbformat": 4,
  "vscode": {
   "interpreter": {
    "hash": "9ffd841040af6bedd50cabf1584399d13f777232c008d7c4ad470663779a547a"
   }
  }
 },
 "nbformat": 4,
 "nbformat_minor": 2
}
