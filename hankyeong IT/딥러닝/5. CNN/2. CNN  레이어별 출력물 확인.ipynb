{
 "cells": [
  {
   "cell_type": "code",
   "execution_count": 1,
   "id": "7732e1cb",
   "metadata": {},
   "outputs": [],
   "source": [
    "import warnings\n",
    "warnings.filterwarnings('ignore')"
   ]
  },
  {
   "cell_type": "code",
   "execution_count": 10,
   "id": "7ad2614f",
   "metadata": {},
   "outputs": [
    {
     "ename": "ImportError",
     "evalue": "cannot import name 'datasets' from 'tensorflow.keras.models' (c:\\Users\\user\\.conda\\envs\\han\\lib\\site-packages\\keras\\api\\_v2\\keras\\models\\__init__.py)",
     "output_type": "error",
     "traceback": [
      "\u001b[1;31m---------------------------------------------------------------------------\u001b[0m",
      "\u001b[1;31mImportError\u001b[0m                               Traceback (most recent call last)",
      "Cell \u001b[1;32mIn [10], line 6\u001b[0m\n\u001b[0;32m      4\u001b[0m \u001b[39mfrom\u001b[39;00m \u001b[39mtensorflow\u001b[39;00m \u001b[39mimport\u001b[39;00m keras\n\u001b[0;32m      5\u001b[0m \u001b[39mfrom\u001b[39;00m \u001b[39mtensorflow\u001b[39;00m\u001b[39m.\u001b[39;00m\u001b[39mkeras\u001b[39;00m\u001b[39m.\u001b[39;00m\u001b[39mlayers\u001b[39;00m \u001b[39mimport\u001b[39;00m Dense, Input,Conv2D\n\u001b[1;32m----> 6\u001b[0m \u001b[39mfrom\u001b[39;00m \u001b[39mtensorflow\u001b[39;00m\u001b[39m.\u001b[39;00m\u001b[39mkeras\u001b[39;00m\u001b[39m.\u001b[39;00m\u001b[39mmodels\u001b[39;00m \u001b[39mimport\u001b[39;00m Sequential, Model, datasets, layers, models\n\u001b[0;32m      7\u001b[0m \u001b[39mimport\u001b[39;00m \u001b[39mtensorflow\u001b[39;00m \u001b[39mas\u001b[39;00m \u001b[39mtf\u001b[39;00m\n\u001b[0;32m      8\u001b[0m \u001b[39mfrom\u001b[39;00m \u001b[39mtensorflow\u001b[39;00m\u001b[39m.\u001b[39;00m\u001b[39mkeras\u001b[39;00m\u001b[39m.\u001b[39;00m\u001b[39moptimizers\u001b[39;00m \u001b[39mimport\u001b[39;00m Adam\n",
      "\u001b[1;31mImportError\u001b[0m: cannot import name 'datasets' from 'tensorflow.keras.models' (c:\\Users\\user\\.conda\\envs\\han\\lib\\site-packages\\keras\\api\\_v2\\keras\\models\\__init__.py)"
     ]
    }
   ],
   "source": [
    "import numpy as np\n",
    "import pandas as pd\n",
    "import matplotlib.pyplot as plt\n",
    "from tensorflow import keras\n",
    "from tensorflow.keras.layers import Dense, Input,Conv2D\n",
    "from tensorflow.keras.models import Sequential, Model, datasets, layers, models\n",
    "import tensorflow as tf\n",
    "from tensorflow.keras.optimizers import Adam\n",
    "#from tensorflow.keras import ayers, model"
   ]
  },
  {
   "cell_type": "code",
   "execution_count": null,
   "id": "ba0fc0f4",
   "metadata": {},
   "outputs": [],
   "source": [
    "(train_images, train_labels), (test_images, test_labels) = datasets.mnist.load_data()\n",
    "\n",
    "train_images = train_images.reshape((60000, 28, 28, 1))\n",
    "test_images = test_images.reshape((10000, 28, 28, 1))\n",
    "train_labels=train_labels\n",
    "test_labels=test_labels"
   ]
  },
  {
   "cell_type": "code",
   "execution_count": null,
   "id": "9c783387",
   "metadata": {},
   "outputs": [],
   "source": [
    "model = models.Sequential()\n",
    "model.add(layers.Conv2D(5, (3, 3), activation='relu', input_shape=(28, 28, 1)))\n",
    "model.add(layers.MaxPooling2D((2, 2)))\n",
    "model.add(layers.Conv2D(2, (3, 3), activation='relu'))\n",
    "\n",
    "model.add(layers.Flatten())\n",
    "model.add(layers.Dense(2, activation='relu'))\n",
    "model.add(layers.Dense(10, activation='softmax'))"
   ]
  },
  {
   "cell_type": "code",
   "execution_count": null,
   "id": "bf871dc5",
   "metadata": {},
   "outputs": [
    {
     "data": {
      "text/plain": [
       "[<KerasTensor: shape=(None, 26, 26, 5) dtype=float32 (created by layer 'conv2d_16')>,\n",
       " <KerasTensor: shape=(None, 13, 13, 5) dtype=float32 (created by layer 'max_pooling2d_8')>,\n",
       " <KerasTensor: shape=(None, 11, 11, 2) dtype=float32 (created by layer 'conv2d_17')>,\n",
       " <KerasTensor: shape=(None, 242) dtype=float32 (created by layer 'flatten_8')>,\n",
       " <KerasTensor: shape=(None, 2) dtype=float32 (created by layer 'dense_15')>,\n",
       " <KerasTensor: shape=(None, 10) dtype=float32 (created by layer 'dense_16')>]"
      ]
     },
     "execution_count": 76,
     "metadata": {},
     "output_type": "execute_result"
    }
   ],
   "source": [
    "get_layer_name = [layer.name for layer in model.layers]\n",
    "get_output = [layer.output for layer in model.layers]\n",
    "get_output"
   ]
  },
  {
   "cell_type": "code",
   "execution_count": 3,
   "id": "cf716f2e",
   "metadata": {},
   "outputs": [
    {
     "ename": "NameError",
     "evalue": "name 'tf' is not defined",
     "output_type": "error",
     "traceback": [
      "\u001b[1;31m---------------------------------------------------------------------------\u001b[0m",
      "\u001b[1;31mNameError\u001b[0m                                 Traceback (most recent call last)",
      "Cell \u001b[1;32mIn [3], line 3\u001b[0m\n\u001b[0;32m      1\u001b[0m \u001b[39m##### 모델의 첫번째 레이어만 사용\u001b[39;00m\n\u001b[0;32m      2\u001b[0m plt\u001b[39m.\u001b[39mfigure(figsize\u001b[39m=\u001b[39m(\u001b[39m15\u001b[39m,\u001b[39m3\u001b[39m))\n\u001b[1;32m----> 3\u001b[0m visual_model \u001b[39m=\u001b[39m tf\u001b[39m.\u001b[39mkeras\u001b[39m.\u001b[39mmodels\u001b[39m.\u001b[39mModel(inputs \u001b[39m=\u001b[39m model\u001b[39m.\u001b[39minput, outputs \u001b[39m=\u001b[39m get_output[\u001b[39m0\u001b[39m])\n\u001b[0;32m      4\u001b[0m visual_model\u001b[39m.\u001b[39msummary()      \n\u001b[0;32m      6\u001b[0m test_img \u001b[39m=\u001b[39m np\u001b[39m.\u001b[39mexpand_dims(test_images[\u001b[39m1\u001b[39m], axis \u001b[39m=\u001b[39m \u001b[39m0\u001b[39m)\n",
      "\u001b[1;31mNameError\u001b[0m: name 'tf' is not defined"
     ]
    },
    {
     "data": {
      "text/plain": [
       "<Figure size 1500x300 with 0 Axes>"
      ]
     },
     "metadata": {},
     "output_type": "display_data"
    }
   ],
   "source": [
    "##### 모델의 첫번째 레이어만 사용\n",
    "plt.figure(figsize=(15,3))\n",
    "visual_model = tf.keras.models.Model(inputs = model.input, outputs = get_output[0])\n",
    "visual_model.summary()      \n",
    "\n",
    "test_img = np.expand_dims(test_images[1], axis = 0)\n",
    "feature_maps = visual_model.predict(test_img)\n",
    "plt.imshow(test_images[1],cmap='gray')\n"
   ]
  },
  {
   "cell_type": "code",
   "execution_count": 4,
   "id": "d4a49d9c",
   "metadata": {},
   "outputs": [
    {
     "ename": "NameError",
     "evalue": "name 'feature_maps' is not defined",
     "output_type": "error",
     "traceback": [
      "\u001b[1;31m---------------------------------------------------------------------------\u001b[0m",
      "\u001b[1;31mNameError\u001b[0m                                 Traceback (most recent call last)",
      "Cell \u001b[1;32mIn [4], line 5\u001b[0m\n\u001b[0;32m      3\u001b[0m \u001b[39mfor\u001b[39;00m x \u001b[39min\u001b[39;00m \u001b[39mrange\u001b[39m(\u001b[39m5\u001b[39m):\n\u001b[0;32m      4\u001b[0m     plt\u001b[39m.\u001b[39msubplot(\u001b[39m1\u001b[39m,\u001b[39m5\u001b[39m,cnt)\n\u001b[1;32m----> 5\u001b[0m     plt\u001b[39m.\u001b[39mimshow(feature_maps[\u001b[39m0\u001b[39m][:,:,x],cmap\u001b[39m=\u001b[39m\u001b[39m'\u001b[39m\u001b[39mgray\u001b[39m\u001b[39m'\u001b[39m)\n\u001b[0;32m      6\u001b[0m     cnt\u001b[39m+\u001b[39m\u001b[39m=\u001b[39m\u001b[39m1\u001b[39m\n",
      "\u001b[1;31mNameError\u001b[0m: name 'feature_maps' is not defined"
     ]
    },
    {
     "data": {
      "image/png": "[encoded data removed]",
      "text/plain": [
       "<Figure size 2000x300 with 1 Axes>"
      ]
     },
     "metadata": {},
     "output_type": "display_data"
    }
   ],
   "source": [
    "plt.figure(figsize=(20,3))\n",
    "cnt=1\n",
    "for x in range(5):\n",
    "    plt.subplot(1,5,cnt)\n",
    "    plt.imshow(feature_maps[0][:,:,x],cmap='gray')\n",
    "    cnt+=1"
   ]
  },
  {
   "cell_type": "code",
   "execution_count": 5,
   "id": "f8ed60ee",
   "metadata": {},
   "outputs": [
    {
     "ename": "NameError",
     "evalue": "name 'tf' is not defined",
     "output_type": "error",
     "traceback": [
      "\u001b[1;31m---------------------------------------------------------------------------\u001b[0m",
      "\u001b[1;31mNameError\u001b[0m                                 Traceback (most recent call last)",
      "Cell \u001b[1;32mIn [5], line 3\u001b[0m\n\u001b[0;32m      1\u001b[0m \u001b[39m# 모델의 두번째 레이어만 사용\u001b[39;00m\n\u001b[0;32m      2\u001b[0m plt\u001b[39m.\u001b[39mfigure(figsize\u001b[39m=\u001b[39m(\u001b[39m15\u001b[39m,\u001b[39m3\u001b[39m))\n\u001b[1;32m----> 3\u001b[0m visual_model \u001b[39m=\u001b[39m tf\u001b[39m.\u001b[39mkeras\u001b[39m.\u001b[39mmodels\u001b[39m.\u001b[39mModel(inputs \u001b[39m=\u001b[39m model\u001b[39m.\u001b[39minput, outputs \u001b[39m=\u001b[39m get_output[\u001b[39m1\u001b[39m])\n\u001b[0;32m      4\u001b[0m visual_model\u001b[39m.\u001b[39msummary()      \n\u001b[0;32m      6\u001b[0m test_img \u001b[39m=\u001b[39m np\u001b[39m.\u001b[39mexpand_dims(test_images[\u001b[39m1\u001b[39m], axis \u001b[39m=\u001b[39m \u001b[39m0\u001b[39m)\n",
      "\u001b[1;31mNameError\u001b[0m: name 'tf' is not defined"
     ]
    },
    {
     "data": {
      "text/plain": [
       "<Figure size 1500x300 with 0 Axes>"
      ]
     },
     "metadata": {},
     "output_type": "display_data"
    }
   ],
   "source": [
    "# 모델의 두번째 레이어만 사용\n",
    "plt.figure(figsize=(15,3))\n",
    "visual_model = tf.keras.models.Model(inputs = model.input, outputs = get_output[1])\n",
    "visual_model.summary()      \n",
    "\n",
    "test_img = np.expand_dims(test_images[1], axis = 0)\n",
    "feature_maps = visual_model.predict(test_img)\n",
    "plt.imshow(test_images[1],cmap='gray')\n",
    "\n",
    "\n",
    "plt.figure(figsize=(20,3))\n",
    "cnt=1\n",
    "for x in range(5):\n",
    "    plt.subplot(1,5,cnt)\n",
    "    plt.imshow(feature_maps[0][:,:,x],cmap='gray')\n",
    "    cnt+=1"
   ]
  },
  {
   "cell_type": "code",
   "execution_count": 6,
   "id": "cb43f2b8",
   "metadata": {},
   "outputs": [
    {
     "ename": "NameError",
     "evalue": "name 'tf' is not defined",
     "output_type": "error",
     "traceback": [
      "\u001b[1;31m---------------------------------------------------------------------------\u001b[0m",
      "\u001b[1;31mNameError\u001b[0m                                 Traceback (most recent call last)",
      "Cell \u001b[1;32mIn [6], line 3\u001b[0m\n\u001b[0;32m      1\u001b[0m \u001b[39m# 모델의 3번째 레이어만 사용\u001b[39;00m\n\u001b[0;32m      2\u001b[0m plt\u001b[39m.\u001b[39mfigure(figsize\u001b[39m=\u001b[39m(\u001b[39m15\u001b[39m,\u001b[39m3\u001b[39m))\n\u001b[1;32m----> 3\u001b[0m visual_model \u001b[39m=\u001b[39m tf\u001b[39m.\u001b[39mkeras\u001b[39m.\u001b[39mmodels\u001b[39m.\u001b[39mModel(inputs \u001b[39m=\u001b[39m model\u001b[39m.\u001b[39minput, outputs \u001b[39m=\u001b[39m get_output[\u001b[39m2\u001b[39m])\n\u001b[0;32m      4\u001b[0m visual_model\u001b[39m.\u001b[39msummary()      \n\u001b[0;32m      6\u001b[0m test_img \u001b[39m=\u001b[39m np\u001b[39m.\u001b[39mexpand_dims(test_images[\u001b[39m1\u001b[39m], axis \u001b[39m=\u001b[39m \u001b[39m0\u001b[39m)\n",
      "\u001b[1;31mNameError\u001b[0m: name 'tf' is not defined"
     ]
    },
    {
     "data": {
      "text/plain": [
       "<Figure size 1500x300 with 0 Axes>"
      ]
     },
     "metadata": {},
     "output_type": "display_data"
    }
   ],
   "source": [
    "# 모델의 3번째 레이어만 사용\n",
    "plt.figure(figsize=(15,3))\n",
    "visual_model = tf.keras.models.Model(inputs = model.input, outputs = get_output[2])\n",
    "visual_model.summary()      \n",
    "\n",
    "test_img = np.expand_dims(test_images[1], axis = 0)\n",
    "feature_maps = visual_model.predict(test_img)\n",
    "plt.imshow(test_images[1],cmap='gray')\n",
    "\n",
    "\n",
    "plt.figure(figsize=(20,3))\n",
    "cnt=1\n",
    "for x in range(2):\n",
    "    plt.subplot(1,2,cnt)\n",
    "    plt.imshow(feature_maps[0][:,:,x],cmap='gray')\n",
    "    cnt+=1\n"
   ]
  },
  {
   "cell_type": "code",
   "execution_count": 7,
   "id": "b60d6e7e",
   "metadata": {},
   "outputs": [
    {
     "ename": "NameError",
     "evalue": "name 'tf' is not defined",
     "output_type": "error",
     "traceback": [
      "\u001b[1;31m---------------------------------------------------------------------------\u001b[0m",
      "\u001b[1;31mNameError\u001b[0m                                 Traceback (most recent call last)",
      "Cell \u001b[1;32mIn [7], line 3\u001b[0m\n\u001b[0;32m      1\u001b[0m \u001b[39m# 모델의 4번째 레이어만 사용 (복원)\u001b[39;00m\n\u001b[0;32m      2\u001b[0m plt\u001b[39m.\u001b[39mfigure(figsize\u001b[39m=\u001b[39m(\u001b[39m15\u001b[39m,\u001b[39m3\u001b[39m))\n\u001b[1;32m----> 3\u001b[0m visual_model \u001b[39m=\u001b[39m tf\u001b[39m.\u001b[39mkeras\u001b[39m.\u001b[39mmodels\u001b[39m.\u001b[39mModel(inputs \u001b[39m=\u001b[39m model\u001b[39m.\u001b[39minput, outputs \u001b[39m=\u001b[39m get_output[\u001b[39m3\u001b[39m])\n\u001b[0;32m      4\u001b[0m visual_model\u001b[39m.\u001b[39msummary()      \n\u001b[0;32m      6\u001b[0m test_img \u001b[39m=\u001b[39m np\u001b[39m.\u001b[39mexpand_dims(test_images[\u001b[39m1\u001b[39m], axis \u001b[39m=\u001b[39m \u001b[39m0\u001b[39m)\n",
      "\u001b[1;31mNameError\u001b[0m: name 'tf' is not defined"
     ]
    },
    {
     "data": {
      "text/plain": [
       "<Figure size 1500x300 with 0 Axes>"
      ]
     },
     "metadata": {},
     "output_type": "display_data"
    }
   ],
   "source": [
    "# 모델의 4번째 레이어만 사용 (복원)\n",
    "plt.figure(figsize=(15,3))\n",
    "visual_model = tf.keras.models.Model(inputs = model.input, outputs = get_output[3])\n",
    "visual_model.summary()      \n",
    "\n",
    "test_img = np.expand_dims(test_images[1], axis = 0)\n",
    "feature_maps = visual_model.predict(test_img)\n",
    "plt.imshow(test_images[1],cmap='gray')\n",
    "\n",
    "\n",
    "plt.figure(figsize=(20,3))\n",
    "cnt=1\n",
    "for x in range(2):\n",
    "    plt.subplot(1,2,cnt)\n",
    "    plt.imshow(feature_maps[0].reshape(11,11,2)[:,:,x],cmap='gray')\n",
    "    cnt+=1"
   ]
  },
  {
   "cell_type": "markdown",
   "id": "55677eff",
   "metadata": {},
   "source": [
    "## 활성화함수를 변경하여봅니다"
   ]
  },
  {
   "cell_type": "code",
   "execution_count": 102,
   "id": "2d473446",
   "metadata": {},
   "outputs": [],
   "source": [
    "\n",
    "    "
   ]
  },
  {
   "cell_type": "code",
   "execution_count": 119,
   "id": "c8ed4dde",
   "metadata": {},
   "outputs": [
    {
     "data": {
      "text/plain": [
       "<Figure size 1080x216 with 0 Axes>"
      ]
     },
     "metadata": {},
     "output_type": "display_data"
    },
    {
     "data": {
      "image/png": "[encoded data removed]",
      "text/plain": [
       "<Figure size 1440x216 with 5 Axes>"
      ]
     },
     "metadata": {
      "needs_background": "light"
     },
     "output_type": "display_data"
    },
    {
     "data": {
      "image/png": "[encoded data removed]",
      "text/plain": [
       "<Figure size 1440x216 with 5 Axes>"
      ]
     },
     "metadata": {
      "needs_background": "light"
     },
     "output_type": "display_data"
    },
    {
     "data": {
      "image/png": "[encoded data removed]",
      "text/plain": [
       "<Figure size 1440x216 with 2 Axes>"
      ]
     },
     "metadata": {
      "needs_background": "light"
     },
     "output_type": "display_data"
    }
   ],
   "source": [
    "model = models.Sequential()\n",
    "model.add(layers.Conv2D(5, (3, 3), activation='sigmoid', input_shape=(28, 28, 1)))\n",
    "model.add(layers.MaxPooling2D((2, 2)))\n",
    "model.add(layers.Conv2D(2, (3, 3), activation='sigmoid'))\n",
    "\n",
    "model.add(layers.Flatten())\n",
    "model.add(layers.Dense(2, activation='sigmoid'))\n",
    "model.add(layers.Dense(10, activation='softmax'))\n",
    "\n",
    "\n",
    "get_layer_name = [layer.name for layer in model.layers]\n",
    "get_output = [layer.output for layer in model.layers]\n",
    "get_output\n",
    "\n",
    "\n",
    "# 모델의 0번째 레이어만 사용 \n",
    "plt.figure(figsize=(15,3))\n",
    "\n",
    "for layer in range(3):\n",
    "    visual_model = tf.keras.models.Model(inputs = model.input, outputs = get_output[layer])\n",
    "    test_img = np.expand_dims(test_images[1], axis = 0)\n",
    "    feature_maps = visual_model.predict(test_img)\n",
    "\n",
    "    plt.figure(figsize=(20,3))\n",
    "    cnt=1\n",
    "\n",
    "    size=feature_maps.shape[-1]\n",
    "    \n",
    "    for x in range(size):\n",
    "        plt.subplot(1,size,cnt)\n",
    "        plt.imshow(feature_maps[0][:,:,x],cmap='gray')\n",
    "        cnt+=1\n",
    "    plt.show()\n",
    "        \n"
   ]
  },
  {
   "cell_type": "code",
   "execution_count": 140,
   "id": "d3ae7f8a",
   "metadata": {},
   "outputs": [
    {
     "data": {
      "text/plain": [
       "<Figure size 1080x216 with 0 Axes>"
      ]
     },
     "metadata": {},
     "output_type": "display_data"
    },
    {
     "data": {
      "image/png": "[encoded data removed]",
      "text/plain": [
       "<Figure size 1440x216 with 5 Axes>"
      ]
     },
     "metadata": {
      "needs_background": "light"
     },
     "output_type": "display_data"
    },
    {
     "data": {
      "image/png": "[encoded data removed]",
      "text/plain": [
       "<Figure size 1440x216 with 5 Axes>"
      ]
     },
     "metadata": {
      "needs_background": "light"
     },
     "output_type": "display_data"
    },
    {
     "data": {
      "image/png": "[encoded data removed]",
      "text/plain": [
       "<Figure size 1440x216 with 2 Axes>"
      ]
     },
     "metadata": {
      "needs_background": "light"
     },
     "output_type": "display_data"
    },
    {
     "name": "stdout",
     "output_type": "stream",
     "text": [
      "Model: \"sequential_47\"\n",
      "_________________________________________________________________\n",
      "Layer (type)                 Output Shape              Param #   \n",
      "=================================================================\n",
      "conv2d_93 (Conv2D)           (None, 26, 26, 5)         50        \n",
      "_________________________________________________________________\n",
      "max_pooling2d_46 (MaxPooling (None, 13, 13, 5)         0         \n",
      "_________________________________________________________________\n",
      "conv2d_94 (Conv2D)           (None, 11, 11, 2)         92        \n",
      "_________________________________________________________________\n",
      "flatten_46 (Flatten)         (None, 242)               0         \n",
      "_________________________________________________________________\n",
      "dense_89 (Dense)             (None, 2)                 486       \n",
      "_________________________________________________________________\n",
      "dense_90 (Dense)             (None, 10)                30        \n",
      "=================================================================\n",
      "Total params: 658\n",
      "Trainable params: 658\n",
      "Non-trainable params: 0\n",
      "_________________________________________________________________\n"
     ]
    }
   ],
   "source": [
    "model = models.Sequential()\n",
    "model.add(layers.Conv2D(5, (3, 3), activation='relu', input_shape=(28, 28, 1)))\n",
    "model.add(layers.MaxPooling2D((2, 2)))\n",
    "model.add(layers.Conv2D(2, (3, 3), activation='relu'))\n",
    "\n",
    "model.add(layers.Flatten())\n",
    "model.add(layers.Dense(2, activation='relu'))\n",
    "model.add(layers.Dense(10, activation='softmax'))\n",
    "\n",
    "\n",
    "get_layer_name = [layer.name for layer in model.layers]\n",
    "get_output = [layer.output for layer in model.layers]\n",
    "get_output\n",
    "\n",
    " \n",
    "plt.figure(figsize=(15,3))\n",
    "\n",
    "for layer in range(3):\n",
    "    visual_model = tf.keras.models.Model(inputs = model.input, outputs = get_output[layer])\n",
    "    test_img = np.expand_dims(test_images[1], axis = 0)\n",
    "    feature_maps = visual_model.predict(test_img)\n",
    "\n",
    "    plt.figure(figsize=(20,3))\n",
    "    cnt=1\n",
    "\n",
    "    size=feature_maps.shape[-1]\n",
    "    \n",
    "    for x in range(size):\n",
    "        plt.subplot(1,size,cnt)\n",
    "        plt.imshow(feature_maps[0][:,:,x],cmap='gray')\n",
    "        cnt+=1\n",
    "    plt.show()\n",
    "model.summary()"
   ]
  },
  {
   "cell_type": "code",
   "execution_count": 141,
   "id": "77af2609",
   "metadata": {},
   "outputs": [
    {
     "name": "stdout",
     "output_type": "stream",
     "text": [
      "Model: \"sequential_48\"\n",
      "_________________________________________________________________\n",
      "Layer (type)                 Output Shape              Param #   \n",
      "=================================================================\n",
      "conv2d_95 (Conv2D)           (None, 26, 26, 5)         50        \n",
      "_________________________________________________________________\n",
      "leaky_re_lu_36 (LeakyReLU)   (None, 26, 26, 5)         0         \n",
      "_________________________________________________________________\n",
      "max_pooling2d_47 (MaxPooling (None, 13, 13, 5)         0         \n",
      "_________________________________________________________________\n",
      "conv2d_96 (Conv2D)           (None, 11, 11, 2)         92        \n",
      "_________________________________________________________________\n",
      "leaky_re_lu_37 (LeakyReLU)   (None, 11, 11, 2)         0         \n",
      "_________________________________________________________________\n",
      "flatten_47 (Flatten)         (None, 242)               0         \n",
      "_________________________________________________________________\n",
      "dense_91 (Dense)             (None, 2)                 486       \n",
      "_________________________________________________________________\n",
      "dense_92 (Dense)             (None, 10)                30        \n",
      "=================================================================\n",
      "Total params: 658\n",
      "Trainable params: 658\n",
      "Non-trainable params: 0\n",
      "_________________________________________________________________\n",
      "5\n"
     ]
    },
    {
     "data": {
      "text/plain": [
       "<Figure size 1080x216 with 0 Axes>"
      ]
     },
     "metadata": {},
     "output_type": "display_data"
    },
    {
     "data": {
      "image/png": "[encoded data removed]",
      "text/plain": [
       "<Figure size 1440x216 with 5 Axes>"
      ]
     },
     "metadata": {
      "needs_background": "light"
     },
     "output_type": "display_data"
    },
    {
     "name": "stdout",
     "output_type": "stream",
     "text": [
      "5\n"
     ]
    },
    {
     "data": {
      "image/png": "[encoded data removed]",
      "text/plain": [
       "<Figure size 1440x216 with 5 Axes>"
      ]
     },
     "metadata": {
      "needs_background": "light"
     },
     "output_type": "display_data"
    },
    {
     "name": "stdout",
     "output_type": "stream",
     "text": [
      "5\n"
     ]
    },
    {
     "data": {
      "image/png": "[encoded data removed]",
      "text/plain": [
       "<Figure size 1440x216 with 5 Axes>"
      ]
     },
     "metadata": {
      "needs_background": "light"
     },
     "output_type": "display_data"
    },
    {
     "name": "stdout",
     "output_type": "stream",
     "text": [
      "2\n"
     ]
    },
    {
     "data": {
      "image/png": "[encoded data removed]",
      "text/plain": [
       "<Figure size 1440x216 with 2 Axes>"
      ]
     },
     "metadata": {
      "needs_background": "light"
     },
     "output_type": "display_data"
    }
   ],
   "source": [
    "# https://balmostory.tistory.com/52  \n",
    "model = models.Sequential()\n",
    "model.add(layers.Conv2D(5, (3, 3), input_shape=(28, 28, 1)))\n",
    "model.add(layers.LeakyReLU(1))\n",
    "model.add(layers.MaxPooling2D((2, 2)))\n",
    "model.add(layers.Conv2D(2, (3, 3)))\n",
    "model.add(layers.LeakyReLU())\n",
    "\n",
    "model.add(layers.Flatten())\n",
    "model.add(layers.Dense(2,activation='relu'))\n",
    "#model.add(layers.LeakyReLU())\n",
    "model.add(layers.Dense(10, activation='softmax'))\n",
    "\n",
    "model.summary()\n",
    "get_layer_name = [layer.name for layer in model.layers]\n",
    "get_output = [layer.output for layer in model.layers]\n",
    "get_output\n",
    "\n",
    "\n",
    "plt.figure(figsize=(15,3))\n",
    "\n",
    "for layer in range(4):\n",
    "    visual_model = tf.keras.models.Model(inputs = model.input, outputs = get_output[layer])\n",
    "    test_img = np.expand_dims(test_images[1], axis = 0)\n",
    "    feature_maps = visual_model.predict(test_img)\n",
    "\n",
    "    plt.figure(figsize=(20,3))\n",
    "    cnt=1\n",
    "\n",
    "    size=feature_maps.shape[-1]\n",
    "    print(size)\n",
    "    for x in range(size):\n",
    "        plt.subplot(1,size,cnt)\n",
    "        plt.imshow(feature_maps[0][:,:,x],cmap='gray')\n",
    "        cnt+=1\n",
    "    plt.show()"
   ]
  }
 ],
 "metadata": {
  "kernelspec": {
   "display_name": "Python 3.10.4 ('han')",
   "language": "python",
   "name": "python3"
  },
  "language_info": {
   "codemirror_mode": {
    "name": "ipython",
    "version": 3
   },
   "file_extension": ".py",
   "mimetype": "text/x-python",
   "name": "python",
   "nbconvert_exporter": "python",
   "pygments_lexer": "ipython3",
   "version": "3.10.4"
  },
  "vscode": {
   "interpreter": {
    "hash": "9ffd841040af6bedd50cabf1584399d13f777232c008d7c4ad470663779a547a"
   }
  }
 },
 "nbformat": 4,
 "nbformat_minor": 5
}
