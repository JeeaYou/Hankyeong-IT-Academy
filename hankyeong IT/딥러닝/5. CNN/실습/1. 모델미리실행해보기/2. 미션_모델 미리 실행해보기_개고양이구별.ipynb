{
 "cells": [
  {
   "cell_type": "code",
   "execution_count": 2,
   "id": "f12d6add",
   "metadata": {},
   "outputs": [],
   "source": [
    "from tensorflow.keras.models import load_model\n",
    "import numpy as np\n",
    "import os\n",
    "from PIL import Image\n",
    "from glob import glob\n",
    "import matplotlib.pyplot as plt\n",
    "\n"
   ]
  },
  {
   "cell_type": "markdown",
   "id": "898629fb",
   "metadata": {},
   "source": [
    "#### [미션1] \n",
    "- [1-1] 개고양이를 구별하는 모델을 불러와서 models에 할당하기\n",
    "- [1-2] 모델의 전체레이어 갯수 및 파라미터 확인하기\n",
    "- [1-3] 모델에서 사용된 input사이즈 확인하기"
   ]
  },
  {
   "cell_type": "code",
   "execution_count": null,
   "id": "39ae84b3",
   "metadata": {},
   "outputs": [],
   "source": [
    "# [1-1] 개고양이를 구별하는 모델을 불러와서 models에 할당하기\n",
    "model=load_model('./강사제공models/cat_dog_model.h5') \n"
   ]
  },
  {
   "cell_type": "code",
   "execution_count": 7,
   "id": "3ca017b0",
   "metadata": {},
   "outputs": [],
   "source": [
    "# [1-2] 모델의 전체레이어 갯수 및 파라미터 확인하기\n",
    "model.summary()"
   ]
  },
  {
   "cell_type": "code",
   "execution_count": 3,
   "id": "fa382e27",
   "metadata": {},
   "outputs": [
    {
     "data": {
      "text/plain": [
       "(None, 224, 224, 3)"
      ]
     },
     "execution_count": 3,
     "metadata": {},
     "output_type": "execute_result"
    }
   ],
   "source": [
    "# [1-3] 모델에서 사용된 input사이즈 확인하기\n",
    "model.layers[0].input_shape"
   ]
  },
  {
   "cell_type": "markdown",
   "id": "d8a8f907",
   "metadata": {},
   "source": [
    "#### [미션2]  개고양이를 구별하여서 폴더배분\n",
    "\n"
   ]
  },
  {
   "cell_type": "code",
   "execution_count": null,
   "id": "a952683b",
   "metadata": {},
   "outputs": [],
   "source": []
  },
  {
   "cell_type": "code",
   "execution_count": null,
   "id": "8d8a0a1b",
   "metadata": {},
   "outputs": [],
   "source": []
  },
  {
   "cell_type": "code",
   "execution_count": null,
   "id": "d45975b2",
   "metadata": {},
   "outputs": [],
   "source": []
  }
 ],
 "metadata": {
  "kernelspec": {
   "display_name": "Python 3.10.4 ('han')",
   "language": "python",
   "name": "python3"
  },
  "language_info": {
   "codemirror_mode": {
    "name": "ipython",
    "version": 3
   },
   "file_extension": ".py",
   "mimetype": "text/x-python",
   "name": "python",
   "nbconvert_exporter": "python",
   "pygments_lexer": "ipython3",
   "version": "3.10.4"
  },
  "vscode": {
   "interpreter": {
    "hash": "9ffd841040af6bedd50cabf1584399d13f777232c008d7c4ad470663779a547a"
   }
  }
 },
 "nbformat": 4,
 "nbformat_minor": 5
}
