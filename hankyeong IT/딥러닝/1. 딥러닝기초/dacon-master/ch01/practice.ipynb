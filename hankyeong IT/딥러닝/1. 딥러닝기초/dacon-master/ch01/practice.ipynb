{
 "cells": [
  {
   "cell_type": "code",
   "execution_count": 20,
   "metadata": {},
   "outputs": [
    {
     "name": "stdout",
     "output_type": "stream",
     "text": [
      "<class 'pandas.core.frame.DataFrame'>\n",
      "RangeIndex: 755 entries, 0 to 754\n",
      "Data columns (total 2 columns):\n",
      " #   Column  Non-Null Count  Dtype  \n",
      "---  ------  --------------  -----  \n",
      " 0   Father  755 non-null    float64\n",
      " 1   Son     755 non-null    float64\n",
      "dtypes: float64(2)\n",
      "memory usage: 11.9 KB\n",
      "<class 'pandas.core.frame.DataFrame'>\n",
      "RangeIndex: 323 entries, 0 to 322\n",
      "Data columns (total 2 columns):\n",
      " #   Column  Non-Null Count  Dtype  \n",
      "---  ------  --------------  -----  \n",
      " 0   Father  323 non-null    float64\n",
      " 1   Son     323 non-null    float64\n",
      "dtypes: float64(2)\n",
      "memory usage: 5.2 KB\n"
     ]
    },
    {
     "data": {
      "text/plain": [
       "(None, None)"
      ]
     },
     "execution_count": 20,
     "metadata": {},
     "output_type": "execute_result"
    }
   ],
   "source": [
    "import pandas as pd\n",
    "from sklearn.linear_model import LinearRegression\n",
    "\n",
    "##########데이터 로드\n",
    "\n",
    "train_df = pd.read_excel('https://github.com/cranberryai/todak_todak_python/blob/master/machine_learning/regression/%E1%84%8B%E1%85%A1%E1%84%87%E1%85%A5%E1%84%8C%E1%85%B5%E1%84%8B%E1%85%A1%E1%84%83%E1%85%B3%E1%86%AF%E1%84%8F%E1%85%B5.xlsx?raw=true', sheet_name='train')\n",
    "test_df = pd.read_excel('https://github.com/cranberryai/todak_todak_python/blob/master/machine_learning/regression/%E1%84%8B%E1%85%A1%E1%84%87%E1%85%A5%E1%84%8C%E1%85%B5%E1%84%8B%E1%85%A1%E1%84%83%E1%85%B3%E1%86%AF%E1%84%8F%E1%85%B5.xlsx?raw=true', sheet_name='test')\n",
    "\n",
    "##########데이터 분석\n",
    "train_df.info(), test_df.info()"
   ]
  },
  {
   "cell_type": "code",
   "execution_count": 21,
   "metadata": {},
   "outputs": [],
   "source": [
    "\n",
    "##########데이터 전처리\n",
    "\n",
    "x_train_df = train_df.drop(['Son'], axis=1)\n",
    "x_test_df = test_df.drop(['Son'], axis=1)\n",
    "y_train_df = train_df['Son']\n",
    "y_test_df = test_df['Son']"
   ]
  },
  {
   "cell_type": "code",
   "execution_count": 22,
   "metadata": {},
   "outputs": [],
   "source": [
    "x_train = x_train_df.to_numpy() #데이터프레임을 지원하지 않는 머신러닝 프레임워크도 있기 때문에 데이터프레임을 넘파이 배열로 변환\n",
    "x_test = x_test_df.to_numpy()\n",
    "y_train = y_train_df.to_numpy()\n",
    "y_test = y_test_df.to_numpy()"
   ]
  },
  {
   "cell_type": "code",
   "execution_count": 24,
   "metadata": {},
   "outputs": [
    {
     "name": "stdout",
     "output_type": "stream",
     "text": [
      "0.2519977905846619\n"
     ]
    }
   ],
   "source": [
    "##########모델 생성\n",
    "\n",
    "model = LinearRegression()\n",
    "\n",
    "##########모델 학습\n",
    "\n",
    "model.fit(x_train, y_train)\n",
    "\n",
    "##########모델 검증\n",
    "\n",
    "print(model.score(x_test, y_test)) #0.251997790584662"
   ]
  },
  {
   "cell_type": "code",
   "execution_count": 37,
   "metadata": {},
   "outputs": [
    {
     "data": {
      "text/plain": [
       "(39.226782514887645,\n",
       " 6.263128811934786,\n",
       " 0.24967004992776753,\n",
       " 0.24967004992776753)"
      ]
     },
     "execution_count": 37,
     "metadata": {},
     "output_type": "execute_result"
    }
   ],
   "source": [
    "from sklearn.metrics import mean_squared_error, r2_score\n",
    "MSE = mean_squared_error(y_train,model.predict(x_train)) \n",
    "RMSE = np.sqrt(MSE)\n",
    "# r2_score 값= model.score값\n",
    "MSE, RMSE, r2_score(y_train,model.predict(x_train)) ,model.score(x_train,y_train) "
   ]
  },
  {
   "attachments": {},
   "cell_type": "markdown",
   "metadata": {},
   "source": [
    "- R2값으로도 선형회귀의 성공도를 측정할수 있음\n",
    "- r2는 상관도값이어서 1에 가까울수록 좋음"
   ]
  },
  {
   "cell_type": "code",
   "execution_count": null,
   "metadata": {},
   "outputs": [],
   "source": [
    "# 선형수가 2개이상일때 어뻔 x값이 영향을 더 미쳐나를 확인하는 중요도 측정이 중요합.\n",
    "# 영향의 여부는 wx+wx+wx+.....+b 니, w값이 "
   ]
  },
  {
   "cell_type": "code",
   "execution_count": null,
   "metadata": {},
   "outputs": [],
   "source": []
  },
  {
   "cell_type": "code",
   "execution_count": null,
   "metadata": {},
   "outputs": [],
   "source": []
  },
  {
   "cell_type": "code",
   "execution_count": null,
   "metadata": {},
   "outputs": [],
   "source": []
  },
  {
   "cell_type": "code",
   "execution_count": 10,
   "metadata": {},
   "outputs": [
    {
     "name": "stdout",
     "output_type": "stream",
     "text": [
      "169.66660924268297\n"
     ]
    }
   ],
   "source": [
    "##########모델 예측\n",
    "\n",
    "x_test = [\n",
    "    [162.789]\n",
    "]\n",
    "\n",
    "y_predict = model.predict(x_test)\n",
    "print(y_predict[0]) #169.66660924268297"
   ]
  },
  {
   "attachments": {},
   "cell_type": "markdown",
   "metadata": {},
   "source": [
    "### 선형회귀\n",
    "- 선형회귀(1차원수식)을 공식으로 갖는 예측방법\n",
    "- 사이킷런에서 wx+b에서 w,b값을 최소제곱법에 의해서 계산해서 제공함.\n",
    "   - model.coef_(w값)  / model.intercept_(b값)\n",
    "- LinearPegression 고전적인 선형회귀는 데이터가 복잡해짐에 따라 사용빈도수 없어지고 리지,라쏘 ,xgboost등을 사용함.\n",
    "- 회귀에서 오차는 다양함\n",
    "   - 실제값(y_train)하고 예측값(model predict(x_train))차이를 \n",
    "      - 제곱하고 평균냄 mae\n",
    "      - mean_suqred_error로 냄nam"
   ]
  },
  {
   "cell_type": "code",
   "execution_count": 18,
   "metadata": {},
   "outputs": [],
   "source": [
    "import numpy as np\n",
    "x_train = np.array([[180.3,190.3,190.3,190.3,190.3,190.3,190.3,190.3,190.3,190.3]])\n",
    "y_train = np.array([[170.3,170.3,160.3,150.3,180.2,170.3,170.3,160.3,150.3,180.2]])\n",
    "\n",
    "x_test = np.array([[180.3,190.3,190.3,160.3,190.3,190.3,190.3,190.3,190.3,190.3]])\n",
    "y_test = np.array([[170.3,170.3,160.3,129.3,180.2,170.3,170.3,160.3,150.3,180.2]])"
   ]
  },
  {
   "cell_type": "code",
   "execution_count": 15,
   "metadata": {},
   "outputs": [
    {
     "name": "stderr",
     "output_type": "stream",
     "text": [
      "c:\\Users\\user\\.conda\\envs\\han\\lib\\site-packages\\sklearn\\metrics\\_regression.py:918: UndefinedMetricWarning: R^2 score is not well-defined with less than two samples.\n",
      "  warnings.warn(msg, UndefinedMetricWarning)\n"
     ]
    },
    {
     "data": {
      "text/plain": [
       "nan"
      ]
     },
     "execution_count": 15,
     "metadata": {},
     "output_type": "execute_result"
    }
   ],
   "source": [
    "from sklearn.linear_model import LinearRegression\n",
    "model = LinearRegression()\n",
    "model.fit(x_train,y_train)\n",
    "model.score(x_test,y_test)"
   ]
  },
  {
   "cell_type": "code",
   "execution_count": 19,
   "metadata": {},
   "outputs": [
    {
     "data": {
      "text/plain": [
       "array([[0., 0., 0., 0., 0., 0., 0., 0., 0., 0.],\n",
       "       [0., 0., 0., 0., 0., 0., 0., 0., 0., 0.],\n",
       "       [0., 0., 0., 0., 0., 0., 0., 0., 0., 0.],\n",
       "       [0., 0., 0., 0., 0., 0., 0., 0., 0., 0.],\n",
       "       [0., 0., 0., 0., 0., 0., 0., 0., 0., 0.],\n",
       "       [0., 0., 0., 0., 0., 0., 0., 0., 0., 0.],\n",
       "       [0., 0., 0., 0., 0., 0., 0., 0., 0., 0.],\n",
       "       [0., 0., 0., 0., 0., 0., 0., 0., 0., 0.],\n",
       "       [0., 0., 0., 0., 0., 0., 0., 0., 0., 0.],\n",
       "       [0., 0., 0., 0., 0., 0., 0., 0., 0., 0.]])"
      ]
     },
     "execution_count": 19,
     "metadata": {},
     "output_type": "execute_result"
    }
   ],
   "source": [
    "model.coef_   # 회기개수가 이상하게 출력"
   ]
  },
  {
   "cell_type": "code",
   "execution_count": null,
   "metadata": {},
   "outputs": [],
   "source": []
  }
 ],
 "metadata": {
  "kernelspec": {
   "display_name": "Python 3.10.4 ('han')",
   "language": "python",
   "name": "python3"
  },
  "language_info": {
   "codemirror_mode": {
    "name": "ipython",
    "version": 3
   },
   "file_extension": ".py",
   "mimetype": "text/x-python",
   "name": "python",
   "nbconvert_exporter": "python",
   "pygments_lexer": "ipython3",
   "version": "3.10.4"
  },
  "orig_nbformat": 4,
  "vscode": {
   "interpreter": {
    "hash": "9ffd841040af6bedd50cabf1584399d13f777232c008d7c4ad470663779a547a"
   }
  }
 },
 "nbformat": 4,
 "nbformat_minor": 2
}
