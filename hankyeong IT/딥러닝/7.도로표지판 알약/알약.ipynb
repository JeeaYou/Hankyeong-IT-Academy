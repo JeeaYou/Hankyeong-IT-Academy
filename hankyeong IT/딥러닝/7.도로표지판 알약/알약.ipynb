{
 "cells": [
  {
   "cell_type": "code",
   "execution_count": 1,
   "metadata": {},
   "outputs": [],
   "source": [
    "import pandas as pd\n",
    "import numpy as np"
   ]
  },
  {
   "cell_type": "code",
   "execution_count": 4,
   "metadata": {},
   "outputs": [
    {
     "data": {
      "text/plain": [
       "Index(['품목일련번호', '품목명', '업소일련번호', '업소명', '성상', '큰제품이미지', '표시앞', '표시뒤', '의약품제형',\n",
       "       '색상앞', '색상뒤', '분할선앞', '분할선뒤', '크기장축', '크기단축', '크기두께', '이미지생성일자(약학정보원)',\n",
       "       '분류번호', '분류명', '전문일반구분', '품목허가일자', '제형코드명', '표기내용앞', '표기내용뒤', '표기이미지앞',\n",
       "       '표기이미지뒤', '표기코드앞', '표기코드뒤', '변경일자', 'Unnamed: 29'],\n",
       "      dtype='object')"
      ]
     },
     "execution_count": 4,
     "metadata": {},
     "output_type": "execute_result"
    }
   ],
   "source": [
    "df = pd.read_csv('./OpenData_PotOpenTabletIdntfcC20221021.csv')\n",
    "df.columns"
   ]
  },
  {
   "cell_type": "code",
   "execution_count": 16,
   "metadata": {},
   "outputs": [
    {
     "data": {
      "text/plain": [
       "['기타의중추신경용약',\n",
       " '주로그람양성_음성균_리케치아_비루스에작용하는것',\n",
       " '자율신경제',\n",
       " '항전간제',\n",
       " '화농성질환용제',\n",
       " '소화기관용약',\n",
       " '기타의조직세포의기능용의약품',\n",
       " '이담제',\n",
       " '항원충제',\n",
       " '부정맥용제',\n",
       " '동맥경화용제',\n",
       " '기생성피부질환용제',\n",
       " '소화성궤양용제',\n",
       " '주로그람음성균에작용하는것',\n",
       " '기타의호흡기관용약',\n",
       " '기타의화학요법제',\n",
       " '골격근이완제',\n",
       " '각성제_흥분제',\n",
       " '구충제',\n",
       " '기타의말초신경용약',\n",
       " '따로분류되지않고치료를주목적으로하지않는의약품',\n",
       " '기타의조제용약',\n",
       " '정신신경용제',\n",
       " '비타민B제(비타민B1을제외)',\n",
       " '난포호르몬제및황체호르몬제',\n",
       " '비뇨생식기관용제(성병예방제포함)',\n",
       " '혈관확장제',\n",
       " '저함량비타민및미네랄제제',\n",
       " '주로그람양성_음성균에작용하는것',\n",
       " '제산제',\n",
       " '치질용제',\n",
       " '종합대사성제제',\n",
       " '혈액응고저지제',\n",
       " '혈관보강제',\n",
       " '혼합비타민제(비타민AD혼합제제를제외)',\n",
       " '비타민제',\n",
       " '비타민C및P제',\n",
       " '해열.진통.소염제',\n",
       " '최면진정제',\n",
       " '기타의종양치료제',\n",
       " '치나제',\n",
       " '진해거담제',\n",
       " '면역혈청학적검사용시약',\n",
       " '해독제',\n",
       " '항결핵제',\n",
       " '안과용제',\n",
       " '효소제제',\n",
       " '부신호르몬제',\n",
       " '이뇨제',\n",
       " '기타의순환계용약',\n",
       " '건위소화제',\n",
       " '항악성종양제',\n",
       " '단백아미노산제제',\n",
       " '간장질환용제',\n",
       " '기타의신경계및감각기관용의약품',\n",
       " '단백동화스테로이드제',\n",
       " '아편알카로이드계제제',\n",
       " '자궁수축제',\n",
       " '혈압강하제',\n",
       " '자격요법제(비특이성면역억제제를포함)',\n",
       " '설화제',\n",
       " '칼슘제',\n",
       " '후란계제제',\n",
       " '-',\n",
       " '기타의비뇨생식기관및항문용약',\n",
       " '비타민A및D제',\n",
       " '모발용제(발모_탈모_염모_양모제)',\n",
       " '치과구강용약',\n",
       " '진훈제',\n",
       " '이비과용제',\n",
       " '항히스타민제',\n",
       " '강심제',\n",
       " '호흡기관용약',\n",
       " '하제_완장제',\n",
       " '주로항산성균에작용하는것',\n",
       " '기타의자양강장변질제',\n",
       " '당뇨병용제',\n",
       " '기타의항생물질제제(복합항생물질제제를포함)',\n",
       " '지혈제',\n",
       " '피임제',\n",
       " '갑상선_부갑상선호르몬제',\n",
       " '기타의소화기관용약',\n",
       " '비타민E및K제',\n",
       " '정장제',\n",
       " '혈액대용제',\n",
       " '기타의호르몬제(항호르몬제를포함)',\n",
       " '합성마약',\n",
       " '진경제',\n",
       " '주로그람양성균_리케치아_비루스에작용하는것',\n",
       " '혈관수축제',\n",
       " '비타민B1제',\n",
       " '주로곰팡이_원충에작용하는것',\n",
       " '백신류',\n",
       " '기타의비타민제',\n",
       " '기타의혈액및체액용약',\n",
       " 'X선조영제',\n",
       " '기타의알레르기용약',\n",
       " '통풍치료제',\n",
       " '기타의외피용약',\n",
       " '주로그람양성균에작용하는것',\n",
       " '따로분류되지않는대사성의약품',\n",
       " '장기제제',\n",
       " '최토제_진토제',\n",
       " '뇌하수체호르몬제',\n",
       " '무기질제제']"
      ]
     },
     "execution_count": 16,
     "metadata": {},
     "output_type": "execute_result"
    }
   ],
   "source": [
    "foldname = list(set(df.분류명))\n",
    "foldname = [name.replace('|',\"_\") for name in foldname]\n",
    "foldname"
   ]
  },
  {
   "cell_type": "code",
   "execution_count": 41,
   "metadata": {},
   "outputs": [],
   "source": [
    "import os\n",
    "os.makedirs('./과제1')\n",
    "for name in foldname:\n",
    "    os.makedirs('./과제1/'+name)"
   ]
  },
  {
   "cell_type": "code",
   "execution_count": 24,
   "metadata": {},
   "outputs": [
    {
     "data": {
      "text/plain": [
       "0        가스디알정50밀리그램(디메크로틴산마그네슘)\n",
       "1             페라트라정2.5밀리그램(레트로졸)\n",
       "2               졸뎀속붕정(졸피뎀타르타르산염)\n",
       "3          가스프렌정(모사프리드시트르산염이수화물)\n",
       "4                     바르탄정(발사르탄)\n",
       "                  ...           \n",
       "24689       몬카츄정5밀리그램(몬테루카스트나트륨)\n",
       "24690      폴세틴캡슐20밀리그램(플루옥세틴염산염)\n",
       "24691                 덴티텐캡슐(청위산)\n",
       "24692                       아스본정\n",
       "24693            덱시엔연질캡슐(덱시부프로펜)\n",
       "Name: 품목명, Length: 24694, dtype: object"
      ]
     },
     "execution_count": 24,
     "metadata": {},
     "output_type": "execute_result"
    }
   ],
   "source": [
    "med_name = df.품목명\n",
    "med_name"
   ]
  },
  {
   "cell_type": "code",
   "execution_count": 34,
   "metadata": {},
   "outputs": [
    {
     "name": "stdout",
     "output_type": "stream",
     "text": [
      "0        https://nedrug.mfds.go.kr/pbp/cmn/itemImageDow...\n",
      "1        https://nedrug.mfds.go.kr/pbp/cmn/itemImageDow...\n",
      "2        https://nedrug.mfds.go.kr/pbp/cmn/itemImageDow...\n",
      "3        https://nedrug.mfds.go.kr/pbp/cmn/itemImageDow...\n",
      "4        https://nedrug.mfds.go.kr/pbp/cmn/itemImageDow...\n",
      "                               ...                        \n",
      "24689    https://nedrug.mfds.go.kr/pbp/cmn/itemImageDow...\n",
      "24690    https://nedrug.mfds.go.kr/pbp/cmn/itemImageDow...\n",
      "24691    https://nedrug.mfds.go.kr/pbp/cmn/itemImageDow...\n",
      "24692    https://nedrug.mfds.go.kr/pbp/cmn/itemImageDow...\n",
      "24693    https://nedrug.mfds.go.kr/pbp/cmn/itemImageDow...\n",
      "Name: 큰제품이미지, Length: 24694, dtype: object\n"
     ]
    }
   ],
   "source": [
    "print(df.큰제품이미지)"
   ]
  },
  {
   "cell_type": "code",
   "execution_count": 63,
   "metadata": {},
   "outputs": [
    {
     "ename": "AttributeError",
     "evalue": "'DataFrame' object has no attribute '분류별'",
     "output_type": "error",
     "traceback": [
      "\u001b[1;31m---------------------------------------------------------------------------\u001b[0m",
      "\u001b[1;31mAttributeError\u001b[0m                            Traceback (most recent call last)",
      "Cell \u001b[1;32mIn [63], line 8\u001b[0m\n\u001b[0;32m      6\u001b[0m \u001b[39mfor\u001b[39;00m image \u001b[39min\u001b[39;00m df1:\n\u001b[0;32m      7\u001b[0m     url \u001b[39m=\u001b[39m image\n\u001b[1;32m----> 8\u001b[0m     os\u001b[39m.\u001b[39msystem(df\u001b[39m.\u001b[39m분류별\u001b[39m+\u001b[39mname\u001b[39m+\u001b[39m\u001b[39m\"\u001b[39m\u001b[39m.jpg\u001b[39m\u001b[39m\"\u001b[39m)\n\u001b[0;32m      9\u001b[0m     os\u001b[39m.\u001b[39msystem(\u001b[39m\"\u001b[39m\u001b[39mcurl \u001b[39m\u001b[39m\"\u001b[39m \u001b[39m+\u001b[39m url \u001b[39m+\u001b[39m \u001b[39m\"\u001b[39m\u001b[39m > test.jpg\u001b[39m\u001b[39m\"\u001b[39m)\n\u001b[0;32m     10\u001b[0m     cnt\u001b[39m+\u001b[39m\u001b[39m=\u001b[39m\u001b[39m1\u001b[39m\n",
      "File \u001b[1;32mc:\\Users\\user\\.conda\\envs\\han\\lib\\site-packages\\pandas\\core\\generic.py:5575\u001b[0m, in \u001b[0;36mNDFrame.__getattr__\u001b[1;34m(self, name)\u001b[0m\n\u001b[0;32m   5568\u001b[0m \u001b[39mif\u001b[39;00m (\n\u001b[0;32m   5569\u001b[0m     name \u001b[39mnot\u001b[39;00m \u001b[39min\u001b[39;00m \u001b[39mself\u001b[39m\u001b[39m.\u001b[39m_internal_names_set\n\u001b[0;32m   5570\u001b[0m     \u001b[39mand\u001b[39;00m name \u001b[39mnot\u001b[39;00m \u001b[39min\u001b[39;00m \u001b[39mself\u001b[39m\u001b[39m.\u001b[39m_metadata\n\u001b[0;32m   5571\u001b[0m     \u001b[39mand\u001b[39;00m name \u001b[39mnot\u001b[39;00m \u001b[39min\u001b[39;00m \u001b[39mself\u001b[39m\u001b[39m.\u001b[39m_accessors\n\u001b[0;32m   5572\u001b[0m     \u001b[39mand\u001b[39;00m \u001b[39mself\u001b[39m\u001b[39m.\u001b[39m_info_axis\u001b[39m.\u001b[39m_can_hold_identifiers_and_holds_name(name)\n\u001b[0;32m   5573\u001b[0m ):\n\u001b[0;32m   5574\u001b[0m     \u001b[39mreturn\u001b[39;00m \u001b[39mself\u001b[39m[name]\n\u001b[1;32m-> 5575\u001b[0m \u001b[39mreturn\u001b[39;00m \u001b[39mobject\u001b[39;49m\u001b[39m.\u001b[39;49m\u001b[39m__getattribute__\u001b[39;49m(\u001b[39mself\u001b[39;49m, name)\n",
      "\u001b[1;31mAttributeError\u001b[0m: 'DataFrame' object has no attribute '분류별'"
     ]
    }
   ],
   "source": [
    "import os\n",
    "import matplotlib.pyplot as plt\n",
    "cnt = 0\n",
    "df1 = df.큰제품이미지[:5]\n",
    "name = df.품목명\n",
    "for image in df1:\n",
    "    url = image\n",
    "    os.system(df.분류별+name+\".jpg\")\n",
    "    os.system(\"curl \" + url + \" > test.jpg\")\n",
    "    cnt+=1\n",
    "    print(str(cnt)+' 저장완료')\n",
    "    \n"
   ]
  },
  {
   "cell_type": "code",
   "execution_count": 48,
   "metadata": {},
   "outputs": [
    {
     "name": "stdout",
     "output_type": "stream",
     "text": [
      "delete end---------------\n"
     ]
    },
    {
     "name": "stderr",
     "output_type": "stream",
     "text": [
      "C:\\Users\\user\\AppData\\Local\\Temp\\ipykernel_1512\\2946411386.py:9: FutureWarning: The default value of regex will change from True to False in a future version. In addition, single character regular expressions will *not* be treated as literal strings when regex=True.\n",
      "  filed = filed.str.replace(x,'_')\n"
     ]
    }
   ],
   "source": [
    "import os\n",
    "import shutil\n",
    "def folderCreate(folder,filed):\n",
    "    stopFolderName = '\\ / : * ? \" < > |'\n",
    "\n",
    "    for x in stopFolderName.split(' '):\n",
    "        filed = filed.str.replace(x,'_')\n",
    "\n",
    "    if folder in os.listdir('./'):\n",
    "        shutil.rmtree(folder)\n",
    "    print('delete end---------------')\n",
    "\n",
    "    os.mkdir(folder)\n",
    "\n",
    "    for x in filed.unique():\n",
    "        os.mkdir(folder + '/' + x)\n",
    "\n",
    "folderCreate('과제2',df['분류명'])"
   ]
  },
  {
   "cell_type": "code",
   "execution_count": 84,
   "metadata": {},
   "outputs": [
    {
     "name": "stdout",
     "output_type": "stream",
     "text": [
      "delete end---------------\n",
      "연두\n"
     ]
    },
    {
     "name": "stderr",
     "output_type": "stream",
     "text": [
      "C:\\Users\\user\\AppData\\Local\\Temp\\ipykernel_1512\\2946411386.py:9: FutureWarning: The default value of regex will change from True to False in a future version. In addition, single character regular expressions will *not* be treated as literal strings when regex=True.\n",
      "  filed = filed.str.replace(x,'_')\n"
     ]
    },
    {
     "ename": "OSError",
     "evalue": "Cannot save file into a non-existent directory: '과제2\\_'",
     "output_type": "error",
     "traceback": [
      "\u001b[1;31m---------------------------------------------------------------------------\u001b[0m",
      "\u001b[1;31mOSError\u001b[0m                                   Traceback (most recent call last)",
      "Cell \u001b[1;32mIn [84], line 14\u001b[0m\n\u001b[0;32m     11\u001b[0m \u001b[39mfor\u001b[39;00m x \u001b[39min\u001b[39;00m stopFolderName\u001b[39m.\u001b[39msplit(\u001b[39m'\u001b[39m\u001b[39m \u001b[39m\u001b[39m'\u001b[39m):\n\u001b[0;32m     12\u001b[0m     x \u001b[39m=\u001b[39m x\u001b[39m.\u001b[39mreplace(x,\u001b[39m'\u001b[39m\u001b[39m_\u001b[39m\u001b[39m'\u001b[39m)\n\u001b[1;32m---> 14\u001b[0m tmp\u001b[39m.\u001b[39mto_csv(\u001b[39m'\u001b[39m\u001b[39m./\u001b[39m\u001b[39m'\u001b[39m\u001b[39m+\u001b[39m folder \u001b[39m+\u001b[39m \u001b[39m'\u001b[39m\u001b[39m/\u001b[39m\u001b[39m'\u001b[39m\u001b[39m+\u001b[39m x \u001b[39m+\u001b[39m \u001b[39m'\u001b[39m\u001b[39m/\u001b[39m\u001b[39m'\u001b[39m \u001b[39m+\u001b[39m x \u001b[39m+\u001b[39m \u001b[39m'\u001b[39m\u001b[39m.csv\u001b[39m\u001b[39m'\u001b[39m)\n",
      "File \u001b[1;32mc:\\Users\\user\\.conda\\envs\\han\\lib\\site-packages\\pandas\\core\\generic.py:3551\u001b[0m, in \u001b[0;36mNDFrame.to_csv\u001b[1;34m(self, path_or_buf, sep, na_rep, float_format, columns, header, index, index_label, mode, encoding, compression, quoting, quotechar, line_terminator, chunksize, date_format, doublequote, escapechar, decimal, errors, storage_options)\u001b[0m\n\u001b[0;32m   3540\u001b[0m df \u001b[39m=\u001b[39m \u001b[39mself\u001b[39m \u001b[39mif\u001b[39;00m \u001b[39misinstance\u001b[39m(\u001b[39mself\u001b[39m, ABCDataFrame) \u001b[39melse\u001b[39;00m \u001b[39mself\u001b[39m\u001b[39m.\u001b[39mto_frame()\n\u001b[0;32m   3542\u001b[0m formatter \u001b[39m=\u001b[39m DataFrameFormatter(\n\u001b[0;32m   3543\u001b[0m     frame\u001b[39m=\u001b[39mdf,\n\u001b[0;32m   3544\u001b[0m     header\u001b[39m=\u001b[39mheader,\n\u001b[1;32m   (...)\u001b[0m\n\u001b[0;32m   3548\u001b[0m     decimal\u001b[39m=\u001b[39mdecimal,\n\u001b[0;32m   3549\u001b[0m )\n\u001b[1;32m-> 3551\u001b[0m \u001b[39mreturn\u001b[39;00m DataFrameRenderer(formatter)\u001b[39m.\u001b[39;49mto_csv(\n\u001b[0;32m   3552\u001b[0m     path_or_buf,\n\u001b[0;32m   3553\u001b[0m     line_terminator\u001b[39m=\u001b[39;49mline_terminator,\n\u001b[0;32m   3554\u001b[0m     sep\u001b[39m=\u001b[39;49msep,\n\u001b[0;32m   3555\u001b[0m     encoding\u001b[39m=\u001b[39;49mencoding,\n\u001b[0;32m   3556\u001b[0m     errors\u001b[39m=\u001b[39;49merrors,\n\u001b[0;32m   3557\u001b[0m     compression\u001b[39m=\u001b[39;49mcompression,\n\u001b[0;32m   3558\u001b[0m     quoting\u001b[39m=\u001b[39;49mquoting,\n\u001b[0;32m   3559\u001b[0m     columns\u001b[39m=\u001b[39;49mcolumns,\n\u001b[0;32m   3560\u001b[0m     index_label\u001b[39m=\u001b[39;49mindex_label,\n\u001b[0;32m   3561\u001b[0m     mode\u001b[39m=\u001b[39;49mmode,\n\u001b[0;32m   3562\u001b[0m     chunksize\u001b[39m=\u001b[39;49mchunksize,\n\u001b[0;32m   3563\u001b[0m     quotechar\u001b[39m=\u001b[39;49mquotechar,\n\u001b[0;32m   3564\u001b[0m     date_format\u001b[39m=\u001b[39;49mdate_format,\n\u001b[0;32m   3565\u001b[0m     doublequote\u001b[39m=\u001b[39;49mdoublequote,\n\u001b[0;32m   3566\u001b[0m     escapechar\u001b[39m=\u001b[39;49mescapechar,\n\u001b[0;32m   3567\u001b[0m     storage_options\u001b[39m=\u001b[39;49mstorage_options,\n\u001b[0;32m   3568\u001b[0m )\n",
      "File \u001b[1;32mc:\\Users\\user\\.conda\\envs\\han\\lib\\site-packages\\pandas\\io\\formats\\format.py:1180\u001b[0m, in \u001b[0;36mDataFrameRenderer.to_csv\u001b[1;34m(self, path_or_buf, encoding, sep, columns, index_label, mode, compression, quoting, quotechar, line_terminator, chunksize, date_format, doublequote, escapechar, errors, storage_options)\u001b[0m\n\u001b[0;32m   1159\u001b[0m     created_buffer \u001b[39m=\u001b[39m \u001b[39mFalse\u001b[39;00m\n\u001b[0;32m   1161\u001b[0m csv_formatter \u001b[39m=\u001b[39m CSVFormatter(\n\u001b[0;32m   1162\u001b[0m     path_or_buf\u001b[39m=\u001b[39mpath_or_buf,\n\u001b[0;32m   1163\u001b[0m     line_terminator\u001b[39m=\u001b[39mline_terminator,\n\u001b[1;32m   (...)\u001b[0m\n\u001b[0;32m   1178\u001b[0m     formatter\u001b[39m=\u001b[39m\u001b[39mself\u001b[39m\u001b[39m.\u001b[39mfmt,\n\u001b[0;32m   1179\u001b[0m )\n\u001b[1;32m-> 1180\u001b[0m csv_formatter\u001b[39m.\u001b[39;49msave()\n\u001b[0;32m   1182\u001b[0m \u001b[39mif\u001b[39;00m created_buffer:\n\u001b[0;32m   1183\u001b[0m     \u001b[39massert\u001b[39;00m \u001b[39misinstance\u001b[39m(path_or_buf, StringIO)\n",
      "File \u001b[1;32mc:\\Users\\user\\.conda\\envs\\han\\lib\\site-packages\\pandas\\io\\formats\\csvs.py:241\u001b[0m, in \u001b[0;36mCSVFormatter.save\u001b[1;34m(self)\u001b[0m\n\u001b[0;32m    237\u001b[0m \u001b[39m\"\"\"\u001b[39;00m\n\u001b[0;32m    238\u001b[0m \u001b[39mCreate the writer & save.\u001b[39;00m\n\u001b[0;32m    239\u001b[0m \u001b[39m\"\"\"\u001b[39;00m\n\u001b[0;32m    240\u001b[0m \u001b[39m# apply compression and byte/text conversion\u001b[39;00m\n\u001b[1;32m--> 241\u001b[0m \u001b[39mwith\u001b[39;00m get_handle(\n\u001b[0;32m    242\u001b[0m     \u001b[39mself\u001b[39;49m\u001b[39m.\u001b[39;49mfilepath_or_buffer,\n\u001b[0;32m    243\u001b[0m     \u001b[39mself\u001b[39;49m\u001b[39m.\u001b[39;49mmode,\n\u001b[0;32m    244\u001b[0m     encoding\u001b[39m=\u001b[39;49m\u001b[39mself\u001b[39;49m\u001b[39m.\u001b[39;49mencoding,\n\u001b[0;32m    245\u001b[0m     errors\u001b[39m=\u001b[39;49m\u001b[39mself\u001b[39;49m\u001b[39m.\u001b[39;49merrors,\n\u001b[0;32m    246\u001b[0m     compression\u001b[39m=\u001b[39;49m\u001b[39mself\u001b[39;49m\u001b[39m.\u001b[39;49mcompression,\n\u001b[0;32m    247\u001b[0m     storage_options\u001b[39m=\u001b[39;49m\u001b[39mself\u001b[39;49m\u001b[39m.\u001b[39;49mstorage_options,\n\u001b[0;32m    248\u001b[0m ) \u001b[39mas\u001b[39;00m handles:\n\u001b[0;32m    249\u001b[0m \n\u001b[0;32m    250\u001b[0m     \u001b[39m# Note: self.encoding is irrelevant here\u001b[39;00m\n\u001b[0;32m    251\u001b[0m     \u001b[39mself\u001b[39m\u001b[39m.\u001b[39mwriter \u001b[39m=\u001b[39m csvlib\u001b[39m.\u001b[39mwriter(\n\u001b[0;32m    252\u001b[0m         handles\u001b[39m.\u001b[39mhandle,\n\u001b[0;32m    253\u001b[0m         lineterminator\u001b[39m=\u001b[39m\u001b[39mself\u001b[39m\u001b[39m.\u001b[39mline_terminator,\n\u001b[1;32m   (...)\u001b[0m\n\u001b[0;32m    258\u001b[0m         quotechar\u001b[39m=\u001b[39m\u001b[39mself\u001b[39m\u001b[39m.\u001b[39mquotechar,\n\u001b[0;32m    259\u001b[0m     )\n\u001b[0;32m    261\u001b[0m     \u001b[39mself\u001b[39m\u001b[39m.\u001b[39m_save()\n",
      "File \u001b[1;32mc:\\Users\\user\\.conda\\envs\\han\\lib\\site-packages\\pandas\\io\\common.py:694\u001b[0m, in \u001b[0;36mget_handle\u001b[1;34m(path_or_buf, mode, encoding, compression, memory_map, is_text, errors, storage_options)\u001b[0m\n\u001b[0;32m    692\u001b[0m \u001b[39m# Only for write methods\u001b[39;00m\n\u001b[0;32m    693\u001b[0m \u001b[39mif\u001b[39;00m \u001b[39m\"\u001b[39m\u001b[39mr\u001b[39m\u001b[39m\"\u001b[39m \u001b[39mnot\u001b[39;00m \u001b[39min\u001b[39;00m mode \u001b[39mand\u001b[39;00m is_path:\n\u001b[1;32m--> 694\u001b[0m     check_parent_directory(\u001b[39mstr\u001b[39;49m(handle))\n\u001b[0;32m    696\u001b[0m \u001b[39mif\u001b[39;00m compression:\n\u001b[0;32m    697\u001b[0m     \u001b[39mif\u001b[39;00m compression \u001b[39m!=\u001b[39m \u001b[39m\"\u001b[39m\u001b[39mzstd\u001b[39m\u001b[39m\"\u001b[39m:\n\u001b[0;32m    698\u001b[0m         \u001b[39m# compression libraries do not like an explicit text-mode\u001b[39;00m\n",
      "File \u001b[1;32mc:\\Users\\user\\.conda\\envs\\han\\lib\\site-packages\\pandas\\io\\common.py:568\u001b[0m, in \u001b[0;36mcheck_parent_directory\u001b[1;34m(path)\u001b[0m\n\u001b[0;32m    566\u001b[0m parent \u001b[39m=\u001b[39m Path(path)\u001b[39m.\u001b[39mparent\n\u001b[0;32m    567\u001b[0m \u001b[39mif\u001b[39;00m \u001b[39mnot\u001b[39;00m parent\u001b[39m.\u001b[39mis_dir():\n\u001b[1;32m--> 568\u001b[0m     \u001b[39mraise\u001b[39;00m \u001b[39mOSError\u001b[39;00m(\u001b[39mrf\u001b[39m\u001b[39m\"\u001b[39m\u001b[39mCannot save file into a non-existent directory: \u001b[39m\u001b[39m'\u001b[39m\u001b[39m{\u001b[39;00mparent\u001b[39m}\u001b[39;00m\u001b[39m'\u001b[39m\u001b[39m\"\u001b[39m)\n",
      "\u001b[1;31mOSError\u001b[0m: Cannot save file into a non-existent directory: '과제2\\_'"
     ]
    }
   ],
   "source": [
    "folder = '과제2'\n",
    "filed = '색상앞'\n",
    "folderCreate(folder, df[filed])\n",
    "\n",
    "stopFolderName = '\\ / : * ? \" < > |'\n",
    "\n",
    "for x in df[filed].unique():\n",
    "    print(x)\n",
    "    tmp = df[df[filed]==x]   #만약 갈색|하얀섹인 자료는 df['색상앞']==하얀색으로 검색하지만\n",
    "\n",
    "    for x in stopFolderName.split(' '):\n",
    "        x = x.replace(x,'_')\n",
    "\n",
    "    tmp.to_csv('./'+ folder + '/'+ x + '/' + x + '.csv')"
   ]
  },
  {
   "cell_type": "code",
   "execution_count": 105,
   "metadata": {},
   "outputs": [
    {
     "ename": "TypeError",
     "evalue": "'exist_ok' is an invalid keyword argument for mkdir()",
     "output_type": "error",
     "traceback": [
      "\u001b[1;31m---------------------------------------------------------------------------\u001b[0m",
      "\u001b[1;31mTypeError\u001b[0m                                 Traceback (most recent call last)",
      "Cell \u001b[1;32mIn [105], line 5\u001b[0m\n\u001b[0;32m      2\u001b[0m folder \u001b[39m=\u001b[39m \u001b[39m'\u001b[39m\u001b[39m과제2\u001b[39m\u001b[39m'\u001b[39m\n\u001b[0;32m      4\u001b[0m stopFolderName \u001b[39m=\u001b[39m \u001b[39m'\u001b[39m\u001b[39m\\\u001b[39m\u001b[39m / : * ? \u001b[39m\u001b[39m\"\u001b[39m\u001b[39m < > |\u001b[39m\u001b[39m'\u001b[39m\n\u001b[1;32m----> 5\u001b[0m os\u001b[39m.\u001b[39mmkdir(folder,exist_ok\u001b[39m=\u001b[39m\u001b[39mFalse\u001b[39;00m)\n\u001b[0;32m      6\u001b[0m \u001b[39mfor\u001b[39;00m name \u001b[39min\u001b[39;00m itemList:\n\u001b[0;32m      7\u001b[0m     \u001b[39mif\u001b[39;00m name \u001b[39min\u001b[39;00m df\u001b[39m.\u001b[39mcolumns:\n",
      "\u001b[1;31mTypeError\u001b[0m: 'exist_ok' is an invalid keyword argument for mkdir()"
     ]
    }
   ],
   "source": [
    "itemList = ['색상앞','업소명','전문일반구분']\n",
    "folder = '과제2'\n",
    "\n",
    "stopFolderName = '\\ / : * ? \" < > |'\n",
    "os.mkdir(folder,exist_ok=False)\n",
    "for name in itemList:\n",
    "    if name in df.columns:\n",
    "        os.makedirs(folder + '/' + name,exist_ok=True)      \n",
    "        for x in df[name].unique():\n",
    "            print(x)  \n",
    "        \n",
    "\n",
    "        # tmp = df[df[filed]==x]   #만약 갈색|하얀섹인 자료는 df['색상앞']==하얀색으로 검색하지만\n",
    "\n",
    "        # for x in stopFolderName.split(' '):\n",
    "        #     x = x.replace(x,'_')\n",
    "    "
   ]
  },
  {
   "cell_type": "code",
   "execution_count": null,
   "metadata": {},
   "outputs": [],
   "source": [
    "df 색상아래 색갈별 분리 df['']"
   ]
  },
  {
   "cell_type": "code",
   "execution_count": 102,
   "metadata": {},
   "outputs": [
    {
     "name": "stdout",
     "output_type": "stream",
     "text": [
      "전문의약품\n",
      "일반의약품\n",
      "전문|희귀\n",
      "일반(안전상비)\n"
     ]
    }
   ],
   "source": []
  },
  {
   "cell_type": "code",
   "execution_count": null,
   "metadata": {},
   "outputs": [],
   "source": []
  }
 ],
 "metadata": {
  "kernelspec": {
   "display_name": "Python 3.10.4 ('han')",
   "language": "python",
   "name": "python3"
  },
  "language_info": {
   "codemirror_mode": {
    "name": "ipython",
    "version": 3
   },
   "file_extension": ".py",
   "mimetype": "text/x-python",
   "name": "python",
   "nbconvert_exporter": "python",
   "pygments_lexer": "ipython3",
   "version": "3.10.4"
  },
  "orig_nbformat": 4,
  "vscode": {
   "interpreter": {
    "hash": "9ffd841040af6bedd50cabf1584399d13f777232c008d7c4ad470663779a547a"
   }
  }
 },
 "nbformat": 4,
 "nbformat_minor": 2
}
