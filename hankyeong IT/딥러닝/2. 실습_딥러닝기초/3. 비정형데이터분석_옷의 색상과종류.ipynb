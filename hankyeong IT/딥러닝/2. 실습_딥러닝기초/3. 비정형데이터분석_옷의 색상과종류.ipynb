{
 "cells": [
  {
   "cell_type": "code",
   "execution_count": null,
   "id": "b4e590fa",
   "metadata": {},
   "outputs": [],
   "source": [
    "import numpy as np\n",
    "import pandas as pd\n",
    "import matplotlib.pyplot as plt\n",
    "import tensorflow as tf\n",
    "from tensorflow.keras.models import Sequential\n",
    "from tensorflow.keras.layers import Dense"
   ]
  },
  {
   "cell_type": "code",
   "execution_count": null,
   "id": "15f54be6",
   "metadata": {},
   "outputs": [],
   "source": [
    "data=np.load('clothes_data_size30.npz')\n",
    "x_train,y_train,x_test,y_test=data['x_train'],data['y_train'],data['x_test'],data['y_test']\n",
    "class_name=data['class_names']"
   ]
  },
  {
   "cell_type": "code",
   "execution_count": null,
   "id": "a22eb82a",
   "metadata": {},
   "outputs": [],
   "source": [
    "x_train.min(), x_train.max()"
   ]
  },
  {
   "cell_type": "code",
   "execution_count": null,
   "id": "d38325c6",
   "metadata": {},
   "outputs": [],
   "source": [
    "xTrain=x_train/255\n",
    "xTest=x_test/255"
   ]
  },
  {
   "cell_type": "code",
   "execution_count": null,
   "id": "c0846592",
   "metadata": {},
   "outputs": [],
   "source": [
    "xTrain.shape"
   ]
  },
  {
   "cell_type": "code",
   "execution_count": null,
   "id": "920028ab",
   "metadata": {},
   "outputs": [],
   "source": [
    "np.unique(y_train)"
   ]
  },
  {
   "cell_type": "code",
   "execution_count": null,
   "id": "3be70ce3",
   "metadata": {},
   "outputs": [],
   "source": [
    "## 샘플 데이터 보기\n",
    "import matplotlib.pyplot as plt\n",
    "sample_size = 9\n",
    "random_idx = np.random.randint(np.shape(xTrain)[0], size=sample_size) \n",
    "print(random_idx)\n",
    "\n",
    "plt.figure(figsize = (5, 5))\n",
    "\n",
    "for i, idx in enumerate(random_idx):\n",
    "    plt.subplot(3, 3, i+1)\n",
    "    plt.xticks([])\n",
    "    plt.yticks([])\n",
    "    plt.imshow(xTrain[idx])\n",
    "    plt.xlabel(class_name[int(y_train[idx])])\n",
    "    \n",
    "plt.show()"
   ]
  },
  {
   "cell_type": "code",
   "execution_count": null,
   "id": "3352e7fb",
   "metadata": {},
   "outputs": [],
   "source": [
    "model = tf.keras.models.Sequential([\n",
    "  tf.keras.layers.Flatten(input_shape=(30, 30,3)),\n",
    "  tf.keras.layers.Dense(128, activation='relu'),\n",
    "  tf.keras.layers.Dense(24, activation='softmax')\n",
    "])\n",
    "\n",
    "model.compile(optimizer='adam',\n",
    "              loss='sparse_categorical_crossentropy',\n",
    "              metrics=['accuracy'])\n",
    "\n",
    "\n",
    "hist=model.fit(xTrain, y_train, validation_data=(xTest,y_test),epochs=30 )\n",
    "plt.figure(figsize=(12,8))\n",
    "plt.plot(hist.history['loss'])\n",
    "plt.plot(hist.history['val_loss'])\n",
    "plt.plot(hist.history['accuracy'])\n",
    "plt.plot(hist.history['val_accuracy'])\n",
    "plt.legend(['loss','val_loss', 'acc','val_acc'])\n",
    "plt.show()\n"
   ]
  },
  {
   "cell_type": "code",
   "execution_count": null,
   "id": "0db06d73",
   "metadata": {},
   "outputs": [],
   "source": [
    "# 최종 y예측값임\n",
    "\n",
    "num=3\n",
    "pr=model.predict(xTest[num].reshape(1,30,30,3))\n",
    "\n",
    "plt.imshow(xTest[num])\n",
    "plt.title(class_name[np.argmax(pr)])"
   ]
  },
  {
   "cell_type": "code",
   "execution_count": null,
   "id": "20133ac1",
   "metadata": {},
   "outputs": [],
   "source": [
    "### 인터넷에 있는 이미지로 해봅니다.\n",
    "from PIL import Image\n",
    "img=Image.open('테스트_드레스.jpg')\n",
    "img=img.resize((30,30))\n",
    "imgArr=np.array(img)/255\n",
    "plt.imshow(imgArr)\n",
    "imgExpand=imgArr.reshape(1,30,30,3)\n",
    "predict=model.predict(imgExpand)\n",
    "predict\n"
   ]
  },
  {
   "cell_type": "code",
   "execution_count": null,
   "id": "84e7ecbe",
   "metadata": {},
   "outputs": [],
   "source": [
    "predict_num=np.argmax(predict)\n",
    "predict_num, class_name[predict_num]"
   ]
  }
 ],
 "metadata": {
  "kernelspec": {
   "display_name": "han",
   "language": "python",
   "name": "python3"
  },
  "language_info": {
   "codemirror_mode": {
    "name": "ipython",
    "version": 3
   },
   "file_extension": ".py",
   "mimetype": "text/x-python",
   "name": "python",
   "nbconvert_exporter": "python",
   "pygments_lexer": "ipython3",
   "version": "3.10.6 | packaged by conda-forge | (main, Oct 24 2022, 16:02:16) [MSC v.1916 64 bit (AMD64)]"
  },
  "vscode": {
   "interpreter": {
    "hash": "6db3029b472fb756b4b60192a3d1b4c9f485bc7219e55772922955f660008501"
   }
  }
 },
 "nbformat": 4,
 "nbformat_minor": 5
}
