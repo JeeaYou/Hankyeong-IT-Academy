{
 "cells": [
  {
   "cell_type": "code",
   "execution_count": 1,
   "id": "4ab2a413",
   "metadata": {},
   "outputs": [
    {
     "name": "stdout",
     "output_type": "stream",
     "text": [
      "20000\n"
     ]
    }
   ],
   "source": [
    "h1=100\n",
    "v1=200\n",
    "area1=h1*v1\n",
    "print(area1)"
   ]
  },
  {
   "cell_type": "code",
   "execution_count": 2,
   "id": "9f903064",
   "metadata": {},
   "outputs": [
    {
     "name": "stdout",
     "output_type": "stream",
     "text": [
      "150000\n"
     ]
    }
   ],
   "source": [
    "h2=300\n",
    "v2=500\n",
    "area2=h2*v2\n",
    "print(area2)"
   ]
  },
  {
   "cell_type": "code",
   "execution_count": 3,
   "id": "9d00fdb3",
   "metadata": {},
   "outputs": [
    {
     "name": "stdout",
     "output_type": "stream",
     "text": [
      "15\n"
     ]
    }
   ],
   "source": [
    "def area(h,v):\n",
    "    return h*v\n",
    "\n",
    "h3=5\n",
    "v3=3\n",
    "print(area(h3,v3))"
   ]
  },
  {
   "cell_type": "code",
   "execution_count": 8,
   "id": "9a078bdd",
   "metadata": {},
   "outputs": [
    {
     "data": {
      "text/plain": [
       "30"
      ]
     },
     "execution_count": 8,
     "metadata": {},
     "output_type": "execute_result"
    }
   ],
   "source": [
    "class Rectangle:\n",
    "    def __init__(self, 가로,세로):\n",
    "        self.h=가로\n",
    "        self.v=세로\n",
    "    def area(self):\n",
    "        return self.h*self.v\n",
    "a=Rectangle(30,40)\n",
    "a.h"
   ]
  },
  {
   "cell_type": "code",
   "execution_count": 9,
   "id": "5102b3cf",
   "metadata": {},
   "outputs": [
    {
     "data": {
      "text/plain": [
       "40"
      ]
     },
     "execution_count": 9,
     "metadata": {},
     "output_type": "execute_result"
    }
   ],
   "source": [
    "a.v"
   ]
  },
  {
   "cell_type": "code",
   "execution_count": 10,
   "id": "adb27efb",
   "metadata": {},
   "outputs": [
    {
     "data": {
      "text/plain": [
       "1200"
      ]
     },
     "execution_count": 10,
     "metadata": {},
     "output_type": "execute_result"
    }
   ],
   "source": [
    "a.area()"
   ]
  },
  {
   "cell_type": "code",
   "execution_count": 11,
   "id": "8bb187a5",
   "metadata": {},
   "outputs": [],
   "source": [
    "a=Rectangle(3,4)\n",
    "b=Rectangle(10,30)\n",
    "c=Rectangle(500,300)"
   ]
  },
  {
   "cell_type": "code",
   "execution_count": 12,
   "id": "ae1db8eb",
   "metadata": {},
   "outputs": [
    {
     "data": {
      "text/plain": [
       "10"
      ]
     },
     "execution_count": 12,
     "metadata": {},
     "output_type": "execute_result"
    }
   ],
   "source": [
    "b.h"
   ]
  },
  {
   "cell_type": "code",
   "execution_count": 14,
   "id": "0e4ce70d",
   "metadata": {},
   "outputs": [
    {
     "data": {
      "text/plain": [
       "150000"
      ]
     },
     "execution_count": 14,
     "metadata": {},
     "output_type": "execute_result"
    }
   ],
   "source": [
    "c.area()"
   ]
  },
  {
   "cell_type": "code",
   "execution_count": 15,
   "id": "f13c0928",
   "metadata": {},
   "outputs": [
    {
     "data": {
      "text/plain": [
       "4"
      ]
     },
     "execution_count": 15,
     "metadata": {},
     "output_type": "execute_result"
    }
   ],
   "source": [
    "a.v"
   ]
  },
  {
   "cell_type": "code",
   "execution_count": 36,
   "id": "d262c355",
   "metadata": {},
   "outputs": [],
   "source": [
    "class Myclass:\n",
    "    cnt=0\n",
    "    def __init__(self,가로,세로):\n",
    "        self.h=가로\n",
    "        self.v=세로\n",
    "        Myclass.cnt+=1\n",
    "    def area(self):\n",
    "        return self.h*self.v\n",
    "    def pntcnt(self):\n",
    "        print(Myclass.cnt)"
   ]
  },
  {
   "cell_type": "code",
   "execution_count": 37,
   "id": "9eed45c0",
   "metadata": {},
   "outputs": [],
   "source": [
    "a=Myclass(4,5)\n",
    "b=Myclass(6,10)"
   ]
  },
  {
   "cell_type": "code",
   "execution_count": 38,
   "id": "ddc60351",
   "metadata": {},
   "outputs": [
    {
     "data": {
      "text/plain": [
       "2"
      ]
     },
     "execution_count": 38,
     "metadata": {},
     "output_type": "execute_result"
    }
   ],
   "source": [
    "Myclass.cnt"
   ]
  },
  {
   "cell_type": "code",
   "execution_count": 39,
   "id": "a1595cbe",
   "metadata": {},
   "outputs": [
    {
     "data": {
      "text/plain": [
       "4"
      ]
     },
     "execution_count": 39,
     "metadata": {},
     "output_type": "execute_result"
    }
   ],
   "source": [
    "a.h"
   ]
  },
  {
   "cell_type": "code",
   "execution_count": 40,
   "id": "00e8f9f4",
   "metadata": {},
   "outputs": [
    {
     "data": {
      "text/plain": [
       "6"
      ]
     },
     "execution_count": 40,
     "metadata": {},
     "output_type": "execute_result"
    }
   ],
   "source": [
    "b.h"
   ]
  },
  {
   "cell_type": "code",
   "execution_count": 44,
   "id": "065f676c",
   "metadata": {},
   "outputs": [],
   "source": [
    "class Retangle:\n",
    "    def __init__(self,길이,높이):\n",
    "        self.b=길이\n",
    "        self.h=높이\n",
    "    def area(self):\n",
    "        return self.b*self.h"
   ]
  },
  {
   "cell_type": "code",
   "execution_count": 45,
   "id": "ac09131b",
   "metadata": {},
   "outputs": [],
   "source": [
    "class Myclass:\n",
    "    def __init__(self,가로길이,세로길이,높이):\n",
    "        self.a=가로길이\n",
    "        self.b=세로길이\n",
    "        self.h=높이\n",
    "    def volume(self):\n",
    "        return self.a*self.b*self.h\n",
    "    def surface(self):\n",
    "        return 2*(self.a+self.b+self.h)"
   ]
  },
  {
   "cell_type": "code",
   "execution_count": 77,
   "id": "163fc154",
   "metadata": {},
   "outputs": [],
   "source": [
    "class Character:\n",
    "    def __init__(self):\n",
    "        self.life=1000\n",
    "    def attacked(self):\n",
    "        self.life-=10\n",
    "        print('공격받음 생명력=',self.life)\n",
    "    def atrack(self):\n",
    "        print('공격!')\n",
    "        \n",
    "class Warrior(Character):\n",
    "    def __init__(self):\n",
    "        super(Warrior,self).__init__()\n",
    "        self.strengh=15\n",
    "        self.intelligence=5\n",
    "    def atrack(self):\n",
    "        print('육탄공격!')\n",
    "    def attacked(self):\n",
    "        self.life-=8\n",
    "        print('공격받음 생명력=',self.life)\n",
    "        \n",
    "class Wizard(Character):\n",
    "    def __init__(self):\n",
    "        super(Wizard,self).__init__()\n",
    "        self.strengh=5\n",
    "        self.intelligence=15\n",
    "    def atrack(self):\n",
    "        print('마법공격!')\n",
    "    def attacked(self):\n",
    "        self.life-=15\n",
    "        print('공격받음 생명력=',self.life)"
   ]
  },
  {
   "cell_type": "code",
   "execution_count": 291,
   "id": "c95a9fc7",
   "metadata": {},
   "outputs": [],
   "source": [
    "class Car:\n",
    "    def __init__(self):\n",
    "        self.speed=0\n",
    "    def speed_up(self):\n",
    "        self.speed+=20\n",
    "        if self.speed>=160:\n",
    "            self.speed=160\n",
    "            print('최고속입니다!',self.speed)\n",
    "        else:\n",
    "            print(self.speed)\n",
    "            \n",
    "    def speed_down(self):\n",
    "        self.speed-=20\n",
    "        if self.speed<=0:\n",
    "            self.speed=0\n",
    "            print('정지했습니다!',self.speed)\n",
    "        else:\n",
    "            print(self.speed)\n",
    "    "
   ]
  },
  {
   "cell_type": "code",
   "execution_count": 270,
   "id": "006aa5ec",
   "metadata": {},
   "outputs": [],
   "source": [
    "a=Car()"
   ]
  },
  {
   "cell_type": "code",
   "execution_count": 271,
   "id": "b32964a2",
   "metadata": {},
   "outputs": [
    {
     "data": {
      "text/plain": [
       "0"
      ]
     },
     "execution_count": 271,
     "metadata": {},
     "output_type": "execute_result"
    }
   ],
   "source": [
    "a.speed"
   ]
  },
  {
   "cell_type": "code",
   "execution_count": 280,
   "id": "c92d2a09",
   "metadata": {},
   "outputs": [
    {
     "name": "stdout",
     "output_type": "stream",
     "text": [
      "최고속입니다!\n"
     ]
    }
   ],
   "source": [
    "a.speed_up()"
   ]
  },
  {
   "cell_type": "code",
   "execution_count": 289,
   "id": "23a95289",
   "metadata": {},
   "outputs": [
    {
     "name": "stdout",
     "output_type": "stream",
     "text": [
      "정지했습니다!\n"
     ]
    }
   ],
   "source": [
    "a.speed_down()"
   ]
  },
  {
   "cell_type": "code",
   "execution_count": 294,
   "id": "bdd43dc8",
   "metadata": {},
   "outputs": [],
   "source": [
    "class SportCar:\n",
    "    def __init__(self):\n",
    "        speed=0\n",
    "    def speed_up(self):\n",
    "        self.speed+=45\n",
    "        if self.speed>=200:\n",
    "            self.speed=200\n",
    "            print('최고속입니다!',self.speed)\n",
    "        else:\n",
    "            print(self.speed)\n",
    "    def speed_down(self):\n",
    "        self.speed-=45\n",
    "        if self.speed<=0:\n",
    "            self.speed=0\n",
    "            print('정지했습니다!',self.speed)\n",
    "        else:\n",
    "            print(self.speed)        \n",
    "\n",
    "class Truck(SportCar):\n",
    "    def __init__(self):\n",
    "        super(SportCar,self).__init__()\n",
    "    def speed_up(self):\n",
    "        self.speed+=15\n",
    "        if self.speed>=100:\n",
    "            self.speed=100\n",
    "            print('최고속입니다!',self.speed)\n",
    "        else:\n",
    "            print(self.speed)\n",
    "    def speed_down(self):\n",
    "        self.speed-=10\n",
    "        if self.speed<=0:\n",
    "            self.speed=0\n",
    "            print('정지했습니다!',self.speed)\n",
    "        else:\n",
    "            print(self.speed)"
   ]
  },
  {
   "cell_type": "code",
   "execution_count": null,
   "id": "05e84979",
   "metadata": {},
   "outputs": [],
   "source": [
    "class Wizard(Character):\n",
    "    def __init__(self):\n",
    "        super(Wizard,self).__init__()"
   ]
  },
  {
   "cell_type": "code",
   "execution_count": 298,
   "id": "5079fb75",
   "metadata": {},
   "outputs": [],
   "source": [
    "t=Truck()"
   ]
  },
  {
   "cell_type": "code",
   "execution_count": 299,
   "id": "0b3f2535",
   "metadata": {},
   "outputs": [
    {
     "ename": "AttributeError",
     "evalue": "'Truck' object has no attribute 'speed'",
     "output_type": "error",
     "traceback": [
      "\u001b[1;31m---------------------------------------------------------------------------\u001b[0m",
      "\u001b[1;31mAttributeError\u001b[0m                            Traceback (most recent call last)",
      "Input \u001b[1;32mIn [299]\u001b[0m, in \u001b[0;36m<cell line: 1>\u001b[1;34m()\u001b[0m\n\u001b[1;32m----> 1\u001b[0m \u001b[43mt\u001b[49m\u001b[38;5;241;43m.\u001b[39;49m\u001b[43mspeed\u001b[49m()\n",
      "\u001b[1;31mAttributeError\u001b[0m: 'Truck' object has no attribute 'speed'"
     ]
    }
   ],
   "source": [
    "t.speed()"
   ]
  },
  {
   "cell_type": "code",
   "execution_count": null,
   "id": "09eab6da",
   "metadata": {},
   "outputs": [],
   "source": []
  },
  {
   "cell_type": "code",
   "execution_count": null,
   "id": "1bc8a5bd",
   "metadata": {},
   "outputs": [],
   "source": []
  },
  {
   "cell_type": "code",
   "execution_count": null,
   "id": "05679818",
   "metadata": {},
   "outputs": [],
   "source": []
  },
  {
   "cell_type": "code",
   "execution_count": null,
   "id": "a1aa5a62",
   "metadata": {},
   "outputs": [],
   "source": []
  },
  {
   "cell_type": "code",
   "execution_count": null,
   "id": "15732c9d",
   "metadata": {},
   "outputs": [],
   "source": []
  },
  {
   "cell_type": "code",
   "execution_count": null,
   "id": "71f859d0",
   "metadata": {},
   "outputs": [],
   "source": []
  },
  {
   "cell_type": "code",
   "execution_count": null,
   "id": "44a2b7e4",
   "metadata": {},
   "outputs": [],
   "source": []
  },
  {
   "cell_type": "code",
   "execution_count": null,
   "id": "f06050f4",
   "metadata": {},
   "outputs": [],
   "source": []
  },
  {
   "cell_type": "code",
   "execution_count": null,
   "id": "775a7a0b",
   "metadata": {},
   "outputs": [],
   "source": []
  },
  {
   "cell_type": "code",
   "execution_count": null,
   "id": "0d8cf20d",
   "metadata": {},
   "outputs": [],
   "source": []
  },
  {
   "cell_type": "code",
   "execution_count": null,
   "id": "0e9674fb",
   "metadata": {},
   "outputs": [],
   "source": []
  },
  {
   "cell_type": "code",
   "execution_count": null,
   "id": "231b0338",
   "metadata": {},
   "outputs": [],
   "source": []
  },
  {
   "cell_type": "code",
   "execution_count": null,
   "id": "f3e30efa",
   "metadata": {},
   "outputs": [],
   "source": []
  },
  {
   "cell_type": "code",
   "execution_count": null,
   "id": "9520c04f",
   "metadata": {},
   "outputs": [],
   "source": []
  },
  {
   "cell_type": "code",
   "execution_count": null,
   "id": "2af83bd8",
   "metadata": {},
   "outputs": [],
   "source": []
  },
  {
   "cell_type": "code",
   "execution_count": null,
   "id": "10e64b9b",
   "metadata": {},
   "outputs": [],
   "source": []
  },
  {
   "cell_type": "code",
   "execution_count": null,
   "id": "04b87f8f",
   "metadata": {},
   "outputs": [],
   "source": []
  },
  {
   "cell_type": "code",
   "execution_count": null,
   "id": "3e0a5f18",
   "metadata": {},
   "outputs": [],
   "source": []
  },
  {
   "cell_type": "code",
   "execution_count": null,
   "id": "8d7ea332",
   "metadata": {},
   "outputs": [],
   "source": []
  },
  {
   "cell_type": "code",
   "execution_count": null,
   "id": "9c514e63",
   "metadata": {},
   "outputs": [],
   "source": []
  },
  {
   "cell_type": "code",
   "execution_count": null,
   "id": "6e5754c2",
   "metadata": {},
   "outputs": [],
   "source": []
  },
  {
   "cell_type": "code",
   "execution_count": null,
   "id": "68a527bf",
   "metadata": {},
   "outputs": [],
   "source": []
  },
  {
   "cell_type": "code",
   "execution_count": null,
   "id": "2b1a7fcb",
   "metadata": {},
   "outputs": [],
   "source": []
  },
  {
   "cell_type": "code",
   "execution_count": null,
   "id": "780259b2",
   "metadata": {},
   "outputs": [],
   "source": []
  },
  {
   "cell_type": "code",
   "execution_count": null,
   "id": "96df2028",
   "metadata": {},
   "outputs": [],
   "source": []
  },
  {
   "cell_type": "code",
   "execution_count": null,
   "id": "5d96e322",
   "metadata": {},
   "outputs": [],
   "source": []
  },
  {
   "cell_type": "code",
   "execution_count": null,
   "id": "dffef9ad",
   "metadata": {},
   "outputs": [],
   "source": []
  },
  {
   "cell_type": "code",
   "execution_count": 72,
   "id": "36356f73",
   "metadata": {},
   "outputs": [],
   "source": [
    "a=Character()\n",
    "b=Warrior()\n",
    "c=Wizard()"
   ]
  },
  {
   "cell_type": "code",
   "execution_count": 73,
   "id": "ec621008",
   "metadata": {},
   "outputs": [
    {
     "name": "stdout",
     "output_type": "stream",
     "text": [
      "공격!\n"
     ]
    }
   ],
   "source": [
    "a.atrack()"
   ]
  },
  {
   "cell_type": "code",
   "execution_count": 74,
   "id": "25a05db6",
   "metadata": {},
   "outputs": [
    {
     "name": "stdout",
     "output_type": "stream",
     "text": [
      "육탄공격!\n"
     ]
    }
   ],
   "source": [
    "b.atrack()"
   ]
  },
  {
   "cell_type": "code",
   "execution_count": 75,
   "id": "dc7a1dd4",
   "metadata": {},
   "outputs": [
    {
     "data": {
      "text/plain": [
       "1000"
      ]
     },
     "execution_count": 75,
     "metadata": {},
     "output_type": "execute_result"
    }
   ],
   "source": [
    "a.life"
   ]
  },
  {
   "cell_type": "code",
   "execution_count": 76,
   "id": "d760ce7e",
   "metadata": {},
   "outputs": [
    {
     "data": {
      "text/plain": [
       "1000"
      ]
     },
     "execution_count": 76,
     "metadata": {},
     "output_type": "execute_result"
    }
   ],
   "source": [
    "b.life"
   ]
  },
  {
   "cell_type": "code",
   "execution_count": 47,
   "id": "43d9a7fd",
   "metadata": {},
   "outputs": [],
   "source": [
    "a=Charater()\n",
    "b=Charater()\n",
    "c=Charater()"
   ]
  },
  {
   "cell_type": "code",
   "execution_count": 48,
   "id": "5c631496",
   "metadata": {},
   "outputs": [
    {
     "data": {
      "text/plain": [
       "1000"
      ]
     },
     "execution_count": 48,
     "metadata": {},
     "output_type": "execute_result"
    }
   ],
   "source": [
    "a.life"
   ]
  },
  {
   "cell_type": "code",
   "execution_count": 49,
   "id": "6865d2c0",
   "metadata": {},
   "outputs": [
    {
     "data": {
      "text/plain": [
       "1000"
      ]
     },
     "execution_count": 49,
     "metadata": {},
     "output_type": "execute_result"
    }
   ],
   "source": [
    "b.life"
   ]
  },
  {
   "cell_type": "code",
   "execution_count": 50,
   "id": "4764750a",
   "metadata": {},
   "outputs": [
    {
     "name": "stdout",
     "output_type": "stream",
     "text": [
      "공격받음 생명력= 990\n"
     ]
    }
   ],
   "source": [
    "b.attacked()"
   ]
  },
  {
   "cell_type": "code",
   "execution_count": 51,
   "id": "ff615fb7",
   "metadata": {},
   "outputs": [
    {
     "name": "stdout",
     "output_type": "stream",
     "text": [
      "공격받음 생명력= 980\n"
     ]
    }
   ],
   "source": [
    "b.attacked()"
   ]
  },
  {
   "cell_type": "code",
   "execution_count": 52,
   "id": "5554742b",
   "metadata": {},
   "outputs": [
    {
     "name": "stdout",
     "output_type": "stream",
     "text": [
      "공격받음 생명력= 970\n"
     ]
    }
   ],
   "source": [
    "b.attacked()"
   ]
  },
  {
   "cell_type": "code",
   "execution_count": 53,
   "id": "c64a60e8",
   "metadata": {},
   "outputs": [
    {
     "name": "stdout",
     "output_type": "stream",
     "text": [
      "공격받음 생명력= 960\n"
     ]
    }
   ],
   "source": [
    "b.attacked()"
   ]
  },
  {
   "cell_type": "code",
   "execution_count": 54,
   "id": "82f99473",
   "metadata": {},
   "outputs": [
    {
     "data": {
      "text/plain": [
       "960"
      ]
     },
     "execution_count": 54,
     "metadata": {},
     "output_type": "execute_result"
    }
   ],
   "source": [
    "b.life"
   ]
  },
  {
   "cell_type": "code",
   "execution_count": 55,
   "id": "4f53ff4a",
   "metadata": {},
   "outputs": [
    {
     "data": {
      "text/plain": [
       "1000"
      ]
     },
     "execution_count": 55,
     "metadata": {},
     "output_type": "execute_result"
    }
   ],
   "source": [
    "c.life"
   ]
  },
  {
   "cell_type": "code",
   "execution_count": null,
   "id": "fa5fcbb2",
   "metadata": {},
   "outputs": [],
   "source": []
  }
 ],
 "metadata": {
  "kernelspec": {
   "display_name": "Python 3 (ipykernel)",
   "language": "python",
   "name": "python3"
  },
  "language_info": {
   "codemirror_mode": {
    "name": "ipython",
    "version": 3
   },
   "file_extension": ".py",
   "mimetype": "text/x-python",
   "name": "python",
   "nbconvert_exporter": "python",
   "pygments_lexer": "ipython3",
   "version": "3.10.4"
  }
 },
 "nbformat": 4,
 "nbformat_minor": 5
}
