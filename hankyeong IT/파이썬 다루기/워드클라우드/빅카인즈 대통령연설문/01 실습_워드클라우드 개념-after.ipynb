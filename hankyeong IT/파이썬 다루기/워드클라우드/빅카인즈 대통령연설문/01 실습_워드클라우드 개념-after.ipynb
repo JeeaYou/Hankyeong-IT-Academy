{
 "cells": [
  {
   "cell_type": "code",
   "execution_count": 2,
   "id": "e3eef6de",
   "metadata": {},
   "outputs": [],
   "source": [
    "from wordcloud import WordCloud\n",
    "import matplotlib.pyplot as plt\n",
    "# 한글 폰트 설정\n",
    "plt.rcParams['font.family'] = 'Malgun Gothic'\n",
    "# 유니코드에서  음수 부호설정\n",
    "plt.rc('axes', unicode_minus=False)"
   ]
  },
  {
   "cell_type": "code",
   "execution_count": 2,
   "id": "daa3a850",
   "metadata": {},
   "outputs": [
    {
     "name": "stdout",
     "output_type": "stream",
     "text": [
      "▶선택하신 강아지 단어의 출현빈도수는 => 4 번입니다.\n"
     ]
    },
    {
     "data": {
      "text/plain": [
       "(0.0, 10.0)"
      ]
     },
     "execution_count": 2,
     "metadata": {},
     "output_type": "execute_result"
    },
    {
     "data": {
      "image/png": "[encoded data removed]",
      "text/plain": [
       "<Figure size 432x288 with 1 Axes>"
      ]
     },
     "metadata": {
      "needs_background": "light"
     },
     "output_type": "display_data"
    }
   ],
   "source": [
    "txt='강아지 산책 강아지 목욕 강아지 미용 강아지 쇼핑 친구와 저녁 먹음 가족과 점심 먹음 혼자 저녁 먹음 친구와 쇼핑'\n",
    "find_word='강아지'\n",
    "cnt=txt.count(find_word)\n",
    "print('▶선택하신 %s 단어의 출현빈도수는 => %d 번입니다.' %(find_word,cnt))\n",
    "plt.bar(find_word,cnt)\n",
    "plt.ylim(0,10)"
   ]
  },
  {
   "cell_type": "code",
   "execution_count": 3,
   "id": "3c489814",
   "metadata": {},
   "outputs": [
    {
     "data": {
      "text/plain": [
       "4"
      ]
     },
     "execution_count": 3,
     "metadata": {},
     "output_type": "execute_result"
    }
   ],
   "source": [
    "#두 개이상의 string를 갖는 리스트구조에서는 한 개의 문자열로 합친후 작업해야함.\n",
    "\n",
    "txtList=['강아지 산책 강아지 목욕 강아지 미용 강아지 쇼핑',\n",
    " '친구와 저녁 먹음 가족과 점심 먹음 혼자 저녁 먹음 친구와 쇼핑']\n",
    "\n",
    "txt=''.join(txtList)\n",
    "cnt=txt.count(find_word)\n",
    "cnt"
   ]
  },
  {
   "cell_type": "markdown",
   "id": "4b1d5e93",
   "metadata": {},
   "source": [
    "#### [미션 1] ‘강아지’, ‘미용’, ‘친구’ 관련한 자료만 단어별 빈도수를 집계하고, 막대차트와 원차트 제작"
   ]
  },
  {
   "cell_type": "code",
   "execution_count": 11,
   "id": "c2f7c999",
   "metadata": {},
   "outputs": [
    {
     "data": {
      "image/png": "[encoded data removed]",
      "text/plain": [
       "<Figure size 1080x432 with 3 Axes>"
      ]
     },
     "metadata": {
      "needs_background": "light"
     },
     "output_type": "display_data"
    }
   ],
   "source": [
    "import matplotlib.pyplot as plt\n",
    "import numpy as np\n",
    "from wordcloud import WordCloud\n",
    "# 한글 폰트 설정\n",
    "plt.rcParams['font.family'] = 'Malgun Gothic'\n",
    "# 유니코드에서  음수 부호설정\n",
    "plt.rc('axes', unicode_minus=False)\n",
    "txtList=['강아지 산책 강아지 목욕 강아지 미용 강아지 쇼핑',\n",
    " '친구와 저녁 먹음 가족과 점심 먹음 혼자 저녁 먹음 친구와 쇼핑']\n",
    "txt=''.join(txtList)\n",
    "\n",
    "words=['강아지','미용','친구']\n",
    "cnts=[txt.count(i) for i in words]\n",
    "cnts_p=[i/sum(cnts) for i in cnts]\n",
    "\n",
    "plt.figure(figsize=(15,6))\n",
    "plt.subplot(1,3,1)\n",
    "plt.bar(words,cnts)\n",
    "plt.title('워드빈도수 막대그래프')\n",
    "plt.subplot(1,3,2)\n",
    "plt.bar(words,cnts_p)\n",
    "plt.title('워드빈도수 막대그래프(%)')\n",
    "plt.subplot(1,3,3)\n",
    "plt.pie(cnts,labels=words,autopct='%1.1f%%' )\n",
    "plt.title('워드빈도수 원차트')\n",
    "plt.show()"
   ]
  },
  {
   "cell_type": "markdown",
   "id": "42391332",
   "metadata": {},
   "source": [
    "#### [미션 2] 네이버 영화 주요정보에서 특정단어 \"수학, 과학, 학문\" 단어 빈도수 차트\n",
    "\n",
    "- 크롤링 사이트 : https://movie.naver.com/movie/bi/mi/basic.naver?code=190991\n",
    "- 주요단어: 수학, 과학 , 학문"
   ]
  },
  {
   "cell_type": "code",
   "execution_count": 5,
   "id": "a63ef88f",
   "metadata": {},
   "outputs": [
    {
     "ename": "NameError",
     "evalue": "name 'word' is not defined",
     "output_type": "error",
     "traceback": [
      "\u001b[1;31m---------------------------------------------------------------------------\u001b[0m",
      "\u001b[1;31mNameError\u001b[0m                                 Traceback (most recent call last)",
      "Input \u001b[1;32mIn [5]\u001b[0m, in \u001b[0;36m<cell line: 27>\u001b[1;34m()\u001b[0m\n\u001b[0;32m     24\u001b[0m     cnt\u001b[38;5;241m.\u001b[39mappend(txt\u001b[38;5;241m.\u001b[39mcount(i))\n\u001b[0;32m     26\u001b[0m percent\u001b[38;5;241m=\u001b[39mnp\u001b[38;5;241m.\u001b[39marray(cnt)\u001b[38;5;241m/\u001b[39m\u001b[38;5;28msum\u001b[39m(cnt)\n\u001b[1;32m---> 27\u001b[0m \u001b[38;5;28mprint\u001b[39m(\u001b[43mword\u001b[49m,cnt,percent\u001b[38;5;241m*\u001b[39m\u001b[38;5;241m100\u001b[39m)\n\u001b[0;32m     28\u001b[0m \u001b[38;5;66;03m## ----------차트 출력\u001b[39;00m\n\u001b[0;32m     29\u001b[0m plt\u001b[38;5;241m.\u001b[39mfigure(figsize\u001b[38;5;241m=\u001b[39m(\u001b[38;5;241m15\u001b[39m,\u001b[38;5;241m5\u001b[39m))\n",
      "\u001b[1;31mNameError\u001b[0m: name 'word' is not defined"
     ]
    }
   ],
   "source": [
    "import requests\n",
    "from bs4 import BeautifulSoup\n",
    "import numpy as np\n",
    "import matplotlib.pyplot as plt\n",
    "plt.rcParams['font.family']='Malgun Gothic'\n",
    "\n",
    "url='https://movie.naver.com/movie/bi/mi/basic.naver?code=190991'\n",
    "response=requests.get(url)\n",
    "if response.status_code==200:\n",
    "    html=response.text\n",
    "    soup=BeautifulSoup(html,'html.parser')\n",
    "else:\n",
    "    print(response.status_code)\n",
    "    \n",
    "txt_List=[]\n",
    "for i in soup.find_all('p','con_tx'):\n",
    "    txt_List.append(i.text)\n",
    "\n",
    "txt=''.join(txt_List)\n",
    "\n",
    "find_word=['수학','과학','학문']\n",
    "cnt=[]\n",
    "for i in find_word:\n",
    "    cnt.append(txt.count(i))\n",
    "\n",
    "percent=np.array(cnt)/sum(cnt)\n",
    "print(word,cnt,percent*100)\n",
    "## ----------차트 출력\n",
    "plt.figure(figsize=(15,5))\n",
    "plt.subplot(1,3,1) ; plt.bar(word, cnt) ; plt.title('워드 빈도수 막대차트')\n",
    "plt.subplot(1,3,2) ; plt.bar(word, percent) ; plt.title('워드 빈도수 %차트')\n",
    "plt.subplot(1,3,3) ; plt.pie(cnt, labels=word, autopct='%1.1f%%', shadow=False)\n",
    "plt.title('워드 빈도수 원차트') \n",
    "plt.show()"
   ]
  },
  {
   "cell_type": "code",
   "execution_count": 3,
   "id": "f923940f",
   "metadata": {},
   "outputs": [
    {
     "name": "stdout",
     "output_type": "stream",
     "text": [
      "['수학', '과학', '학문'] [44, 2, 1] [93.61702127659575, 4.25531914893617, 2.127659574468085]\n"
     ]
    },
    {
     "data": {
      "text/plain": [
       "Text(0.5, 1.0, '워드 빈도수 원그래프(%)')"
      ]
     },
     "execution_count": 3,
     "metadata": {},
     "output_type": "execute_result"
    },
    {
     "data": {
      "image/png": "[encoded data removed]",
      "text/plain": [
       "<Figure size 720x216 with 3 Axes>"
      ]
     },
     "metadata": {
      "needs_background": "light"
     },
     "output_type": "display_data"
    }
   ],
   "source": [
    "import requests \n",
    "from bs4 import BeautifulSoup as bs \n",
    "\n",
    "# url에 접근해서 크롤링하기 \n",
    "url='https://movie.naver.com/movie/bi/mi/basic.naver?code=190991'\n",
    "html=requests.get(url).text\n",
    "soup=bs(html,'html.parser')\n",
    "\n",
    "# 텍스트 만들기 - 텍스트 리스트> 텍스트 하나로 \n",
    "contents=soup.find_all('p','con_tx')\n",
    "text_list=[]\n",
    "for i in contents:\n",
    "    text_list.append(i.text.replace('\\xa0',''))\n",
    "text=(' '.join(text_list))\n",
    "\n",
    "# 데이터 확인 \n",
    "words=['수학','과학','학문']\n",
    "cnts=[text.count(i) for i in words]\n",
    "percents=[j/sum(cnts)*100 for j in cnts]\n",
    "print(words,cnts,percents)\n",
    "\n",
    "# 그래프 그리기 \n",
    "plt.figure(figsize=(10,3))\n",
    "plt.subplot(131)\n",
    "plt.bar(words,cnts)\n",
    "plt.ylim(0,50)\n",
    "plt.title('워드 빈도수 막대그래프(횟수)')\n",
    "plt.subplot(132)\n",
    "plt.bar(words,percents)\n",
    "plt.ylim(0,100)\n",
    "plt.title('워드 빈도수 막대그래프(%)')\n",
    "plt.subplot(133)\n",
    "colors = ['#ff9999', '#ffc000', '#8fd9b6', '#d395d0']\n",
    "plt.pie(percents,labels=words,autopct='%.1f%%',startangle=260,shadow=True,colors=colors)\n",
    "plt.title('워드 빈도수 원그래프(%)')\n"
   ]
  },
  {
   "cell_type": "code",
   "execution_count": null,
   "id": "17450725",
   "metadata": {},
   "outputs": [],
   "source": []
  }
 ],
 "metadata": {
  "kernelspec": {
   "display_name": "Python 3 (ipykernel)",
   "language": "python",
   "name": "python3"
  },
  "language_info": {
   "codemirror_mode": {
    "name": "ipython",
    "version": 3
   },
   "file_extension": ".py",
   "mimetype": "text/x-python",
   "name": "python",
   "nbconvert_exporter": "python",
   "pygments_lexer": "ipython3",
   "version": "3.10.4"
  }
 },
 "nbformat": 4,
 "nbformat_minor": 5
}
