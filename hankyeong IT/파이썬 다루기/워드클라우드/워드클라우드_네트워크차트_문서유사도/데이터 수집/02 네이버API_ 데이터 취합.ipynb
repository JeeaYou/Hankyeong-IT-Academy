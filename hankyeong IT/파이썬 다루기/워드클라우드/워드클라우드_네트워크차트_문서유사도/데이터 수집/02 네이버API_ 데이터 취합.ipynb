{
 "cells": [
  {
   "cell_type": "code",
   "execution_count": 1,
   "id": "f5b2786f",
   "metadata": {},
   "outputs": [],
   "source": [
    "from glob import glob\n",
    "import pandas as pd"
   ]
  },
  {
   "cell_type": "code",
   "execution_count": 2,
   "id": "bbe73d93",
   "metadata": {},
   "outputs": [],
   "source": [
    "files=glob('./data/*.csv')"
   ]
  },
  {
   "cell_type": "code",
   "execution_count": 4,
   "id": "aabc3e2b",
   "metadata": {},
   "outputs": [],
   "source": [
    "files_lst=[pd.read_csv(i,index_col=0) for i in files]"
   ]
  },
  {
   "cell_type": "code",
   "execution_count": 5,
   "id": "7cf62275",
   "metadata": {},
   "outputs": [
    {
     "data": {
      "text/html": [
       "<div>\n",
       "<style scoped>\n",
       "    .dataframe tbody tr th:only-of-type {\n",
       "        vertical-align: middle;\n",
       "    }\n",
       "\n",
       "    .dataframe tbody tr th {\n",
       "        vertical-align: top;\n",
       "    }\n",
       "\n",
       "    .dataframe thead th {\n",
       "        text-align: right;\n",
       "    }\n",
       "</style>\n",
       "<table border=\"1\" class=\"dataframe\">\n",
       "  <thead>\n",
       "    <tr style=\"text-align: right;\">\n",
       "      <th></th>\n",
       "      <th>title</th>\n",
       "      <th>link</th>\n",
       "      <th>description</th>\n",
       "    </tr>\n",
       "  </thead>\n",
       "  <tbody>\n",
       "    <tr>\n",
       "      <th>0</th>\n",
       "      <td>서울 &lt;b&gt;갭투자&lt;/b&gt;</td>\n",
       "      <td>https://kin.naver.com/qna/detail.naver?d1id=4&amp;...</td>\n",
       "      <td>재개발 말이나오는 지역에 &lt;b&gt;갭투자&lt;/b&gt;를 했는데요 재작년 말쯤이었고 원래는 세...</td>\n",
       "    </tr>\n",
       "    <tr>\n",
       "      <th>1</th>\n",
       "      <td>부동산 경매 &lt;b&gt;갭투자&lt;/b&gt;</td>\n",
       "      <td>https://kin.naver.com/qna/detail.naver?d1id=4&amp;...</td>\n",
       "      <td>부동산 경매와 &lt;b&gt;갭투자&lt;/b&gt;는 어떤구조로 되어있는지 각각 알려주세요 수익금은....</td>\n",
       "    </tr>\n",
       "    <tr>\n",
       "      <th>2</th>\n",
       "      <td>&lt;b&gt;갭투자&lt;/b&gt;에 관한 질문이에요.</td>\n",
       "      <td>https://kin.naver.com/qna/detail.naver?d1id=4&amp;...</td>\n",
       "      <td>&lt;b&gt;갭투자&lt;/b&gt;에 관한 질문이에요. 집값이 떨어질 때 제가 집을 매매하려고 하잖...</td>\n",
       "    </tr>\n",
       "    <tr>\n",
       "      <th>3</th>\n",
       "      <td>김포 빌라 &lt;b&gt;갭투자&lt;/b&gt;</td>\n",
       "      <td>https://kin.naver.com/qna/detail.naver?d1id=4&amp;...</td>\n",
       "      <td>... 아무 집이든 &lt;b&gt;갭투자&lt;/b&gt;가 가능한건가요?  안녕하세요... 집과사람들...</td>\n",
       "    </tr>\n",
       "    <tr>\n",
       "      <th>4</th>\n",
       "      <td>개인회생 개시결정후 &lt;b&gt;갭투자&lt;/b&gt;</td>\n",
       "      <td>https://kin.naver.com/qna/detail.naver?d1id=6&amp;...</td>\n",
       "      <td>... 그런데 아버지가 부동산업을 하시는데 부동산을 &lt;b&gt;갭투자&lt;/b&gt;를 전세 1억...</td>\n",
       "    </tr>\n",
       "    <tr>\n",
       "      <th>...</th>\n",
       "      <td>...</td>\n",
       "      <td>...</td>\n",
       "      <td>...</td>\n",
       "    </tr>\n",
       "    <tr>\n",
       "      <th>51475</th>\n",
       "      <td>원룸 전대차 사기 부탁드립니다</td>\n",
       "      <td>https://kin.naver.com/qna/detail.naver?d1id=6&amp;...</td>\n",
       "      <td>... 저는 &lt;b&gt;이중계약&lt;/b&gt;인거같아서 경찰서 가서확인을해보고 입금을해달라고 말...</td>\n",
       "    </tr>\n",
       "    <tr>\n",
       "      <th>51476</th>\n",
       "      <td>전세자금대출 사기..</td>\n",
       "      <td>https://kin.naver.com/qna/detail.naver?d1id=4&amp;...</td>\n",
       "      <td>... 집은 &lt;b&gt;이중계약&lt;/b&gt;이엇고 집주인과이남자가 짜고 대출금을 가져간거였네요...</td>\n",
       "    </tr>\n",
       "    <tr>\n",
       "      <th>51477</th>\n",
       "      <td>손해보험사 전세대출에 관해 질문입니다</td>\n",
       "      <td>https://kin.naver.com/qna/detail.naver?d1id=4&amp;...</td>\n",
       "      <td>... 혹시 &lt;b&gt;이중계약&lt;/b&gt;이라고 해야하나;; 이런식으로 대출 받아 다른 집으...</td>\n",
       "    </tr>\n",
       "    <tr>\n",
       "      <th>51478</th>\n",
       "      <td>제가 고시텔에 들어가려고 하는데요</td>\n",
       "      <td>https://kin.naver.com/qna/detail.naver?d1id=8&amp;...</td>\n",
       "      <td>... 요즘 학생들을 대상으로 부동산 사기꾼들 많습니다... 경매넘어간 물건을 &lt;b...</td>\n",
       "    </tr>\n",
       "    <tr>\n",
       "      <th>51479</th>\n",
       "      <td>원룸 전세 해서 원룸 팔기</td>\n",
       "      <td>https://kin.naver.com/qna/detail.naver?d1id=4&amp;...</td>\n",
       "      <td>... 내공처먹으로 온놈 ㅋㅋ신고한다  그런 경우를 &lt;b&gt;전월세&lt;/b&gt;라고 하는데 ...</td>\n",
       "    </tr>\n",
       "  </tbody>\n",
       "</table>\n",
       "<p>51480 rows × 3 columns</p>\n",
       "</div>"
      ],
      "text/plain": [
       "                       title  \\\n",
       "0              서울 <b>갭투자</b>   \n",
       "1          부동산 경매 <b>갭투자</b>   \n",
       "2      <b>갭투자</b>에 관한 질문이에요.   \n",
       "3           김포 빌라 <b>갭투자</b>   \n",
       "4      개인회생 개시결정후 <b>갭투자</b>   \n",
       "...                      ...   \n",
       "51475       원룸 전대차 사기 부탁드립니다   \n",
       "51476            전세자금대출 사기..   \n",
       "51477   손해보험사 전세대출에 관해 질문입니다   \n",
       "51478     제가 고시텔에 들어가려고 하는데요   \n",
       "51479         원룸 전세 해서 원룸 팔기   \n",
       "\n",
       "                                                    link  \\\n",
       "0      https://kin.naver.com/qna/detail.naver?d1id=4&...   \n",
       "1      https://kin.naver.com/qna/detail.naver?d1id=4&...   \n",
       "2      https://kin.naver.com/qna/detail.naver?d1id=4&...   \n",
       "3      https://kin.naver.com/qna/detail.naver?d1id=4&...   \n",
       "4      https://kin.naver.com/qna/detail.naver?d1id=6&...   \n",
       "...                                                  ...   \n",
       "51475  https://kin.naver.com/qna/detail.naver?d1id=6&...   \n",
       "51476  https://kin.naver.com/qna/detail.naver?d1id=4&...   \n",
       "51477  https://kin.naver.com/qna/detail.naver?d1id=4&...   \n",
       "51478  https://kin.naver.com/qna/detail.naver?d1id=8&...   \n",
       "51479  https://kin.naver.com/qna/detail.naver?d1id=4&...   \n",
       "\n",
       "                                             description  \n",
       "0      재개발 말이나오는 지역에 <b>갭투자</b>를 했는데요 재작년 말쯤이었고 원래는 세...  \n",
       "1      부동산 경매와 <b>갭투자</b>는 어떤구조로 되어있는지 각각 알려주세요 수익금은....  \n",
       "2      <b>갭투자</b>에 관한 질문이에요. 집값이 떨어질 때 제가 집을 매매하려고 하잖...  \n",
       "3      ... 아무 집이든 <b>갭투자</b>가 가능한건가요?  안녕하세요... 집과사람들...  \n",
       "4      ... 그런데 아버지가 부동산업을 하시는데 부동산을 <b>갭투자</b>를 전세 1억...  \n",
       "...                                                  ...  \n",
       "51475  ... 저는 <b>이중계약</b>인거같아서 경찰서 가서확인을해보고 입금을해달라고 말...  \n",
       "51476  ... 집은 <b>이중계약</b>이엇고 집주인과이남자가 짜고 대출금을 가져간거였네요...  \n",
       "51477  ... 혹시 <b>이중계약</b>이라고 해야하나;; 이런식으로 대출 받아 다른 집으...  \n",
       "51478  ... 요즘 학생들을 대상으로 부동산 사기꾼들 많습니다... 경매넘어간 물건을 <b...  \n",
       "51479  ... 내공처먹으로 온놈 ㅋㅋ신고한다  그런 경우를 <b>전월세</b>라고 하는데 ...  \n",
       "\n",
       "[51480 rows x 3 columns]"
      ]
     },
     "execution_count": 5,
     "metadata": {},
     "output_type": "execute_result"
    }
   ],
   "source": [
    "# files_list 데이터 합치기\n",
    "df=pd.concat(files_lst,ignore_index=True)\n",
    "df"
   ]
  },
  {
   "cell_type": "code",
   "execution_count": 9,
   "id": "5874d378",
   "metadata": {},
   "outputs": [],
   "source": [
    "#중복 행 제거\n",
    "df=df.drop_duplicates()"
   ]
  },
  {
   "cell_type": "code",
   "execution_count": 18,
   "id": "b77bd112",
   "metadata": {},
   "outputs": [
    {
     "name": "stderr",
     "output_type": "stream",
     "text": [
      "C:\\Users\\user\\AppData\\Local\\Temp\\ipykernel_10212\\3322333460.py:1: SettingWithCopyWarning: \n",
      "A value is trying to be set on a copy of a slice from a DataFrame.\n",
      "Try using .loc[row_indexer,col_indexer] = value instead\n",
      "\n",
      "See the caveats in the documentation: https://pandas.pydata.org/pandas-docs/stable/user_guide/indexing.html#returning-a-view-versus-a-copy\n",
      "  df['title']=df['title'].str.replace('<b>','').str.replace('</b>','')\n"
     ]
    }
   ],
   "source": [
    "#title 열의 <b>,</b> 태그 제거\n",
    "df['title']=df['title'].str.replace('<b>','').str.replace('</b>','')"
   ]
  },
  {
   "cell_type": "code",
   "execution_count": 20,
   "id": "c08f132c",
   "metadata": {},
   "outputs": [],
   "source": [
    "#데이터 저장\n",
    "df.to_csv('전세사기_all.csv')"
   ]
  },
  {
   "cell_type": "code",
   "execution_count": null,
   "id": "50939413",
   "metadata": {},
   "outputs": [],
   "source": []
  }
 ],
 "metadata": {
  "kernelspec": {
   "display_name": "Python 3 (ipykernel)",
   "language": "python",
   "name": "python3"
  },
  "language_info": {
   "codemirror_mode": {
    "name": "ipython",
    "version": 3
   },
   "file_extension": ".py",
   "mimetype": "text/x-python",
   "name": "python",
   "nbconvert_exporter": "python",
   "pygments_lexer": "ipython3",
   "version": "3.10.6"
  }
 },
 "nbformat": 4,
 "nbformat_minor": 5
}
