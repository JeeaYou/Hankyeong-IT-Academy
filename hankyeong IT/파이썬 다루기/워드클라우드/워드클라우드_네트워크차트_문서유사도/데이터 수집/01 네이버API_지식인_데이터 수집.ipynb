{
 "cells": [
  {
   "cell_type": "code",
   "execution_count": 4,
   "id": "2c120cd1",
   "metadata": {},
   "outputs": [],
   "source": [
    "# 지식인\n",
    "# 네이버 검색 API예제는 블로그를 비롯 전문자료까지 호출방법이 동일하므로 blog검색만 대표로 예제를 올렸습니다.\n",
    "# 네이버 검색 Open API 예제 - 블로그 검색\n",
    "import os\n",
    "import sys\n",
    "import urllib.request\n",
    "import json\n",
    "import pandas as pd\n",
    "\n",
    "\n",
    "\n",
    "client_id = \"KphOrpWpczBVJ7OA3Hxb\"\n",
    "client_secret = \"Qcpg49RmuP\"\n",
    "searchs=['전세사기','갭투자','깡통전세','세모녀전세사기사건','빌라왕','바지집주인','악성임대인','전월세이중계약','동일물건 이중계약','신탁사 건물 사기','무자격자 중개','건물 all전세']\n",
    "for search in searchs:\n",
    "    encText = urllib.parse.quote(search)\n",
    "    res=[]\n",
    "    for start in range(1,11):\n",
    "        url = \"https://openapi.naver.com/v1/search/kin?query=\" + encText +'&display=100'+'&start='+str(start) # json 결과\n",
    "        # url = \"https://openapi.naver.com/v1/search/blog.xml?query=\" + encText # xml 결과\n",
    "        request = urllib.request.Request(url)\n",
    "        request.add_header(\"X-Naver-Client-Id\",client_id)\n",
    "        request.add_header(\"X-Naver-Client-Secret\",client_secret)\n",
    "        response = urllib.request.urlopen(request)\n",
    "        rescode = response.getcode()\n",
    "        if(rescode==200):\n",
    "            response_body = response.read()\n",
    "            #print(response_body.decode('utf-8'))\n",
    "\n",
    "            json_obj=json.loads(response_body)\n",
    "\n",
    "            tmp=pd.DataFrame(json_obj['items'])\n",
    "            res.append(tmp)\n",
    "        else:\n",
    "            #print(\"Error Code:\" + rescode)\n",
    "            pass\n",
    "    df=pd.concat(res,ignore_index=True)\n",
    "    df.to_csv(f'data/{search}_last.csv')"
   ]
  },
  {
   "cell_type": "code",
   "execution_count": null,
   "id": "2502a389",
   "metadata": {},
   "outputs": [],
   "source": []
  }
 ],
 "metadata": {
  "kernelspec": {
   "display_name": "Python 3 (ipykernel)",
   "language": "python",
   "name": "python3"
  },
  "language_info": {
   "codemirror_mode": {
    "name": "ipython",
    "version": 3
   },
   "file_extension": ".py",
   "mimetype": "text/x-python",
   "name": "python",
   "nbconvert_exporter": "python",
   "pygments_lexer": "ipython3",
   "version": "3.10.6"
  }
 },
 "nbformat": 4,
 "nbformat_minor": 5
}
