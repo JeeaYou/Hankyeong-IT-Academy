{
 "cells": [
  {
   "cell_type": "markdown",
   "id": "7bd60be6",
   "metadata": {},
   "source": [
    "### 웹 크롤링\n",
    "- 웹 크롤러(Web Crawler)는 웹문서, 이미지 등을 주기적으로 수집하여 자동으로 데이터베이스화하는 프로그램\n",
    "- 크롤러가 하는 작업을 웹 크롤링(Web Carwling)이라 함\n",
    "- requests와 beautifulsoup4 패키지 사용"
   ]
  },
  {
   "attachments": {
    "image.png": {
     "image/png": "[encoded data removed]"
    }
   },
   "cell_type": "markdown",
   "id": "c47c9463",
   "metadata": {},
   "source": [
    "## 1. 웹 문서 전체 가져오기\n",
    "### 1) urllib.request 패키지\n",
    "####  1. url 문자열 변환 url 한글 인코딩 디코딩: \n",
    "- url 에 한글이 포함될 경우 오류가 나는 경우가 있다. \n",
    "-  이때 한글을 url 인코더로 바꿔서 입력해야 한다. \n",
    "\n",
    "<pre>\n",
    "   - urllib 의 quote 와 unquote 사용 \n",
    "   - quote() : 한글 -> url\n",
    "   - unquote() : url -> 한글\n",
    "</pre>\n",
    "![image.png](attachment:image.png)\n",
    "#### 2. 이미지 다운로드\n",
    ">from urllib import request <br>\n",
    ">request.urlretrieve('이미지url주소','파일명')"
   ]
  },
  {
   "cell_type": "code",
   "execution_count": 1,
   "id": "270dfa42",
   "metadata": {},
   "outputs": [
    {
     "name": "stdout",
     "output_type": "stream",
     "text": [
      "%ED%8C%8C%EC%9D%B4%EC%8D%AC\n",
      "파이썬\n"
     ]
    }
   ],
   "source": [
    "#url 한글 인코딩\n",
    "from urllib import parse\n",
    "print(parse.quote('파이썬'))\n",
    "print(parse.unquote('%ED%8C%8C%EC%9D%B4%EC%8D%AC'))"
   ]
  },
  {
   "cell_type": "code",
   "execution_count": 6,
   "id": "3cc2fa17",
   "metadata": {
    "scrolled": false
   },
   "outputs": [],
   "source": [
    "# url open\n",
    "from urllib.request import urlopen\n",
    "from bs4 import BeautifulSoup as BS\n",
    "\n",
    "#'파이썬' 네이버 지식인\n",
    "\n",
    "html=urlopen('https://search.naver.com/search.naver?where=kin&sm=tab_jum&query=%ED%8C%8C%EC%9D%B4%EC%8D%AC') \n",
    "soup=BS(html,'html.parser')\n",
    "#print(soup)"
   ]
  },
  {
   "cell_type": "code",
   "execution_count": 7,
   "id": "e83bdc0f",
   "metadata": {},
   "outputs": [
    {
     "ename": "URLError",
     "evalue": "<urlopen error [Errno 11001] getaddrinfo failed>",
     "output_type": "error",
     "traceback": [
      "\u001b[1;31m---------------------------------------------------------------------------\u001b[0m",
      "\u001b[1;31mgaierror\u001b[0m                                  Traceback (most recent call last)",
      "File \u001b[1;32m~\\.conda\\envs\\han\\lib\\urllib\\request.py:1348\u001b[0m, in \u001b[0;36mAbstractHTTPHandler.do_open\u001b[1;34m(self, http_class, req, **http_conn_args)\u001b[0m\n\u001b[0;32m   1347\u001b[0m \u001b[38;5;28;01mtry\u001b[39;00m:\n\u001b[1;32m-> 1348\u001b[0m     \u001b[43mh\u001b[49m\u001b[38;5;241;43m.\u001b[39;49m\u001b[43mrequest\u001b[49m\u001b[43m(\u001b[49m\u001b[43mreq\u001b[49m\u001b[38;5;241;43m.\u001b[39;49m\u001b[43mget_method\u001b[49m\u001b[43m(\u001b[49m\u001b[43m)\u001b[49m\u001b[43m,\u001b[49m\u001b[43m \u001b[49m\u001b[43mreq\u001b[49m\u001b[38;5;241;43m.\u001b[39;49m\u001b[43mselector\u001b[49m\u001b[43m,\u001b[49m\u001b[43m \u001b[49m\u001b[43mreq\u001b[49m\u001b[38;5;241;43m.\u001b[39;49m\u001b[43mdata\u001b[49m\u001b[43m,\u001b[49m\u001b[43m \u001b[49m\u001b[43mheaders\u001b[49m\u001b[43m,\u001b[49m\n\u001b[0;32m   1349\u001b[0m \u001b[43m              \u001b[49m\u001b[43mencode_chunked\u001b[49m\u001b[38;5;241;43m=\u001b[39;49m\u001b[43mreq\u001b[49m\u001b[38;5;241;43m.\u001b[39;49m\u001b[43mhas_header\u001b[49m\u001b[43m(\u001b[49m\u001b[38;5;124;43m'\u001b[39;49m\u001b[38;5;124;43mTransfer-encoding\u001b[39;49m\u001b[38;5;124;43m'\u001b[39;49m\u001b[43m)\u001b[49m\u001b[43m)\u001b[49m\n\u001b[0;32m   1350\u001b[0m \u001b[38;5;28;01mexcept\u001b[39;00m \u001b[38;5;167;01mOSError\u001b[39;00m \u001b[38;5;28;01mas\u001b[39;00m err: \u001b[38;5;66;03m# timeout error\u001b[39;00m\n",
      "File \u001b[1;32m~\\.conda\\envs\\han\\lib\\http\\client.py:1282\u001b[0m, in \u001b[0;36mHTTPConnection.request\u001b[1;34m(self, method, url, body, headers, encode_chunked)\u001b[0m\n\u001b[0;32m   1281\u001b[0m \u001b[38;5;124;03m\"\"\"Send a complete request to the server.\"\"\"\u001b[39;00m\n\u001b[1;32m-> 1282\u001b[0m \u001b[38;5;28;43mself\u001b[39;49m\u001b[38;5;241;43m.\u001b[39;49m\u001b[43m_send_request\u001b[49m\u001b[43m(\u001b[49m\u001b[43mmethod\u001b[49m\u001b[43m,\u001b[49m\u001b[43m \u001b[49m\u001b[43murl\u001b[49m\u001b[43m,\u001b[49m\u001b[43m \u001b[49m\u001b[43mbody\u001b[49m\u001b[43m,\u001b[49m\u001b[43m \u001b[49m\u001b[43mheaders\u001b[49m\u001b[43m,\u001b[49m\u001b[43m \u001b[49m\u001b[43mencode_chunked\u001b[49m\u001b[43m)\u001b[49m\n",
      "File \u001b[1;32m~\\.conda\\envs\\han\\lib\\http\\client.py:1328\u001b[0m, in \u001b[0;36mHTTPConnection._send_request\u001b[1;34m(self, method, url, body, headers, encode_chunked)\u001b[0m\n\u001b[0;32m   1327\u001b[0m     body \u001b[38;5;241m=\u001b[39m _encode(body, \u001b[38;5;124m'\u001b[39m\u001b[38;5;124mbody\u001b[39m\u001b[38;5;124m'\u001b[39m)\n\u001b[1;32m-> 1328\u001b[0m \u001b[38;5;28;43mself\u001b[39;49m\u001b[38;5;241;43m.\u001b[39;49m\u001b[43mendheaders\u001b[49m\u001b[43m(\u001b[49m\u001b[43mbody\u001b[49m\u001b[43m,\u001b[49m\u001b[43m \u001b[49m\u001b[43mencode_chunked\u001b[49m\u001b[38;5;241;43m=\u001b[39;49m\u001b[43mencode_chunked\u001b[49m\u001b[43m)\u001b[49m\n",
      "File \u001b[1;32m~\\.conda\\envs\\han\\lib\\http\\client.py:1277\u001b[0m, in \u001b[0;36mHTTPConnection.endheaders\u001b[1;34m(self, message_body, encode_chunked)\u001b[0m\n\u001b[0;32m   1276\u001b[0m     \u001b[38;5;28;01mraise\u001b[39;00m CannotSendHeader()\n\u001b[1;32m-> 1277\u001b[0m \u001b[38;5;28;43mself\u001b[39;49m\u001b[38;5;241;43m.\u001b[39;49m\u001b[43m_send_output\u001b[49m\u001b[43m(\u001b[49m\u001b[43mmessage_body\u001b[49m\u001b[43m,\u001b[49m\u001b[43m \u001b[49m\u001b[43mencode_chunked\u001b[49m\u001b[38;5;241;43m=\u001b[39;49m\u001b[43mencode_chunked\u001b[49m\u001b[43m)\u001b[49m\n",
      "File \u001b[1;32m~\\.conda\\envs\\han\\lib\\http\\client.py:1037\u001b[0m, in \u001b[0;36mHTTPConnection._send_output\u001b[1;34m(self, message_body, encode_chunked)\u001b[0m\n\u001b[0;32m   1036\u001b[0m \u001b[38;5;28;01mdel\u001b[39;00m \u001b[38;5;28mself\u001b[39m\u001b[38;5;241m.\u001b[39m_buffer[:]\n\u001b[1;32m-> 1037\u001b[0m \u001b[38;5;28;43mself\u001b[39;49m\u001b[38;5;241;43m.\u001b[39;49m\u001b[43msend\u001b[49m\u001b[43m(\u001b[49m\u001b[43mmsg\u001b[49m\u001b[43m)\u001b[49m\n\u001b[0;32m   1039\u001b[0m \u001b[38;5;28;01mif\u001b[39;00m message_body \u001b[38;5;129;01mis\u001b[39;00m \u001b[38;5;129;01mnot\u001b[39;00m \u001b[38;5;28;01mNone\u001b[39;00m:\n\u001b[0;32m   1040\u001b[0m \n\u001b[0;32m   1041\u001b[0m     \u001b[38;5;66;03m# create a consistent interface to message_body\u001b[39;00m\n",
      "File \u001b[1;32m~\\.conda\\envs\\han\\lib\\http\\client.py:975\u001b[0m, in \u001b[0;36mHTTPConnection.send\u001b[1;34m(self, data)\u001b[0m\n\u001b[0;32m    974\u001b[0m \u001b[38;5;28;01mif\u001b[39;00m \u001b[38;5;28mself\u001b[39m\u001b[38;5;241m.\u001b[39mauto_open:\n\u001b[1;32m--> 975\u001b[0m     \u001b[38;5;28;43mself\u001b[39;49m\u001b[38;5;241;43m.\u001b[39;49m\u001b[43mconnect\u001b[49m\u001b[43m(\u001b[49m\u001b[43m)\u001b[49m\n\u001b[0;32m    976\u001b[0m \u001b[38;5;28;01melse\u001b[39;00m:\n",
      "File \u001b[1;32m~\\.conda\\envs\\han\\lib\\http\\client.py:1447\u001b[0m, in \u001b[0;36mHTTPSConnection.connect\u001b[1;34m(self)\u001b[0m\n\u001b[0;32m   1445\u001b[0m \u001b[38;5;124m\"\u001b[39m\u001b[38;5;124mConnect to a host on a given (SSL) port.\u001b[39m\u001b[38;5;124m\"\u001b[39m\n\u001b[1;32m-> 1447\u001b[0m \u001b[38;5;28;43msuper\u001b[39;49m\u001b[43m(\u001b[49m\u001b[43m)\u001b[49m\u001b[38;5;241;43m.\u001b[39;49m\u001b[43mconnect\u001b[49m\u001b[43m(\u001b[49m\u001b[43m)\u001b[49m\n\u001b[0;32m   1449\u001b[0m \u001b[38;5;28;01mif\u001b[39;00m \u001b[38;5;28mself\u001b[39m\u001b[38;5;241m.\u001b[39m_tunnel_host:\n",
      "File \u001b[1;32m~\\.conda\\envs\\han\\lib\\http\\client.py:941\u001b[0m, in \u001b[0;36mHTTPConnection.connect\u001b[1;34m(self)\u001b[0m\n\u001b[0;32m    940\u001b[0m sys\u001b[38;5;241m.\u001b[39maudit(\u001b[38;5;124m\"\u001b[39m\u001b[38;5;124mhttp.client.connect\u001b[39m\u001b[38;5;124m\"\u001b[39m, \u001b[38;5;28mself\u001b[39m, \u001b[38;5;28mself\u001b[39m\u001b[38;5;241m.\u001b[39mhost, \u001b[38;5;28mself\u001b[39m\u001b[38;5;241m.\u001b[39mport)\n\u001b[1;32m--> 941\u001b[0m \u001b[38;5;28mself\u001b[39m\u001b[38;5;241m.\u001b[39msock \u001b[38;5;241m=\u001b[39m \u001b[38;5;28;43mself\u001b[39;49m\u001b[38;5;241;43m.\u001b[39;49m\u001b[43m_create_connection\u001b[49m\u001b[43m(\u001b[49m\n\u001b[0;32m    942\u001b[0m \u001b[43m    \u001b[49m\u001b[43m(\u001b[49m\u001b[38;5;28;43mself\u001b[39;49m\u001b[38;5;241;43m.\u001b[39;49m\u001b[43mhost\u001b[49m\u001b[43m,\u001b[49m\u001b[38;5;28;43mself\u001b[39;49m\u001b[38;5;241;43m.\u001b[39;49m\u001b[43mport\u001b[49m\u001b[43m)\u001b[49m\u001b[43m,\u001b[49m\u001b[43m \u001b[49m\u001b[38;5;28;43mself\u001b[39;49m\u001b[38;5;241;43m.\u001b[39;49m\u001b[43mtimeout\u001b[49m\u001b[43m,\u001b[49m\u001b[43m \u001b[49m\u001b[38;5;28;43mself\u001b[39;49m\u001b[38;5;241;43m.\u001b[39;49m\u001b[43msource_address\u001b[49m\u001b[43m)\u001b[49m\n\u001b[0;32m    943\u001b[0m \u001b[38;5;66;03m# Might fail in OSs that don't implement TCP_NODELAY\u001b[39;00m\n",
      "File \u001b[1;32m~\\.conda\\envs\\han\\lib\\socket.py:824\u001b[0m, in \u001b[0;36mcreate_connection\u001b[1;34m(address, timeout, source_address)\u001b[0m\n\u001b[0;32m    823\u001b[0m err \u001b[38;5;241m=\u001b[39m \u001b[38;5;28;01mNone\u001b[39;00m\n\u001b[1;32m--> 824\u001b[0m \u001b[38;5;28;01mfor\u001b[39;00m res \u001b[38;5;129;01min\u001b[39;00m \u001b[43mgetaddrinfo\u001b[49m\u001b[43m(\u001b[49m\u001b[43mhost\u001b[49m\u001b[43m,\u001b[49m\u001b[43m \u001b[49m\u001b[43mport\u001b[49m\u001b[43m,\u001b[49m\u001b[43m \u001b[49m\u001b[38;5;241;43m0\u001b[39;49m\u001b[43m,\u001b[49m\u001b[43m \u001b[49m\u001b[43mSOCK_STREAM\u001b[49m\u001b[43m)\u001b[49m:\n\u001b[0;32m    825\u001b[0m     af, socktype, proto, canonname, sa \u001b[38;5;241m=\u001b[39m res\n",
      "File \u001b[1;32m~\\.conda\\envs\\han\\lib\\socket.py:955\u001b[0m, in \u001b[0;36mgetaddrinfo\u001b[1;34m(host, port, family, type, proto, flags)\u001b[0m\n\u001b[0;32m    954\u001b[0m addrlist \u001b[38;5;241m=\u001b[39m []\n\u001b[1;32m--> 955\u001b[0m \u001b[38;5;28;01mfor\u001b[39;00m res \u001b[38;5;129;01min\u001b[39;00m \u001b[43m_socket\u001b[49m\u001b[38;5;241;43m.\u001b[39;49m\u001b[43mgetaddrinfo\u001b[49m\u001b[43m(\u001b[49m\u001b[43mhost\u001b[49m\u001b[43m,\u001b[49m\u001b[43m \u001b[49m\u001b[43mport\u001b[49m\u001b[43m,\u001b[49m\u001b[43m \u001b[49m\u001b[43mfamily\u001b[49m\u001b[43m,\u001b[49m\u001b[43m \u001b[49m\u001b[38;5;28;43mtype\u001b[39;49m\u001b[43m,\u001b[49m\u001b[43m \u001b[49m\u001b[43mproto\u001b[49m\u001b[43m,\u001b[49m\u001b[43m \u001b[49m\u001b[43mflags\u001b[49m\u001b[43m)\u001b[49m:\n\u001b[0;32m    956\u001b[0m     af, socktype, proto, canonname, sa \u001b[38;5;241m=\u001b[39m res\n",
      "\u001b[1;31mgaierror\u001b[0m: [Errno 11001] getaddrinfo failed",
      "\nDuring handling of the above exception, another exception occurred:\n",
      "\u001b[1;31mURLError\u001b[0m                                  Traceback (most recent call last)",
      "Input \u001b[1;32mIn [7]\u001b[0m, in \u001b[0;36m<cell line: 3>\u001b[1;34m()\u001b[0m\n\u001b[0;32m      1\u001b[0m \u001b[38;5;66;03m# 이미지 다운로드\u001b[39;00m\n\u001b[0;32m      2\u001b[0m \u001b[38;5;28;01mfrom\u001b[39;00m \u001b[38;5;21;01murllib\u001b[39;00m \u001b[38;5;28;01mimport\u001b[39;00m request\n\u001b[1;32m----> 3\u001b[0m \u001b[43mrequest\u001b[49m\u001b[38;5;241;43m.\u001b[39;49m\u001b[43murlretrieve\u001b[49m\u001b[43m(\u001b[49m\u001b[38;5;124;43m'\u001b[39;49m\u001b[38;5;124;43mhttps://searcha.pstatic.net/common/?src=http\u001b[39;49m\u001b[38;5;124;43m%\u001b[39;49m\u001b[38;5;124;43m3A\u001b[39;49m\u001b[38;5;132;43;01m%2F\u001b[39;49;00m\u001b[38;5;132;43;01m%2F\u001b[39;49;00m\u001b[38;5;124;43mblogfiles.naver.net\u001b[39;49m\u001b[38;5;132;43;01m%2F\u001b[39;49;00m\u001b[38;5;124;43mMjAyMjA3MTdfNSAg\u001b[39;49m\u001b[38;5;132;43;01m%2F\u001b[39;49;00m\u001b[38;5;124;43mMDAxNjU4MDU1NDk1MTMx.gYMOxufPdVxeftoxCjvARt0ySZWV_RTDJR27cvThAY0g.gYfUC3nvJImAhTzwHOvq18hYpwof9EQyo9-6Q6Ob9uEg.JPEG.monica32d\u001b[39;49m\u001b[38;5;132;43;01m%2F\u001b[39;49;00m\u001b[38;5;132;43;01m%25E\u001b[39;49;00m\u001b[38;5;124;43mA\u001b[39;49m\u001b[38;5;124;43m%\u001b[39;49m\u001b[38;5;124;43m25B0\u001b[39;49m\u001b[38;5;132;43;01m%2595%\u001b[39;49;00m\u001b[38;5;124;43m25EC\u001b[39;49m\u001b[38;5;132;43;01m%2595%\u001b[39;49;00m\u001b[38;5;124;43m2584\u001b[39;49m\u001b[38;5;132;43;01m%25E\u001b[39;49;00m\u001b[38;5;124;43mC\u001b[39;49m\u001b[38;5;124;43m%\u001b[39;49m\u001b[38;5;124;43m25A7\u001b[39;49m\u001b[38;5;132;43;01m%253F\u001b[39;49;00m\u001b[38;5;132;43;01m%25E\u001b[39;49;00m\u001b[38;5;124;43mB\u001b[39;49m\u001b[38;5;124;43m%\u001b[39;49m\u001b[38;5;124;43m25B6\u001b[39;49m\u001b[38;5;132;43;01m%2584%\u001b[39;49;00m\u001b[38;5;124;43m25EC\u001b[39;49m\u001b[38;5;132;43;01m%2596%\u001b[39;49;00m\u001b[38;5;124;43m2591240.jpg&type=a340\u001b[39;49m\u001b[38;5;124;43m'\u001b[39;49m\u001b[43m,\u001b[49m\u001b[38;5;124;43m'\u001b[39;49m\u001b[38;5;124;43mimg01.jpg\u001b[39;49m\u001b[38;5;124;43m'\u001b[39;49m\u001b[43m)\u001b[49m\n",
      "File \u001b[1;32m~\\.conda\\envs\\han\\lib\\urllib\\request.py:241\u001b[0m, in \u001b[0;36murlretrieve\u001b[1;34m(url, filename, reporthook, data)\u001b[0m\n\u001b[0;32m    224\u001b[0m \u001b[38;5;124;03m\"\"\"\u001b[39;00m\n\u001b[0;32m    225\u001b[0m \u001b[38;5;124;03mRetrieve a URL into a temporary location on disk.\u001b[39;00m\n\u001b[0;32m    226\u001b[0m \n\u001b[1;32m   (...)\u001b[0m\n\u001b[0;32m    237\u001b[0m \u001b[38;5;124;03mdata file as well as the resulting HTTPMessage object.\u001b[39;00m\n\u001b[0;32m    238\u001b[0m \u001b[38;5;124;03m\"\"\"\u001b[39;00m\n\u001b[0;32m    239\u001b[0m url_type, path \u001b[38;5;241m=\u001b[39m _splittype(url)\n\u001b[1;32m--> 241\u001b[0m \u001b[38;5;28;01mwith\u001b[39;00m contextlib\u001b[38;5;241m.\u001b[39mclosing(\u001b[43murlopen\u001b[49m\u001b[43m(\u001b[49m\u001b[43murl\u001b[49m\u001b[43m,\u001b[49m\u001b[43m \u001b[49m\u001b[43mdata\u001b[49m\u001b[43m)\u001b[49m) \u001b[38;5;28;01mas\u001b[39;00m fp:\n\u001b[0;32m    242\u001b[0m     headers \u001b[38;5;241m=\u001b[39m fp\u001b[38;5;241m.\u001b[39minfo()\n\u001b[0;32m    244\u001b[0m     \u001b[38;5;66;03m# Just return the local path and the \"headers\" for file://\u001b[39;00m\n\u001b[0;32m    245\u001b[0m     \u001b[38;5;66;03m# URLs. No sense in performing a copy unless requested.\u001b[39;00m\n",
      "File \u001b[1;32m~\\.conda\\envs\\han\\lib\\urllib\\request.py:216\u001b[0m, in \u001b[0;36murlopen\u001b[1;34m(url, data, timeout, cafile, capath, cadefault, context)\u001b[0m\n\u001b[0;32m    214\u001b[0m \u001b[38;5;28;01melse\u001b[39;00m:\n\u001b[0;32m    215\u001b[0m     opener \u001b[38;5;241m=\u001b[39m _opener\n\u001b[1;32m--> 216\u001b[0m \u001b[38;5;28;01mreturn\u001b[39;00m \u001b[43mopener\u001b[49m\u001b[38;5;241;43m.\u001b[39;49m\u001b[43mopen\u001b[49m\u001b[43m(\u001b[49m\u001b[43murl\u001b[49m\u001b[43m,\u001b[49m\u001b[43m \u001b[49m\u001b[43mdata\u001b[49m\u001b[43m,\u001b[49m\u001b[43m \u001b[49m\u001b[43mtimeout\u001b[49m\u001b[43m)\u001b[49m\n",
      "File \u001b[1;32m~\\.conda\\envs\\han\\lib\\urllib\\request.py:519\u001b[0m, in \u001b[0;36mOpenerDirector.open\u001b[1;34m(self, fullurl, data, timeout)\u001b[0m\n\u001b[0;32m    516\u001b[0m     req \u001b[38;5;241m=\u001b[39m meth(req)\n\u001b[0;32m    518\u001b[0m sys\u001b[38;5;241m.\u001b[39maudit(\u001b[38;5;124m'\u001b[39m\u001b[38;5;124murllib.Request\u001b[39m\u001b[38;5;124m'\u001b[39m, req\u001b[38;5;241m.\u001b[39mfull_url, req\u001b[38;5;241m.\u001b[39mdata, req\u001b[38;5;241m.\u001b[39mheaders, req\u001b[38;5;241m.\u001b[39mget_method())\n\u001b[1;32m--> 519\u001b[0m response \u001b[38;5;241m=\u001b[39m \u001b[38;5;28;43mself\u001b[39;49m\u001b[38;5;241;43m.\u001b[39;49m\u001b[43m_open\u001b[49m\u001b[43m(\u001b[49m\u001b[43mreq\u001b[49m\u001b[43m,\u001b[49m\u001b[43m \u001b[49m\u001b[43mdata\u001b[49m\u001b[43m)\u001b[49m\n\u001b[0;32m    521\u001b[0m \u001b[38;5;66;03m# post-process response\u001b[39;00m\n\u001b[0;32m    522\u001b[0m meth_name \u001b[38;5;241m=\u001b[39m protocol\u001b[38;5;241m+\u001b[39m\u001b[38;5;124m\"\u001b[39m\u001b[38;5;124m_response\u001b[39m\u001b[38;5;124m\"\u001b[39m\n",
      "File \u001b[1;32m~\\.conda\\envs\\han\\lib\\urllib\\request.py:536\u001b[0m, in \u001b[0;36mOpenerDirector._open\u001b[1;34m(self, req, data)\u001b[0m\n\u001b[0;32m    533\u001b[0m     \u001b[38;5;28;01mreturn\u001b[39;00m result\n\u001b[0;32m    535\u001b[0m protocol \u001b[38;5;241m=\u001b[39m req\u001b[38;5;241m.\u001b[39mtype\n\u001b[1;32m--> 536\u001b[0m result \u001b[38;5;241m=\u001b[39m \u001b[38;5;28;43mself\u001b[39;49m\u001b[38;5;241;43m.\u001b[39;49m\u001b[43m_call_chain\u001b[49m\u001b[43m(\u001b[49m\u001b[38;5;28;43mself\u001b[39;49m\u001b[38;5;241;43m.\u001b[39;49m\u001b[43mhandle_open\u001b[49m\u001b[43m,\u001b[49m\u001b[43m \u001b[49m\u001b[43mprotocol\u001b[49m\u001b[43m,\u001b[49m\u001b[43m \u001b[49m\u001b[43mprotocol\u001b[49m\u001b[43m \u001b[49m\u001b[38;5;241;43m+\u001b[39;49m\n\u001b[0;32m    537\u001b[0m \u001b[43m                          \u001b[49m\u001b[38;5;124;43m'\u001b[39;49m\u001b[38;5;124;43m_open\u001b[39;49m\u001b[38;5;124;43m'\u001b[39;49m\u001b[43m,\u001b[49m\u001b[43m \u001b[49m\u001b[43mreq\u001b[49m\u001b[43m)\u001b[49m\n\u001b[0;32m    538\u001b[0m \u001b[38;5;28;01mif\u001b[39;00m result:\n\u001b[0;32m    539\u001b[0m     \u001b[38;5;28;01mreturn\u001b[39;00m result\n",
      "File \u001b[1;32m~\\.conda\\envs\\han\\lib\\urllib\\request.py:496\u001b[0m, in \u001b[0;36mOpenerDirector._call_chain\u001b[1;34m(self, chain, kind, meth_name, *args)\u001b[0m\n\u001b[0;32m    494\u001b[0m \u001b[38;5;28;01mfor\u001b[39;00m handler \u001b[38;5;129;01min\u001b[39;00m handlers:\n\u001b[0;32m    495\u001b[0m     func \u001b[38;5;241m=\u001b[39m \u001b[38;5;28mgetattr\u001b[39m(handler, meth_name)\n\u001b[1;32m--> 496\u001b[0m     result \u001b[38;5;241m=\u001b[39m \u001b[43mfunc\u001b[49m\u001b[43m(\u001b[49m\u001b[38;5;241;43m*\u001b[39;49m\u001b[43margs\u001b[49m\u001b[43m)\u001b[49m\n\u001b[0;32m    497\u001b[0m     \u001b[38;5;28;01mif\u001b[39;00m result \u001b[38;5;129;01mis\u001b[39;00m \u001b[38;5;129;01mnot\u001b[39;00m \u001b[38;5;28;01mNone\u001b[39;00m:\n\u001b[0;32m    498\u001b[0m         \u001b[38;5;28;01mreturn\u001b[39;00m result\n",
      "File \u001b[1;32m~\\.conda\\envs\\han\\lib\\urllib\\request.py:1391\u001b[0m, in \u001b[0;36mHTTPSHandler.https_open\u001b[1;34m(self, req)\u001b[0m\n\u001b[0;32m   1390\u001b[0m \u001b[38;5;28;01mdef\u001b[39;00m \u001b[38;5;21mhttps_open\u001b[39m(\u001b[38;5;28mself\u001b[39m, req):\n\u001b[1;32m-> 1391\u001b[0m     \u001b[38;5;28;01mreturn\u001b[39;00m \u001b[38;5;28;43mself\u001b[39;49m\u001b[38;5;241;43m.\u001b[39;49m\u001b[43mdo_open\u001b[49m\u001b[43m(\u001b[49m\u001b[43mhttp\u001b[49m\u001b[38;5;241;43m.\u001b[39;49m\u001b[43mclient\u001b[49m\u001b[38;5;241;43m.\u001b[39;49m\u001b[43mHTTPSConnection\u001b[49m\u001b[43m,\u001b[49m\u001b[43m \u001b[49m\u001b[43mreq\u001b[49m\u001b[43m,\u001b[49m\n\u001b[0;32m   1392\u001b[0m \u001b[43m        \u001b[49m\u001b[43mcontext\u001b[49m\u001b[38;5;241;43m=\u001b[39;49m\u001b[38;5;28;43mself\u001b[39;49m\u001b[38;5;241;43m.\u001b[39;49m\u001b[43m_context\u001b[49m\u001b[43m,\u001b[49m\u001b[43m \u001b[49m\u001b[43mcheck_hostname\u001b[49m\u001b[38;5;241;43m=\u001b[39;49m\u001b[38;5;28;43mself\u001b[39;49m\u001b[38;5;241;43m.\u001b[39;49m\u001b[43m_check_hostname\u001b[49m\u001b[43m)\u001b[49m\n",
      "File \u001b[1;32m~\\.conda\\envs\\han\\lib\\urllib\\request.py:1351\u001b[0m, in \u001b[0;36mAbstractHTTPHandler.do_open\u001b[1;34m(self, http_class, req, **http_conn_args)\u001b[0m\n\u001b[0;32m   1348\u001b[0m         h\u001b[38;5;241m.\u001b[39mrequest(req\u001b[38;5;241m.\u001b[39mget_method(), req\u001b[38;5;241m.\u001b[39mselector, req\u001b[38;5;241m.\u001b[39mdata, headers,\n\u001b[0;32m   1349\u001b[0m                   encode_chunked\u001b[38;5;241m=\u001b[39mreq\u001b[38;5;241m.\u001b[39mhas_header(\u001b[38;5;124m'\u001b[39m\u001b[38;5;124mTransfer-encoding\u001b[39m\u001b[38;5;124m'\u001b[39m))\n\u001b[0;32m   1350\u001b[0m     \u001b[38;5;28;01mexcept\u001b[39;00m \u001b[38;5;167;01mOSError\u001b[39;00m \u001b[38;5;28;01mas\u001b[39;00m err: \u001b[38;5;66;03m# timeout error\u001b[39;00m\n\u001b[1;32m-> 1351\u001b[0m         \u001b[38;5;28;01mraise\u001b[39;00m URLError(err)\n\u001b[0;32m   1352\u001b[0m     r \u001b[38;5;241m=\u001b[39m h\u001b[38;5;241m.\u001b[39mgetresponse()\n\u001b[0;32m   1353\u001b[0m \u001b[38;5;28;01mexcept\u001b[39;00m:\n",
      "\u001b[1;31mURLError\u001b[0m: <urlopen error [Errno 11001] getaddrinfo failed>"
     ]
    }
   ],
   "source": [
    "# 이미지 다운로드\n",
    "from urllib import request\n",
    "request.urlretrieve('https://searcha.pstatic.net/common/?src=http%3A%2F%2Fblogfiles.naver.net%2FMjAyMjA3MTdfNSAg%2FMDAxNjU4MDU1NDk1MTMx.gYMOxufPdVxeftoxCjvARt0ySZWV_RTDJR27cvThAY0g.gYfUC3nvJImAhTzwHOvq18hYpwof9EQyo9-6Q6Ob9uEg.JPEG.monica32d%2F%25EA%25B0%2595%25EC%2595%2584%25EC%25A7%253F%25EB%25B6%2584%25EC%2596%2591240.jpg&type=a340','img01.jpg')"
   ]
  },
  {
   "cell_type": "code",
   "execution_count": 6,
   "id": "e696210b",
   "metadata": {},
   "outputs": [
    {
     "data": {
      "text/plain": [
       "'C:\\\\Users\\\\yumei\\\\Desktop\\\\py\\\\크롤링_01'"
      ]
     },
     "execution_count": 6,
     "metadata": {},
     "output_type": "execute_result"
    }
   ],
   "source": [
    "pwd"
   ]
  },
  {
   "cell_type": "markdown",
   "id": "10b14bbf",
   "metadata": {},
   "source": [
    "### 2) requests 패키지"
   ]
  },
  {
   "cell_type": "code",
   "execution_count": 8,
   "id": "52a53a15",
   "metadata": {},
   "outputs": [],
   "source": [
    "import requests\n",
    "from bs4 import BeautifulSoup as bs\n",
    "\n",
    "#'파이썬' 네이버 지식인 검색어:'파이썬'\n",
    "\n",
    "html=requests.get('https://search.naver.com/search.naver?where=kin&sm=tab_jum&query=%ED%8C%8C%EC%9D%B4%EC%8D%AC') \n",
    "soup=BS(html.text,'html.parser')\n",
    "#print(soup))"
   ]
  },
  {
   "cell_type": "markdown",
   "id": "e65716d5",
   "metadata": {},
   "source": [
    "### 3) html 태그로 원하는 정보 추출"
   ]
  },
  {
   "cell_type": "code",
   "execution_count": 11,
   "id": "1470e758",
   "metadata": {},
   "outputs": [
    {
     "data": {
      "text/plain": [
       "[<strong class=\"elss tit\">코로나19</strong>,\n",
       " <strong class=\"elss tit\">신속항원검사</strong>,\n",
       " <strong class=\"elss tit\">코로나19 팩트체크</strong>,\n",
       " <strong class=\"elss tit\">잔여백신예약</strong>]"
      ]
     },
     "execution_count": 11,
     "metadata": {},
     "output_type": "execute_result"
    }
   ],
   "source": [
    "#find_all로 찾기\n",
    "s_tags1=soup.find_all('strong','elss')\n",
    "s_tags1"
   ]
  },
  {
   "cell_type": "code",
   "execution_count": 12,
   "id": "cb3ade0a",
   "metadata": {},
   "outputs": [
    {
     "data": {
      "text/plain": [
       "[<strong class=\"elss tit\">코로나19</strong>,\n",
       " <strong class=\"elss tit\">신속항원검사</strong>,\n",
       " <strong class=\"elss tit\">코로나19 팩트체크</strong>,\n",
       " <strong class=\"elss tit\">잔여백신예약</strong>]"
      ]
     },
     "execution_count": 12,
     "metadata": {},
     "output_type": "execute_result"
    }
   ],
   "source": [
    "#select로 찾기\n",
    "soup.select('strong.elss')"
   ]
  },
  {
   "cell_type": "code",
   "execution_count": 13,
   "id": "a311589b",
   "metadata": {},
   "outputs": [
    {
     "name": "stdout",
     "output_type": "stream",
     "text": [
      "코로나19\n",
      "신속항원검사\n",
      "코로나19 팩트체크\n",
      "잔여백신예약\n"
     ]
    }
   ],
   "source": [
    "#텍스트만 추출\n",
    "for s in s_tags1:\n",
    "    print(s.text)"
   ]
  },
  {
   "cell_type": "code",
   "execution_count": 9,
   "id": "7f804844",
   "metadata": {},
   "outputs": [
    {
     "data": {
      "text/plain": [
       "[]"
      ]
     },
     "execution_count": 9,
     "metadata": {},
     "output_type": "execute_result"
    }
   ],
   "source": [
    "soup.find_all('div.question_group')"
   ]
  },
  {
   "cell_type": "code",
   "execution_count": null,
   "id": "2108c81b",
   "metadata": {},
   "outputs": [],
   "source": []
  },
  {
   "cell_type": "code",
   "execution_count": null,
   "id": "33caa15c",
   "metadata": {},
   "outputs": [],
   "source": []
  },
  {
   "cell_type": "markdown",
   "id": "483d2a42",
   "metadata": {},
   "source": [
    "### [미션] 파이썬 연관검색어 정보 추출"
   ]
  },
  {
   "cell_type": "code",
   "execution_count": 10,
   "id": "bc674b4d",
   "metadata": {},
   "outputs": [
    {
     "data": {
      "text/plain": [
       "[<div class=\"tit\">파이썬 독학</div>,\n",
       " <div class=\"tit\">파이썬 자격증</div>,\n",
       " <div class=\"tit\">점프 투 파이썬</div>,\n",
       " <div class=\"tit\">파이썬 책</div>,\n",
       " <div class=\"tit\">혼자 공부하는 파이썬</div>,\n",
       " <div class=\"tit\">파이썬 기초</div>,\n",
       " <div class=\"tit\">파이썬 학원</div>,\n",
       " <div class=\"tit\">파이썬 설치</div>,\n",
       " <div class=\"tit\">파이썬 강의</div>,\n",
       " <div class=\"tit\">파이썬 프로그램</div>]"
      ]
     },
     "metadata": {},
     "output_type": "display_data"
    }
   ],
   "source": [
    "#find_all\n",
    "div_tags=soup.find_all('div','tit')\n",
    "display(div_tags)"
   ]
  },
  {
   "cell_type": "code",
   "execution_count": 11,
   "id": "486d33be",
   "metadata": {},
   "outputs": [],
   "source": [
    "#select\n",
    "div_tags=soup.select('div.tit')"
   ]
  },
  {
   "cell_type": "code",
   "execution_count": 12,
   "id": "5c8f0257",
   "metadata": {},
   "outputs": [
    {
     "name": "stdout",
     "output_type": "stream",
     "text": [
      "파이썬 독학\n",
      "파이썬 자격증\n",
      "점프 투 파이썬\n",
      "파이썬 책\n",
      "혼자 공부하는 파이썬\n",
      "파이썬 기초\n",
      "파이썬 학원\n",
      "파이썬 설치\n",
      "파이썬 강의\n",
      "파이썬 프로그램\n"
     ]
    }
   ],
   "source": [
    "for div in div_tags:\n",
    "    print(div.text)"
   ]
  },
  {
   "cell_type": "markdown",
   "id": "21bb406a",
   "metadata": {},
   "source": [
    "### [미션] 글 제목만 추출"
   ]
  },
  {
   "cell_type": "code",
   "execution_count": 13,
   "id": "03482177",
   "metadata": {},
   "outputs": [
    {
     "data": {
      "text/plain": [
       "[<a class=\"api_txt_lines question_text\" href=\"https://kin.naver.com/qna/detail.naver?d1id=1&amp;dirId=10402&amp;docId=423874593&amp;qb=7YyM7J207I2s&amp;enc=utf8§ion=kin.ext&amp;rank=1&amp;search_sort=0&amp;spq=0\" onclick=\"return goOtherCR(this,'a=kin*k.question&amp;r=1&amp;i=10000009_00001943d021&amp;u='+urlencode(this.href));\" target=\"_blank\"><mark>파이썬</mark> 코드 오류 <mark>파이썬</mark>으로 그래프 그리려고 하는데 대체 왜 오류가 뜨는 걸까요? ㅠㅠ</a>,\n",
       " <a class=\"api_txt_lines question_text\" href=\"https://kin.naver.com/qna/detail.naver?d1id=1&amp;dirId=10402&amp;docId=423312147&amp;qb=7YyM7J207I2s&amp;enc=utf8§ion=kin.ext&amp;rank=2&amp;search_sort=0&amp;spq=0\" onclick=\"return goOtherCR(this,'a=kin*k.question&amp;r=2&amp;i=10000009_0000193b3b13&amp;u='+urlencode(this.href));\" target=\"_blank\"><mark>파이썬</mark> 인티저 <mark>파이썬</mark>에 인티저가 input인가요?? input 줄인게 int 맞나요??</a>,\n",
       " <a class=\"api_txt_lines question_text\" href=\"https://kin.naver.com/qna/detail.naver?d1id=1&amp;dirId=10402&amp;docId=424909436&amp;qb=7YyM7J207I2s&amp;enc=utf8§ion=kin.ext&amp;rank=3&amp;search_sort=0&amp;spq=0\" onclick=\"return goOtherCR(this,'a=kin*k.question&amp;r=3&amp;i=10000009_000019539a7c&amp;u='+urlencode(this.href));\" target=\"_blank\"><mark>파이썬</mark>? 파이참? 파이참, <mark>파이썬</mark> 둘 다 설치했는데 파이참 용량이 너무 커서요 삭제하려고 하는데 <mark>파이썬</mark> 하나만 있어도 똑같이 사용가능한건가요?</a>,\n",
       " <a class=\"api_txt_lines question_text\" href=\"https://kin.naver.com/qna/detail.naver?d1id=11&amp;dirId=110209&amp;docId=340140488&amp;qb=7YyM7J207I2s&amp;enc=utf8§ion=kin.ext&amp;rank=4&amp;search_sort=0&amp;spq=0\" onclick=\"return goOtherCR(this,'a=kin*k.question&amp;r=4&amp;i=10000009_0000144621c8&amp;u='+urlencode(this.href));\" target=\"_blank\">강남<mark>파이썬</mark>학원 추천좀 부탁해요!! ... 해외에서 <mark>파이썬</mark>이 뜬다고 하더라고요? 친구들 말로는 자바와 씨언어가 아직 많이 쓰이는데 <mark>파이썬</mark>이 장기적으로... 강남<mark>파이썬</mark>학원 찾습니다. 아 그리고 혹시나 강남<mark>파이썬</mark>학원을 통해 미래에 해외쪽도... 혹시 알아요 나중에 해외로 나가게 될지 ㅋㅋ 하여튼 좋은 강남<mark>파이썬</mark>학원 부탁합니다!</a>,\n",
       " <a class=\"api_txt_lines question_text\" href=\"https://kin.naver.com/qna/detail.naver?d1id=4&amp;dirId=40608&amp;docId=359900662&amp;qb=7YyM7J207I2s&amp;enc=utf8§ion=kin.ext&amp;rank=5&amp;search_sort=0&amp;spq=0\" onclick=\"return goOtherCR(this,'a=kin*k.question&amp;r=5&amp;i=10000009_00001573a5f6&amp;u='+urlencode(this.href));\" target=\"_blank\"><mark>파이썬</mark> 국비지원 현재 프로그래밍에 대한 기초가 하나도 없고 일을 하고 있는데 온라인으로 <mark>파이썬</mark> 교육을 듣고싶은데 국비지원으로 할수 있나요?? 대략 능숙하게 사용하려면 어느정도 기간이 걸리는지 궁금합니다 ㅜㅜ!</a>,\n",
       " <a class=\"api_txt_lines question_text\" href=\"https://kin.naver.com/qna/detail.naver?d1id=4&amp;dirId=40608&amp;docId=425587648&amp;qb=7YyM7J207I2s&amp;enc=utf8§ion=kin.ext&amp;rank=6&amp;search_sort=0&amp;spq=0\" onclick=\"return goOtherCR(this,'a=kin*k.question&amp;r=6&amp;i=10000009_0000195df3c0&amp;u='+urlencode(this.href));\" target=\"_blank\"><mark>파이썬</mark>독학으로 배우기 빅데이터에 관심이 있는데 이 분야에서는 <mark>파이썬</mark>을 알아야 한다더라고요 그래서 <mark>파이썬</mark>독학해볼까 생각하고 있는데 혼자 <mark>파이썬</mark>배우기 괜찮을까... 인강보고 <mark>파이썬</mark>배우기 가능한지 알고싶고요 <mark>파이썬</mark>독학이 가능하다면 어떤 인강을 이용하면 되는지도 알고싶어요 답변 부탁드려요... </a>,\n",
       " <a class=\"api_txt_lines question_text\" href=\"https://kin.naver.com/qna/detail.naver?d1id=1&amp;dirId=10402&amp;docId=421627812&amp;qb=7YyM7J207I2s&amp;enc=utf8§ion=kin.ext&amp;rank=7&amp;search_sort=0&amp;spq=0\" onclick=\"return goOtherCR(this,'a=kin*k.question&amp;r=7&amp;i=10000009_0000192187a4&amp;u='+urlencode(this.href));\" target=\"_blank\">고1 정보 <mark>파이썬</mark> 질문 주피터노트북 <mark>파이썬</mark>으로 만들어야되는데 <mark>파이썬</mark>으로 사진에 있는 문제 해결 과정이랑 답 알고싶어요 급해요</a>,\n",
       " <a class=\"api_txt_lines question_text\" href=\"https://kin.naver.com/qna/detail.naver?d1id=1&amp;dirId=10402&amp;docId=421598687&amp;qb=7YyM7J207I2s&amp;enc=utf8§ion=kin.ext&amp;rank=8&amp;search_sort=0&amp;spq=0\" onclick=\"return goOtherCR(this,'a=kin*k.question&amp;r=8&amp;i=10000009_0000192115df&amp;u='+urlencode(this.href));\" target=\"_blank\">인프런에서 <mark>파이썬</mark> 배우기 대학 수업에서 <mark>파이썬</mark>을 배우긴 했지만 굉장히 기초만 배웠고 제대로 한 거 같지가 않아 제대로 한번 공부해보고 싶습니다. 인프런에서 강의를 들으려고 하는데 그냥 아예 <mark>파이썬</mark>의 기본개념부터 즉, 아예 처음부터 다시하고 싶어요. 그런데 인프런가보니깐 강의가... </a>,\n",
       " <a class=\"api_txt_lines question_text\" href=\"https://kin.naver.com/qna/detail.naver?d1id=1&amp;dirId=10402&amp;docId=424704487&amp;qb=7YyM7J207I2s&amp;enc=utf8§ion=kin.ext&amp;rank=9&amp;search_sort=0&amp;spq=0\" onclick=\"return goOtherCR(this,'a=kin*k.question&amp;r=9&amp;i=10000009_0000195079e7&amp;u='+urlencode(this.href));\" target=\"_blank\">요새 <mark>파이썬</mark>으로 개발하는 이유</a>,\n",
       " <a class=\"api_txt_lines question_text\" href=\"https://kin.naver.com/qna/detail.naver?d1id=1&amp;dirId=102020101&amp;docId=418831145&amp;qb=7YyM7J207I2s&amp;enc=utf8§ion=kin.ext&amp;rank=10&amp;search_sort=0&amp;spq=0\" onclick=\"return goOtherCR(this,'a=kin*k.question&amp;r=10&amp;i=10000009_000018f6db29&amp;u='+urlencode(this.href));\" target=\"_blank\">엑셀vba랑 <mark>파이썬</mark> 둘중에 어느걸 써야되는건가요? 엑셀로 가계부를 만들어 사용하려고 하는데요 제가 엑셀에서 통장번호를 입력하고 그버튼을 누르면 제가능록한 통장에 얼마가 입금되는지 엑셀에 연동되서 나타나게 하려면 엑셀vba가지고 만들어야 되난요? 아니면 <mark>파이썬</mark> 가지고 만들어야 되나요? 혹시 아시는분 계시나요?</a>]"
      ]
     },
     "execution_count": 13,
     "metadata": {},
     "output_type": "execute_result"
    }
   ],
   "source": [
    "#find_all \n",
    "a_tags=soup.find_all('a','api_txt_lines question_text')\n",
    "a_tags"
   ]
  },
  {
   "cell_type": "code",
   "execution_count": 18,
   "id": "e5fd2849",
   "metadata": {},
   "outputs": [
    {
     "name": "stdout",
     "output_type": "stream",
     "text": [
      "1 파이썬 코드 오류 파이썬으로 그래프 그리려고 하는데 대체 왜 오류가 뜨는 걸까요? ㅠㅠ\n",
      "2 파이썬 인티저 파이썬에 인티저가 input인가요?? input 줄인게 int 맞나요??\n",
      "3 파이썬? 파이참? 파이참, 파이썬 둘 다 설치했는데 파이참 용량이 너무 커서요 삭제하려고 하는데 파이썬 하나만 있어도 똑같이 사용가능한건가요?\n",
      "4 강남파이썬학원 추천좀 부탁해요!! ... 해외에서 파이썬이 뜬다고 하더라고요? 친구들 말로는 자바와 씨언어가 아직 많이 쓰이는데 파이썬이 장기적으로... 강남파이썬학원 찾습니다. 아 그리고 혹시나 강남파이썬학원을 통해 미래에 해외쪽도... 혹시 알아요 나중에 해외로 나가게 될지 ㅋㅋ 하여튼 좋은 강남파이썬학원 부탁합니다!\n",
      "5 파이썬 국비지원 현재 프로그래밍에 대한 기초가 하나도 없고 일을 하고 있는데 온라인으로 파이썬 교육을 듣고싶은데 국비지원으로 할수 있나요?? 대략 능숙하게 사용하려면 어느정도 기간이 걸리는지 궁금합니다 ㅜㅜ!\n",
      "6 파이썬독학으로 배우기 빅데이터에 관심이 있는데 이 분야에서는 파이썬을 알아야 한다더라고요 그래서 파이썬독학해볼까 생각하고 있는데 혼자 파이썬배우기 괜찮을까... 인강보고 파이썬배우기 가능한지 알고싶고요 파이썬독학이 가능하다면 어떤 인강을 이용하면 되는지도 알고싶어요 답변 부탁드려요... \n",
      "7 고1 정보 파이썬 질문 주피터노트북 파이썬으로 만들어야되는데 파이썬으로 사진에 있는 문제 해결 과정이랑 답 알고싶어요 급해요\n",
      "8 인프런에서 파이썬 배우기 대학 수업에서 파이썬을 배우긴 했지만 굉장히 기초만 배웠고 제대로 한 거 같지가 않아 제대로 한번 공부해보고 싶습니다. 인프런에서 강의를 들으려고 하는데 그냥 아예 파이썬의 기본개념부터 즉, 아예 처음부터 다시하고 싶어요. 그런데 인프런가보니깐 강의가... \n",
      "9 요새 파이썬으로 개발하는 이유\n",
      "10 엑셀vba랑 파이썬 둘중에 어느걸 써야되는건가요? 엑셀로 가계부를 만들어 사용하려고 하는데요 제가 엑셀에서 통장번호를 입력하고 그버튼을 누르면 제가능록한 통장에 얼마가 입금되는지 엑셀에 연동되서 나타나게 하려면 엑셀vba가지고 만들어야 되난요? 아니면 파이썬 가지고 만들어야 되나요? 혹시 아시는분 계시나요?\n"
     ]
    }
   ],
   "source": [
    "for idx,a in enumerate(a_tags,1):\n",
    "    print(idx,a.text)"
   ]
  },
  {
   "cell_type": "code",
   "execution_count": 15,
   "id": "8d2f8532",
   "metadata": {},
   "outputs": [
    {
     "data": {
      "text/plain": [
       "[<a class=\"api_txt_lines question_text\" href=\"https://kin.naver.com/qna/detail.naver?d1id=1&amp;dirId=10402&amp;docId=423874593&amp;qb=7YyM7J207I2s&amp;enc=utf8§ion=kin.ext&amp;rank=1&amp;search_sort=0&amp;spq=0\" onclick=\"return goOtherCR(this,'a=kin*k.question&amp;r=1&amp;i=10000009_00001943d021&amp;u='+urlencode(this.href));\" target=\"_blank\"><mark>파이썬</mark> 코드 오류 <mark>파이썬</mark>으로 그래프 그리려고 하는데 대체 왜 오류가 뜨는 걸까요? ㅠㅠ</a>,\n",
       " <a class=\"api_txt_lines question_text\" href=\"https://kin.naver.com/qna/detail.naver?d1id=1&amp;dirId=10402&amp;docId=423312147&amp;qb=7YyM7J207I2s&amp;enc=utf8§ion=kin.ext&amp;rank=2&amp;search_sort=0&amp;spq=0\" onclick=\"return goOtherCR(this,'a=kin*k.question&amp;r=2&amp;i=10000009_0000193b3b13&amp;u='+urlencode(this.href));\" target=\"_blank\"><mark>파이썬</mark> 인티저 <mark>파이썬</mark>에 인티저가 input인가요?? input 줄인게 int 맞나요??</a>,\n",
       " <a class=\"api_txt_lines question_text\" href=\"https://kin.naver.com/qna/detail.naver?d1id=1&amp;dirId=10402&amp;docId=424909436&amp;qb=7YyM7J207I2s&amp;enc=utf8§ion=kin.ext&amp;rank=3&amp;search_sort=0&amp;spq=0\" onclick=\"return goOtherCR(this,'a=kin*k.question&amp;r=3&amp;i=10000009_000019539a7c&amp;u='+urlencode(this.href));\" target=\"_blank\"><mark>파이썬</mark>? 파이참? 파이참, <mark>파이썬</mark> 둘 다 설치했는데 파이참 용량이 너무 커서요 삭제하려고 하는데 <mark>파이썬</mark> 하나만 있어도 똑같이 사용가능한건가요?</a>,\n",
       " <a class=\"api_txt_lines question_text\" href=\"https://kin.naver.com/qna/detail.naver?d1id=11&amp;dirId=110209&amp;docId=340140488&amp;qb=7YyM7J207I2s&amp;enc=utf8§ion=kin.ext&amp;rank=4&amp;search_sort=0&amp;spq=0\" onclick=\"return goOtherCR(this,'a=kin*k.question&amp;r=4&amp;i=10000009_0000144621c8&amp;u='+urlencode(this.href));\" target=\"_blank\">강남<mark>파이썬</mark>학원 추천좀 부탁해요!! ... 해외에서 <mark>파이썬</mark>이 뜬다고 하더라고요? 친구들 말로는 자바와 씨언어가 아직 많이 쓰이는데 <mark>파이썬</mark>이 장기적으로... 강남<mark>파이썬</mark>학원 찾습니다. 아 그리고 혹시나 강남<mark>파이썬</mark>학원을 통해 미래에 해외쪽도... 혹시 알아요 나중에 해외로 나가게 될지 ㅋㅋ 하여튼 좋은 강남<mark>파이썬</mark>학원 부탁합니다!</a>,\n",
       " <a class=\"api_txt_lines question_text\" href=\"https://kin.naver.com/qna/detail.naver?d1id=4&amp;dirId=40608&amp;docId=359900662&amp;qb=7YyM7J207I2s&amp;enc=utf8§ion=kin.ext&amp;rank=5&amp;search_sort=0&amp;spq=0\" onclick=\"return goOtherCR(this,'a=kin*k.question&amp;r=5&amp;i=10000009_00001573a5f6&amp;u='+urlencode(this.href));\" target=\"_blank\"><mark>파이썬</mark> 국비지원 현재 프로그래밍에 대한 기초가 하나도 없고 일을 하고 있는데 온라인으로 <mark>파이썬</mark> 교육을 듣고싶은데 국비지원으로 할수 있나요?? 대략 능숙하게 사용하려면 어느정도 기간이 걸리는지 궁금합니다 ㅜㅜ!</a>,\n",
       " <a class=\"api_txt_lines question_text\" href=\"https://kin.naver.com/qna/detail.naver?d1id=4&amp;dirId=40608&amp;docId=425587648&amp;qb=7YyM7J207I2s&amp;enc=utf8§ion=kin.ext&amp;rank=6&amp;search_sort=0&amp;spq=0\" onclick=\"return goOtherCR(this,'a=kin*k.question&amp;r=6&amp;i=10000009_0000195df3c0&amp;u='+urlencode(this.href));\" target=\"_blank\"><mark>파이썬</mark>독학으로 배우기 빅데이터에 관심이 있는데 이 분야에서는 <mark>파이썬</mark>을 알아야 한다더라고요 그래서 <mark>파이썬</mark>독학해볼까 생각하고 있는데 혼자 <mark>파이썬</mark>배우기 괜찮을까... 인강보고 <mark>파이썬</mark>배우기 가능한지 알고싶고요 <mark>파이썬</mark>독학이 가능하다면 어떤 인강을 이용하면 되는지도 알고싶어요 답변 부탁드려요... </a>,\n",
       " <a class=\"api_txt_lines question_text\" href=\"https://kin.naver.com/qna/detail.naver?d1id=1&amp;dirId=10402&amp;docId=421627812&amp;qb=7YyM7J207I2s&amp;enc=utf8§ion=kin.ext&amp;rank=7&amp;search_sort=0&amp;spq=0\" onclick=\"return goOtherCR(this,'a=kin*k.question&amp;r=7&amp;i=10000009_0000192187a4&amp;u='+urlencode(this.href));\" target=\"_blank\">고1 정보 <mark>파이썬</mark> 질문 주피터노트북 <mark>파이썬</mark>으로 만들어야되는데 <mark>파이썬</mark>으로 사진에 있는 문제 해결 과정이랑 답 알고싶어요 급해요</a>,\n",
       " <a class=\"api_txt_lines question_text\" href=\"https://kin.naver.com/qna/detail.naver?d1id=1&amp;dirId=10402&amp;docId=421598687&amp;qb=7YyM7J207I2s&amp;enc=utf8§ion=kin.ext&amp;rank=8&amp;search_sort=0&amp;spq=0\" onclick=\"return goOtherCR(this,'a=kin*k.question&amp;r=8&amp;i=10000009_0000192115df&amp;u='+urlencode(this.href));\" target=\"_blank\">인프런에서 <mark>파이썬</mark> 배우기 대학 수업에서 <mark>파이썬</mark>을 배우긴 했지만 굉장히 기초만 배웠고 제대로 한 거 같지가 않아 제대로 한번 공부해보고 싶습니다. 인프런에서 강의를 들으려고 하는데 그냥 아예 <mark>파이썬</mark>의 기본개념부터 즉, 아예 처음부터 다시하고 싶어요. 그런데 인프런가보니깐 강의가... </a>,\n",
       " <a class=\"api_txt_lines question_text\" href=\"https://kin.naver.com/qna/detail.naver?d1id=1&amp;dirId=10402&amp;docId=424704487&amp;qb=7YyM7J207I2s&amp;enc=utf8§ion=kin.ext&amp;rank=9&amp;search_sort=0&amp;spq=0\" onclick=\"return goOtherCR(this,'a=kin*k.question&amp;r=9&amp;i=10000009_0000195079e7&amp;u='+urlencode(this.href));\" target=\"_blank\">요새 <mark>파이썬</mark>으로 개발하는 이유</a>,\n",
       " <a class=\"api_txt_lines question_text\" href=\"https://kin.naver.com/qna/detail.naver?d1id=1&amp;dirId=102020101&amp;docId=418831145&amp;qb=7YyM7J207I2s&amp;enc=utf8§ion=kin.ext&amp;rank=10&amp;search_sort=0&amp;spq=0\" onclick=\"return goOtherCR(this,'a=kin*k.question&amp;r=10&amp;i=10000009_000018f6db29&amp;u='+urlencode(this.href));\" target=\"_blank\">엑셀vba랑 <mark>파이썬</mark> 둘중에 어느걸 써야되는건가요? 엑셀로 가계부를 만들어 사용하려고 하는데요 제가 엑셀에서 통장번호를 입력하고 그버튼을 누르면 제가능록한 통장에 얼마가 입금되는지 엑셀에 연동되서 나타나게 하려면 엑셀vba가지고 만들어야 되난요? 아니면 <mark>파이썬</mark> 가지고 만들어야 되나요? 혹시 아시는분 계시나요?</a>]"
      ]
     },
     "execution_count": 15,
     "metadata": {},
     "output_type": "execute_result"
    }
   ],
   "source": [
    "#select\n",
    "a_tags1=soup.select('a.question_text')\n",
    "a_tags1"
   ]
  },
  {
   "cell_type": "code",
   "execution_count": 16,
   "id": "b41c5c52",
   "metadata": {},
   "outputs": [
    {
     "data": {
      "text/plain": [
       "[<div class=\"kin_wrap api_ani_send\"> <div class=\"question_area\"> <i class=\"spnew api_ico_q\">Q</i> <div class=\"api_save_group _keep_wrap\"> <a aria-pressed=\"false\" class=\"btn_save _keep_trigger\" data-cr-off=\"a=kin*k.kep&amp;r=1&amp;i=10000009_00001943d021&amp;u=javascript\" data-cr-on=\"a=kin*k.kep&amp;r=1&amp;i=10000009_00001943d021&amp;u=javascript\" data-url=\"https://kin.naver.com/qna/detail.naver?dirId=10402&amp;docId=423874593\" href=\"#\" role=\"button\"><i class=\"spnew ico_save\">문서 저장하기</i></a> <div class=\"api_ly_save _keep_save_layer\"> <a class=\"spnew_af item item_save _keep_save\" data-cr-off=\"a=kin*k.kepoff&amp;r=1&amp;i=10000009_00001943d021&amp;u=javascript\" data-cr-on=\"a=kin*k.kepon&amp;r=1&amp;i=10000009_00001943d021&amp;u=javascript\" href=\"#\" role=\"button\">Keep에 저장</a> <a class=\"spnew_af item item_quick\" href=\"https://keep.naver.com/\" onclick=\"return goOtherCR(this, 'a=kin*k.kephome&amp;r=&amp;i=&amp;u=javascript'+urlencode(this.href));\" target=\"_blank\">Keep 바로가기</a> </div> </div> <div class=\"question_group\"> <a class=\"api_txt_lines question_text\" href=\"https://kin.naver.com/qna/detail.naver?d1id=1&amp;dirId=10402&amp;docId=423874593&amp;qb=7YyM7J207I2s&amp;enc=utf8§ion=kin.ext&amp;rank=1&amp;search_sort=0&amp;spq=0\" onclick=\"return goOtherCR(this,'a=kin*k.question&amp;r=1&amp;i=10000009_00001943d021&amp;u='+urlencode(this.href));\" target=\"_blank\"><mark>파이썬</mark> 코드 오류 <mark>파이썬</mark>으로 그래프 그리려고 하는데 대체 왜 오류가 뜨는 걸까요? ㅠㅠ</a> </div> </div> <div class=\"answer_area\"> <div class=\"profile_group\"> <a class=\"spnkin_af btn_consult\" href=\"https://m.expert.naver.com/expert/profile/home?storeId=100032323\" onclick=\"return goOtherCR(this,'a=kin*k.expert&amp;r=1&amp;i=10000009_00001943d021&amp;u='+urlencode(this.href));\" role=\"button\" target=\"_blank\"> <i class=\"spnew api_ico_expert_link\">expert</i>와 상담 </a> <a class=\"profile_link\" href=\"https://m.expert.naver.com/expert/profile/home?storeId=100032323\" onclick=\"return goOtherCR(this,'a=kin*k.expertprofile&amp;r=1&amp;i=10000009_00001943d021&amp;u='+urlencode(this.href));\" target=\"_blank\"> <i class=\"spnew api_ico_a\">A</i> <span class=\"thumb\"><img alt=\"\" class=\"img\" height=\"22\" onerror=\"this.src='data:image/gif;base64,R0lGODlhAQABAIAAAAAAAP///yH5BAEAAAAALAAAAAABAAEAAAIBRAA7';this.className='bg_npimg'\" src=\"https://search.pstatic.net/common/?src=https%3A%2F%2Fkin-phinf.pstatic.net%2F20220706_15%2F1657088507807vuaDJ_PNG%2F1657088507796.png%3Ftype%3Df360_360&amp;type=f44_44\" width=\"22\"/></span> <div class=\"info_box\"> <div class=\"info_box_inner\"> <span class=\"sub_info\"> <span class=\"expert type_category\">코딩/IT개발</span><span class=\"category\">코딩/IT개발</span> </span> <span class=\"name\">D3fau1t</span> </div> </div> </a> </div> <div class=\"expert_group _svp_content\"> <div class=\"info_wrap elss\"> <a class=\"info product\" href=\"https://m.expert.naver.com/expert/profile/home?storeId=100032323\" target=\"_blank\">코드리뷰 및 첨삭, 개발자 진로상담</a> <a class=\"info rating\" href=\"https://m.expert.naver.com/expert/profile/home?storeId=100032323\" onclick=\"return goOtherCR(this, 'a=kin*k.expertprofile&amp;r=1&amp;i=10000009_00001943d021&amp;u=javascript'+urlencode(this.href));\" target=\"_blank\"><i class=\"spnew api_ico_star_solo\">별점</i><span class=\"score\">5.0</span><span class=\"count\">상담 3</span></a> <a class=\"info txt\" href=\"https://m.expert.naver.com/expert/profile/home?storeId=100032323\" onclick=\"return goOtherCR(this, 'a=kin*k.expertprofile&amp;r=1&amp;i=10000009_00001943d021&amp;u=javascript'+urlencode(this.href));\" target=\"_blank\">평균 10분 내 응답</a> </div> </div> <div class=\"answer_group\"> <a class=\"api_txt_lines answer_text\" href=\"https://kin.naver.com/qna/detail.naver?d1id=1&amp;dirId=10402&amp;docId=423874593&amp;qb=7YyM7J207I2s&amp;enc=utf8§ion=kin.ext&amp;rank=1&amp;search_sort=0&amp;spq=0\" onclick=\"return goOtherCR(this, 'a=kin*k.answer&amp;r=1&amp;i=10000009_00001943d021&amp;u=javascript'+urlencode(this.href));\" target=\"_blank\">실행환경에서 패키지도 설치되어있고 실행은 가능한데 에디터에서 노란줄 표시되어있고 경고메시지 뜨면 ide에서 사용하는 <mark>파이썬</mark> 인터프리터 환경에 패키지가 설치되어있지 않아서 그래요. 에디터에서 <mark>파이썬</mark> 파일 열어놓고 하단에서 matplotlib과 numpy가 설치된 <mark>파이썬</mark> 인터프리터를...</a> <div class=\"elss desc_group\"> <span class=\"desc\">2022.07.15.</span> </div> </div> </div> <div class=\"api_pcpg_wrap cluster_scroll_wrap _au_kin_lazy_component\" data-component-type=\"cluster\"> <div class=\"api_flicking_wrap _flicking\"> <div class=\"flick_bx flick_width\"> <div class=\"cluster_wrap\"> <a class=\"cluster_item\" href=\"https://kin.naver.com/qna/detail.naver?d1id=1&amp;dirId=10402&amp;docId=416864108&amp;qb=7YyM7J207I2s&amp;enc=utf8§ion=kin.ext&amp;rank=1&amp;search_sort=0&amp;spq=0\" onclick=\"return goOtherCR(this, 'a=kin*k.question2&amp;r=1&amp;i=10000009_000018d8d76c_1&amp;u=javascript'+urlencode(this.href));\" target=\"_blank\"> <strong class=\"api_txt_lines title\"> <i class=\"spnew api_ico_q2\">Q</i><mark>파이썬</mark> 코드 오류 <mark>파이썬</mark> 거의 모르고 완전히 초보에, 배경지식도 없는 고등학생입니다. <mark>파이썬</mark>(Python) - 유전 알고리즘 - 기본 — baealex (blex.me) 제가 <mark>파이썬</mark>을 활용한 유전 알고리즘에 대해... 그런 다음에 <mark>파이썬</mark> 창에 복붙을 하니까 이렇게 계속 오류 메시지가 뜨더라구요. 전 저 포스팅 링크 게시글 작성자가... </strong> <div class=\"dsc\">2022.04.10.</div> </a> </div> </div> </div> <div class=\"api_btn_page type_inside type_small\"> <div class=\"btn_prev\"><a class=\"btn _prev\" href=\"#\" onclick=\"tCR('a=kin*k.frk&amp;r=&amp;i=&amp;u=javascript');return false;\" role=\"button\" style=\"display:none\"><i class=\"spnew ico_arr\">이전</i></a></div> <div class=\"btn_next\"><a class=\"btn _next\" href=\"#\" onclick=\"tCR('a=kin*k.frk&amp;r=&amp;i=&amp;u=javascript');return false;\" role=\"button\" style=\"display:none\"><i class=\"spnew ico_arr\">다음</i></a></div> </div> </div> <div class=\"total_tag_wrap\"> <div class=\"elss total_tag_area\"> <span class=\"tag_title\">관련</span> <a class=\"spnkin_bf tag\" href=\"?where=kin&amp;query=%ED%8C%8C%EC%9D%B4%EC%8D%AC %EC%98%A4%EB%A5%98&amp;nso=so%3Ar%2Ca%3Aall%2Cp%3Aall&amp;answer=0\" onclick=\"return goOtherCR(this, 'a=kin*k.word&amp;r=&amp;i=&amp;u=javascript'+urlencode(this.href));\" role=\"button\">오류</a> <a class=\"spnkin_bf tag\" href=\"?where=kin&amp;query=%ED%8C%8C%EC%9D%B4%EC%8D%AC %EC%BD%94%EB%93%9C&amp;nso=so%3Ar%2Ca%3Aall%2Cp%3Aall&amp;answer=0\" onclick=\"return goOtherCR(this, 'a=kin*k.word&amp;r=&amp;i=&amp;u=javascript'+urlencode(this.href));\" role=\"button\">코드</a> </div> </div> </div>,\n",
       " <div class=\"kin_wrap api_ani_send\"> <div class=\"question_area\"> <i class=\"spnew api_ico_q\">Q</i> <div class=\"api_save_group _keep_wrap\"> <a aria-pressed=\"false\" class=\"btn_save _keep_trigger\" data-cr-off=\"a=kin*k.kep&amp;r=2&amp;i=10000009_0000193b3b13&amp;u=javascript\" data-cr-on=\"a=kin*k.kep&amp;r=2&amp;i=10000009_0000193b3b13&amp;u=javascript\" data-url=\"https://kin.naver.com/qna/detail.naver?dirId=10402&amp;docId=423312147\" href=\"#\" role=\"button\"><i class=\"spnew ico_save\">문서 저장하기</i></a> <div class=\"api_ly_save _keep_save_layer\"> <a class=\"spnew_af item item_save _keep_save\" data-cr-off=\"a=kin*k.kepoff&amp;r=2&amp;i=10000009_0000193b3b13&amp;u=javascript\" data-cr-on=\"a=kin*k.kepon&amp;r=2&amp;i=10000009_0000193b3b13&amp;u=javascript\" href=\"#\" role=\"button\">Keep에 저장</a> <a class=\"spnew_af item item_quick\" href=\"https://keep.naver.com/\" onclick=\"return goOtherCR(this, 'a=kin*k.kephome&amp;r=&amp;i=&amp;u=javascript'+urlencode(this.href));\" target=\"_blank\">Keep 바로가기</a> </div> </div> <div class=\"question_group\"> <a class=\"api_txt_lines question_text\" href=\"https://kin.naver.com/qna/detail.naver?d1id=1&amp;dirId=10402&amp;docId=423312147&amp;qb=7YyM7J207I2s&amp;enc=utf8§ion=kin.ext&amp;rank=2&amp;search_sort=0&amp;spq=0\" onclick=\"return goOtherCR(this,'a=kin*k.question&amp;r=2&amp;i=10000009_0000193b3b13&amp;u='+urlencode(this.href));\" target=\"_blank\"><mark>파이썬</mark> 인티저 <mark>파이썬</mark>에 인티저가 input인가요?? input 줄인게 int 맞나요??</a> </div> </div> <div class=\"answer_area\"> <div class=\"profile_group\"> <a class=\"spnkin_af btn_consult\" href=\"https://m.expert.naver.com/expert/profile/home?storeId=100009714\" onclick=\"return goOtherCR(this,'a=kin*k.expert&amp;r=2&amp;i=10000009_0000193b3b13&amp;u='+urlencode(this.href));\" role=\"button\" target=\"_blank\"> <i class=\"spnew api_ico_expert_link\">expert</i>와 상담 </a> <a class=\"profile_link\" href=\"https://m.expert.naver.com/expert/profile/home?storeId=100009714\" onclick=\"return goOtherCR(this,'a=kin*k.expertprofile&amp;r=2&amp;i=10000009_0000193b3b13&amp;u='+urlencode(this.href));\" target=\"_blank\"> <i class=\"spnew api_ico_a\">A</i> <span class=\"thumb\"><img alt=\"\" class=\"img\" height=\"22\" onerror=\"this.src='data:image/gif;base64,R0lGODlhAQABAIAAAAAAAP///yH5BAEAAAAALAAAAAABAAEAAAIBRAA7';this.className='bg_npimg'\" src=\"https://search.pstatic.net/common/?src=https%3A%2F%2Fkin-phinf.pstatic.net%2F20210428_163%2F1619587271182kOkt4_JPEG%2FKakaoTalk_20210211_203410836.jpg%3Ftype%3Df360_360&amp;type=f44_44\" width=\"22\"/></span> <div class=\"info_box\"> <div class=\"info_box_inner\"> <span class=\"sub_info\"> <span class=\"expert type_category\">코딩/IT개발</span><span class=\"category\">코딩/IT개발</span> </span> <span class=\"name\">폴리글랏</span> </div> </div> </a> </div> <div class=\"expert_group _svp_content\"> <div class=\"info_wrap elss\"> <a class=\"info product\" href=\"https://m.expert.naver.com/expert/profile/home?storeId=100009714\" target=\"_blank\">스프링 관련 프로젝트에 대한 수정 및 원격 지원</a> <a class=\"info rating\" href=\"https://m.expert.naver.com/expert/profile/home?storeId=100009714\" onclick=\"return goOtherCR(this, 'a=kin*k.expertprofile&amp;r=2&amp;i=10000009_0000193b3b13&amp;u=javascript'+urlencode(this.href));\" target=\"_blank\"><i class=\"spnew api_ico_star_solo\">별점</i><span class=\"score\">4.7</span><span class=\"count\">상담 17</span></a> <a class=\"info txt\" href=\"https://m.expert.naver.com/expert/profile/home?storeId=100009714\" onclick=\"return goOtherCR(this, 'a=kin*k.expertprofile&amp;r=2&amp;i=10000009_0000193b3b13&amp;u=javascript'+urlencode(this.href));\" target=\"_blank\">바로응답</a> </div> </div> <div class=\"answer_group\"> <a class=\"api_txt_lines answer_text\" href=\"https://kin.naver.com/qna/detail.naver?d1id=1&amp;dirId=10402&amp;docId=423312147&amp;qb=7YyM7J207I2s&amp;enc=utf8§ion=kin.ext&amp;rank=2&amp;search_sort=0&amp;spq=0\" onclick=\"return goOtherCR(this, 'a=kin*k.answer&amp;r=2&amp;i=10000009_0000193b3b13&amp;u=javascript'+urlencode(this.href));\" target=\"_blank\"><mark>파이썬</mark>의 인티저는 그냥 int일텐데요 input은 키보드로 입력받는 표준 입력 함수입니다. 리턴형은 str이구요. input으로 입력받은 값을 int로 변환하려면 int 함수를 사용하면 됩니다. n = int(input(\"숫자 입력 &gt;&gt; \")) https://codetorial.net/tips_and_examples/int...</a> <div class=\"elss desc_group\"> <span class=\"desc\">2022.07.06.</span> </div> </div> </div> <div class=\"api_pcpg_wrap cluster_scroll_wrap _au_kin_lazy_component\" data-component-type=\"cluster\"> <div class=\"api_flicking_wrap _flicking\"> <div class=\"flick_bx flick_width\"> <div class=\"cluster_wrap\"> <a class=\"cluster_item\" href=\"https://kin.naver.com/qna/detail.naver?d1id=10&amp;dirId=100507&amp;docId=416921989&amp;qb=7YyM7J207I2s&amp;enc=utf8§ion=kin.ext&amp;rank=2&amp;search_sort=0&amp;spq=0\" onclick=\"return goOtherCR(this, 'a=kin*k.question2&amp;r=2&amp;i=10000009_000018d9b985_1&amp;u=javascript'+urlencode(this.href));\" target=\"_blank\"> <strong class=\"api_txt_lines title\"> <i class=\"spnew api_ico_q2\">Q</i><mark>파이썬</mark>으로 다항식 <mark>파이썬</mark>에서 input으로 숫자를 받아서 그에 맞는 다항식을 만들려고 합니다 1,2,3을 받으면 x^3+2*x^2+3 이런 식으로 표현하고 싶은데 input에 숫자가 많아지면 차수가 그만큼 올라가야 하는데 그걸 표현을 못하겠습니다... </strong> <div class=\"dsc\">2022.04.12.</div> </a> </div> </div> </div> <div class=\"api_btn_page type_inside type_small\"> <div class=\"btn_prev\"><a class=\"btn _prev\" href=\"#\" onclick=\"tCR('a=kin*k.frk&amp;r=&amp;i=&amp;u=javascript');return false;\" role=\"button\" style=\"display:none\"><i class=\"spnew ico_arr\">이전</i></a></div> <div class=\"btn_next\"><a class=\"btn _next\" href=\"#\" onclick=\"tCR('a=kin*k.frk&amp;r=&amp;i=&amp;u=javascript');return false;\" role=\"button\" style=\"display:none\"><i class=\"spnew ico_arr\">다음</i></a></div> </div> </div> <div class=\"total_tag_wrap\"> <div class=\"elss total_tag_area\"> <span class=\"tag_title\">관련</span> <a class=\"spnkin_bf tag\" href=\"?where=kin&amp;query=%ED%8C%8C%EC%9D%B4%EC%8D%AC input&amp;nso=so%3Ar%2Ca%3Aall%2Cp%3Aall&amp;answer=0\" onclick=\"return goOtherCR(this, 'a=kin*k.word&amp;r=&amp;i=&amp;u=javascript'+urlencode(this.href));\" role=\"button\">input</a> </div> </div> </div>,\n",
       " <div class=\"kin_wrap api_ani_send\"> <div class=\"question_area\"> <i class=\"spnew api_ico_q\">Q</i> <div class=\"api_save_group _keep_wrap\"> <a aria-pressed=\"false\" class=\"btn_save _keep_trigger\" data-cr-off=\"a=kin*k.kep&amp;r=3&amp;i=10000009_000019539a7c&amp;u=javascript\" data-cr-on=\"a=kin*k.kep&amp;r=3&amp;i=10000009_000019539a7c&amp;u=javascript\" data-url=\"https://kin.naver.com/qna/detail.naver?dirId=10402&amp;docId=424909436\" href=\"#\" role=\"button\"><i class=\"spnew ico_save\">문서 저장하기</i></a> <div class=\"api_ly_save _keep_save_layer\"> <a class=\"spnew_af item item_save _keep_save\" data-cr-off=\"a=kin*k.kepoff&amp;r=3&amp;i=10000009_000019539a7c&amp;u=javascript\" data-cr-on=\"a=kin*k.kepon&amp;r=3&amp;i=10000009_000019539a7c&amp;u=javascript\" href=\"#\" role=\"button\">Keep에 저장</a> <a class=\"spnew_af item item_quick\" href=\"https://keep.naver.com/\" onclick=\"return goOtherCR(this, 'a=kin*k.kephome&amp;r=&amp;i=&amp;u=javascript'+urlencode(this.href));\" target=\"_blank\">Keep 바로가기</a> </div> </div> <div class=\"question_group\"> <a class=\"api_txt_lines question_text\" href=\"https://kin.naver.com/qna/detail.naver?d1id=1&amp;dirId=10402&amp;docId=424909436&amp;qb=7YyM7J207I2s&amp;enc=utf8§ion=kin.ext&amp;rank=3&amp;search_sort=0&amp;spq=0\" onclick=\"return goOtherCR(this,'a=kin*k.question&amp;r=3&amp;i=10000009_000019539a7c&amp;u='+urlencode(this.href));\" target=\"_blank\"><mark>파이썬</mark>? 파이참? 파이참, <mark>파이썬</mark> 둘 다 설치했는데 파이참 용량이 너무 커서요 삭제하려고 하는데 <mark>파이썬</mark> 하나만 있어도 똑같이 사용가능한건가요?</a> </div> </div> <div class=\"answer_area\"> <div class=\"profile_group\"> <a class=\"btn_talk\" href=\"https://kin.naver.com/search/one2oneLink?dirId=10402&amp;docId=424909436&amp;answerNo=3\" onclick=\"return goOtherCR(this,'a=kin*k.individual&amp;r=3&amp;i=10000009_000019539a7c&amp;u='+urlencode(this.href));\" role=\"button\" target=\"_blank\"><i class=\"spnew api_ico_talk\"></i>1:1</a> <a class=\"profile_link\" href=\"https://kin.naver.com/search/profileLink?dirId=10402&amp;docId=424909436&amp;answerNo=3\" onclick=\"return goOtherCR(this,'a=kin*k.profile&amp;r=3&amp;i=10000009_000019539a7c&amp;u='+urlencode(this.href));\" target=\"_blank\"> <i class=\"spnew api_ico_a\">A</i> <span class=\"thumb\"><img alt=\"\" class=\"img\" height=\"22\" onerror=\"this.src='data:image/gif;base64,R0lGODlhAQABAIAAAAAAAP///yH5BAEAAAAALAAAAAABAAEAAAIBRAA7';this.className='bg_npimg'\" src=\"https://search.pstatic.net/common/?src=https%3A%2F%2Fkin-phinf.pstatic.net%2F20220524_6%2F1653356848180GUGIk_JPEG%2FKakaoTalk_20220524_103932324.jpg&amp;type=f44_44\" width=\"22\"/></span> <div class=\"info_box\"> <div class=\"info_box_inner\"> <span class=\"name\">JHeaon</span> </div> </div> </a> </div> <div class=\"answer_group\"> <a class=\"api_txt_lines answer_text\" href=\"https://kin.naver.com/qna/detail.naver?d1id=1&amp;dirId=10402&amp;docId=424909436&amp;qb=7YyM7J207I2s&amp;enc=utf8§ion=kin.ext&amp;rank=3&amp;search_sort=0&amp;spq=0\" onclick=\"return goOtherCR(this, 'a=kin*k.answer&amp;r=3&amp;i=10000009_000019539a7c&amp;u=javascript'+urlencode(this.href));\" target=\"_blank\">파이참은 텍스트 에디터에요! 용량이 크면 다른 텍스트 에디터 사용하시면 됩니다. <mark>파이썬</mark> 하나만 있으셔도 자체적으로 사용 가능합니다.</a> <div class=\"elss desc_group\"> <span class=\"desc\">2022.07.30.</span> </div> </div> </div> <div class=\"api_pcpg_wrap cluster_scroll_wrap _au_kin_lazy_component\" data-component-type=\"cluster\"> <div class=\"api_flicking_wrap _flicking\"> <div class=\"flick_bx flick_width\"> <div class=\"cluster_wrap\"> <a class=\"cluster_item\" href=\"https://kin.naver.com/qna/detail.naver?d1id=1&amp;dirId=10402&amp;docId=423266753&amp;qb=7YyM7J207I2s&amp;enc=utf8§ion=kin.ext&amp;rank=3&amp;search_sort=0&amp;spq=0\" onclick=\"return goOtherCR(this, 'a=kin*k.question2&amp;r=3&amp;i=10000009_0000193a89c1_2&amp;u=javascript'+urlencode(this.href));\" target=\"_blank\"> <strong class=\"api_txt_lines title\"> <i class=\"spnew api_ico_q2\">Q</i><mark>파이썬</mark> 설치후 실행하려니 이런 문구가 뜨는데요 Fatal Python error: Py_Initialize: unable to load the file system codec ModuleNotFoundError: No module named 'encodings' Current thread 0x00000958 (most recent call first): 어떻게 하면 <mark>파이썬</mark> 프로그램을 제대로 실행할수 있나요? </strong> <div class=\"dsc\">2022.07.06.</div> </a> </div> </div> </div> <div class=\"api_btn_page type_inside type_small\"> <div class=\"btn_prev\"><a class=\"btn _prev\" href=\"#\" onclick=\"tCR('a=kin*k.frk&amp;r=&amp;i=&amp;u=javascript');return false;\" role=\"button\" style=\"display:none\"><i class=\"spnew ico_arr\">이전</i></a></div> <div class=\"btn_next\"><a class=\"btn _next\" href=\"#\" onclick=\"tCR('a=kin*k.frk&amp;r=&amp;i=&amp;u=javascript');return false;\" role=\"button\" style=\"display:none\"><i class=\"spnew ico_arr\">다음</i></a></div> </div> </div> <div class=\"total_tag_wrap\"> <div class=\"elss total_tag_area\"> <span class=\"tag_title\">관련</span> <a class=\"spnkin_bf tag\" href=\"?where=kin&amp;query=%ED%8C%8C%EC%9D%B4%EC%8D%AC %EC%84%A4%EC%B9%98&amp;nso=so%3Ar%2Ca%3Aall%2Cp%3Aall&amp;answer=0\" onclick=\"return goOtherCR(this, 'a=kin*k.word&amp;r=&amp;i=&amp;u=javascript'+urlencode(this.href));\" role=\"button\">설치</a> </div> </div> </div>,\n",
       " <div class=\"kin_wrap api_ani_send\"> <div class=\"question_area\"> <i class=\"spnew api_ico_q\">Q</i> <div class=\"api_save_group _keep_wrap\"> <a aria-pressed=\"false\" class=\"btn_save _keep_trigger\" data-cr-off=\"a=kin*k.kep&amp;r=4&amp;i=10000009_0000144621c8&amp;u=javascript\" data-cr-on=\"a=kin*k.kep&amp;r=4&amp;i=10000009_0000144621c8&amp;u=javascript\" data-url=\"https://kin.naver.com/qna/detail.naver?dirId=110209&amp;docId=340140488\" href=\"#\" role=\"button\"><i class=\"spnew ico_save\">문서 저장하기</i></a> <div class=\"api_ly_save _keep_save_layer\"> <a class=\"spnew_af item item_save _keep_save\" data-cr-off=\"a=kin*k.kepoff&amp;r=4&amp;i=10000009_0000144621c8&amp;u=javascript\" data-cr-on=\"a=kin*k.kepon&amp;r=4&amp;i=10000009_0000144621c8&amp;u=javascript\" href=\"#\" role=\"button\">Keep에 저장</a> <a class=\"spnew_af item item_quick\" href=\"https://keep.naver.com/\" onclick=\"return goOtherCR(this, 'a=kin*k.kephome&amp;r=&amp;i=&amp;u=javascript'+urlencode(this.href));\" target=\"_blank\">Keep 바로가기</a> </div> </div> <div class=\"question_group\"> <a class=\"api_txt_lines question_text\" href=\"https://kin.naver.com/qna/detail.naver?d1id=11&amp;dirId=110209&amp;docId=340140488&amp;qb=7YyM7J207I2s&amp;enc=utf8§ion=kin.ext&amp;rank=4&amp;search_sort=0&amp;spq=0\" onclick=\"return goOtherCR(this,'a=kin*k.question&amp;r=4&amp;i=10000009_0000144621c8&amp;u='+urlencode(this.href));\" target=\"_blank\">강남<mark>파이썬</mark>학원 추천좀 부탁해요!! ... 해외에서 <mark>파이썬</mark>이 뜬다고 하더라고요? 친구들 말로는 자바와 씨언어가 아직 많이 쓰이는데 <mark>파이썬</mark>이 장기적으로... 강남<mark>파이썬</mark>학원 찾습니다. 아 그리고 혹시나 강남<mark>파이썬</mark>학원을 통해 미래에 해외쪽도... 혹시 알아요 나중에 해외로 나가게 될지 ㅋㅋ 하여튼 좋은 강남<mark>파이썬</mark>학원 부탁합니다!</a> </div> </div> <div class=\"answer_area type_single\"> <a class=\"thumb_single type_video _svp_trigger _svp_content\" data-api=\"https://s.search.naver.com/p/videosearch/search.naver?where=playinfo&amp;type=nmv&amp;key=IggCAAmCULgVAAAAIb5%2B15tk2WrLZa47Dl6nfizDsFqGrqnqGlaTS8FgMT20MYoCBdYkz12eBONK5m5Z\" data-auto-play=\"true\" data-error-redirect-url=\"https://kin.naver.com/qna/detail.naver?d1id=11&amp;dirId=110209&amp;docId=340140488&amp;qb=7YyM7J207I2s&amp;enc=utf8§ion=kin.ext&amp;rank=4&amp;search_sort=0&amp;spq=0\" data-is-visible-close-btn=\"true\" data-source=\"kin\" href=\"javascript:;\" onclick=\"tCR('a=kin*k.trigger&amp;r=4&amp;i=10000009_0000144621c8&amp;u=javascript');\"> <span class=\"thumb_fix\"> <img alt=\"\" class=\"thumb api_get\" height=\"94\" src=\"https://search.pstatic.net/common/?src=https%3A%2F%2Fsearch.pstatic.net%2Fcommon%2F%3Fsrc%3Dhttps%253A%252F%252Fphinf.pstatic.net%252Fimage.nmv%252Fkin_2022_08_09_12%252F91a2d7ae-17ae-11ed-8e5e-505dac8c38f5_01.jpg%26type%3Df302_186&amp;type=f278_188\" width=\"139\"/> <i class=\"spnkin ico_video\">동영상 바로재생</i> <span aria-label=\"재생시간\" class=\"thumb_time\"><span aria-label=\"00:00:01\">00:01</span></span> </span> </a> <div class=\"profile_group\"> <a class=\"btn_talk\" href=\"https://kin.naver.com/search/one2oneLink?dirId=110209&amp;docId=340140488&amp;answerNo=7\" onclick=\"return goOtherCR(this,'a=kin*k.individual&amp;r=4&amp;i=10000009_0000144621c8&amp;u='+urlencode(this.href));\" role=\"button\" target=\"_blank\"><i class=\"spnew api_ico_talk\"></i>1:1</a> <a class=\"profile_link\" href=\"https://kin.naver.com/search/profileLink?dirId=110209&amp;docId=340140488&amp;answerNo=7\" onclick=\"return goOtherCR(this,'a=kin*k.profile&amp;r=4&amp;i=10000009_0000144621c8&amp;u='+urlencode(this.href));\" target=\"_blank\"> <i class=\"spnew api_ico_a\">A</i> <span class=\"thumb\"><img alt=\"\" class=\"img\" height=\"22\" onerror=\"this.src='data:image/gif;base64,R0lGODlhAQABAIAAAAAAAP///yH5BAEAAAAALAAAAAABAAEAAAIBRAA7';this.className='bg_npimg'\" src=\"https://search.pstatic.net/common/?src=https%3A%2F%2Fkin-phinf.pstatic.net%2F20210908_64%2F1631088637776HnKtc_JPEG%2FKakaoTalk_20210902_091208597_06.jpg&amp;type=f44_44\" width=\"22\"/></span> <div class=\"info_box\"> <div class=\"info_box_inner\"> <span class=\"name\">수정쌤 010 4435 6165</span> </div> </div> </a> </div> <div class=\"video_common_player_wrap _svp_target\"></div> <div class=\"answer_group\"> <a class=\"api_txt_lines answer_text\" href=\"https://kin.naver.com/qna/detail.naver?d1id=11&amp;dirId=110209&amp;docId=340140488&amp;qb=7YyM7J207I2s&amp;enc=utf8§ion=kin.ext&amp;rank=4&amp;search_sort=0&amp;spq=0\" onclick=\"return goOtherCR(this, 'a=kin*k.answer&amp;r=4&amp;i=10000009_0000144621c8&amp;u=javascript'+urlencode(this.href));\" target=\"_blank\">안녕하세요 강남 <mark>파이썬</mark> 학원 추천 희망하시는데 저희가 도와드리겠습니다. 저희는 유아부터 초등학생 중학생 고등학생 성인 코딩을 배우고싶으신 분들 누구나 코딩을 배울 수 있습니다. 요즘 학교에서도 학생의 사고력 논리력 창의력 증진을 위해 코딩교육을 의무화하고있습니다. 그러면서 많은...</a> <div class=\"elss desc_group\"> <span class=\"desc\">어제</span> </div> </div> </div> <div class=\"api_pcpg_wrap cluster_scroll_wrap _au_kin_lazy_component\" data-component-type=\"cluster\"> <div class=\"api_flicking_wrap _flicking\"> <div class=\"flick_bx flick_width\"> <div class=\"cluster_wrap\"> <a class=\"cluster_item\" href=\"https://kin.naver.com/qna/detail.naver?d1id=4&amp;dirId=40608&amp;docId=418086450&amp;qb=7YyM7J207I2s&amp;enc=utf8§ion=kin.ext&amp;rank=4&amp;search_sort=0&amp;spq=0\" onclick=\"return goOtherCR(this, 'a=kin*k.question2&amp;r=4&amp;i=10000009_000018eb7e32_3&amp;u=javascript'+urlencode(this.href));\" target=\"_blank\"> <strong class=\"api_txt_lines title\"> <i class=\"spnew api_ico_q2\">Q</i>해외 SW개발자 <mark>파이썬</mark> VS C언어 안녕하세요 저는 컴공과 졸업 후 해외에서 SW개발자로 취업을 꿈 꾸고 있는 학생입니다 다름 아니라 SW개발자란 꿈을 이루기 위해 <mark>파이썬</mark> C언어 중 공부할 언어를 고민하고 있는데 해외에서 취업이 더 쉽고 유용한 언어로 추천 부탁 드립니다 </strong> <div class=\"dsc\">2022.04.26.</div> </a> </div> </div> </div> <div class=\"api_btn_page type_inside type_small\"> <div class=\"btn_prev\"><a class=\"btn _prev\" href=\"#\" onclick=\"tCR('a=kin*k.frk&amp;r=&amp;i=&amp;u=javascript');return false;\" role=\"button\" style=\"display:none\"><i class=\"spnew ico_arr\">이전</i></a></div> <div class=\"btn_next\"><a class=\"btn _next\" href=\"#\" onclick=\"tCR('a=kin*k.frk&amp;r=&amp;i=&amp;u=javascript');return false;\" role=\"button\" style=\"display:none\"><i class=\"spnew ico_arr\">다음</i></a></div> </div> </div> <div class=\"total_tag_wrap\"> <div class=\"elss total_tag_area\"> <span class=\"tag_title\">관련</span> <a class=\"spnkin_bf tag\" href=\"?where=kin&amp;query=%ED%8C%8C%EC%9D%B4%EC%8D%AC %ED%95%B4%EC%99%B8&amp;nso=so%3Ar%2Ca%3Aall%2Cp%3Aall&amp;answer=0\" onclick=\"return goOtherCR(this, 'a=kin*k.word&amp;r=&amp;i=&amp;u=javascript'+urlencode(this.href));\" role=\"button\">해외</a> <a class=\"spnkin_bf tag\" href=\"?where=kin&amp;query=%ED%8C%8C%EC%9D%B4%EC%8D%AC %EC%96%B8%EC%96%B4&amp;nso=so%3Ar%2Ca%3Aall%2Cp%3Aall&amp;answer=0\" onclick=\"return goOtherCR(this, 'a=kin*k.word&amp;r=&amp;i=&amp;u=javascript'+urlencode(this.href));\" role=\"button\">언어</a> <a class=\"spnkin_bf tag\" href=\"?where=kin&amp;query=%ED%8C%8C%EC%9D%B4%EC%8D%AC %EC%B6%94%EC%B2%9C&amp;nso=so%3Ar%2Ca%3Aall%2Cp%3Aall&amp;answer=0\" onclick=\"return goOtherCR(this, 'a=kin*k.word&amp;r=&amp;i=&amp;u=javascript'+urlencode(this.href));\" role=\"button\">추천</a> <a class=\"spnkin_bf tag\" href=\"?where=kin&amp;query=%ED%8C%8C%EC%9D%B4%EC%8D%AC %EA%B3%B5%EB%B6%80&amp;nso=so%3Ar%2Ca%3Aall%2Cp%3Aall&amp;answer=0\" onclick=\"return goOtherCR(this, 'a=kin*k.word&amp;r=&amp;i=&amp;u=javascript'+urlencode(this.href));\" role=\"button\">공부</a> </div> </div> </div>,\n",
       " <div class=\"kin_wrap api_ani_send\"> <div class=\"question_area\"> <i class=\"spnew api_ico_q\">Q</i> <div class=\"api_save_group _keep_wrap\"> <a aria-pressed=\"false\" class=\"btn_save _keep_trigger\" data-cr-off=\"a=kin*k.kep&amp;r=5&amp;i=10000009_00001573a5f6&amp;u=javascript\" data-cr-on=\"a=kin*k.kep&amp;r=5&amp;i=10000009_00001573a5f6&amp;u=javascript\" data-url=\"https://kin.naver.com/qna/detail.naver?dirId=40608&amp;docId=359900662\" href=\"#\" role=\"button\"><i class=\"spnew ico_save\">문서 저장하기</i></a> <div class=\"api_ly_save _keep_save_layer\"> <a class=\"spnew_af item item_save _keep_save\" data-cr-off=\"a=kin*k.kepoff&amp;r=5&amp;i=10000009_00001573a5f6&amp;u=javascript\" data-cr-on=\"a=kin*k.kepon&amp;r=5&amp;i=10000009_00001573a5f6&amp;u=javascript\" href=\"#\" role=\"button\">Keep에 저장</a> <a class=\"spnew_af item item_quick\" href=\"https://keep.naver.com/\" onclick=\"return goOtherCR(this, 'a=kin*k.kephome&amp;r=&amp;i=&amp;u=javascript'+urlencode(this.href));\" target=\"_blank\">Keep 바로가기</a> </div> </div> <div class=\"question_group\"> <a class=\"api_txt_lines question_text\" href=\"https://kin.naver.com/qna/detail.naver?d1id=4&amp;dirId=40608&amp;docId=359900662&amp;qb=7YyM7J207I2s&amp;enc=utf8§ion=kin.ext&amp;rank=5&amp;search_sort=0&amp;spq=0\" onclick=\"return goOtherCR(this,'a=kin*k.question&amp;r=5&amp;i=10000009_00001573a5f6&amp;u='+urlencode(this.href));\" target=\"_blank\"><mark>파이썬</mark> 국비지원 현재 프로그래밍에 대한 기초가 하나도 없고 일을 하고 있는데 온라인으로 <mark>파이썬</mark> 교육을 듣고싶은데 국비지원으로 할수 있나요?? 대략 능숙하게 사용하려면 어느정도 기간이 걸리는지 궁금합니다 ㅜㅜ!</a> </div> </div> <div class=\"answer_area\"> <div class=\"profile_group\"> <a class=\"btn_talk\" href=\"https://kin.naver.com/search/one2oneLink?dirId=40608&amp;docId=359900662&amp;answerNo=9\" onclick=\"return goOtherCR(this,'a=kin*k.individual&amp;r=5&amp;i=10000009_00001573a5f6&amp;u='+urlencode(this.href));\" role=\"button\" target=\"_blank\"><i class=\"spnew api_ico_talk\"></i>1:1</a> <a class=\"profile_link\" href=\"https://kin.naver.com/search/profileLink?dirId=40608&amp;docId=359900662&amp;answerNo=9\" onclick=\"return goOtherCR(this,'a=kin*k.profile&amp;r=5&amp;i=10000009_00001573a5f6&amp;u='+urlencode(this.href));\" target=\"_blank\"> <i class=\"spnew api_ico_a\">A</i> <span class=\"thumb\"><img alt=\"\" class=\"img\" height=\"22\" onerror=\"this.src='data:image/gif;base64,R0lGODlhAQABAIAAAAAAAP///yH5BAEAAAAALAAAAAABAAEAAAIBRAA7';this.className='bg_npimg'\" src=\"https://search.pstatic.net/common/?src=https%3A%2F%2Fkin-phinf.pstatic.net%2F20180607_59%2F1528351870337P0pED_JPEG%2FKakaoTalk_20180601_133108911.jpg&amp;type=f44_44\" width=\"22\"/></span> <div class=\"info_box\"> <div class=\"info_box_inner\"> <span class=\"sub_info\"> <span class=\"expert\">태양신</span> </span> <span class=\"name\">한국IT재단국비마스터</span> </div> </div> </a> </div> <div class=\"answer_group\"> <a class=\"api_txt_lines answer_text\" href=\"https://kin.naver.com/qna/detail.naver?d1id=4&amp;dirId=40608&amp;docId=359900662&amp;qb=7YyM7J207I2s&amp;enc=utf8§ion=kin.ext&amp;rank=5&amp;search_sort=0&amp;spq=0\" onclick=\"return goOtherCR(this, 'a=kin*k.answer&amp;r=5&amp;i=10000009_00001573a5f6&amp;u=javascript'+urlencode(this.href));\" target=\"_blank\">안녕하세요 질문자님~ <mark>파이썬</mark> 과정 현재 국비과정으로 많은 과정들이 운영되고 있습니다. 1차적으로 HRD-NET에서 확인하시면 되시고, 국비지원에... 또한 어떤 목적으로 <mark>파이썬</mark>을 공부하는냐에 따라 숙련도의 기간은 다르지만 국비지원과정의 경우에는 대부분이 취업선까지의 실력을 기르는데...</a> <div class=\"elss desc_group\"> <span class=\"desc\">2022.07.15.</span> </div> </div> </div> <div class=\"api_pcpg_wrap cluster_scroll_wrap _au_kin_lazy_component\" data-component-type=\"cluster\"> <div class=\"api_flicking_wrap _flicking\"> <div class=\"flick_bx\"> <div class=\"cluster_wrap\"> <a class=\"cluster_item\" href=\"https://kin.naver.com/qna/detail.naver?d1id=1&amp;dirId=10406&amp;docId=412887820&amp;qb=7YyM7J207I2s&amp;enc=utf8§ion=kin.ext&amp;rank=5&amp;search_sort=0&amp;spq=0\" onclick=\"return goOtherCR(this, 'a=kin*k.question2&amp;r=5&amp;i=10000009_0000189c2b0c_4&amp;u=javascript'+urlencode(this.href));\" target=\"_blank\"> <strong class=\"api_txt_lines title\"> <i class=\"spnew api_ico_q2\">Q</i><mark>파이썬</mark> 기초 쉬운가요? <mark>파이썬</mark> 기초 난이도가 어떤편인가요? 제가 <mark>파이썬</mark> 기초를 좀 배워볼까 하는데 찾아보니까 <mark>파이썬</mark> 기초 쉽다고 하시는분도 있고 그렇지 않다고... 제가 <mark>파이썬</mark> 기초에 대해 배워본적은 없어서 쉽지 않다면 도와줄곳을 알아본후에 <mark>파이썬</mark> 기초 배워볼까 하는데요. 기초부터 도와줄곳은 어떻게... </strong> <div class=\"dsc\">2022.06.27.</div> </a> </div> </div> <div class=\"flick_bx\"> <div class=\"cluster_wrap\"> <a class=\"cluster_item\" href=\"https://kin.naver.com/qna/detail.naver?d1id=1&amp;dirId=10402&amp;docId=422155424&amp;qb=7YyM7J207I2s&amp;enc=utf8§ion=kin.ext&amp;rank=5&amp;search_sort=0&amp;spq=0\" onclick=\"return goOtherCR(this, 'a=kin*k.question2&amp;r=5&amp;i=10000009_0000192994a0_1&amp;u=javascript'+urlencode(this.href));\" target=\"_blank\"> <strong class=\"api_txt_lines title\"> <i class=\"spnew api_ico_q2\">Q</i><mark>파이썬</mark> 질문 ㅠㅠ <mark>파이썬</mark> 기초대사량아로 해보려는데 어려워서 질문 드립니다!! if문과 방복문을 사용하여 만드려는데 어떻게 만드는데 어떻게 하나요?? 설명하기 쉽게 만들어 주시면 감사합니다 설명도 자세히 부탁드려요!! </strong> <div class=\"dsc\">2022.06.20.</div> </a> </div> </div> </div> <div class=\"api_btn_page type_inside type_small\"> <div class=\"btn_prev\"><a class=\"btn _prev\" href=\"#\" onclick=\"tCR('a=kin*k.frk&amp;r=&amp;i=&amp;u=javascript');return false;\" role=\"button\" style=\"display:none\"><i class=\"spnew ico_arr\">이전</i></a></div> <div class=\"btn_next\"><a class=\"btn _next\" href=\"#\" onclick=\"tCR('a=kin*k.frk&amp;r=&amp;i=&amp;u=javascript');return false;\" role=\"button\" style=\"display:none\"><i class=\"spnew ico_arr\">다음</i></a></div> </div> </div> <div class=\"total_tag_wrap\"> <div class=\"elss total_tag_area\"> <span class=\"tag_title\">관련</span> <a class=\"spnkin_bf tag\" href=\"?where=kin&amp;query=%ED%8C%8C%EC%9D%B4%EC%8D%AC %EA%B8%B0%EC%B4%88&amp;nso=so%3Ar%2Ca%3Aall%2Cp%3Aall&amp;answer=0\" onclick=\"return goOtherCR(this, 'a=kin*k.word&amp;r=&amp;i=&amp;u=javascript'+urlencode(this.href));\" role=\"button\">기초</a> </div> </div> </div>,\n",
       " <div class=\"kin_wrap api_ani_send\"> <div class=\"question_area\"> <i class=\"spnew api_ico_q\">Q</i> <div class=\"api_save_group _keep_wrap\"> <a aria-pressed=\"false\" class=\"btn_save _keep_trigger\" data-cr-off=\"a=kin*k.kep&amp;r=6&amp;i=10000009_0000195df3c0&amp;u=javascript\" data-cr-on=\"a=kin*k.kep&amp;r=6&amp;i=10000009_0000195df3c0&amp;u=javascript\" data-url=\"https://kin.naver.com/qna/detail.naver?dirId=40608&amp;docId=425587648\" href=\"#\" role=\"button\"><i class=\"spnew ico_save\">문서 저장하기</i></a> <div class=\"api_ly_save _keep_save_layer\"> <a class=\"spnew_af item item_save _keep_save\" data-cr-off=\"a=kin*k.kepoff&amp;r=6&amp;i=10000009_0000195df3c0&amp;u=javascript\" data-cr-on=\"a=kin*k.kepon&amp;r=6&amp;i=10000009_0000195df3c0&amp;u=javascript\" href=\"#\" role=\"button\">Keep에 저장</a> <a class=\"spnew_af item item_quick\" href=\"https://keep.naver.com/\" onclick=\"return goOtherCR(this, 'a=kin*k.kephome&amp;r=&amp;i=&amp;u=javascript'+urlencode(this.href));\" target=\"_blank\">Keep 바로가기</a> </div> </div> <div class=\"question_group\"> <a class=\"api_txt_lines question_text\" href=\"https://kin.naver.com/qna/detail.naver?d1id=4&amp;dirId=40608&amp;docId=425587648&amp;qb=7YyM7J207I2s&amp;enc=utf8§ion=kin.ext&amp;rank=6&amp;search_sort=0&amp;spq=0\" onclick=\"return goOtherCR(this,'a=kin*k.question&amp;r=6&amp;i=10000009_0000195df3c0&amp;u='+urlencode(this.href));\" target=\"_blank\"><mark>파이썬</mark>독학으로 배우기 빅데이터에 관심이 있는데 이 분야에서는 <mark>파이썬</mark>을 알아야 한다더라고요 그래서 <mark>파이썬</mark>독학해볼까 생각하고 있는데 혼자 <mark>파이썬</mark>배우기 괜찮을까... 인강보고 <mark>파이썬</mark>배우기 가능한지 알고싶고요 <mark>파이썬</mark>독학이 가능하다면 어떤 인강을 이용하면 되는지도 알고싶어요 답변 부탁드려요... </a> </div> </div> <div class=\"answer_area\"> <div class=\"profile_group\"> <a class=\"btn_talk\" href=\"https://kin.naver.com/search/one2oneLink?dirId=40608&amp;docId=425587648&amp;answerNo=2\" onclick=\"return goOtherCR(this,'a=kin*k.individual&amp;r=6&amp;i=10000009_0000195df3c0&amp;u='+urlencode(this.href));\" role=\"button\" target=\"_blank\"><i class=\"spnew api_ico_talk\"></i>1:1</a> <a class=\"profile_link\" href=\"https://kin.naver.com/search/profileLink?dirId=40608&amp;docId=425587648&amp;answerNo=2\" onclick=\"return goOtherCR(this,'a=kin*k.profile&amp;r=6&amp;i=10000009_0000195df3c0&amp;u='+urlencode(this.href));\" target=\"_blank\"> <i class=\"spnew api_ico_a\">A</i> <span class=\"thumb\"><img alt=\"\" class=\"img\" height=\"22\" onerror=\"this.src='data:image/gif;base64,R0lGODlhAQABAIAAAAAAAP///yH5BAEAAAAALAAAAAABAAEAAAIBRAA7';this.className='bg_npimg'\" src=\"https://search.pstatic.net/common/?src=https%3A%2F%2Fkin-phinf.pstatic.net%2F20211011_33%2F16339150919683vj2O_JPEG%2F001.jpg&amp;type=f44_44\" width=\"22\"/></span> <div class=\"info_box\"> <div class=\"info_box_inner\"> <span class=\"name\">공투</span> </div> </div> </a> </div> <div class=\"answer_group\"> <a class=\"api_txt_lines answer_text\" href=\"https://kin.naver.com/qna/detail.naver?d1id=4&amp;dirId=40608&amp;docId=425587648&amp;qb=7YyM7J207I2s&amp;enc=utf8§ion=kin.ext&amp;rank=6&amp;search_sort=0&amp;spq=0\" onclick=\"return goOtherCR(this, 'a=kin*k.answer&amp;r=6&amp;i=10000009_0000195df3c0&amp;u=javascript'+urlencode(this.href));\" target=\"_blank\">... <mark>파이썬</mark> 독학 준비 중이시군요! 우선 빅데이터 분야에 관심이 있다고 하셨는데, 빅데이터 분야에 활용 가능한 프로그래밍 언어가 <mark>파이썬</mark>이라서 <mark>파이썬</mark>을 우선적으로 공부하게 되시는 거구요. <mark>파이썬</mark> 하나만 배운다고 해서 빅데이터 분야로 진출하기에는 어려운 감이...</a> <div class=\"elss desc_group\"> <span class=\"desc\">2일 전</span> </div> </div> </div> <div class=\"api_pcpg_wrap cluster_scroll_wrap _au_kin_lazy_component\" data-component-type=\"cluster\"> <div class=\"api_flicking_wrap _flicking\"> <div class=\"flick_bx flick_width\"> <div class=\"cluster_wrap\"> <a class=\"cluster_item\" href=\"https://kin.naver.com/qna/detail.naver?d1id=1&amp;dirId=10402&amp;docId=425346847&amp;qb=7YyM7J207I2s&amp;enc=utf8§ion=kin.ext&amp;rank=6&amp;search_sort=0&amp;spq=0\" onclick=\"return goOtherCR(this, 'a=kin*k.question2&amp;r=6&amp;i=10000009_0000195a471f_2&amp;u=javascript'+urlencode(this.href));\" target=\"_blank\"> <strong class=\"api_txt_lines title\"> <i class=\"spnew api_ico_q2\">Q</i>영재원 <mark>파이썬</mark> 과제 제가 영재원을 다니는데 중2거든요 근데 <mark>파이썬</mark> 수업만 해도 눈앞이 막막하고 머리가 백지가 되거든요 게다가 <mark>파이썬</mark>으로 데이터 분석해서 ppt로 만드라네요.... 어떻게 해야하죠 바로 오늘까진데 <mark>파이썬</mark>에 관한건 손도 못뎄어요 </strong> <div class=\"dsc\">2022.08.10.</div> </a> </div> </div> </div> <div class=\"api_btn_page type_inside type_small\"> <div class=\"btn_prev\"><a class=\"btn _prev\" href=\"#\" onclick=\"tCR('a=kin*k.frk&amp;r=&amp;i=&amp;u=javascript');return false;\" role=\"button\" style=\"display:none\"><i class=\"spnew ico_arr\">이전</i></a></div> <div class=\"btn_next\"><a class=\"btn _next\" href=\"#\" onclick=\"tCR('a=kin*k.frk&amp;r=&amp;i=&amp;u=javascript');return false;\" role=\"button\" style=\"display:none\"><i class=\"spnew ico_arr\">다음</i></a></div> </div> </div> <div class=\"total_tag_wrap\"> <div class=\"elss total_tag_area\"> <span class=\"tag_title\">관련</span> <a class=\"spnkin_bf tag\" href=\"?where=kin&amp;query=%ED%8C%8C%EC%9D%B4%EC%8D%AC %EB%8D%B0%EC%9D%B4%ED%84%B0&amp;nso=so%3Ar%2Ca%3Aall%2Cp%3Aall&amp;answer=0\" onclick=\"return goOtherCR(this, 'a=kin*k.word&amp;r=&amp;i=&amp;u=javascript'+urlencode(this.href));\" role=\"button\">데이터</a> </div> </div> </div>,\n",
       " <div class=\"kin_wrap api_ani_send\"> <div class=\"question_area\"> <i class=\"spnew api_ico_q\">Q</i> <div class=\"api_save_group _keep_wrap\"> <a aria-pressed=\"false\" class=\"btn_save _keep_trigger\" data-cr-off=\"a=kin*k.kep&amp;r=7&amp;i=10000009_0000192187a4&amp;u=javascript\" data-cr-on=\"a=kin*k.kep&amp;r=7&amp;i=10000009_0000192187a4&amp;u=javascript\" data-url=\"https://kin.naver.com/qna/detail.naver?dirId=10402&amp;docId=421627812\" href=\"#\" role=\"button\"><i class=\"spnew ico_save\">문서 저장하기</i></a> <div class=\"api_ly_save _keep_save_layer\"> <a class=\"spnew_af item item_save _keep_save\" data-cr-off=\"a=kin*k.kepoff&amp;r=7&amp;i=10000009_0000192187a4&amp;u=javascript\" data-cr-on=\"a=kin*k.kepon&amp;r=7&amp;i=10000009_0000192187a4&amp;u=javascript\" href=\"#\" role=\"button\">Keep에 저장</a> <a class=\"spnew_af item item_quick\" href=\"https://keep.naver.com/\" onclick=\"return goOtherCR(this, 'a=kin*k.kephome&amp;r=&amp;i=&amp;u=javascript'+urlencode(this.href));\" target=\"_blank\">Keep 바로가기</a> </div> </div> <div class=\"question_group\"> <a class=\"api_txt_lines question_text\" href=\"https://kin.naver.com/qna/detail.naver?d1id=1&amp;dirId=10402&amp;docId=421627812&amp;qb=7YyM7J207I2s&amp;enc=utf8§ion=kin.ext&amp;rank=7&amp;search_sort=0&amp;spq=0\" onclick=\"return goOtherCR(this,'a=kin*k.question&amp;r=7&amp;i=10000009_0000192187a4&amp;u='+urlencode(this.href));\" target=\"_blank\">고1 정보 <mark>파이썬</mark> 질문 주피터노트북 <mark>파이썬</mark>으로 만들어야되는데 <mark>파이썬</mark>으로 사진에 있는 문제 해결 과정이랑 답 알고싶어요 급해요</a> </div> </div> <div class=\"answer_area type_single\"> <a class=\"thumb_single\" href=\"https://kin.naver.com/qna/detail.naver?d1id=1&amp;dirId=10402&amp;docId=421627812&amp;qb=7YyM7J207I2s&amp;enc=utf8§ion=kin.ext&amp;rank=7&amp;search_sort=0&amp;spq=0\" onclick=\"return goOtherCR(this, 'a=kin*k.image&amp;r=7&amp;i=10000009_0000192187a4&amp;u='+urlencode(this.href));\" target=\"_blank\"> <span class=\"thumb_fix\"><img alt=\"\" class=\"thumb api_get\" height=\"94\" src=\"https://search.pstatic.net/common/?src=https%3A%2F%2Fsearch.pstatic.net%2Fcommon%2F%3Fsrc%3Dhttp%253A%252F%252Fkinimage.naver.net%252F20220613_205%252F16550890939068RwXT_PNG%252Fimage.png%26type%3Df174_174&amp;type=f278_188\" width=\"139\"/></span> </a> <div class=\"profile_group\"> <a class=\"btn_talk\" href=\"https://kin.naver.com/search/one2oneLink?dirId=10402&amp;docId=421627812&amp;answerNo=1\" onclick=\"return goOtherCR(this,'a=kin*k.individual&amp;r=7&amp;i=10000009_0000192187a4&amp;u='+urlencode(this.href));\" role=\"button\" target=\"_blank\"><i class=\"spnew api_ico_talk\"></i>1:1</a> <a class=\"profile_link\" href=\"https://kin.naver.com/search/profileLink?dirId=10402&amp;docId=421627812&amp;answerNo=1\" onclick=\"return goOtherCR(this,'a=kin*k.profile&amp;r=7&amp;i=10000009_0000192187a4&amp;u='+urlencode(this.href));\" target=\"_blank\"> <i class=\"spnew api_ico_a\">A</i> <span class=\"thumb\"><img alt=\"\" class=\"img\" height=\"22\" onerror=\"this.src='data:image/gif;base64,R0lGODlhAQABAIAAAAAAAP///yH5BAEAAAAALAAAAAABAAEAAAIBRAA7';this.className='bg_npimg'\" src=\"https://search.pstatic.net/common/?src=https%3A%2F%2Fkin-phinf.pstatic.net%2F20211008_194%2F1633660431079hKH5u_JPEG%2F%25C7%25C1%25B7%25CE%25C7%25CA_%25BB%25E7%25C1%25F8.jpg&amp;type=f44_44\" width=\"22\"/></span> <div class=\"info_box\"> <div class=\"info_box_inner\"> <span class=\"name\">you_****</span> </div> </div> </a> </div> <div class=\"answer_group\"> <a class=\"api_txt_lines answer_text\" href=\"https://kin.naver.com/qna/detail.naver?d1id=1&amp;dirId=10402&amp;docId=421627812&amp;qb=7YyM7J207I2s&amp;enc=utf8§ion=kin.ext&amp;rank=7&amp;search_sort=0&amp;spq=0\" onclick=\"return goOtherCR(this, 'a=kin*k.answer&amp;r=7&amp;i=10000009_0000192187a4&amp;u=javascript'+urlencode(this.href));\" target=\"_blank\"># 1 나이 = 19 이름 = '홍길동' 취미 = '운동' 직업 = '학생' print(이름, 나이, 직업, 취미) # 2 n = 2 for i in range(1, 10): print(n, 'X', i, '=', n * i) # 3 x = 10 y = 5 print(x + y) print(x * y) print(x / y) # 4 a = '잔재미코딩' b = 4 c = False d = 3.3 print...</a> <div class=\"elss desc_group\"> <span class=\"desc\">2022.06.13.</span> </div> </div> </div> <div class=\"api_pcpg_wrap cluster_scroll_wrap _au_kin_lazy_component\" data-component-type=\"cluster\"> <div class=\"api_flicking_wrap _flicking\"> <div class=\"flick_bx flick_width\"> <div class=\"cluster_wrap\"> <a class=\"cluster_item\" href=\"https://kin.naver.com/qna/detail.naver?d1id=1&amp;dirId=10402&amp;docId=422711626&amp;qb=7YyM7J207I2s&amp;enc=utf8§ion=kin.ext&amp;rank=7&amp;search_sort=0&amp;spq=0\" onclick=\"return goOtherCR(this, 'a=kin*k.question2&amp;r=7&amp;i=10000009_00001932114a_1&amp;u=javascript'+urlencode(this.href));\" target=\"_blank\"> <strong class=\"api_txt_lines title\"> <i class=\"spnew api_ico_q2\">Q</i>정보 <mark>파이썬</mark> 문제 자세한 풀이를 해주세요! ㅠㅠ 이해가 안 가요 </strong> <div class=\"dsc\">2022.06.28.</div> </a> </div> </div> </div> <div class=\"api_btn_page type_inside type_small\"> <div class=\"btn_prev\"><a class=\"btn _prev\" href=\"#\" onclick=\"tCR('a=kin*k.frk&amp;r=&amp;i=&amp;u=javascript');return false;\" role=\"button\" style=\"display:none\"><i class=\"spnew ico_arr\">이전</i></a></div> <div class=\"btn_next\"><a class=\"btn _next\" href=\"#\" onclick=\"tCR('a=kin*k.frk&amp;r=&amp;i=&amp;u=javascript');return false;\" role=\"button\" style=\"display:none\"><i class=\"spnew ico_arr\">다음</i></a></div> </div> </div> <div class=\"total_tag_wrap\"> <div class=\"elss total_tag_area\"> <span class=\"tag_title\">관련</span> <a class=\"spnkin_bf tag\" href=\"?where=kin&amp;query=%ED%8C%8C%EC%9D%B4%EC%8D%AC %EC%A0%95%EB%B3%B4&amp;nso=so%3Ar%2Ca%3Aall%2Cp%3Aall&amp;answer=0\" onclick=\"return goOtherCR(this, 'a=kin*k.word&amp;r=&amp;i=&amp;u=javascript'+urlencode(this.href));\" role=\"button\">정보</a> <a class=\"spnkin_bf tag\" href=\"?where=kin&amp;query=%ED%8C%8C%EC%9D%B4%EC%8D%AC %EB%AC%B8%EC%A0%9C&amp;nso=so%3Ar%2Ca%3Aall%2Cp%3Aall&amp;answer=0\" onclick=\"return goOtherCR(this, 'a=kin*k.word&amp;r=&amp;i=&amp;u=javascript'+urlencode(this.href));\" role=\"button\">문제</a> </div> </div> </div>,\n",
       " <div class=\"kin_wrap api_ani_send\"> <div class=\"question_area\"> <i class=\"spnew api_ico_q\">Q</i> <div class=\"api_save_group _keep_wrap\"> <a aria-pressed=\"false\" class=\"btn_save _keep_trigger\" data-cr-off=\"a=kin*k.kep&amp;r=8&amp;i=10000009_0000192115df&amp;u=javascript\" data-cr-on=\"a=kin*k.kep&amp;r=8&amp;i=10000009_0000192115df&amp;u=javascript\" data-url=\"https://kin.naver.com/qna/detail.naver?dirId=10402&amp;docId=421598687\" href=\"#\" role=\"button\"><i class=\"spnew ico_save\">문서 저장하기</i></a> <div class=\"api_ly_save _keep_save_layer\"> <a class=\"spnew_af item item_save _keep_save\" data-cr-off=\"a=kin*k.kepoff&amp;r=8&amp;i=10000009_0000192115df&amp;u=javascript\" data-cr-on=\"a=kin*k.kepon&amp;r=8&amp;i=10000009_0000192115df&amp;u=javascript\" href=\"#\" role=\"button\">Keep에 저장</a> <a class=\"spnew_af item item_quick\" href=\"https://keep.naver.com/\" onclick=\"return goOtherCR(this, 'a=kin*k.kephome&amp;r=&amp;i=&amp;u=javascript'+urlencode(this.href));\" target=\"_blank\">Keep 바로가기</a> </div> </div> <div class=\"question_group\"> <a class=\"api_txt_lines question_text\" href=\"https://kin.naver.com/qna/detail.naver?d1id=1&amp;dirId=10402&amp;docId=421598687&amp;qb=7YyM7J207I2s&amp;enc=utf8§ion=kin.ext&amp;rank=8&amp;search_sort=0&amp;spq=0\" onclick=\"return goOtherCR(this,'a=kin*k.question&amp;r=8&amp;i=10000009_0000192115df&amp;u='+urlencode(this.href));\" target=\"_blank\">인프런에서 <mark>파이썬</mark> 배우기 대학 수업에서 <mark>파이썬</mark>을 배우긴 했지만 굉장히 기초만 배웠고 제대로 한 거 같지가 않아 제대로 한번 공부해보고 싶습니다. 인프런에서 강의를 들으려고 하는데 그냥 아예 <mark>파이썬</mark>의 기본개념부터 즉, 아예 처음부터 다시하고 싶어요. 그런데 인프런가보니깐 강의가... </a> </div> </div> <div class=\"answer_area\"> <div class=\"profile_group\"> <a class=\"btn_talk\" href=\"https://kin.naver.com/search/one2oneLink?dirId=10402&amp;docId=421598687&amp;answerNo=1\" onclick=\"return goOtherCR(this,'a=kin*k.individual&amp;r=8&amp;i=10000009_0000192115df&amp;u='+urlencode(this.href));\" role=\"button\" target=\"_blank\"><i class=\"spnew api_ico_talk\"></i>1:1</a> <a class=\"profile_link\" href=\"https://kin.naver.com/search/profileLink?dirId=10402&amp;docId=421598687&amp;answerNo=1\" onclick=\"return goOtherCR(this,'a=kin*k.profile&amp;r=8&amp;i=10000009_0000192115df&amp;u='+urlencode(this.href));\" target=\"_blank\"> <i class=\"spnew api_ico_a\">A</i> <span class=\"thumb\"><img alt=\"\" class=\"img\" height=\"22\" onerror=\"this.src='data:image/gif;base64,R0lGODlhAQABAIAAAAAAAP///yH5BAEAAAAALAAAAAABAAEAAAIBRAA7';this.className='bg_npimg'\" src=\"https://search.pstatic.net/common/?src=https%3A%2F%2Fkin-phinf.pstatic.net%2F20190731_207%2F15645686782372IkT7_JPEG%2Fpydole.jpg&amp;type=f44_44\" width=\"22\"/></span> <div class=\"info_box\"> <div class=\"info_box_inner\"> <span class=\"sub_info\"> <span class=\"expert\">식물신</span> </span> <span class=\"name\">파이돌이</span> </div> </div> </a> </div> <div class=\"answer_group\"> <a class=\"api_txt_lines answer_text\" href=\"https://kin.naver.com/qna/detail.naver?d1id=1&amp;dirId=10402&amp;docId=421598687&amp;qb=7YyM7J207I2s&amp;enc=utf8§ion=kin.ext&amp;rank=8&amp;search_sort=0&amp;spq=0\" onclick=\"return goOtherCR(this, 'a=kin*k.answer&amp;r=8&amp;i=10000009_0000192115df&amp;u=javascript'+urlencode(this.href));\" target=\"_blank\"><mark>파이썬</mark> 기초 - ( 웹/백엔드 개발자 ) django, flask ... - (OA 자동화) <mark>파이썬</mark> 자동화 ... - (데이터분석) pandas, 데이터 분석, ... 대략 이정도? 실제 사용하실려는 목적을 찾아서 강의를 들으시면 되실 듯 하네요 ~</a> <div class=\"elss desc_group\"> <span class=\"desc\">2022.06.12.</span> </div> </div> </div> <div class=\"api_pcpg_wrap cluster_scroll_wrap _au_kin_lazy_component\" data-component-type=\"cluster\"> <div class=\"api_flicking_wrap _flicking\"> <div class=\"flick_bx flick_width\"> <div class=\"cluster_wrap\"> <a class=\"cluster_item\" href=\"https://kin.naver.com/qna/detail.naver?d1id=1&amp;dirId=10406&amp;docId=393159222&amp;qb=7YyM7J207I2s&amp;enc=utf8§ion=kin.ext&amp;rank=8&amp;search_sort=0&amp;spq=0\" onclick=\"return goOtherCR(this, 'a=kin*k.question2&amp;r=8&amp;i=10000009_0000176f2236_8&amp;u=javascript'+urlencode(this.href));\" target=\"_blank\"> <strong class=\"api_txt_lines title\"> <i class=\"spnew api_ico_q2\">Q</i>광주 <mark>파이썬</mark>학원 추천해주세요 ! 안녕하세요 현재 컴퓨터공학을 전공중인 대학생입니다. 이번 학기에 코로나때문에 비대면 강의가 많아서 프로그래밍수업을 제대로 이해 못하겠더라구요ㅜ 그래서 방학기간 동안 프로그래밍 언어 특히 <mark>파이썬</mark> 언어를 배워볼까 하는데요 ! 광주에서 다닐만한 <mark>파이썬</mark>학원좀 추천해주세요 </strong> <div class=\"dsc\">2022.08.09.</div> </a> </div> </div> </div> <div class=\"api_btn_page type_inside type_small\"> <div class=\"btn_prev\"><a class=\"btn _prev\" href=\"#\" onclick=\"tCR('a=kin*k.frk&amp;r=&amp;i=&amp;u=javascript');return false;\" role=\"button\" style=\"display:none\"><i class=\"spnew ico_arr\">이전</i></a></div> <div class=\"btn_next\"><a class=\"btn _next\" href=\"#\" onclick=\"tCR('a=kin*k.frk&amp;r=&amp;i=&amp;u=javascript');return false;\" role=\"button\" style=\"display:none\"><i class=\"spnew ico_arr\">다음</i></a></div> </div> </div> <div class=\"total_tag_wrap\"> <div class=\"elss total_tag_area\"> <span class=\"tag_title\">관련</span> <a class=\"spnkin_bf tag\" href=\"?where=kin&amp;query=%ED%8C%8C%EC%9D%B4%EC%8D%AC %EA%B0%95%EC%9D%98&amp;nso=so%3Ar%2Ca%3Aall%2Cp%3Aall&amp;answer=0\" onclick=\"return goOtherCR(this, 'a=kin*k.word&amp;r=&amp;i=&amp;u=javascript'+urlencode(this.href));\" role=\"button\">강의</a> <a class=\"spnkin_bf tag\" href=\"?where=kin&amp;query=%ED%8C%8C%EC%9D%B4%EC%8D%AC %EC%88%98%EC%97%85&amp;nso=so%3Ar%2Ca%3Aall%2Cp%3Aall&amp;answer=0\" onclick=\"return goOtherCR(this, 'a=kin*k.word&amp;r=&amp;i=&amp;u=javascript'+urlencode(this.href));\" role=\"button\">수업</a> </div> </div> </div>,\n",
       " <div class=\"kin_wrap api_ani_send\"> <div class=\"question_area\"> <i class=\"spnew api_ico_q\">Q</i> <div class=\"api_save_group _keep_wrap\"> <a aria-pressed=\"false\" class=\"btn_save _keep_trigger\" data-cr-off=\"a=kin*k.kep&amp;r=9&amp;i=10000009_0000195079e7&amp;u=javascript\" data-cr-on=\"a=kin*k.kep&amp;r=9&amp;i=10000009_0000195079e7&amp;u=javascript\" data-url=\"https://kin.naver.com/qna/detail.naver?dirId=10402&amp;docId=424704487\" href=\"#\" role=\"button\"><i class=\"spnew ico_save\">문서 저장하기</i></a> <div class=\"api_ly_save _keep_save_layer\"> <a class=\"spnew_af item item_save _keep_save\" data-cr-off=\"a=kin*k.kepoff&amp;r=9&amp;i=10000009_0000195079e7&amp;u=javascript\" data-cr-on=\"a=kin*k.kepon&amp;r=9&amp;i=10000009_0000195079e7&amp;u=javascript\" href=\"#\" role=\"button\">Keep에 저장</a> <a class=\"spnew_af item item_quick\" href=\"https://keep.naver.com/\" onclick=\"return goOtherCR(this, 'a=kin*k.kephome&amp;r=&amp;i=&amp;u=javascript'+urlencode(this.href));\" target=\"_blank\">Keep 바로가기</a> </div> </div> <div class=\"question_group\"> <a class=\"api_txt_lines question_text\" href=\"https://kin.naver.com/qna/detail.naver?d1id=1&amp;dirId=10402&amp;docId=424704487&amp;qb=7YyM7J207I2s&amp;enc=utf8§ion=kin.ext&amp;rank=9&amp;search_sort=0&amp;spq=0\" onclick=\"return goOtherCR(this,'a=kin*k.question&amp;r=9&amp;i=10000009_0000195079e7&amp;u='+urlencode(this.href));\" target=\"_blank\">요새 <mark>파이썬</mark>으로 개발하는 이유</a> </div> </div> <div class=\"answer_area\"> <div class=\"profile_group\"> <a class=\"btn_talk\" href=\"https://kin.naver.com/search/one2oneLink?dirId=10402&amp;docId=424704487&amp;answerNo=4\" onclick=\"return goOtherCR(this,'a=kin*k.individual&amp;r=9&amp;i=10000009_0000195079e7&amp;u='+urlencode(this.href));\" role=\"button\" target=\"_blank\"><i class=\"spnew api_ico_talk\"></i>1:1</a> <a class=\"profile_link\" href=\"https://kin.naver.com/search/profileLink?dirId=10402&amp;docId=424704487&amp;answerNo=4\" onclick=\"return goOtherCR(this,'a=kin*k.profile&amp;r=9&amp;i=10000009_0000195079e7&amp;u='+urlencode(this.href));\" target=\"_blank\"> <i class=\"spnew api_ico_a\">A</i> <span class=\"thumb\"><img alt=\"\" class=\"img\" height=\"22\" onerror=\"this.src='data:image/gif;base64,R0lGODlhAQABAIAAAAAAAP///yH5BAEAAAAALAAAAAABAAEAAAIBRAA7';this.className='bg_npimg'\" src=\"https://search.pstatic.net/common/?src=http%3A%2F%2Fkinimage.naver.net%2F20170123_235%2F1485135030831rdiac_PNG%2F%25C7%25C1%25B7%25CE%25C7%25CA%25C0%25CC%25B9%25CC%25C1%25F6.png&amp;type=f44_44\" width=\"22\"/></span> <div class=\"info_box\"> <div class=\"info_box_inner\"> <span class=\"sub_info\"> <span class=\"category\">컴퓨터통신</span> </span> <span class=\"name\">비트교육센터</span> </div> </div> </a> </div> <div class=\"answer_group\"> <a class=\"api_txt_lines answer_text\" href=\"https://kin.naver.com/qna/detail.naver?d1id=1&amp;dirId=10402&amp;docId=424704487&amp;qb=7YyM7J207I2s&amp;enc=utf8§ion=kin.ext&amp;rank=9&amp;search_sort=0&amp;spq=0\" onclick=\"return goOtherCR(this, 'a=kin*k.answer&amp;r=9&amp;i=10000009_0000195079e7&amp;u=javascript'+urlencode(this.href));\" target=\"_blank\">... <mark>파이썬</mark>의 장점에 대해 문의하셨네요. <mark>파이썬</mark>의 가장 두드러진 장점은 쉬운 문법을 바탕으로... <mark>파이썬</mark>은 이런 흐름에 적합한 언어라 볼 수 있습니다. 그래서 아이디어를 빠르게 결과물로 구현할 수 있고 최신 분야에 두루 쓰이는 <mark>파이썬</mark>이 인기를...</a> <div class=\"elss desc_group\"> <span class=\"desc\">2022.07.28.</span> </div> </div> </div> <div class=\"api_pcpg_wrap cluster_scroll_wrap _au_kin_lazy_component\" data-component-type=\"cluster\"> <div class=\"api_flicking_wrap _flicking\"> <div class=\"flick_bx\"> <div class=\"cluster_wrap\"> <a class=\"cluster_item\" href=\"https://kin.naver.com/qna/detail.naver?d1id=1&amp;dirId=10401&amp;docId=423090795&amp;qb=7YyM7J207I2s&amp;enc=utf8§ion=kin.ext&amp;rank=9&amp;search_sort=0&amp;spq=0\" onclick=\"return goOtherCR(this, 'a=kin*k.question2&amp;r=9&amp;i=10000009_00001937da6b_3&amp;u=javascript'+urlencode(this.href));\" target=\"_blank\"> <strong class=\"api_txt_lines title\"> <i class=\"spnew api_ico_q2\">Q</i><mark>파이썬</mark> 앱 개발 <mark>파이썬</mark>으로 앱 개발하려면 무엇을 어떻게 해야하야 하나요 <mark>파이썬</mark>으로 앱 개발 가능하긴 한가요 </strong> <div class=\"dsc\">2022.07.04.</div> </a> </div> </div> <div class=\"flick_bx\"> <div class=\"cluster_wrap\"> <a class=\"cluster_item\" href=\"https://kin.naver.com/qna/detail.naver?d1id=1&amp;dirId=10401&amp;docId=404614990&amp;qb=7YyM7J207I2s&amp;enc=utf8§ion=kin.ext&amp;rank=9&amp;search_sort=0&amp;spq=0\" onclick=\"return goOtherCR(this, 'a=kin*k.question2&amp;r=9&amp;i=10000009_0000181def4e_2&amp;u=javascript'+urlencode(this.href));\" target=\"_blank\"> <strong class=\"api_txt_lines title\"> <i class=\"spnew api_ico_q2\">Q</i><mark>파이썬</mark>(인공지능, AI 등)으로 IT회사 창업 아이템 ... 혹시 <mark>파이썬</mark>도 위와 같이 창업을 할 수 있는 방법(?)이 뭐가 있는지 알려주시면 감사하겠습니다. 또한 웹이나 앱은 1인 개발이 가능한데 <mark>파이썬</mark>으로 1인 개발로 가능한 창업도 알려주시면 감사하겠습니다. </strong> <div class=\"dsc\">2021.11.10.</div> </a> </div> </div> </div> <div class=\"api_btn_page type_inside type_small\"> <div class=\"btn_prev\"><a class=\"btn _prev\" href=\"#\" onclick=\"tCR('a=kin*k.frk&amp;r=&amp;i=&amp;u=javascript');return false;\" role=\"button\" style=\"display:none\"><i class=\"spnew ico_arr\">이전</i></a></div> <div class=\"btn_next\"><a class=\"btn _next\" href=\"#\" onclick=\"tCR('a=kin*k.frk&amp;r=&amp;i=&amp;u=javascript');return false;\" role=\"button\" style=\"display:none\"><i class=\"spnew ico_arr\">다음</i></a></div> </div> </div> <div class=\"total_tag_wrap\"> <div class=\"elss total_tag_area\"> <span class=\"tag_title\">관련</span> <a class=\"spnkin_bf tag\" href=\"?where=kin&amp;query=%ED%8C%8C%EC%9D%B4%EC%8D%AC %EA%B0%9C%EB%B0%9C&amp;nso=so%3Ar%2Ca%3Aall%2Cp%3Aall&amp;answer=0\" onclick=\"return goOtherCR(this, 'a=kin*k.word&amp;r=&amp;i=&amp;u=javascript'+urlencode(this.href));\" role=\"button\">개발</a> </div> </div> </div>,\n",
       " <div class=\"kin_wrap api_ani_send\"> <div class=\"question_area\"> <i class=\"spnew api_ico_q\">Q</i> <div class=\"api_save_group _keep_wrap\"> <a aria-pressed=\"false\" class=\"btn_save _keep_trigger\" data-cr-off=\"a=kin*k.kep&amp;r=10&amp;i=10000009_000018f6db29&amp;u=javascript\" data-cr-on=\"a=kin*k.kep&amp;r=10&amp;i=10000009_000018f6db29&amp;u=javascript\" data-url=\"https://kin.naver.com/qna/detail.naver?dirId=102020101&amp;docId=418831145\" href=\"#\" role=\"button\"><i class=\"spnew ico_save\">문서 저장하기</i></a> <div class=\"api_ly_save _keep_save_layer\"> <a class=\"spnew_af item item_save _keep_save\" data-cr-off=\"a=kin*k.kepoff&amp;r=10&amp;i=10000009_000018f6db29&amp;u=javascript\" data-cr-on=\"a=kin*k.kepon&amp;r=10&amp;i=10000009_000018f6db29&amp;u=javascript\" href=\"#\" role=\"button\">Keep에 저장</a> <a class=\"spnew_af item item_quick\" href=\"https://keep.naver.com/\" onclick=\"return goOtherCR(this, 'a=kin*k.kephome&amp;r=&amp;i=&amp;u=javascript'+urlencode(this.href));\" target=\"_blank\">Keep 바로가기</a> </div> </div> <div class=\"question_group\"> <a class=\"api_txt_lines question_text\" href=\"https://kin.naver.com/qna/detail.naver?d1id=1&amp;dirId=102020101&amp;docId=418831145&amp;qb=7YyM7J207I2s&amp;enc=utf8§ion=kin.ext&amp;rank=10&amp;search_sort=0&amp;spq=0\" onclick=\"return goOtherCR(this,'a=kin*k.question&amp;r=10&amp;i=10000009_000018f6db29&amp;u='+urlencode(this.href));\" target=\"_blank\">엑셀vba랑 <mark>파이썬</mark> 둘중에 어느걸 써야되는건가요? 엑셀로 가계부를 만들어 사용하려고 하는데요 제가 엑셀에서 통장번호를 입력하고 그버튼을 누르면 제가능록한 통장에 얼마가 입금되는지 엑셀에 연동되서 나타나게 하려면 엑셀vba가지고 만들어야 되난요? 아니면 <mark>파이썬</mark> 가지고 만들어야 되나요? 혹시 아시는분 계시나요?</a> </div> </div> <div class=\"answer_area\"> <div class=\"profile_group\"> <a class=\"btn_talk\" href=\"https://kin.naver.com/search/one2oneLink?dirId=102020101&amp;docId=418831145&amp;answerNo=1\" onclick=\"return goOtherCR(this,'a=kin*k.individual&amp;r=10&amp;i=10000009_000018f6db29&amp;u='+urlencode(this.href));\" role=\"button\" target=\"_blank\"><i class=\"spnew api_ico_talk\"></i>1:1</a> <a class=\"profile_link\" href=\"https://kin.naver.com/search/profileLink?dirId=102020101&amp;docId=418831145&amp;answerNo=1\" onclick=\"return goOtherCR(this,'a=kin*k.profile&amp;r=10&amp;i=10000009_000018f6db29&amp;u='+urlencode(this.href));\" target=\"_blank\"> <i class=\"spnew api_ico_a\">A</i> <span class=\"thumb\"><img alt=\"\" class=\"img\" height=\"22\" onerror=\"this.src='data:image/gif;base64,R0lGODlhAQABAIAAAAAAAP///yH5BAEAAAAALAAAAAABAAEAAAIBRAA7';this.className='bg_npimg'\" src=\"https://search.pstatic.net/common/?src=https%3A%2F%2Fkin-phinf.pstatic.net%2F20200519_38%2F15898629819204nPUh_PNG%2F%25BF%25B9%25BD%25BA%25C6%25FB.png&amp;type=f44_44\" width=\"22\"/></span> <div class=\"info_box\"> <div class=\"info_box_inner\"> <span class=\"sub_info\"> <span class=\"category\">MS엑셀</span> </span> <span class=\"name\">예스폼</span> </div> </div> </a> </div> <div class=\"answer_group\"> <a class=\"api_txt_lines answer_text\" href=\"https://kin.naver.com/qna/detail.naver?d1id=1&amp;dirId=102020101&amp;docId=418831145&amp;qb=7YyM7J207I2s&amp;enc=utf8§ion=kin.ext&amp;rank=10&amp;search_sort=0&amp;spq=0\" onclick=\"return goOtherCR(this, 'a=kin*k.answer&amp;r=10&amp;i=10000009_000018f6db29&amp;u=javascript'+urlencode(this.href));\" target=\"_blank\">... 엑셀 VBA나, <mark>파이썬</mark> 등으로 간단한 응용프로그램을 활용하는 방법도 있지만, 일반 엑셀 파일도 구성만 잘 짜서 가계부 양식을 제작하면 엑셀 내 함수(vlookup, match, index, sum, sumif, sumproduct 등)와 기본 기능(이름관리자, 유효성검사 등)들을 활용해서 가계부 서식을 만들 수 있습니다. 해당...</a> <div class=\"elss desc_group\"> <span class=\"desc\">2022.05.06.</span> </div> </div> </div> <div class=\"api_pcpg_wrap cluster_scroll_wrap _au_kin_lazy_component\" data-component-type=\"cluster\"> <div class=\"api_flicking_wrap _flicking\"> <div class=\"flick_bx flick_width\"> <div class=\"cluster_wrap\"> <a class=\"cluster_item\" href=\"https://kin.naver.com/qna/detail.naver?d1id=1&amp;dirId=10402&amp;docId=422586183&amp;qb=7YyM7J207I2s&amp;enc=utf8§ion=kin.ext&amp;rank=10&amp;search_sort=0&amp;spq=0\" onclick=\"return goOtherCR(this, 'a=kin*k.question2&amp;r=10&amp;i=10000009_000019302747_2&amp;u=javascript'+urlencode(this.href));\" target=\"_blank\"> <strong class=\"api_txt_lines title\"> <i class=\"spnew api_ico_q2\">Q</i><mark>파이썬</mark> 데이터 분석 <mark>파이썬</mark> 데이터프레임을 이용하여 데이터를 분석할때 max(), min()과 같은 내장함수 외에 엑셀의 large 나 small 처럼 특정 몇번째 값을 추출하는... numpy..)의 내장함수를 둘러볼 수 있는 명령어 같은게 있을까요? <mark>파이썬</mark> 입문 초보라 도움 부탁드립니다. 감사합니다. </strong> <div class=\"dsc\">2022.06.27.</div> </a> </div> </div> </div> <div class=\"api_btn_page type_inside type_small\"> <div class=\"btn_prev\"><a class=\"btn _prev\" href=\"#\" onclick=\"tCR('a=kin*k.frk&amp;r=&amp;i=&amp;u=javascript');return false;\" role=\"button\" style=\"display:none\"><i class=\"spnew ico_arr\">이전</i></a></div> <div class=\"btn_next\"><a class=\"btn _next\" href=\"#\" onclick=\"tCR('a=kin*k.frk&amp;r=&amp;i=&amp;u=javascript');return false;\" role=\"button\" style=\"display:none\"><i class=\"spnew ico_arr\">다음</i></a></div> </div> </div> <div class=\"total_tag_wrap\"> <div class=\"elss total_tag_area\"> <span class=\"tag_title\">관련</span> <a class=\"spnkin_bf tag\" href=\"?where=kin&amp;query=%ED%8C%8C%EC%9D%B4%EC%8D%AC %EC%97%91%EC%85%80&amp;nso=so%3Ar%2Ca%3Aall%2Cp%3Aall&amp;answer=0\" onclick=\"return goOtherCR(this, 'a=kin*k.word&amp;r=&amp;i=&amp;u=javascript'+urlencode(this.href));\" role=\"button\">엑셀</a> </div> </div> </div>]"
      ]
     },
     "execution_count": 16,
     "metadata": {},
     "output_type": "execute_result"
    }
   ],
   "source": [
    "div_tags=soup.find_all('div','kin_wrap api_ani_send')\n",
    "div_tags"
   ]
  },
  {
   "cell_type": "code",
   "execution_count": 20,
   "id": "92c6f545",
   "metadata": {},
   "outputs": [
    {
     "name": "stdout",
     "output_type": "stream",
     "text": [
      "1 파이썬 코드 오류 파이썬으로 그래프 그리려고 하는데 대체 왜 오류가 뜨는 걸까요? ㅠㅠ\n",
      "2 파이썬 인티저 파이썬에 인티저가 input인가요?? input 줄인게 int 맞나요??\n",
      "3 파이썬? 파이참? 파이참, 파이썬 둘 다 설치했는데 파이참 용량이 너무 커서요 삭제하려고 하는데 파이썬 하나만 있어도 똑같이 사용가능한건가요?\n",
      "4 강남파이썬학원 추천좀 부탁해요!! ... 해외에서 파이썬이 뜬다고 하더라고요? 친구들 말로는 자바와 씨언어가 아직 많이 쓰이는데 파이썬이 장기적으로... 강남파이썬학원 찾습니다. 아 그리고 혹시나 강남파이썬학원을 통해 미래에 해외쪽도... 혹시 알아요 나중에 해외로 나가게 될지 ㅋㅋ 하여튼 좋은 강남파이썬학원 부탁합니다!\n",
      "5 파이썬 국비지원 현재 프로그래밍에 대한 기초가 하나도 없고 일을 하고 있는데 온라인으로 파이썬 교육을 듣고싶은데 국비지원으로 할수 있나요?? 대략 능숙하게 사용하려면 어느정도 기간이 걸리는지 궁금합니다 ㅜㅜ!\n",
      "6 파이썬독학으로 배우기 빅데이터에 관심이 있는데 이 분야에서는 파이썬을 알아야 한다더라고요 그래서 파이썬독학해볼까 생각하고 있는데 혼자 파이썬배우기 괜찮을까... 인강보고 파이썬배우기 가능한지 알고싶고요 파이썬독학이 가능하다면 어떤 인강을 이용하면 되는지도 알고싶어요 답변 부탁드려요... \n",
      "7 고1 정보 파이썬 질문 주피터노트북 파이썬으로 만들어야되는데 파이썬으로 사진에 있는 문제 해결 과정이랑 답 알고싶어요 급해요\n",
      "8 인프런에서 파이썬 배우기 대학 수업에서 파이썬을 배우긴 했지만 굉장히 기초만 배웠고 제대로 한 거 같지가 않아 제대로 한번 공부해보고 싶습니다. 인프런에서 강의를 들으려고 하는데 그냥 아예 파이썬의 기본개념부터 즉, 아예 처음부터 다시하고 싶어요. 그런데 인프런가보니깐 강의가... \n",
      "9 요새 파이썬으로 개발하는 이유\n",
      "10 엑셀vba랑 파이썬 둘중에 어느걸 써야되는건가요? 엑셀로 가계부를 만들어 사용하려고 하는데요 제가 엑셀에서 통장번호를 입력하고 그버튼을 누르면 제가능록한 통장에 얼마가 입금되는지 엑셀에 연동되서 나타나게 하려면 엑셀vba가지고 만들어야 되난요? 아니면 파이썬 가지고 만들어야 되나요? 혹시 아시는분 계시나요?\n"
     ]
    }
   ],
   "source": [
    "for idx,a in enumerate(a_tags,1):\n",
    "    print(idx,a.text)"
   ]
  },
  {
   "cell_type": "code",
   "execution_count": 19,
   "id": "18c2af3b",
   "metadata": {},
   "outputs": [
    {
     "name": "stdout",
     "output_type": "stream",
     "text": [
      "0 파이썬 코드 오류 파이썬으로 그래프 그리려고 하는데 대체 왜 오류가 뜨는 걸까요? ㅠㅠ\n",
      "1 파이썬 인티저 파이썬에 인티저가 input인가요?? input 줄인게 int 맞나요??\n",
      "2 파이썬? 파이참? 파이참, 파이썬 둘 다 설치했는데 파이참 용량이 너무 커서요 삭제하려고 하는데 파이썬 하나만 있어도 똑같이 사용가능한건가요?\n",
      "3 강남파이썬학원 추천좀 부탁해요!! ... 해외에서 파이썬이 뜬다고 하더라고요? 친구들 말로는 자바와 씨언어가 아직 많이 쓰이는데 파이썬이 장기적으로... 강남파이썬학원 찾습니다. 아 그리고 혹시나 강남파이썬학원을 통해 미래에 해외쪽도... 혹시 알아요 나중에 해외로 나가게 될지 ㅋㅋ 하여튼 좋은 강남파이썬학원 부탁합니다!\n",
      "4 파이썬 국비지원 현재 프로그래밍에 대한 기초가 하나도 없고 일을 하고 있는데 온라인으로 파이썬 교육을 듣고싶은데 국비지원으로 할수 있나요?? 대략 능숙하게 사용하려면 어느정도 기간이 걸리는지 궁금합니다 ㅜㅜ!\n",
      "5 파이썬독학으로 배우기 빅데이터에 관심이 있는데 이 분야에서는 파이썬을 알아야 한다더라고요 그래서 파이썬독학해볼까 생각하고 있는데 혼자 파이썬배우기 괜찮을까... 인강보고 파이썬배우기 가능한지 알고싶고요 파이썬독학이 가능하다면 어떤 인강을 이용하면 되는지도 알고싶어요 답변 부탁드려요... \n",
      "6 고1 정보 파이썬 질문 주피터노트북 파이썬으로 만들어야되는데 파이썬으로 사진에 있는 문제 해결 과정이랑 답 알고싶어요 급해요\n",
      "7 인프런에서 파이썬 배우기 대학 수업에서 파이썬을 배우긴 했지만 굉장히 기초만 배웠고 제대로 한 거 같지가 않아 제대로 한번 공부해보고 싶습니다. 인프런에서 강의를 들으려고 하는데 그냥 아예 파이썬의 기본개념부터 즉, 아예 처음부터 다시하고 싶어요. 그런데 인프런가보니깐 강의가... \n",
      "8 요새 파이썬으로 개발하는 이유\n",
      "9 엑셀vba랑 파이썬 둘중에 어느걸 써야되는건가요? 엑셀로 가계부를 만들어 사용하려고 하는데요 제가 엑셀에서 통장번호를 입력하고 그버튼을 누르면 제가능록한 통장에 얼마가 입금되는지 엑셀에 연동되서 나타나게 하려면 엑셀vba가지고 만들어야 되난요? 아니면 파이썬 가지고 만들어야 되나요? 혹시 아시는분 계시나요?\n"
     ]
    }
   ],
   "source": [
    "for idx,a in enumerate(a_tags):\n",
    "    print(idx,a.text)"
   ]
  },
  {
   "cell_type": "markdown",
   "id": "6a234dbd",
   "metadata": {},
   "source": [
    "### [미션] '글제목'과 '하이퍼링크주소'를 추출하여 데이터프레임 형태로 저장하세요.\n"
   ]
  },
  {
   "cell_type": "code",
   "execution_count": 28,
   "id": "a5bb12e3",
   "metadata": {},
   "outputs": [],
   "source": [
    "import pandas as pd"
   ]
  },
  {
   "cell_type": "code",
   "execution_count": 29,
   "id": "ed1927f3",
   "metadata": {},
   "outputs": [],
   "source": [
    "#find_all \n",
    "a_tags=soup.find_all('a','api_txt_lines question_text')"
   ]
  },
  {
   "cell_type": "code",
   "execution_count": 30,
   "id": "e4a94747",
   "metadata": {},
   "outputs": [
    {
     "data": {
      "text/html": [
       "<div>\n",
       "<style scoped>\n",
       "    .dataframe tbody tr th:only-of-type {\n",
       "        vertical-align: middle;\n",
       "    }\n",
       "\n",
       "    .dataframe tbody tr th {\n",
       "        vertical-align: top;\n",
       "    }\n",
       "\n",
       "    .dataframe thead th {\n",
       "        text-align: right;\n",
       "    }\n",
       "</style>\n",
       "<table border=\"1\" class=\"dataframe\">\n",
       "  <thead>\n",
       "    <tr style=\"text-align: right;\">\n",
       "      <th></th>\n",
       "      <th>제목</th>\n",
       "      <th>url</th>\n",
       "    </tr>\n",
       "  </thead>\n",
       "  <tbody>\n",
       "    <tr>\n",
       "      <th>0</th>\n",
       "      <td>파이썬 코드 오류 파이썬으로 그래프 그리려고 하는데 대체 왜 오류가 뜨는 걸까요? ㅠㅠ</td>\n",
       "      <td>https://kin.naver.com/qna/detail.naver?d1id=1&amp;...</td>\n",
       "    </tr>\n",
       "    <tr>\n",
       "      <th>1</th>\n",
       "      <td>파이썬 인티저 파이썬에 인티저가 input인가요?? input 줄인게 int 맞나요??</td>\n",
       "      <td>https://kin.naver.com/qna/detail.naver?d1id=1&amp;...</td>\n",
       "    </tr>\n",
       "    <tr>\n",
       "      <th>2</th>\n",
       "      <td>파이썬? 파이참? 파이참, 파이썬 둘 다 설치했는데 파이참 용량이 너무 커서요 삭제...</td>\n",
       "      <td>https://kin.naver.com/qna/detail.naver?d1id=1&amp;...</td>\n",
       "    </tr>\n",
       "    <tr>\n",
       "      <th>3</th>\n",
       "      <td>파이썬 국비지원 현재 프로그래밍에 대한 기초가 하나도 없고 일을 하고 있는데 온라인...</td>\n",
       "      <td>https://kin.naver.com/qna/detail.naver?d1id=4&amp;...</td>\n",
       "    </tr>\n",
       "    <tr>\n",
       "      <th>4</th>\n",
       "      <td>고1 정보 파이썬 질문 주피터노트북 파이썬으로 만들어야되는데 파이썬으로 사진에 있는...</td>\n",
       "      <td>https://kin.naver.com/qna/detail.naver?d1id=1&amp;...</td>\n",
       "    </tr>\n",
       "    <tr>\n",
       "      <th>5</th>\n",
       "      <td>파이썬을 입문하고싶습니다 코딩에 관심이생겨서 한번해보고싶은게 파이썬인데 파이썬으로 ...</td>\n",
       "      <td>https://kin.naver.com/qna/detail.naver?d1id=1&amp;...</td>\n",
       "    </tr>\n",
       "    <tr>\n",
       "      <th>6</th>\n",
       "      <td>인프런에서 파이썬 배우기 대학 수업에서 파이썬을 배우긴 했지만 굉장히 기초만 배웠고...</td>\n",
       "      <td>https://kin.naver.com/qna/detail.naver?d1id=1&amp;...</td>\n",
       "    </tr>\n",
       "    <tr>\n",
       "      <th>7</th>\n",
       "      <td>요새 파이썬으로 개발하는 이유</td>\n",
       "      <td>https://kin.naver.com/qna/detail.naver?d1id=1&amp;...</td>\n",
       "    </tr>\n",
       "    <tr>\n",
       "      <th>8</th>\n",
       "      <td>엑셀vba랑 파이썬 둘중에 어느걸 써야되는건가요? 엑셀로 가계부를 만들어 사용하려고...</td>\n",
       "      <td>https://kin.naver.com/qna/detail.naver?d1id=1&amp;...</td>\n",
       "    </tr>\n",
       "    <tr>\n",
       "      <th>9</th>\n",
       "      <td>파이썬 프로그램 주제 심리테스트 너무 흔한가요? 혹시 흔하면 파이썬 프로그램 주제 ...</td>\n",
       "      <td>https://kin.naver.com/qna/detail.naver?d1id=1&amp;...</td>\n",
       "    </tr>\n",
       "  </tbody>\n",
       "</table>\n",
       "</div>"
      ],
      "text/plain": [
       "                                                  제목  \\\n",
       "0   파이썬 코드 오류 파이썬으로 그래프 그리려고 하는데 대체 왜 오류가 뜨는 걸까요? ㅠㅠ   \n",
       "1   파이썬 인티저 파이썬에 인티저가 input인가요?? input 줄인게 int 맞나요??   \n",
       "2  파이썬? 파이참? 파이참, 파이썬 둘 다 설치했는데 파이참 용량이 너무 커서요 삭제...   \n",
       "3  파이썬 국비지원 현재 프로그래밍에 대한 기초가 하나도 없고 일을 하고 있는데 온라인...   \n",
       "4  고1 정보 파이썬 질문 주피터노트북 파이썬으로 만들어야되는데 파이썬으로 사진에 있는...   \n",
       "5  파이썬을 입문하고싶습니다 코딩에 관심이생겨서 한번해보고싶은게 파이썬인데 파이썬으로 ...   \n",
       "6  인프런에서 파이썬 배우기 대학 수업에서 파이썬을 배우긴 했지만 굉장히 기초만 배웠고...   \n",
       "7                                   요새 파이썬으로 개발하는 이유   \n",
       "8  엑셀vba랑 파이썬 둘중에 어느걸 써야되는건가요? 엑셀로 가계부를 만들어 사용하려고...   \n",
       "9  파이썬 프로그램 주제 심리테스트 너무 흔한가요? 혹시 흔하면 파이썬 프로그램 주제 ...   \n",
       "\n",
       "                                                 url  \n",
       "0  https://kin.naver.com/qna/detail.naver?d1id=1&...  \n",
       "1  https://kin.naver.com/qna/detail.naver?d1id=1&...  \n",
       "2  https://kin.naver.com/qna/detail.naver?d1id=1&...  \n",
       "3  https://kin.naver.com/qna/detail.naver?d1id=4&...  \n",
       "4  https://kin.naver.com/qna/detail.naver?d1id=1&...  \n",
       "5  https://kin.naver.com/qna/detail.naver?d1id=1&...  \n",
       "6  https://kin.naver.com/qna/detail.naver?d1id=1&...  \n",
       "7  https://kin.naver.com/qna/detail.naver?d1id=1&...  \n",
       "8  https://kin.naver.com/qna/detail.naver?d1id=1&...  \n",
       "9  https://kin.naver.com/qna/detail.naver?d1id=1&...  "
      ]
     },
     "metadata": {},
     "output_type": "display_data"
    }
   ],
   "source": [
    "res=[]\n",
    "for a in a_tags:\n",
    "    title=a.text\n",
    "    url=a['href']\n",
    "    res.append({'제목':title,'url':url})\n",
    "df=pd.DataFrame(res)\n",
    "display(df)"
   ]
  },
  {
   "cell_type": "markdown",
   "id": "15ecb9cb",
   "metadata": {},
   "source": [
    "### [미션] '글제목, 작성자, 요약글, 작성일, href' 을 테이블형태로 수집"
   ]
  },
  {
   "cell_type": "code",
   "execution_count": 31,
   "id": "18070bc5",
   "metadata": {},
   "outputs": [],
   "source": [
    "import pandas as pd"
   ]
  },
  {
   "cell_type": "code",
   "execution_count": 32,
   "id": "4bb77ece",
   "metadata": {},
   "outputs": [],
   "source": [
    "div_tags=soup.find_all('div','kin_wrap api_ani_send')"
   ]
  },
  {
   "cell_type": "code",
   "execution_count": 33,
   "id": "11d2fb55",
   "metadata": {},
   "outputs": [
    {
     "data": {
      "text/html": [
       "<div>\n",
       "<style scoped>\n",
       "    .dataframe tbody tr th:only-of-type {\n",
       "        vertical-align: middle;\n",
       "    }\n",
       "\n",
       "    .dataframe tbody tr th {\n",
       "        vertical-align: top;\n",
       "    }\n",
       "\n",
       "    .dataframe thead th {\n",
       "        text-align: right;\n",
       "    }\n",
       "</style>\n",
       "<table border=\"1\" class=\"dataframe\">\n",
       "  <thead>\n",
       "    <tr style=\"text-align: right;\">\n",
       "      <th></th>\n",
       "      <th>제목</th>\n",
       "      <th>작성자</th>\n",
       "      <th>글내용</th>\n",
       "      <th>작성일</th>\n",
       "      <th>url</th>\n",
       "    </tr>\n",
       "  </thead>\n",
       "  <tbody>\n",
       "    <tr>\n",
       "      <th>0</th>\n",
       "      <td>파이썬 코드 오류 파이썬으로 그래프 그리려고 하는데 대체 왜 오류가 뜨는 걸까요? ㅠㅠ</td>\n",
       "      <td>D3fau1t</td>\n",
       "      <td>실행환경에서 패키지도 설치되어있고 실행은 가능한데 에디터에서 노란줄 표시되어있고 경...</td>\n",
       "      <td>2022.07.15.</td>\n",
       "      <td>https://kin.naver.com/qna/detail.naver?d1id=1&amp;...</td>\n",
       "    </tr>\n",
       "    <tr>\n",
       "      <th>1</th>\n",
       "      <td>파이썬 인티저 파이썬에 인티저가 input인가요?? input 줄인게 int 맞나요??</td>\n",
       "      <td>폴리글랏</td>\n",
       "      <td>파이썬의 인티저는 그냥 int일텐데요 input은 키보드로 입력받는 표준 입력 함수...</td>\n",
       "      <td>2022.07.06.</td>\n",
       "      <td>https://kin.naver.com/qna/detail.naver?d1id=1&amp;...</td>\n",
       "    </tr>\n",
       "    <tr>\n",
       "      <th>2</th>\n",
       "      <td>파이썬? 파이참? 파이참, 파이썬 둘 다 설치했는데 파이참 용량이 너무 커서요 삭제...</td>\n",
       "      <td>JHeaon</td>\n",
       "      <td>파이참은 텍스트 에디터에요! 용량이 크면 다른 텍스트 에디터 사용하시면 됩니다. 파...</td>\n",
       "      <td>2022.07.30.</td>\n",
       "      <td>https://kin.naver.com/qna/detail.naver?d1id=1&amp;...</td>\n",
       "    </tr>\n",
       "    <tr>\n",
       "      <th>3</th>\n",
       "      <td>파이썬 국비지원 현재 프로그래밍에 대한 기초가 하나도 없고 일을 하고 있는데 온라인...</td>\n",
       "      <td>한국IT재단국비마스터</td>\n",
       "      <td>안녕하세요 질문자님~ 파이썬 과정 현재 국비과정으로 많은 과정들이 운영되고 있습니다...</td>\n",
       "      <td>2022.07.15.</td>\n",
       "      <td>https://kin.naver.com/qna/detail.naver?d1id=4&amp;...</td>\n",
       "    </tr>\n",
       "    <tr>\n",
       "      <th>4</th>\n",
       "      <td>고1 정보 파이썬 질문 주피터노트북 파이썬으로 만들어야되는데 파이썬으로 사진에 있는...</td>\n",
       "      <td>you_****</td>\n",
       "      <td># 1 나이 = 19 이름 = '홍길동' 취미 = '운동' 직업 = '학생' pri...</td>\n",
       "      <td>2022.06.13.</td>\n",
       "      <td>https://kin.naver.com/qna/detail.naver?d1id=1&amp;...</td>\n",
       "    </tr>\n",
       "    <tr>\n",
       "      <th>5</th>\n",
       "      <td>파이썬을 입문하고싶습니다 코딩에 관심이생겨서 한번해보고싶은게 파이썬인데 파이썬으로 ...</td>\n",
       "      <td>수정쌤 010 4435 6165</td>\n",
       "      <td>안녕하세요 코딩에 관심이 생기셨는데 파이썬을 해보고싶으시고 파이썬에 대해 궁금하신게...</td>\n",
       "      <td>2022.07.01.</td>\n",
       "      <td>https://kin.naver.com/qna/detail.naver?d1id=1&amp;...</td>\n",
       "    </tr>\n",
       "    <tr>\n",
       "      <th>6</th>\n",
       "      <td>인프런에서 파이썬 배우기 대학 수업에서 파이썬을 배우긴 했지만 굉장히 기초만 배웠고...</td>\n",
       "      <td>파이돌이</td>\n",
       "      <td>파이썬 기초 - ( 웹/백엔드 개발자 ) django, flask ... - (OA...</td>\n",
       "      <td>2022.06.12.</td>\n",
       "      <td>https://kin.naver.com/qna/detail.naver?d1id=1&amp;...</td>\n",
       "    </tr>\n",
       "    <tr>\n",
       "      <th>7</th>\n",
       "      <td>요새 파이썬으로 개발하는 이유</td>\n",
       "      <td>비트교육센터</td>\n",
       "      <td>... 파이썬의 장점에 대해 문의하셨네요. 파이썬의 가장 두드러진 장점은 쉬운 문법...</td>\n",
       "      <td>2022.07.28.</td>\n",
       "      <td>https://kin.naver.com/qna/detail.naver?d1id=1&amp;...</td>\n",
       "    </tr>\n",
       "    <tr>\n",
       "      <th>8</th>\n",
       "      <td>엑셀vba랑 파이썬 둘중에 어느걸 써야되는건가요? 엑셀로 가계부를 만들어 사용하려고...</td>\n",
       "      <td>예스폼</td>\n",
       "      <td>... 엑셀 VBA나, 파이썬 등으로 간단한 응용프로그램을 활용하는 방법도 있지만,...</td>\n",
       "      <td>2022.05.06.</td>\n",
       "      <td>https://kin.naver.com/qna/detail.naver?d1id=1&amp;...</td>\n",
       "    </tr>\n",
       "    <tr>\n",
       "      <th>9</th>\n",
       "      <td>파이썬 프로그램 주제 심리테스트 너무 흔한가요? 혹시 흔하면 파이썬 프로그램 주제 ...</td>\n",
       "      <td>오렌지팜</td>\n",
       "      <td>심리 테스트도 좋죠. 유튜브 보면 많죠. 로직은 어떤것을 얼마나 선택 햇느냐에 따라...</td>\n",
       "      <td>2022.06.14.</td>\n",
       "      <td>https://kin.naver.com/qna/detail.naver?d1id=1&amp;...</td>\n",
       "    </tr>\n",
       "  </tbody>\n",
       "</table>\n",
       "</div>"
      ],
      "text/plain": [
       "                                                  제목                작성자  \\\n",
       "0   파이썬 코드 오류 파이썬으로 그래프 그리려고 하는데 대체 왜 오류가 뜨는 걸까요? ㅠㅠ            D3fau1t   \n",
       "1   파이썬 인티저 파이썬에 인티저가 input인가요?? input 줄인게 int 맞나요??               폴리글랏   \n",
       "2  파이썬? 파이참? 파이참, 파이썬 둘 다 설치했는데 파이참 용량이 너무 커서요 삭제...             JHeaon   \n",
       "3  파이썬 국비지원 현재 프로그래밍에 대한 기초가 하나도 없고 일을 하고 있는데 온라인...        한국IT재단국비마스터   \n",
       "4  고1 정보 파이썬 질문 주피터노트북 파이썬으로 만들어야되는데 파이썬으로 사진에 있는...           you_****   \n",
       "5  파이썬을 입문하고싶습니다 코딩에 관심이생겨서 한번해보고싶은게 파이썬인데 파이썬으로 ...  수정쌤 010 4435 6165   \n",
       "6  인프런에서 파이썬 배우기 대학 수업에서 파이썬을 배우긴 했지만 굉장히 기초만 배웠고...               파이돌이   \n",
       "7                                   요새 파이썬으로 개발하는 이유             비트교육센터   \n",
       "8  엑셀vba랑 파이썬 둘중에 어느걸 써야되는건가요? 엑셀로 가계부를 만들어 사용하려고...                예스폼   \n",
       "9  파이썬 프로그램 주제 심리테스트 너무 흔한가요? 혹시 흔하면 파이썬 프로그램 주제 ...               오렌지팜   \n",
       "\n",
       "                                                 글내용          작성일  \\\n",
       "0  실행환경에서 패키지도 설치되어있고 실행은 가능한데 에디터에서 노란줄 표시되어있고 경...  2022.07.15.   \n",
       "1  파이썬의 인티저는 그냥 int일텐데요 input은 키보드로 입력받는 표준 입력 함수...  2022.07.06.   \n",
       "2  파이참은 텍스트 에디터에요! 용량이 크면 다른 텍스트 에디터 사용하시면 됩니다. 파...  2022.07.30.   \n",
       "3  안녕하세요 질문자님~ 파이썬 과정 현재 국비과정으로 많은 과정들이 운영되고 있습니다...  2022.07.15.   \n",
       "4  # 1 나이 = 19 이름 = '홍길동' 취미 = '운동' 직업 = '학생' pri...  2022.06.13.   \n",
       "5  안녕하세요 코딩에 관심이 생기셨는데 파이썬을 해보고싶으시고 파이썬에 대해 궁금하신게...  2022.07.01.   \n",
       "6  파이썬 기초 - ( 웹/백엔드 개발자 ) django, flask ... - (OA...  2022.06.12.   \n",
       "7  ... 파이썬의 장점에 대해 문의하셨네요. 파이썬의 가장 두드러진 장점은 쉬운 문법...  2022.07.28.   \n",
       "8  ... 엑셀 VBA나, 파이썬 등으로 간단한 응용프로그램을 활용하는 방법도 있지만,...  2022.05.06.   \n",
       "9  심리 테스트도 좋죠. 유튜브 보면 많죠. 로직은 어떤것을 얼마나 선택 햇느냐에 따라...  2022.06.14.   \n",
       "\n",
       "                                                 url  \n",
       "0  https://kin.naver.com/qna/detail.naver?d1id=1&...  \n",
       "1  https://kin.naver.com/qna/detail.naver?d1id=1&...  \n",
       "2  https://kin.naver.com/qna/detail.naver?d1id=1&...  \n",
       "3  https://kin.naver.com/qna/detail.naver?d1id=4&...  \n",
       "4  https://kin.naver.com/qna/detail.naver?d1id=1&...  \n",
       "5  https://kin.naver.com/qna/detail.naver?d1id=1&...  \n",
       "6  https://kin.naver.com/qna/detail.naver?d1id=1&...  \n",
       "7  https://kin.naver.com/qna/detail.naver?d1id=1&...  \n",
       "8  https://kin.naver.com/qna/detail.naver?d1id=1&...  \n",
       "9  https://kin.naver.com/qna/detail.naver?d1id=1&...  "
      ]
     },
     "metadata": {},
     "output_type": "display_data"
    }
   ],
   "source": [
    "res=[]\n",
    "for div in div_tags:\n",
    "    title=div.find('a','api_txt_lines question_text').text\n",
    "    writer=div.find('span','name').text\n",
    "    contents=div.find('a','api_txt_lines answer_text').text\n",
    "    date=div.find('span','desc').text\n",
    "    url=div.find('a','api_txt_lines question_text')['href']\n",
    "    tmp={'제목':title,\n",
    "         '작성자':writer,\n",
    "         '글내용':contents,\n",
    "         '작성일':date,\n",
    "         'url':url}\n",
    "    res.append(tmp)\n",
    "df=pd.DataFrame(res)\n",
    "display(df)"
   ]
  },
  {
   "cell_type": "code",
   "execution_count": null,
   "id": "32bca4e5",
   "metadata": {},
   "outputs": [],
   "source": []
  }
 ],
 "metadata": {
  "kernelspec": {
   "display_name": "Python 3 (ipykernel)",
   "language": "python",
   "name": "python3"
  },
  "language_info": {
   "codemirror_mode": {
    "name": "ipython",
    "version": 3
   },
   "file_extension": ".py",
   "mimetype": "text/x-python",
   "name": "python",
   "nbconvert_exporter": "python",
   "pygments_lexer": "ipython3",
   "version": "3.10.4"
  }
 },
 "nbformat": 4,
 "nbformat_minor": 5
}
