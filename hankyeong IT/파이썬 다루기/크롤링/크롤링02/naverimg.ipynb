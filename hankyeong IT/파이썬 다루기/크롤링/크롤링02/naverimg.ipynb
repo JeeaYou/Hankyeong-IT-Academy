{
 "cells": [
  {
   "cell_type": "code",
   "execution_count": 6,
   "id": "e5c5e875",
   "metadata": {},
   "outputs": [],
   "source": [
    "def connect(검색어,cnt=1):\n",
    "    from selenium import webdriver\n",
    "    from selenium.webdriver.common.keys import Keys\n",
    "    from selenium.webdriver.common.by import By\n",
    "    import time\n",
    "    import warnings\n",
    "    warnings.filterwarnings('ignore')\n",
    "    # url = 이미지 url\n",
    "    # urllib.request.urlretrieve(url, '파일 이름')\n",
    "\n",
    "    url='https://search.naver.com/search.naver?where=image&sm=tab_jum&query='+검색어\n",
    "\n",
    "    driver=webdriver.Chrome('./chromedriver.exe')\n",
    "    driver.get(url)\n",
    "    time.sleep(2)\n",
    "\n",
    "    for i in range(cnt):\n",
    "        driver.execute_script(\"window.scrollTo(0,document.body.scrollHeight);\")\n",
    "        time.sleep(2)\n",
    "    html=driver.page_source\n",
    "\n",
    "    driver.close()\n",
    "    driver.quit()\n",
    "    return html\n",
    "    \n",
    "def naver(검색어,cnt=1):\n",
    "    from bs4 import BeautifulSoup as bs\n",
    "    import urllib.request\n",
    "    import os\n",
    "    import time\n",
    "    \n",
    "    soup=bs(connect(검색어,cnt),'html.parser')\n",
    "    elems=soup.find_all('img','_image _listImage')\n",
    "    imgs=[]\n",
    "    for elem in elems:\n",
    "        imgs.append(elem['src'])\n",
    "\n",
    "    os.makedirs(검색어,exist_ok=True)\n",
    "    for idx,img in enumerate(res):\n",
    "        urllib.request.urlretrieve(img, f'./{검색어}/{검색어}_google_{idx}.jpg')\n",
    "\n",
    "    return"
   ]
  },
  {
   "cell_type": "code",
   "execution_count": null,
   "id": "bd6f5333",
   "metadata": {},
   "outputs": [],
   "source": []
  }
 ],
 "metadata": {
  "kernelspec": {
   "display_name": "Python 3 (ipykernel)",
   "language": "python",
   "name": "python3"
  },
  "language_info": {
   "codemirror_mode": {
    "name": "ipython",
    "version": 3
   },
   "file_extension": ".py",
   "mimetype": "text/x-python",
   "name": "python",
   "nbconvert_exporter": "python",
   "pygments_lexer": "ipython3",
   "version": "3.10.4"
  }
 },
 "nbformat": 4,
 "nbformat_minor": 5
}
