{
 "cells": [
  {
   "cell_type": "code",
   "execution_count": null,
   "id": "380b9b5c",
   "metadata": {},
   "outputs": [],
   "source": [
    "1.네이버\\\n",
    "2.다음\n",
    "3구글 \n",
    "4픽사베이\n",
    "\n",
    "=naver_img('검색어',page=6)#page-> 스크롤바 몇번 내려갈래?\n",
    "=google_img('검색어',page=2)# page-> 결과더보기 몇번 누르실까요?\n",
    "\n",
    "파일명:강아지_naver_날짜_1\n",
    "    \n",
    "1.구글 이미지 크롤링=> ./강아지/강아지_google_20220811_1.jpg"
   ]
  },
  {
   "cell_type": "code",
   "execution_count": 9,
   "id": "441d3af5",
   "metadata": {},
   "outputs": [],
   "source": [
    "from selenium import webdriver\n",
    "from selenium.webdriver.common.keys import Keys\n",
    "from selenium.webdriver.common.by import By\n",
    "from bs4 import BeautifulSoup as bs\n",
    "import requests\n",
    "import time\n",
    "from tqdm import tqdm\n",
    "import urllib.request\n",
    "import os\n",
    "import warnings\n",
    "warnings.filterwarnings('ignore')"
   ]
  },
  {
   "cell_type": "code",
   "execution_count": 25,
   "id": "ec1a58b0",
   "metadata": {},
   "outputs": [],
   "source": [
    "검색어='강아지'\n",
    "url='https://www.google.com/search?q='+검색어+'&tbm=isch&ved=2ahUKEwiY28bPxb35AhVYA6YKHUtqDxwQ2-cCegQIABAA&oq='+검색어+'&gs_lcp=CgNpbWcQDDIECCMQJzIICAAQgAQQsQMyCAgAEIAEELEDMgsIABCABBCxAxCDATIICAAQgAQQsQMyBQgAEIAEMgUIABCABDIFCAAQgAQyBQgAEIAEMgUIABCABFAAWABg3whoAHAAeACAAWyIAWySAQMwLjGYAQCqAQtnd3Mtd2l6LWltZ8ABAQ&sclient=img&ei=9070YtiDJdiGmAXL1L3gAQ&bih=927&biw=1117'\n",
    "\n",
    "driver=webdriver.Chrome('./chromedriver.exe')\n",
    "driver.get(url)\n",
    "time.sleep(2)\n",
    "cnt=2\n",
    "html=driver.page_source\n",
    "\n",
    "for i in range(cnt):\n",
    "    driver.execute_script(\"window.scrollTo(0,document.body.scrollHeight);\")\n",
    "    time.sleep(2)\n",
    "    try:\n",
    "        driver.find_element(By.XPATH,'//*[@id=\"islmp\"]/div/div/div/div[1]/div[2]/div[2]/input').click()\n",
    "        time.sleep(2)\n",
    "    except:\n",
    "        pass\n",
    "    \n",
    "driver.close()\n",
    "driver.quit()\n",
    "\n",
    "soup=bs(html,'html.parser')\n",
    "\n",
    "elems=soup.find_all('img','rg_i Q4LuWd')\n",
    "res=[]\n",
    "\n",
    "for i in elems:\n",
    "    try:\n",
    "        res.append(i['src'])\n",
    "    except:\n",
    "        res.append(i['data-src'])\n",
    "        \n",
    "os.makedirs(검색어,exist_ok=True)\n",
    "for idx,img in enumerate(res):\n",
    "        urllib.request.urlretrieve(img, f'./{검색어}/{검색어}_google_{idx}.jpg')\n",
    "        "
   ]
  },
  {
   "cell_type": "code",
   "execution_count": null,
   "id": "f7573c5a",
   "metadata": {},
   "outputs": [],
   "source": []
  },
  {
   "cell_type": "code",
   "execution_count": null,
   "id": "9dd1945b",
   "metadata": {},
   "outputs": [],
   "source": []
  },
  {
   "cell_type": "code",
   "execution_count": null,
   "id": "440ae63e",
   "metadata": {},
   "outputs": [],
   "source": []
  },
  {
   "cell_type": "code",
   "execution_count": null,
   "id": "76632b57",
   "metadata": {},
   "outputs": [],
   "source": []
  },
  {
   "cell_type": "code",
   "execution_count": null,
   "id": "21084d31",
   "metadata": {},
   "outputs": [],
   "source": []
  }
 ],
 "metadata": {
  "kernelspec": {
   "display_name": "Python 3.10.4 64-bit",
   "language": "python",
   "name": "python3"
  },
  "language_info": {
   "codemirror_mode": {
    "name": "ipython",
    "version": 3
   },
   "file_extension": ".py",
   "mimetype": "text/x-python",
   "name": "python",
   "nbconvert_exporter": "python",
   "pygments_lexer": "ipython3",
   "version": "3.10.4"
  },
  "vscode": {
   "interpreter": {
    "hash": "fb4569285eef3a3450cb62085a5b1e0da4bce0af555edc33dcf29baf3acc1368"
   }
  }
 },
 "nbformat": 4,
 "nbformat_minor": 5
}
