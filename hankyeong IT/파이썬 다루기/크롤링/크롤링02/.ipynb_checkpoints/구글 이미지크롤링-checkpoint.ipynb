{
 "cells": [
  {
   "cell_type": "code",
   "execution_count": null,
   "id": "2443c8dd",
   "metadata": {},
   "outputs": [],
   "source": [
    "1.네이버\\\n",
    "2.다음\n",
    "3구글 \n",
    "4픽사베이\n",
    "\n",
    "=naver_img('검색어',page=6)#page-> 스크롤바 몇번 내려갈래?\n",
    "=google_img('검색어',page=2)# page-> 결과더보기 몇번 누르실까요?\n",
    "\n",
    "파일명:강아지_naver_날짜_1\n",
    "    \n",
    "1.구글 이미지 크롤링=> ./강아지/강아지_google_20220811_1.jpg"
   ]
  },
  {
   "cell_type": "code",
   "execution_count": 1,
   "id": "d242fde3",
   "metadata": {},
   "outputs": [],
   "source": [
    "from selenium import webdriver\n",
    "from selenium.webdriver.common.keys import Keys\n",
    "from selenium.webdriver.common.by import By\n",
    "from bs4 import BeautifulSoup as bs\n",
    "import requests\n",
    "import time\n",
    "from tqdm import tqdm\n",
    "import urllib.request\n",
    "import os"
   ]
  },
  {
   "cell_type": "code",
   "execution_count": 5,
   "id": "8ebd192e",
   "metadata": {},
   "outputs": [
    {
     "data": {
      "text/plain": [
       "'https://www.google.com/search?q=강아지&tbm=isch&ved=2ahUKEwiY28bPxb35AhVYA6YKHUtqDxwQ2-cCegQIABAA&oq=강아지&gs_lcp=CgNpbWcQDDIECCMQJzIICAAQgAQQsQMyCAgAEIAEELEDMgsIABCABBCxAxCDATIICAAQgAQQsQMyBQgAEIAEMgUIABCABDIFCAAQgAQyBQgAEIAEMgUIABCABFAAWABg3whoAHAAeACAAWyIAWySAQMwLjGYAQCqAQtnd3Mtd2l6LWltZ8ABAQ&sclient=img&ei=9070YtiDJdiGmAXL1L3gAQ&bih=927&biw=1117'"
      ]
     },
     "execution_count": 5,
     "metadata": {},
     "output_type": "execute_result"
    }
   ],
   "source": [
    "검색어='강아지'\n",
    "url='https://www.google.com/search?q='+검색어+'&tbm=isch&ved=2ahUKEwiY28bPxb35AhVYA6YKHUtqDxwQ2-cCegQIABAA&oq='+검색어+'&gs_lcp=CgNpbWcQDDIECCMQJzIICAAQgAQQsQMyCAgAEIAEELEDMgsIABCABBCxAxCDATIICAAQgAQQsQMyBQgAEIAEMgUIABCABDIFCAAQgAQyBQgAEIAEMgUIABCABFAAWABg3whoAHAAeACAAWyIAWySAQMwLjGYAQCqAQtnd3Mtd2l6LWltZ8ABAQ&sclient=img&ei=9070YtiDJdiGmAXL1L3gAQ&bih=927&biw=1117'\n",
    "url"
   ]
  },
  {
   "cell_type": "code",
   "execution_count": null,
   "id": "f326c6bd",
   "metadata": {},
   "outputs": [],
   "source": [
    "https://www.google.com/search?q=%EA%B0%95%EC%95%84%EC%A7%80&tbm=isch&ved=2ahUKEwjwgpqRxb35AhXsyIsBHdE-CXgQ2-cCegQIABAA&oq=%EA%B0%95%EC%95%84%EC%A7%80&gs_lcp=CgNpbWcQAzIECCMQJzIICAAQgAQQsQMyCAgAEIAEELEDMgsIABCABBCxAxCDATIICAAQgAQQsQMyBQgAEIAEMgUIABCABDIFCAAQgAQyBQgAEIAEMgUIABCABFAAWABgwgZoAHAAeACAAXOIAXOSAQMwLjGYAQCqAQtnd3Mtd2l6LWltZ8ABAQ&sclient=img&ei=dE70YvD4M-yRr7wP0f2kwAc&bih=927&biw=1117"
   ]
  },
  {
   "cell_type": "code",
   "execution_count": 7,
   "id": "1fe02ace",
   "metadata": {},
   "outputs": [
    {
     "data": {
      "text/plain": [
       "'https://www.google.com/search?q=강아지&tbm=isch&ved=2ahUKEwiY28bPxb35AhVYA6YKHUtqDxwQ2-cCegQIABAA&oq=강아지'"
      ]
     },
     "execution_count": 7,
     "metadata": {},
     "output_type": "execute_result"
    }
   ],
   "source": [
    "검색어='강아지'\n",
    "url='https://www.google.com/search?q='+검색어+'&tbm=isch&ved=2ahUKEwiY28bPxb35AhVYA6YKHUtqDxwQ2-cCegQIABAA&oq='+검색어\n",
    "url"
   ]
  },
  {
   "cell_type": "code",
   "execution_count": null,
   "id": "fe460c17",
   "metadata": {},
   "outputs": [],
   "source": []
  },
  {
   "cell_type": "code",
   "execution_count": null,
   "id": "01a75ddb",
   "metadata": {},
   "outputs": [],
   "source": []
  },
  {
   "cell_type": "code",
   "execution_count": null,
   "id": "7b5b9f68",
   "metadata": {},
   "outputs": [],
   "source": []
  },
  {
   "cell_type": "code",
   "execution_count": null,
   "id": "e0ca4e14",
   "metadata": {},
   "outputs": [],
   "source": []
  },
  {
   "cell_type": "code",
   "execution_count": null,
   "id": "b6921fdb",
   "metadata": {},
   "outputs": [],
   "source": []
  },
  {
   "cell_type": "code",
   "execution_count": null,
   "id": "8e85c02f",
   "metadata": {},
   "outputs": [],
   "source": []
  },
  {
   "cell_type": "code",
   "execution_count": null,
   "id": "1259ec26",
   "metadata": {},
   "outputs": [],
   "source": []
  },
  {
   "cell_type": "code",
   "execution_count": null,
   "id": "26294f16",
   "metadata": {},
   "outputs": [],
   "source": []
  }
 ],
 "metadata": {
  "kernelspec": {
   "display_name": "Python 3 (ipykernel)",
   "language": "python",
   "name": "python3"
  },
  "language_info": {
   "codemirror_mode": {
    "name": "ipython",
    "version": 3
   },
   "file_extension": ".py",
   "mimetype": "text/x-python",
   "name": "python",
   "nbconvert_exporter": "python",
   "pygments_lexer": "ipython3",
   "version": "3.10.4"
  }
 },
 "nbformat": 4,
 "nbformat_minor": 5
}
