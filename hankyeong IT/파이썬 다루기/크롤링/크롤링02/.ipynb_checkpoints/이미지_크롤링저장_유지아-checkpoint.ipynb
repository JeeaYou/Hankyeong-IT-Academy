{
 "cells": [
  {
   "cell_type": "code",
   "execution_count": 46,
   "id": "3bdfd0c8",
   "metadata": {},
   "outputs": [],
   "source": [
    "from selenium import webdriver\n",
    "from selenium.webdriver.common.keys import Keys\n",
    "from selenium.webdriver.common.by import By\n",
    "from bs4 import BeautifulStoneSoup as bs\n",
    "import requests\n",
    "import pandas as pd\n",
    "import time\n",
    "from tqdm import tqdm\n",
    "import urllib.request\n",
    "import os\n",
    "# url = 이미지 url\n",
    "# urllib.request.urlretrieve(url, '파일 이름')"
   ]
  },
  {
   "cell_type": "code",
   "execution_count": null,
   "id": "e2145ea4",
   "metadata": {},
   "outputs": [],
   "source": [
    "# 검색어=input('이미지 검색어를 입력해 주세요:')\n",
    "# count=int(input('스크롤 다운 횟수 입력(최대:6):'))\n",
    "# if count>6:\n",
    "#     count=6\n",
    "\n",
    "검색어='고양이'\n",
    "os.makedirs(f'./{검색어}/', exist_ok=True)\n",
    "url='https://search.daum.net/search?w=img&nil_search=btn&DA=NTB&enc=utf8&q='+검색어\n",
    "\n",
    "driver=webdriver.Chrome('./chromedriver.exe')\n",
    "driver.get(url)\n",
    "time.sleep(2)\n",
    "\n",
    "#아래쪽 끝까지 스크롤 이동\n",
    "for i in range(6):\n",
    "    driver.execute_script(\"window.scrollTo(0,document.body.scrollHeight);\")\n",
    "    time.sleep(2)\n",
    "    elems=driver.find_elements(By.CLASS_NAME,'thumb_img')\n",
    "    imgs=[]\n",
    "    for elem in elems:\n",
    "        imgs.append(elem.get_attribute('src'))\n",
    "        \n",
    "        for idx,img in enumerate(imgs):\n",
    "            urllib.request.urlretrieve(img, f'./{검색어}/{검색어}{idx}.jpg')\n",
    "\n",
    "driver.close()\n",
    "driver.quit()\n"
   ]
  },
  {
   "cell_type": "code",
   "execution_count": 45,
   "id": "5fb1ca41",
   "metadata": {},
   "outputs": [
    {
     "name": "stdout",
     "output_type": "stream",
     "text": [
      "1\n"
     ]
    }
   ],
   "source": [
    "print(len(imgs))"
   ]
  },
  {
   "cell_type": "code",
   "execution_count": 36,
   "id": "82c0df7d",
   "metadata": {},
   "outputs": [],
   "source": []
  },
  {
   "cell_type": "code",
   "execution_count": null,
   "id": "61224e1a",
   "metadata": {},
   "outputs": [],
   "source": [
    "#검색어 풀더 만들기\n",
    "#동일한 이름의 풀더 있으면 무시\n",
    "#./검색어/검색어{idx}.jpg"
   ]
  }
 ],
 "metadata": {
  "kernelspec": {
   "display_name": "Python 3 (ipykernel)",
   "language": "python",
   "name": "python3"
  },
  "language_info": {
   "codemirror_mode": {
    "name": "ipython",
    "version": 3
   },
   "file_extension": ".py",
   "mimetype": "text/x-python",
   "name": "python",
   "nbconvert_exporter": "python",
   "pygments_lexer": "ipython3",
   "version": "3.10.4"
  }
 },
 "nbformat": 4,
 "nbformat_minor": 5
}
