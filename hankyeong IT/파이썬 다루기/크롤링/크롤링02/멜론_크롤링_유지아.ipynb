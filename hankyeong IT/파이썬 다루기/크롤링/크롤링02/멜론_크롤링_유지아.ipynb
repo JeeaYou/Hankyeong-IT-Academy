{
 "cells": [
  {
   "cell_type": "code",
   "execution_count": 1,
   "id": "7bf32ae1",
   "metadata": {},
   "outputs": [],
   "source": [
    "import requests\n",
    "import pandas as pd\n",
    "from bs4 import BeautifulSoup as bs"
   ]
  },
  {
   "cell_type": "code",
   "execution_count": 3,
   "id": "b1845355",
   "metadata": {},
   "outputs": [],
   "source": [
    "url='https://www.melon.com/chart/day/index.htm'\n",
    "html=requests.get(url)"
   ]
  },
  {
   "cell_type": "code",
   "execution_count": 4,
   "id": "92093a37",
   "metadata": {},
   "outputs": [
    {
     "data": {
      "text/plain": []
     },
     "execution_count": 4,
     "metadata": {},
     "output_type": "execute_result"
    }
   ],
   "source": [
    "bs(html.text,'html.parser')"
   ]
  },
  {
   "cell_type": "code",
   "execution_count": 6,
   "id": "5d9d7726",
   "metadata": {},
   "outputs": [],
   "source": [
    "# !pip install selenium"
   ]
  },
  {
   "cell_type": "code",
   "execution_count": 1,
   "id": "8997c8c8",
   "metadata": {},
   "outputs": [],
   "source": [
    "from selenium import webdriver\n",
    "from selenium.webdriver.common.keys import Keys\n",
    "from selenium.webdriver.common.by import By\n",
    "import time\n",
    "import requests\n",
    "import pandas as pd\n",
    "from bs4 import BeautifulSoup as bs"
   ]
  },
  {
   "cell_type": "code",
   "execution_count": 3,
   "id": "a3157372",
   "metadata": {},
   "outputs": [
    {
     "name": "stderr",
     "output_type": "stream",
     "text": [
      "C:\\Users\\yumei\\AppData\\Local\\Temp\\ipykernel_17908\\1919684144.py:1: DeprecationWarning: executable_path has been deprecated, please pass in a Service object\n",
      "  driver=webdriver.Chrome('./chromedriver.exe')\n"
     ]
    }
   ],
   "source": [
    "driver=webdriver.Chrome('./chromedriver.exe')\n",
    "url='https://www.melon.com/chart/day/index.htm'\n",
    "driver.get(url)\n",
    "time.sleep(2)\n",
    "html=driver.page_source\n",
    "driver.close()\n",
    "driver.quit()"
   ]
  },
  {
   "cell_type": "code",
   "execution_count": 4,
   "id": "0e2dbde1",
   "metadata": {},
   "outputs": [
    {
     "data": {
      "text/plain": [
       "str"
      ]
     },
     "execution_count": 4,
     "metadata": {},
     "output_type": "execute_result"
    }
   ],
   "source": [
    "type(html)"
   ]
  },
  {
   "cell_type": "code",
   "execution_count": 52,
   "id": "5446c6bd",
   "metadata": {},
   "outputs": [],
   "source": [
    "soup=bs(html,'html.parser')"
   ]
  },
  {
   "cell_type": "code",
   "execution_count": 86,
   "id": "8d0ebc6a",
   "metadata": {},
   "outputs": [
    {
     "data": {
      "text/html": [
       "<div>\n",
       "<style scoped>\n",
       "    .dataframe tbody tr th:only-of-type {\n",
       "        vertical-align: middle;\n",
       "    }\n",
       "\n",
       "    .dataframe tbody tr th {\n",
       "        vertical-align: top;\n",
       "    }\n",
       "\n",
       "    .dataframe thead th {\n",
       "        text-align: right;\n",
       "    }\n",
       "</style>\n",
       "<table border=\"1\" class=\"dataframe\">\n",
       "  <thead>\n",
       "    <tr style=\"text-align: right;\">\n",
       "      <th></th>\n",
       "      <th>순위</th>\n",
       "      <th>노래</th>\n",
       "      <th>가수</th>\n",
       "      <th>좋아요</th>\n",
       "    </tr>\n",
       "  </thead>\n",
       "  <tbody>\n",
       "    <tr>\n",
       "      <th>0</th>\n",
       "      <td>1</td>\n",
       "      <td>그때 그 순간 그대로 (그그그)</td>\n",
       "      <td>WSG워너비 (가야G)</td>\n",
       "      <td>96,804</td>\n",
       "    </tr>\n",
       "    <tr>\n",
       "      <th>1</th>\n",
       "      <td>2</td>\n",
       "      <td>보고싶었어</td>\n",
       "      <td>WSG워너비 (4FIRE)</td>\n",
       "      <td>95,590</td>\n",
       "    </tr>\n",
       "    <tr>\n",
       "      <th>2</th>\n",
       "      <td>3</td>\n",
       "      <td>LOVE DIVE</td>\n",
       "      <td>IVE (아이브)</td>\n",
       "      <td>177,382</td>\n",
       "    </tr>\n",
       "    <tr>\n",
       "      <th>3</th>\n",
       "      <td>4</td>\n",
       "      <td>Attention</td>\n",
       "      <td>NewJeans</td>\n",
       "      <td>66,858</td>\n",
       "    </tr>\n",
       "    <tr>\n",
       "      <th>4</th>\n",
       "      <td>5</td>\n",
       "      <td>SNEAKERS</td>\n",
       "      <td>ITZY (있지)</td>\n",
       "      <td>46,275</td>\n",
       "    </tr>\n",
       "    <tr>\n",
       "      <th>...</th>\n",
       "      <td>...</td>\n",
       "      <td>...</td>\n",
       "      <td>...</td>\n",
       "      <td>...</td>\n",
       "    </tr>\n",
       "    <tr>\n",
       "      <th>95</th>\n",
       "      <td>96</td>\n",
       "      <td>눈이 오잖아(Feat.헤이즈)</td>\n",
       "      <td>이무진</td>\n",
       "      <td>90,532</td>\n",
       "    </tr>\n",
       "    <tr>\n",
       "      <th>96</th>\n",
       "      <td>97</td>\n",
       "      <td>사이렌 Remix (Feat. UNEDUCATED KID, Paul Blanco)</td>\n",
       "      <td>호미들</td>\n",
       "      <td>147,980</td>\n",
       "    </tr>\n",
       "    <tr>\n",
       "      <th>97</th>\n",
       "      <td>98</td>\n",
       "      <td>사랑해 진짜</td>\n",
       "      <td>임영웅</td>\n",
       "      <td>39,412</td>\n",
       "    </tr>\n",
       "    <tr>\n",
       "      <th>98</th>\n",
       "      <td>99</td>\n",
       "      <td>어떻게 이별까지 사랑하겠어, 널 사랑하는 거지</td>\n",
       "      <td>AKMU (악뮤)</td>\n",
       "      <td>387,530</td>\n",
       "    </tr>\n",
       "    <tr>\n",
       "      <th>99</th>\n",
       "      <td>100</td>\n",
       "      <td>Darl+ing</td>\n",
       "      <td>세븐틴</td>\n",
       "      <td>81,727</td>\n",
       "    </tr>\n",
       "  </tbody>\n",
       "</table>\n",
       "<p>100 rows × 4 columns</p>\n",
       "</div>"
      ],
      "text/plain": [
       "     순위                                             노래              가수  \\\n",
       "0     1                              그때 그 순간 그대로 (그그그)    WSG워너비 (가야G)   \n",
       "1     2                                          보고싶었어  WSG워너비 (4FIRE)   \n",
       "2     3                                      LOVE DIVE       IVE (아이브)   \n",
       "3     4                                      Attention        NewJeans   \n",
       "4     5                                       SNEAKERS       ITZY (있지)   \n",
       "..  ...                                            ...             ...   \n",
       "95   96                               눈이 오잖아(Feat.헤이즈)             이무진   \n",
       "96   97  사이렌 Remix (Feat. UNEDUCATED KID, Paul Blanco)             호미들   \n",
       "97   98                                         사랑해 진짜             임영웅   \n",
       "98   99                      어떻게 이별까지 사랑하겠어, 널 사랑하는 거지       AKMU (악뮤)   \n",
       "99  100                                       Darl+ing             세븐틴   \n",
       "\n",
       "        좋아요  \n",
       "0    96,804  \n",
       "1    95,590  \n",
       "2   177,382  \n",
       "3    66,858  \n",
       "4    46,275  \n",
       "..      ...  \n",
       "95   90,532  \n",
       "96  147,980  \n",
       "97   39,412  \n",
       "98  387,530  \n",
       "99   81,727  \n",
       "\n",
       "[100 rows x 4 columns]"
      ]
     },
     "execution_count": 86,
     "metadata": {},
     "output_type": "execute_result"
    }
   ],
   "source": [
    "t_body=soup.find('tbody')\n",
    "tr_tags=t_body.find_all('tr')\n",
    "res=[]\n",
    "for tr in tr_tags:\n",
    "    rank=tr.find('span','rank').text\n",
    "    title=tr.find('div','ellipsis rank01').find('a').text\n",
    "    artist=tr.find('div','ellipsis rank02').find('a').text\n",
    "    like=tr.find('span','cnt').text.strip('\\n총건수\\n')\n",
    "    res.append([rank,title,artist,like])\n",
    "df=pd.DataFrame(res)\n",
    "df.columns=['순위','노래','가수','좋아요']\n",
    "df"
   ]
  },
  {
   "cell_type": "code",
   "execution_count": 47,
   "id": "04b60908",
   "metadata": {},
   "outputs": [
    {
     "data": {
      "text/plain": [
       "'WSG워너비 (가야G)'"
      ]
     },
     "execution_count": 47,
     "metadata": {},
     "output_type": "execute_result"
    }
   ],
   "source": [
    "soup.find('div','ellipsis rank02').find('a').text"
   ]
  },
  {
   "cell_type": "code",
   "execution_count": 87,
   "id": "09189fdd",
   "metadata": {},
   "outputs": [
    {
     "data": {
      "text/plain": [
       "'96,804'"
      ]
     },
     "execution_count": 87,
     "metadata": {},
     "output_type": "execute_result"
    }
   ],
   "source": [
    "t_body.find('span','cnt').text.strip('\\n총건수\\n')"
   ]
  },
  {
   "cell_type": "code",
   "execution_count": 67,
   "id": "782dfde5",
   "metadata": {},
   "outputs": [],
   "source": []
  },
  {
   "cell_type": "code",
   "execution_count": 68,
   "id": "eb56dbe0",
   "metadata": {},
   "outputs": [
    {
     "data": {
      "text/html": [
       "<div>\n",
       "<style scoped>\n",
       "    .dataframe tbody tr th:only-of-type {\n",
       "        vertical-align: middle;\n",
       "    }\n",
       "\n",
       "    .dataframe tbody tr th {\n",
       "        vertical-align: top;\n",
       "    }\n",
       "\n",
       "    .dataframe thead th {\n",
       "        text-align: right;\n",
       "    }\n",
       "</style>\n",
       "<table border=\"1\" class=\"dataframe\">\n",
       "  <thead>\n",
       "    <tr style=\"text-align: right;\">\n",
       "      <th></th>\n",
       "      <th>노래</th>\n",
       "      <th>가수</th>\n",
       "      <th>좋아요</th>\n",
       "    </tr>\n",
       "  </thead>\n",
       "  <tbody>\n",
       "    <tr>\n",
       "      <th>0</th>\n",
       "      <td>그때 그 순간 그대로 (그그그)</td>\n",
       "      <td>WSG워너비 (가야G)</td>\n",
       "      <td>96,804</td>\n",
       "    </tr>\n",
       "    <tr>\n",
       "      <th>1</th>\n",
       "      <td>보고싶었어</td>\n",
       "      <td>WSG워너비 (4FIRE)</td>\n",
       "      <td>95,590</td>\n",
       "    </tr>\n",
       "    <tr>\n",
       "      <th>2</th>\n",
       "      <td>LOVE DIVE</td>\n",
       "      <td>IVE (아이브)</td>\n",
       "      <td>177,382</td>\n",
       "    </tr>\n",
       "    <tr>\n",
       "      <th>3</th>\n",
       "      <td>Attention</td>\n",
       "      <td>NewJeans</td>\n",
       "      <td>66,858</td>\n",
       "    </tr>\n",
       "    <tr>\n",
       "      <th>4</th>\n",
       "      <td>SNEAKERS</td>\n",
       "      <td>ITZY (있지)</td>\n",
       "      <td>46,275</td>\n",
       "    </tr>\n",
       "    <tr>\n",
       "      <th>...</th>\n",
       "      <td>...</td>\n",
       "      <td>...</td>\n",
       "      <td>...</td>\n",
       "    </tr>\n",
       "    <tr>\n",
       "      <th>95</th>\n",
       "      <td>눈이 오잖아(Feat.헤이즈)</td>\n",
       "      <td>이무진</td>\n",
       "      <td>90,532</td>\n",
       "    </tr>\n",
       "    <tr>\n",
       "      <th>96</th>\n",
       "      <td>사이렌 Remix (Feat. UNEDUCATED KID, Paul Blanco)</td>\n",
       "      <td>호미들</td>\n",
       "      <td>147,980</td>\n",
       "    </tr>\n",
       "    <tr>\n",
       "      <th>97</th>\n",
       "      <td>사랑해 진짜</td>\n",
       "      <td>임영웅</td>\n",
       "      <td>39,412</td>\n",
       "    </tr>\n",
       "    <tr>\n",
       "      <th>98</th>\n",
       "      <td>어떻게 이별까지 사랑하겠어, 널 사랑하는 거지</td>\n",
       "      <td>AKMU (악뮤)</td>\n",
       "      <td>387,530</td>\n",
       "    </tr>\n",
       "    <tr>\n",
       "      <th>99</th>\n",
       "      <td>Darl+ing</td>\n",
       "      <td>세븐틴</td>\n",
       "      <td>81,727</td>\n",
       "    </tr>\n",
       "  </tbody>\n",
       "</table>\n",
       "<p>100 rows × 3 columns</p>\n",
       "</div>"
      ],
      "text/plain": [
       "                                               노래              가수      좋아요\n",
       "0                               그때 그 순간 그대로 (그그그)    WSG워너비 (가야G)   96,804\n",
       "1                                           보고싶었어  WSG워너비 (4FIRE)   95,590\n",
       "2                                       LOVE DIVE       IVE (아이브)  177,382\n",
       "3                                       Attention        NewJeans   66,858\n",
       "4                                        SNEAKERS       ITZY (있지)   46,275\n",
       "..                                            ...             ...      ...\n",
       "95                               눈이 오잖아(Feat.헤이즈)             이무진   90,532\n",
       "96  사이렌 Remix (Feat. UNEDUCATED KID, Paul Blanco)             호미들  147,980\n",
       "97                                         사랑해 진짜             임영웅   39,412\n",
       "98                      어떻게 이별까지 사랑하겠어, 널 사랑하는 거지       AKMU (악뮤)  387,530\n",
       "99                                       Darl+ing             세븐틴   81,727\n",
       "\n",
       "[100 rows x 3 columns]"
      ]
     },
     "execution_count": 68,
     "metadata": {},
     "output_type": "execute_result"
    }
   ],
   "source": []
  },
  {
   "cell_type": "code",
   "execution_count": null,
   "id": "92079c61",
   "metadata": {},
   "outputs": [],
   "source": []
  }
 ],
 "metadata": {
  "kernelspec": {
   "display_name": "Python 3 (ipykernel)",
   "language": "python",
   "name": "python3"
  },
  "language_info": {
   "codemirror_mode": {
    "name": "ipython",
    "version": 3
   },
   "file_extension": ".py",
   "mimetype": "text/x-python",
   "name": "python",
   "nbconvert_exporter": "python",
   "pygments_lexer": "ipython3",
   "version": "3.10.4"
  }
 },
 "nbformat": 4,
 "nbformat_minor": 5
}
