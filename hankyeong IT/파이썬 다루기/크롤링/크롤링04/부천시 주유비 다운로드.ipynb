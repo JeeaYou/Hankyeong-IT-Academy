{
 "cells": [
  {
   "cell_type": "code",
   "execution_count": 3,
   "id": "df2771ba",
   "metadata": {},
   "outputs": [
    {
     "name": "stdout",
     "output_type": "stream",
     "text": [
      "https://www.opinet.co.kr/\n"
     ]
    }
   ],
   "source": [
    "url='https://www.opinet.co.kr/'\n",
    "print(url)\n",
    "url='https://www.opinet.co.kr/searRgSelect.do'"
   ]
  },
  {
   "cell_type": "code",
   "execution_count": 4,
   "id": "c2dbc37d",
   "metadata": {},
   "outputs": [],
   "source": [
    "from selenium import webdriver\n",
    "from selenium.webdriver.common.by import By\n",
    "from selenium.webdriver.common.keys import Keys\n",
    "import time\n",
    "import warnings\n",
    "warnings.filterwarnings('ignore')"
   ]
  },
  {
   "cell_type": "code",
   "execution_count": null,
   "id": "df0a2a2f",
   "metadata": {},
   "outputs": [],
   "source": [
    "driver=webdriver.Chrome('./chromedriver.exe')\n",
    "driver.maximize_window()\n",
    "url='https://www.opinet.co.kr/'\n",
    "driver.get(url)\n",
    "time.sleep(2)\n",
    "url2='https://www.opinet.co.kr/searRgSelect.do'\n",
    "driver.get(url2)\n",
    "time.sleep(2)\n",
    "\n",
    "#구선택\n",
    "driver.find_element(By.XPATH,'//*[@id=\"SIGUNGU_NM0\"]').send_keys('부천시')\n",
    "time.sleep(1)\n",
    "\n",
    "#엑셀 저장 클릭\n",
    "driver.find_element(By.XPATH,'//*[@id=\"glopopd_excel\"]/span').click()\n",
    "time.sleep(2)\n",
    "\n",
    "driver.close()\n",
    "driver.quit()"
   ]
  },
  {
   "cell_type": "code",
   "execution_count": null,
   "id": "cd98a9d1",
   "metadata": {},
   "outputs": [],
   "source": []
  }
 ],
 "metadata": {
  "kernelspec": {
   "display_name": "Python 3 (ipykernel)",
   "language": "python",
   "name": "python3"
  },
  "language_info": {
   "codemirror_mode": {
    "name": "ipython",
    "version": 3
   },
   "file_extension": ".py",
   "mimetype": "text/x-python",
   "name": "python",
   "nbconvert_exporter": "python",
   "pygments_lexer": "ipython3",
   "version": "3.10.4"
  }
 },
 "nbformat": 4,
 "nbformat_minor": 5
}
