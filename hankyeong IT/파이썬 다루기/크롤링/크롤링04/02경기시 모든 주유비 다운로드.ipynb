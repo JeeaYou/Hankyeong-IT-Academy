{
 "cells": [
  {
   "cell_type": "code",
   "execution_count": 1,
   "id": "df2771ba",
   "metadata": {},
   "outputs": [
    {
     "name": "stdout",
     "output_type": "stream",
     "text": [
      "https://www.opinet.co.kr/\n"
     ]
    }
   ],
   "source": [
    "url='https://www.opinet.co.kr/'\n",
    "print(url)\n",
    "url='https://www.opinet.co.kr/searRgSelect.do'"
   ]
  },
  {
   "cell_type": "code",
   "execution_count": 2,
   "id": "c2dbc37d",
   "metadata": {},
   "outputs": [],
   "source": [
    "from selenium import webdriver\n",
    "from selenium.webdriver.common.by import By\n",
    "from selenium.webdriver.common.keys import Keys\n",
    "import time\n",
    "import warnings\n",
    "warnings.filterwarnings('ignore')\n"
   ]
  },
  {
   "cell_type": "code",
   "execution_count": 3,
   "id": "df0a2a2f",
   "metadata": {},
   "outputs": [],
   "source": [
    "driver=webdriver.Chrome('./chromedriver.exe')\n",
    "driver.maximize_window()\n",
    "url='https://www.opinet.co.kr/'\n",
    "driver.get(url)\n",
    "time.sleep(2)\n",
    "url2='https://www.opinet.co.kr/searRgSelect.do'\n",
    "driver.get(url2)\n",
    "time.sleep(2)\n",
    "\n",
    "#구선택\n",
    "elem=driver.find_element(By.XPATH,'//*[@id=\"SIGUNGU_NM0\"]')\n",
    "time.sleep(1)\n",
    "opt_tags=elem.find_elements(By.TAG_NAME,'option')\n",
    "time.sleep(1)\n",
    "\n",
    "gu_names=[i.text for i in opt_tags]\n",
    "gu_names=gu_names[1:]\n",
    "\n",
    "#구별 다운로드\n",
    "for i in gu_names:\n",
    "    driver.find_element(By.XPATH,'//*[@id=\"SIGUNGU_NM0\"]').send_keys(i)\n",
    "    time.sleep(1)\n",
    "\n",
    "#엑셀 저장 클릭\n",
    "    driver.find_element(By.XPATH,'//*[@id=\"glopopd_excel\"]/span').click()\n",
    "    time.sleep(1)\n",
    "\n",
    "driver.close()\n",
    "driver.quit()"
   ]
  },
  {
   "cell_type": "code",
   "execution_count": 11,
   "id": "d7117e5e",
   "metadata": {},
   "outputs": [
    {
     "name": "stdout",
     "output_type": "stream",
     "text": [
      "CPU times: total: 0 ns\n",
      "Wall time: 0 ns\n",
      "['시/군/구', '가평군', '고양시', '고양시덕양구', '고양시일산동구', '고양시일산서구', '과천시', '광명시', '광주시', '구리시', '군포시', '김포시', '남양주시', '동두천시', '부천시', '성남시', '성남시분당구', '성남시수정구', '성남시중원구', '수원시', '수원시권선구', '수원시영통구', '수원시장안구', '수원시팔달구', '시흥시', '안산시', '안산시단원구', '안산시상록구', '안성시', '안양시', '안양시동안구', '안양시만안구', '양주시', '양평군', '여주시', '연천군', '오산시', '용인시', '용인시기흥구', '용인시수지구', '용인시처인구', '의왕시', '의정부시', '이천시', '파주시', '평택시', '포천시', '하남시', '화성시']\n"
     ]
    }
   ],
   "source": [
    "%time\n",
    "res=[i.text for i in opt_tags]\n",
    "print(res)"
   ]
  },
  {
   "cell_type": "code",
   "execution_count": null,
   "id": "aadff20a",
   "metadata": {},
   "outputs": [],
   "source": []
  },
  {
   "cell_type": "code",
   "execution_count": 12,
   "id": "cd98a9d1",
   "metadata": {},
   "outputs": [
    {
     "name": "stdout",
     "output_type": "stream",
     "text": [
      "CPU times: total: 0 ns\n",
      "Wall time: 0 ns\n",
      "['시/군/구', '가평군', '고양시', '고양시덕양구', '고양시일산동구', '고양시일산서구', '과천시', '광명시', '광주시', '구리시', '군포시', '김포시', '남양주시', '동두천시', '부천시', '성남시', '성남시분당구', '성남시수정구', '성남시중원구', '수원시', '수원시권선구', '수원시영통구', '수원시장안구', '수원시팔달구', '시흥시', '안산시', '안산시단원구', '안산시상록구', '안성시', '안양시', '안양시동안구', '안양시만안구', '양주시', '양평군', '여주시', '연천군', '오산시', '용인시', '용인시기흥구', '용인시수지구', '용인시처인구', '의왕시', '의정부시', '이천시', '파주시', '평택시', '포천시', '하남시', '화성시']\n"
     ]
    }
   ],
   "source": [
    "%time\n",
    "res=[]\n",
    "for opt in opt_tags:\n",
    "    res.append(opt.text)\n",
    "print(res)"
   ]
  },
  {
   "cell_type": "code",
   "execution_count": null,
   "id": "a9d2c15e",
   "metadata": {},
   "outputs": [],
   "source": []
  }
 ],
 "metadata": {
  "kernelspec": {
   "display_name": "Python 3 (ipykernel)",
   "language": "python",
   "name": "python3"
  },
  "language_info": {
   "codemirror_mode": {
    "name": "ipython",
    "version": 3
   },
   "file_extension": ".py",
   "mimetype": "text/x-python",
   "name": "python",
   "nbconvert_exporter": "python",
   "pygments_lexer": "ipython3",
   "version": "3.10.4"
  }
 },
 "nbformat": 4,
 "nbformat_minor": 5
}
