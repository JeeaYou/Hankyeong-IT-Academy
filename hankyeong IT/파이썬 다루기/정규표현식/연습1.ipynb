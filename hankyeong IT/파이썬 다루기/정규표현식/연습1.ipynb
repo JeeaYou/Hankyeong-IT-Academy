{
 "cells": [
  {
   "cell_type": "code",
   "execution_count": 1,
   "id": "15489427",
   "metadata": {},
   "outputs": [],
   "source": [
    "files=['고양이1.jpg','고양이10.jpg','강아지1.jpg','강아지20.jpg']"
   ]
  },
  {
   "cell_type": "code",
   "execution_count": 2,
   "id": "07eb19cb",
   "metadata": {
    "scrolled": true
   },
   "outputs": [
    {
     "data": {
      "text/plain": [
       "['고양이', '강아지']"
      ]
     },
     "execution_count": 2,
     "metadata": {},
     "output_type": "execute_result"
    }
   ],
   "source": [
    "list(set([i[:3] for i in files]))"
   ]
  },
  {
   "cell_type": "code",
   "execution_count": 12,
   "id": "b0e8e2c9",
   "metadata": {},
   "outputs": [],
   "source": [
    "files=['고양이1.jpg','고양이10.jpg','강아지1.jpg','강아지20.jpg','뱀1.jpg','뱀20.jpg']"
   ]
  },
  {
   "cell_type": "code",
   "execution_count": 13,
   "id": "c6f87b29",
   "metadata": {},
   "outputs": [
    {
     "data": {
      "text/plain": [
       "'고양이1.jpg'"
      ]
     },
     "execution_count": 13,
     "metadata": {},
     "output_type": "execute_result"
    }
   ],
   "source": [
    "files[0]"
   ]
  },
  {
   "cell_type": "code",
   "execution_count": 14,
   "id": "27eb6ace",
   "metadata": {},
   "outputs": [
    {
     "data": {
      "text/plain": [
       "['고양이']"
      ]
     },
     "execution_count": 14,
     "metadata": {},
     "output_type": "execute_result"
    }
   ],
   "source": [
    "re.findall('[가-힣]+',files[0])"
   ]
  },
  {
   "cell_type": "code",
   "execution_count": 15,
   "id": "0442bc57",
   "metadata": {},
   "outputs": [
    {
     "data": {
      "text/plain": [
       "['가나다', '라다마', 'abc', 'efg', '112', '12', '25', '89', 'ABC', '.$']"
      ]
     },
     "execution_count": 15,
     "metadata": {},
     "output_type": "execute_result"
    }
   ],
   "source": [
    "txt='가나다 라다마 abc efg 112 12-25-89 ㅋㅋㅋ ABC _,.$%'\n",
    "re.findall('[가-힣a-zA-Z0-9$.]+',txt)"
   ]
  },
  {
   "cell_type": "code",
   "execution_count": 16,
   "id": "5a7a3e52",
   "metadata": {},
   "outputs": [
    {
     "data": {
      "text/plain": [
       "['고양이1.jpg', '고양이10.jpg', '강아지1.jpg', '강아지20.jpg', '뱀1.jpg', '뱀20.jpg']"
      ]
     },
     "execution_count": 16,
     "metadata": {},
     "output_type": "execute_result"
    }
   ],
   "source": [
    "files"
   ]
  },
  {
   "cell_type": "code",
   "execution_count": 22,
   "id": "f3a75c6d",
   "metadata": {},
   "outputs": [
    {
     "name": "stdout",
     "output_type": "stream",
     "text": [
      "['고양이', '고양이', '강아지', '강아지', '뱀', '뱀']\n"
     ]
    }
   ],
   "source": [
    "res=[]\n",
    "for i in files:\n",
    "    res.append(re.findall('[가-힣]+',i)[0])\n",
    "print(res)"
   ]
  },
  {
   "cell_type": "code",
   "execution_count": 24,
   "id": "6e943ca5",
   "metadata": {},
   "outputs": [
    {
     "name": "stdout",
     "output_type": "stream",
     "text": [
      "CPU times: total: 0 ns\n",
      "Wall time: 0 ns\n"
     ]
    }
   ],
   "source": [
    "%time\n",
    "folder_names=[re.findall('[가-힣]+',i)[0] for i in files]"
   ]
  },
  {
   "cell_type": "code",
   "execution_count": 25,
   "id": "2b5dff24",
   "metadata": {},
   "outputs": [
    {
     "data": {
      "text/plain": [
       "['고양이', '고양이', '강아지', '강아지', '뱀', '뱀']"
      ]
     },
     "execution_count": 25,
     "metadata": {},
     "output_type": "execute_result"
    }
   ],
   "source": [
    "folder_names"
   ]
  },
  {
   "cell_type": "code",
   "execution_count": 27,
   "id": "41db4d5d",
   "metadata": {},
   "outputs": [
    {
     "name": "stderr",
     "output_type": "stream",
     "text": [
      "ERROR: Could not find a version that satisfies the requirement re (from versions: none)\n",
      "ERROR: No matching distribution found for re\n"
     ]
    }
   ],
   "source": []
  },
  {
   "cell_type": "code",
   "execution_count": null,
   "id": "39cc0842",
   "metadata": {},
   "outputs": [],
   "source": []
  }
 ],
 "metadata": {
  "kernelspec": {
   "display_name": "Python 3 (ipykernel)",
   "language": "python",
   "name": "python3"
  },
  "language_info": {
   "codemirror_mode": {
    "name": "ipython",
    "version": 3
   },
   "file_extension": ".py",
   "mimetype": "text/x-python",
   "name": "python",
   "nbconvert_exporter": "python",
   "pygments_lexer": "ipython3",
   "version": "3.10.4"
  }
 },
 "nbformat": 4,
 "nbformat_minor": 5
}
