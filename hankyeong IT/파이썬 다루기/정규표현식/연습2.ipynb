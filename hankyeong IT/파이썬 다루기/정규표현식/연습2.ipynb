{
 "cells": [
  {
   "cell_type": "code",
   "execution_count": 1,
   "id": "a6db591b",
   "metadata": {},
   "outputs": [],
   "source": [
    "import re"
   ]
  },
  {
   "cell_type": "code",
   "execution_count": 8,
   "id": "92ef5190",
   "metadata": {},
   "outputs": [],
   "source": [
    "files=['강아지.jpg','소20.jpg']"
   ]
  },
  {
   "cell_type": "code",
   "execution_count": 5,
   "id": "ade3e0e4",
   "metadata": {},
   "outputs": [
    {
     "data": {
      "text/plain": [
       "['소']"
      ]
     },
     "execution_count": 5,
     "metadata": {},
     "output_type": "execute_result"
    }
   ],
   "source": [
    "re.findall('[가-힣]+',files[1])"
   ]
  },
  {
   "cell_type": "code",
   "execution_count": 6,
   "id": "44b91a46",
   "metadata": {},
   "outputs": [
    {
     "data": {
      "text/plain": [
       "['소']"
      ]
     },
     "execution_count": 6,
     "metadata": {},
     "output_type": "execute_result"
    }
   ],
   "source": [
    "mask=re.compile('[가-힣]+')\n",
    "mask.findall(files[1])"
   ]
  },
  {
   "cell_type": "code",
   "execution_count": 9,
   "id": "977a494e",
   "metadata": {},
   "outputs": [
    {
     "data": {
      "text/plain": [
       "['강아지']"
      ]
     },
     "execution_count": 9,
     "metadata": {},
     "output_type": "execute_result"
    }
   ],
   "source": [
    "mask.findall(files[0])"
   ]
  },
  {
   "cell_type": "code",
   "execution_count": 10,
   "id": "217c425c",
   "metadata": {},
   "outputs": [],
   "source": [
    "txt='''Hi there, Nice to meet you. And Hello there and hi.\n",
    "I love grey(gray) color not a gry, graay and graaay.\n",
    "Ya ya YaYaYa Ya\n",
    "\n",
    "abcdefghijklmnopqrstuvwxyz\n",
    "ABSCEFGHIJKLMNOPQRSTUVWZYZ\n",
    "1234567890\n",
    "\n",
    ".[]{}()\\^$|?*+\n",
    "\n",
    "010-898-0893\n",
    "010-405-3412\n",
    "010 405 3412\n",
    "010.405.3412\n",
    "02-878-8888\n",
    "\n",
    "dream.coder.ellie@gmail.com\n",
    "hello@daum.net\n",
    "hello@daum.co.kr\n",
    "\n",
    "http://www.youtu.be/-ZClicWm0zM\n",
    "https://www.youtu.be/-ZClicWm0zM\n",
    "https://youtu.be/-ZClicWm0zM\n",
    "youtu.be/-ZClicWm0zM\n",
    "\n",
    "https://regex101.com/\n",
    "\n",
    "'''"
   ]
  },
  {
   "cell_type": "code",
   "execution_count": 19,
   "id": "60b6b2e0",
   "metadata": {},
   "outputs": [
    {
     "name": "stdout",
     "output_type": "stream",
     "text": [
      "Hi\n",
      "0\n",
      "2\n",
      "(0, 2)\n"
     ]
    }
   ],
   "source": [
    "mask=re.compile('hi|Hi')\n",
    "print(mask.match(txt).group())\n",
    "print(mask.match(txt).start())\n",
    "print(mask.match(txt).end())\n",
    "print(mask.match(txt).span())"
   ]
  },
  {
   "cell_type": "code",
   "execution_count": 22,
   "id": "bd349300",
   "metadata": {},
   "outputs": [
    {
     "name": "stdout",
     "output_type": "stream",
     "text": [
      "<re.Match object; span=(48, 50), match='hi'>\n",
      "hi\n",
      "48\n",
      "50\n",
      "(48, 50)\n"
     ]
    }
   ],
   "source": [
    "mask=re.compile('hi')\n",
    "print(mask.search(txt))\n",
    "print(mask.search(txt).group())\n",
    "print(mask.search(txt).start())\n",
    "print(mask.search(txt).end())\n",
    "print(mask.search(txt).span())"
   ]
  },
  {
   "cell_type": "code",
   "execution_count": 26,
   "id": "4e1e6a9e",
   "metadata": {},
   "outputs": [
    {
     "name": "stdout",
     "output_type": "stream",
     "text": [
      "life\n",
      "(0, 4)\n",
      "is\n",
      "(5, 7)\n",
      "too\n",
      "(8, 11)\n",
      "short\n",
      "(12, 17)\n"
     ]
    }
   ],
   "source": [
    "mask=re.compile('[a-z]+')\n",
    "tmp=mask.finditer('life is too short')\n",
    "for i in tmp:\n",
    "    print(i.group())\n",
    "    print(i.span())"
   ]
  },
  {
   "cell_type": "code",
   "execution_count": 28,
   "id": "3c54bbda",
   "metadata": {},
   "outputs": [
    {
     "data": {
      "text/plain": [
       "['life', 'is', 'too', 'short']"
      ]
     },
     "execution_count": 28,
     "metadata": {},
     "output_type": "execute_result"
    }
   ],
   "source": [
    "mask=re.compile('[a-z]+')\n",
    "mask.findall('life is too short')"
   ]
  },
  {
   "cell_type": "code",
   "execution_count": 30,
   "id": "c5d14506",
   "metadata": {},
   "outputs": [
    {
     "data": {
      "text/plain": [
       "['010-898-0893', '010-405-3412', '010 405 3412', '010.405.3412', '02-878-8888']"
      ]
     },
     "execution_count": 30,
     "metadata": {},
     "output_type": "execute_result"
    }
   ],
   "source": [
    "mask=re.compile('\\d{2,3}[ .-]\\d{3}[ .-]\\d{4}')\n",
    "mask.findall(txt)"
   ]
  },
  {
   "cell_type": "code",
   "execution_count": 36,
   "id": "dcff2754",
   "metadata": {},
   "outputs": [
    {
     "data": {
      "text/plain": [
       "['dream.coder.ellie@gmail.com', 'hello@daum.net', 'hello@daum.co.kr']"
      ]
     },
     "execution_count": 36,
     "metadata": {},
     "output_type": "execute_result"
    }
   ],
   "source": [
    "m=re.compile('(.+@[a-z]+(.[a-z]+){1,2})')\n",
    "ls=m.findall(txt)\n",
    "[''.join(i[:-1])for i in ls]\n"
   ]
  },
  {
   "cell_type": "code",
   "execution_count": 37,
   "id": "0320eac1",
   "metadata": {},
   "outputs": [
    {
     "data": {
      "text/plain": [
       "['dream.coder.ellie@gmail.com', 'hello@daum.net', 'hello@daum.co.kr']"
      ]
     },
     "execution_count": 37,
     "metadata": {},
     "output_type": "execute_result"
    }
   ],
   "source": [
    "mask=re.compile('[a-z0-9.-_]+@[a-z0-9]{1,}[a-z0-9.]{1,}')\n",
    "mask.findall(txt)"
   ]
  },
  {
   "cell_type": "code",
   "execution_count": 38,
   "id": "191c5238",
   "metadata": {},
   "outputs": [
    {
     "name": "stdout",
     "output_type": "stream",
     "text": [
      "['gmail.', 'daum.', 'co.']\n"
     ]
    }
   ],
   "source": [
    "m=re.compile('[a-z0-9_+.-]+@([a-z0-9-]+\\.)+[a-z0-9]{2,4}')\n",
    "print(m.findall(txt))"
   ]
  },
  {
   "cell_type": "code",
   "execution_count": 44,
   "id": "1e0c7752",
   "metadata": {},
   "outputs": [
    {
     "name": "stdout",
     "output_type": "stream",
     "text": [
      "dream.coder.ellie@gmail.com\n",
      "hello@daum.net\n",
      "hello@daum.co.kr\n"
     ]
    }
   ],
   "source": [
    "m=re.compile('[a-z0-9_+.-]+@([a-z0-9-]+\\.)+[a-z0-9]{2,4}')\n",
    "tmp=m.finditer(txt)\n",
    "# print(tmp)\n",
    "for i in tmp:\n",
    "    print(i.group())"
   ]
  },
  {
   "cell_type": "code",
   "execution_count": 47,
   "id": "6035800b",
   "metadata": {},
   "outputs": [
    {
     "data": {
      "text/plain": [
       "'Email sent from address: bull0330@korea.ac.kr '"
      ]
     },
     "execution_count": 47,
     "metadata": {},
     "output_type": "execute_result"
    }
   ],
   "source": [
    "sample='Email sent from address: bull0330@korea.ac.kr 010-1234-1234'\n",
    "mask=re.compile('\\d{3}-\\d{4}-\\d{4}')\n",
    "mask.sub('',sample)"
   ]
  },
  {
   "cell_type": "code",
   "execution_count": 53,
   "id": "a4d7d9eb",
   "metadata": {},
   "outputs": [
    {
     "name": "stdout",
     "output_type": "stream",
     "text": [
      "['hi! hello python! hello hi! hello!      hello!']\n",
      "['hi! hello python! hello hi! hello!      hello!']\n",
      "['hi! hello python! hello hi! hello!      hello!']\n",
      "['hi! hello python! hello hi! hello!      hello!']\n"
     ]
    }
   ],
   "source": [
    "sample='hi! hello python! hello hi! hello!      hello!'\n",
    "mask=re.compile('\\s*:\\s*')\n",
    "print(mask.split(sample))\n",
    "print(mask.split(sample,1))\n",
    "print(mask.split(sample,2))\n",
    "print(mask.split(sample,3))"
   ]
  },
  {
   "cell_type": "code",
   "execution_count": null,
   "id": "3ff91c93",
   "metadata": {},
   "outputs": [],
   "source": []
  }
 ],
 "metadata": {
  "kernelspec": {
   "display_name": "Python 3 (ipykernel)",
   "language": "python",
   "name": "python3"
  },
  "language_info": {
   "codemirror_mode": {
    "name": "ipython",
    "version": 3
   },
   "file_extension": ".py",
   "mimetype": "text/x-python",
   "name": "python",
   "nbconvert_exporter": "python",
   "pygments_lexer": "ipython3",
   "version": "3.10.4"
  }
 },
 "nbformat": 4,
 "nbformat_minor": 5
}
