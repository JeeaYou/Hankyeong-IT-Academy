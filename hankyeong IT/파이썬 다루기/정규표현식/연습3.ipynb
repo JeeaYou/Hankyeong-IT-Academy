{
 "cells": [
  {
   "cell_type": "code",
   "execution_count": 1,
   "id": "ce568c89",
   "metadata": {},
   "outputs": [],
   "source": [
    "import re"
   ]
  },
  {
   "cell_type": "code",
   "execution_count": 2,
   "id": "428b5b5d",
   "metadata": {},
   "outputs": [],
   "source": [
    "sample='Kim 010-1234-4567'"
   ]
  },
  {
   "cell_type": "code",
   "execution_count": 13,
   "id": "08945516",
   "metadata": {},
   "outputs": [
    {
     "name": "stdout",
     "output_type": "stream",
     "text": [
      "Kim 010-1234-4567\n",
      "0\n",
      "17\n",
      "(0, 17)\n",
      "---------\n",
      "Kim 010-1234-4567\n",
      "Kim\n",
      "010\n",
      "1234\n",
      "4567\n"
     ]
    }
   ],
   "source": [
    "mask=re.compile('(\\w+)\\s+(\\d{3})-(\\d{4})-(\\d{4})')\n",
    "print(mask.search(sample).group())\n",
    "s_txt=mask.search(sample)\n",
    "print(s_txt.start())\n",
    "print(s_txt.end())\n",
    "print(s_txt.span())\n",
    "\n",
    "print('---------')\n",
    "print(s_txt.group(0))\n",
    "print(s_txt.group(1))\n",
    "print(s_txt.group(2))\n",
    "print(s_txt.group(3))\n",
    "print(s_txt.group(4))"
   ]
  },
  {
   "cell_type": "code",
   "execution_count": 19,
   "id": "09ee5a55",
   "metadata": {},
   "outputs": [
    {
     "name": "stdout",
     "output_type": "stream",
     "text": [
      "Kim 010****-4567\n",
      "Kim 010-1234****\n",
      "010-1234****,Kim\n",
      "010년 1234월 4567일,Kim\n"
     ]
    }
   ],
   "source": [
    "sample='Kim 010-1234-4567'\n",
    "mask=re.compile('(\\w+)\\s+(\\d{3})-(\\d{4})-(\\d{4})')\n",
    "print(mask.sub('\\g<1> \\g<2>****-\\g<4>',sample))    #그룹의 첫번째것 ,두번째것 **** 네번째것까지 갖고오기 \n",
    "print(mask.sub('\\g<1> \\g<2>-\\g<3>****',sample)) \n",
    "print(mask.sub('\\g<2>-\\g<3>****,\\g<1>',sample)) \n",
    "print(mask.sub('\\g<2>년 \\g<3>월 \\g<4>일,\\g<1>',sample)) "
   ]
  },
  {
   "cell_type": "code",
   "execution_count": 21,
   "id": "fee884c1",
   "metadata": {},
   "outputs": [
    {
     "data": {
      "text/plain": [
       "['http', 'https', 'ftp']"
      ]
     },
     "execution_count": 21,
     "metadata": {},
     "output_type": "execute_result"
    }
   ],
   "source": [
    "sample='''http://www.google.com\n",
    "https://www.google.com\n",
    "ftp://ftp.google.com\n",
    "'''\n",
    "mask=re.compile('.+(?=:)')\n",
    "mask.findall(sample)"
   ]
  },
  {
   "cell_type": "code",
   "execution_count": 26,
   "id": "73b7cc1d",
   "metadata": {},
   "outputs": [
    {
     "data": {
      "text/plain": [
       "['13.45', '500.3', '66.99']"
      ]
     },
     "execution_count": 26,
     "metadata": {},
     "output_type": "execute_result"
    }
   ],
   "source": [
    "sample='''AAA: $13.45\n",
    "BB2: $500.3\n",
    "CC0: $ .01\n",
    "D25: $66.99\n",
    "Total items found: 4\n",
    "'''\n",
    "mask=re.compile('(?<=\\$)[0-9.]+')\n",
    "mask.findall(sample)"
   ]
  },
  {
   "cell_type": "code",
   "execution_count": 29,
   "id": "fda15d31",
   "metadata": {
    "scrolled": true
   },
   "outputs": [
    {
     "data": {
      "text/plain": [
       "['개',\n",
       " '애완동물',\n",
       " '애완견',\n",
       " '개',\n",
       " '애완견',\n",
       " '반려 동물',\n",
       " '개',\n",
       " '반려견',\n",
       " '반려견',\n",
       " '개',\n",
       " '개',\n",
       " '개',\n",
       " '개',\n",
       " '개']"
      ]
     },
     "execution_count": 29,
     "metadata": {},
     "output_type": "execute_result"
    }
   ],
   "source": [
    "text = \"\"\"\n",
    "개는 아주 오래전부터 사람들과 친화적인 관계를 맺어왔다.\n",
    "그러나 오늘날과 같이 애완동물로서 널리 퍼지게 된 것은 제2차 세계대전 이후이다.\n",
    "오늘날 애완견 대다수가 집 안에서 사람과 함께 사는 것과 달리\n",
    "1950년대에서 1960년대까지만 해도 마당에 개의 집을 따로 만들어 키우는 것이 일반적이었다.\n",
    "1980년대에 들어 애완견의 반려 동물 역할이 더 부각되면서\n",
    "개를 집안으로 들여 키우는 경우가 많아졌다.\n",
    "오늘날 반려견은 가족의 일원으로 여겨진다.\n",
    "반려견에 대한 이러한 시각 변화는 크게 보아 두 종류의 새로운 흐름을 만들어 내었다.\n",
    "하나는 개를 독립적인 주체로 여기고 개의 개성과 습관등을 파악하며 소통하려는 흐름이고,\n",
    "다른 하나는 가족의 일원으로서 개다운 개를 기르기 위해 매일 규칙적인 훈련을 시키는 경우이다.\"\"\" # '개'에 대한 위키백과 중에서\n",
    "\n",
    "mask=re.compile('개|애완견|애완 ?동물|반려견|반려 ?동물')\n",
    "mask.findall(text)"
   ]
  },
  {
   "cell_type": "code",
   "execution_count": null,
   "id": "13d6aa6d",
   "metadata": {},
   "outputs": [],
   "source": []
  }
 ],
 "metadata": {
  "kernelspec": {
   "display_name": "Python 3 (ipykernel)",
   "language": "python",
   "name": "python3"
  },
  "language_info": {
   "codemirror_mode": {
    "name": "ipython",
    "version": 3
   },
   "file_extension": ".py",
   "mimetype": "text/x-python",
   "name": "python",
   "nbconvert_exporter": "python",
   "pygments_lexer": "ipython3",
   "version": "3.10.4"
  }
 },
 "nbformat": 4,
 "nbformat_minor": 5
}
