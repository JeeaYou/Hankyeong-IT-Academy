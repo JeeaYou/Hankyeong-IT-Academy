{
 "cells": [
  {
   "cell_type": "markdown",
   "id": "aerial-lying",
   "metadata": {},
   "source": [
    "## for 문"
   ]
  },
  {
   "cell_type": "code",
   "execution_count": 38,
   "id": "understanding-chassis",
   "metadata": {},
   "outputs": [
    {
     "name": "stdout",
     "output_type": "stream",
     "text": [
      "************"
     ]
    }
   ],
   "source": [
    "#별 12개 찍기(for문 활용)\n"
   ]
  },
  {
   "cell_type": "code",
   "execution_count": 39,
   "id": "adult-ability",
   "metadata": {},
   "outputs": [
    {
     "name": "stdout",
     "output_type": "stream",
     "text": [
      "************"
     ]
    }
   ],
   "source": [
    "#별 12개 찍기(for문 활용)\n"
   ]
  },
  {
   "cell_type": "code",
   "execution_count": 41,
   "id": "experienced-transition",
   "metadata": {},
   "outputs": [
    {
     "name": "stdout",
     "output_type": "stream",
     "text": [
      "************\n",
      "************\n",
      "************\n"
     ]
    }
   ],
   "source": [
    "#별 12개 찍기를 3줄 찍기(for문 활용)\n"
   ]
  },
  {
   "cell_type": "code",
   "execution_count": 66,
   "id": "twelve-headquarters",
   "metadata": {},
   "outputs": [
    {
     "name": "stdout",
     "output_type": "stream",
     "text": [
      "*\n",
      "**\n",
      "***\n",
      "****\n",
      "*****\n",
      "******\n",
      "*******\n",
      "********\n",
      "*********\n",
      "**********\n"
     ]
    }
   ],
   "source": [
    "#삼각형 모양으로 별 찍기(1)\n"
   ]
  },
  {
   "cell_type": "code",
   "execution_count": 67,
   "id": "small-kennedy",
   "metadata": {},
   "outputs": [
    {
     "name": "stdout",
     "output_type": "stream",
     "text": [
      "**********\n",
      "*********\n",
      "********\n",
      "*******\n",
      "******\n",
      "*****\n",
      "****\n",
      "***\n",
      "**\n",
      "*\n"
     ]
    }
   ],
   "source": [
    "#삼각형 모양으로 별 찍기(2)\n"
   ]
  },
  {
   "cell_type": "code",
   "execution_count": 68,
   "id": "former-grade",
   "metadata": {},
   "outputs": [
    {
     "name": "stdout",
     "output_type": "stream",
     "text": [
      "                    *\n",
      "                   **\n",
      "                  ***\n",
      "                 ****\n",
      "                *****\n",
      "               ******\n",
      "              *******\n",
      "             ********\n",
      "            *********\n",
      "           **********\n"
     ]
    }
   ],
   "source": [
    "#삼각형 모양으로 별 찍기(3)\n"
   ]
  },
  {
   "cell_type": "code",
   "execution_count": 77,
   "id": "subjective-reporter",
   "metadata": {},
   "outputs": [
    {
     "name": "stdout",
     "output_type": "stream",
     "text": [
      " ***********\n",
      "  **********\n",
      "   *********\n",
      "    ********\n",
      "     *******\n",
      "      ******\n",
      "       *****\n",
      "        ****\n",
      "         ***\n",
      "          **\n",
      "           *\n"
     ]
    }
   ],
   "source": [
    "#삼각형 모양으로 별 찍기(3)\n"
   ]
  },
  {
   "cell_type": "code",
   "execution_count": 69,
   "id": "endless-empire",
   "metadata": {},
   "outputs": [
    {
     "name": "stdout",
     "output_type": "stream",
     "text": [
      "                     *\n",
      "                    ***\n",
      "                   *****\n",
      "                  *******\n",
      "                 *********\n",
      "                ***********\n",
      "               *************\n",
      "              ***************\n",
      "             *****************\n",
      "            *******************\n"
     ]
    }
   ],
   "source": [
    "#삼각형 모양으로 별 찍기(3)\n"
   ]
  },
  {
   "cell_type": "code",
   "execution_count": 81,
   "id": "grand-control",
   "metadata": {},
   "outputs": [
    {
     "name": "stdout",
     "output_type": "stream",
     "text": [
      "  *******************\n",
      "   *****************\n",
      "    ***************\n",
      "     *************\n",
      "      ***********\n",
      "       *********\n",
      "        *******\n",
      "         *****\n",
      "          ***\n",
      "           *\n"
     ]
    }
   ],
   "source": [
    "#삼각형 모양으로 별 찍기(3)\n",
    "\n",
    "    "
   ]
  }
 ],
 "metadata": {
  "kernelspec": {
   "display_name": "Python 3 (ipykernel)",
   "language": "python",
   "name": "python3"
  },
  "language_info": {
   "codemirror_mode": {
    "name": "ipython",
    "version": 3
   },
   "file_extension": ".py",
   "mimetype": "text/x-python",
   "name": "python",
   "nbconvert_exporter": "python",
   "pygments_lexer": "ipython3",
   "version": "3.9.7"
  }
 },
 "nbformat": 4,
 "nbformat_minor": 5
}
