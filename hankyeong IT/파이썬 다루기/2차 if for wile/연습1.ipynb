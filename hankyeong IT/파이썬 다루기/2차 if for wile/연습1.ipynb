{
 "cells": [
  {
   "cell_type": "code",
   "execution_count": 1,
   "id": "56760dd8",
   "metadata": {},
   "outputs": [],
   "source": [
    "import csv"
   ]
  },
  {
   "cell_type": "code",
   "execution_count": 20,
   "id": "e27b652f",
   "metadata": {},
   "outputs": [
    {
     "name": "stdout",
     "output_type": "stream",
     "text": [
      "38.4\n"
     ]
    }
   ],
   "source": [
    "f=open('./seoul.csv','r')\n",
    "data=csv.reader(f)\n",
    "header=next(data)\n",
    "maxium=-99999999\n",
    "# print(data)\n",
    "for row in data:\n",
    "    if row[-1]!='':          #row안의 마지막 데이터가 '문자'가 아닐때\n",
    "        tmp=float(row[-1])\n",
    "        if maxium < tmp:\n",
    "            maxium=tmp\n",
    "print(maxium)\n",
    "f.close()"
   ]
  },
  {
   "cell_type": "code",
   "execution_count": 21,
   "id": "5b3317d8",
   "metadata": {},
   "outputs": [
    {
     "data": {
      "text/plain": [
       "['朝楼', '瘤痢', '乞闭扁柯(∩)', '弥历扁柯(∩)', '弥绊扁柯(∩)']"
      ]
     },
     "execution_count": 21,
     "metadata": {},
     "output_type": "execute_result"
    }
   ],
   "source": [
    "header"
   ]
  },
  {
   "cell_type": "code",
   "execution_count": 28,
   "id": "2e390696",
   "metadata": {},
   "outputs": [
    {
     "name": "stdout",
     "output_type": "stream",
     "text": [
      "999999\n"
     ]
    }
   ],
   "source": [
    "a=[4,5,2,2,100,-10]\n",
    "maxium=999999\n",
    "for i in a:\n",
    "    if maxium < i:\n",
    "        maxium=i\n",
    "print(maxium)"
   ]
  },
  {
   "cell_type": "code",
   "execution_count": 14,
   "id": "bd452190",
   "metadata": {},
   "outputs": [
    {
     "name": "stdout",
     "output_type": "stream",
     "text": [
      "-10\n"
     ]
    }
   ],
   "source": [
    "a=[4,5,2,2,100,-10]\n",
    "minium=9999\n",
    "for i in a:\n",
    "    if minium > i:\n",
    "        minium=i\n",
    "print(minium)\n"
   ]
  },
  {
   "cell_type": "code",
   "execution_count": 23,
   "id": "aa60ebe1",
   "metadata": {},
   "outputs": [
    {
     "name": "stdout",
     "output_type": "stream",
     "text": [
      "-10\n"
     ]
    }
   ],
   "source": [
    "a=[4,5,2,2,100,-10]\n",
    "minium=9999\n",
    "for i in a:\n",
    "    if minium > i:\n",
    "        minium=i\n",
    "print(minium)\n"
   ]
  },
  {
   "cell_type": "code",
   "execution_count": null,
   "id": "6073d1a6",
   "metadata": {},
   "outputs": [],
   "source": []
  },
  {
   "cell_type": "code",
   "execution_count": null,
   "id": "23fd9042",
   "metadata": {},
   "outputs": [],
   "source": []
  },
  {
   "cell_type": "code",
   "execution_count": null,
   "id": "0e27e54a",
   "metadata": {},
   "outputs": [],
   "source": []
  },
  {
   "cell_type": "code",
   "execution_count": null,
   "id": "7c1dc591",
   "metadata": {},
   "outputs": [],
   "source": []
  },
  {
   "cell_type": "code",
   "execution_count": null,
   "id": "cc165f00",
   "metadata": {},
   "outputs": [],
   "source": []
  },
  {
   "cell_type": "code",
   "execution_count": null,
   "id": "11ed72eb",
   "metadata": {},
   "outputs": [],
   "source": []
  },
  {
   "cell_type": "code",
   "execution_count": null,
   "id": "a360f98a",
   "metadata": {},
   "outputs": [],
   "source": []
  }
 ],
 "metadata": {
  "kernelspec": {
   "display_name": "Python 3 (ipykernel)",
   "language": "python",
   "name": "python3"
  },
  "language_info": {
   "codemirror_mode": {
    "name": "ipython",
    "version": 3
   },
   "file_extension": ".py",
   "mimetype": "text/x-python",
   "name": "python",
   "nbconvert_exporter": "python",
   "pygments_lexer": "ipython3",
   "version": "3.10.4"
  }
 },
 "nbformat": 4,
 "nbformat_minor": 5
}
