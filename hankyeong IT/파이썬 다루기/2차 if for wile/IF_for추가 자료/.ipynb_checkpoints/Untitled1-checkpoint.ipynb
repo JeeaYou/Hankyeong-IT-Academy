{
 "cells": [
  {
   "cell_type": "code",
   "execution_count": 2,
   "id": "8c79b4d6",
   "metadata": {},
   "outputs": [],
   "source": [
    "\"\"\"img_url = qrcode.make(\"https://www.google.com/maps\")\n",
    "img_url.save(\"C:/python/googlemap.png\")\n",
    "print(img_url.size)\"\"\";"
   ]
  },
  {
   "cell_type": "code",
   "execution_count": null,
   "id": "6336ed84",
   "metadata": {},
   "outputs": [],
   "source": [
    "#addr 주소를 '웹사이트.txt' 파일 재용으로 기록하세요\n",
    "addr=['www.naver.com','www.daum.com','www.google.com']\n"
   ]
  },
  {
   "cell_type": "code",
   "execution_count": null,
   "id": "c2fc7eeb",
   "metadata": {},
   "outputs": [],
   "source": [
    "#웹사이트.txt 파일을 읽어서 각각의 qr코드 만들고 저장하시요"
   ]
  },
  {
   "cell_type": "code",
   "execution_count": 5,
   "id": "e458c8ab",
   "metadata": {},
   "outputs": [
    {
     "ename": "IndentationError",
     "evalue": "expected an indented block after 'for' statement on line 3 (3026530706.py, line 4)",
     "output_type": "error",
     "traceback": [
      "\u001b[1;36m  Input \u001b[1;32mIn [5]\u001b[1;36m\u001b[0m\n\u001b[1;33m    f.write(\"Life is too short, you need python\")\u001b[0m\n\u001b[1;37m                                                 ^\u001b[0m\n\u001b[1;31mIndentationError\u001b[0m\u001b[1;31m:\u001b[0m expected an indented block after 'for' statement on line 3\n"
     ]
    }
   ],
   "source": [
    "a=['www.naver.com','www.daum.com','www.google.com']\n",
    "with open('a.txt','w')as f :\n",
    "    for i in f:\n",
    "f.write(\"Life is too short, you need python\")\n",
    "f.close()"
   ]
  },
  {
   "cell_type": "code",
   "execution_count": 26,
   "id": "c81d59f5",
   "metadata": {},
   "outputs": [],
   "source": [
    "addr=['www.naver.com','www.daum.net','www.google.com']\n",
    "\n",
    "with open('site.txt','w') as f:\n",
    "    for i in addr:\n",
    "        f.write(f'{i}\\n')\n"
   ]
  },
  {
   "cell_type": "code",
   "execution_count": 60,
   "id": "36af85fe",
   "metadata": {},
   "outputs": [],
   "source": [
    "import qrcode \n",
    "f=open('site.txt','r')\n",
    "lines=f.readlines()\n",
    "path='./qrcode/'\n",
    "# print(lines)\n",
    "n=0\n",
    "for line in lines:\n",
    "    n+=1\n",
    "    img_url = qrcode.make(line.strip('/n'))\n",
    "    img_url.save(path+f\"qrcode{n}.jpg\")\n",
    "f.close()\n"
   ]
  },
  {
   "cell_type": "code",
   "execution_count": 31,
   "id": "e357a859",
   "metadata": {},
   "outputs": [
    {
     "name": "stderr",
     "output_type": "stream",
     "text": [
      "ERROR: Could not find a version that satisfies the requirement os (from versions: none)\n",
      "ERROR: No matching distribution found for os\n"
     ]
    }
   ],
   "source": [
    "import qrcode \n",
    "with open('웹사이트.txt','r') as f:\n",
    "    lines=f.readlines()\n",
    "    print(lines)\n",
    "\n",
    "for n,line in enumerate(lines):\n",
    "    img_url = qrcode.make(line.strip('\\n'))\n",
    "    img_url.save(f'./qr/qrcode{n+1}.jpg')\n"
   ]
  },
  {
   "cell_type": "code",
   "execution_count": null,
   "id": "9c92b5f2",
   "metadata": {},
   "outputs": [],
   "source": []
  },
  {
   "cell_type": "code",
   "execution_count": null,
   "id": "da831319",
   "metadata": {},
   "outputs": [],
   "source": []
  },
  {
   "cell_type": "code",
   "execution_count": null,
   "id": "6edc018a",
   "metadata": {},
   "outputs": [],
   "source": []
  },
  {
   "cell_type": "code",
   "execution_count": null,
   "id": "1916ee4d",
   "metadata": {},
   "outputs": [],
   "source": []
  },
  {
   "cell_type": "code",
   "execution_count": null,
   "id": "4d96a94f",
   "metadata": {},
   "outputs": [],
   "source": []
  }
 ],
 "metadata": {
  "kernelspec": {
   "display_name": "Python 3 (ipykernel)",
   "language": "python",
   "name": "python3"
  },
  "language_info": {
   "codemirror_mode": {
    "name": "ipython",
    "version": 3
   },
   "file_extension": ".py",
   "mimetype": "text/x-python",
   "name": "python",
   "nbconvert_exporter": "python",
   "pygments_lexer": "ipython3",
   "version": "3.10.4"
  }
 },
 "nbformat": 4,
 "nbformat_minor": 5
}
