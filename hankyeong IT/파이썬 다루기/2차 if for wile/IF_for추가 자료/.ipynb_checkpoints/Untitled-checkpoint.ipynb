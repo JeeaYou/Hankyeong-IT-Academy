{
 "cells": [
  {
   "cell_type": "code",
   "execution_count": null,
   "id": "3831e159",
   "metadata": {},
   "outputs": [],
   "source": []
  },
  {
   "cell_type": "code",
   "execution_count": 15,
   "id": "159f2945",
   "metadata": {},
   "outputs": [],
   "source": [
    "f=open('new file.txt','w')\n",
    "for i in range(1,11):\n",
    "    f.write(f'{i}. hello\\n')\n",
    "f.close()"
   ]
  },
  {
   "cell_type": "code",
   "execution_count": 33,
   "id": "1cbfb5cd",
   "metadata": {},
   "outputs": [
    {
     "name": "stdout",
     "output_type": "stream",
     "text": [
      "1. hello\n",
      "\n",
      "2. hello\n",
      "\n",
      "3. hello\n",
      "\n",
      "4. hello\n",
      "\n",
      "5. hello\n",
      "\n",
      "6. hello\n",
      "\n",
      "7. hello\n",
      "\n"
     ]
    }
   ],
   "source": [
    "f=open('new file.txt','r')\n",
    "line=f.readline()\n",
    "print(line)\n",
    "line=f.readline()\n",
    "print(line)\n",
    "line=f.readline()\n",
    "print(line)\n",
    "print(next(f))\n",
    "print(next(f))\n",
    "print(next(f))\n",
    "print(next(f))\n",
    "f.close()"
   ]
  },
  {
   "cell_type": "code",
   "execution_count": 19,
   "id": "6f443a59",
   "metadata": {},
   "outputs": [
    {
     "name": "stdout",
     "output_type": "stream",
     "text": [
      "1\n",
      "2\n",
      "3\n",
      "4\n",
      "5\n"
     ]
    }
   ],
   "source": [
    "a=[1,2,3,4,5]\n",
    "for i in a:\n",
    "    print(i)"
   ]
  },
  {
   "cell_type": "code",
   "execution_count": 20,
   "id": "ac771798",
   "metadata": {},
   "outputs": [],
   "source": [
    "a=iter(a)"
   ]
  },
  {
   "cell_type": "code",
   "execution_count": 21,
   "id": "67957f23",
   "metadata": {},
   "outputs": [
    {
     "data": {
      "text/plain": [
       "['__class__',\n",
       " '__delattr__',\n",
       " '__dir__',\n",
       " '__doc__',\n",
       " '__eq__',\n",
       " '__format__',\n",
       " '__ge__',\n",
       " '__getattribute__',\n",
       " '__gt__',\n",
       " '__hash__',\n",
       " '__init__',\n",
       " '__init_subclass__',\n",
       " '__iter__',\n",
       " '__le__',\n",
       " '__length_hint__',\n",
       " '__lt__',\n",
       " '__ne__',\n",
       " '__new__',\n",
       " '__next__',\n",
       " '__reduce__',\n",
       " '__reduce_ex__',\n",
       " '__repr__',\n",
       " '__setattr__',\n",
       " '__setstate__',\n",
       " '__sizeof__',\n",
       " '__str__',\n",
       " '__subclasshook__']"
      ]
     },
     "execution_count": 21,
     "metadata": {},
     "output_type": "execute_result"
    }
   ],
   "source": [
    "dir(a)"
   ]
  },
  {
   "cell_type": "code",
   "execution_count": null,
   "id": "ec41ed05",
   "metadata": {},
   "outputs": [],
   "source": []
  },
  {
   "cell_type": "code",
   "execution_count": 28,
   "id": "90965165",
   "metadata": {},
   "outputs": [],
   "source": [
    "for i in a:\n",
    "    print(a)"
   ]
  },
  {
   "cell_type": "code",
   "execution_count": 37,
   "id": "2609dc04",
   "metadata": {},
   "outputs": [
    {
     "name": "stdout",
     "output_type": "stream",
     "text": [
      "1. hello\n",
      "2. hello\n",
      "3. hello\n",
      "4. hello\n",
      "5. hello\n",
      "6. hello\n",
      "7. hello\n",
      "8. hello\n",
      "9. hello\n",
      "10. hello\n"
     ]
    }
   ],
   "source": [
    "f=open('new file.txt','r')\n",
    "while True:\n",
    "    line=f.readline()\n",
    "    if not line:\n",
    "        break\n",
    "    print(line.strip('\\n'))\n",
    "f.close()"
   ]
  },
  {
   "cell_type": "code",
   "execution_count": 43,
   "id": "a9f71d4b",
   "metadata": {},
   "outputs": [
    {
     "name": "stdout",
     "output_type": "stream",
     "text": [
      "1. hello\n",
      "2. hello\n",
      "3. hello\n",
      "4. hello\n",
      "5. hello\n",
      "6. hello\n",
      "7. hello\n",
      "8. hello\n",
      "9. hello\n",
      "10. hello\n"
     ]
    }
   ],
   "source": [
    "f=open('new file.txt','r')\n",
    "lines=f.readlines()\n",
    "# print(lines)\n",
    "for line in lines:\n",
    "    print(line.strip('\\n'))\n",
    "f.close()"
   ]
  },
  {
   "cell_type": "code",
   "execution_count": 44,
   "id": "0c35365c",
   "metadata": {},
   "outputs": [
    {
     "name": "stdout",
     "output_type": "stream",
     "text": [
      "1. hello\n",
      "2. hello\n",
      "3. hello\n",
      "4. hello\n",
      "5. hello\n",
      "6. hello\n",
      "7. hello\n",
      "8. hello\n",
      "9. hello\n",
      "10. hello\n",
      "\n"
     ]
    }
   ],
   "source": [
    "f=open('new file.txt','r')\n",
    "data=f.read()\n",
    "print(data)\n",
    "f.close()"
   ]
  },
  {
   "cell_type": "code",
   "execution_count": 46,
   "id": "a1396169",
   "metadata": {},
   "outputs": [
    {
     "data": {
      "text/plain": [
       "'1. hello\\n2. hello\\n3. hello\\n4. hello\\n5. hello\\n6. hello\\n7. hello\\n8. hello\\n9. hello\\n10. hello\\n'"
      ]
     },
     "execution_count": 46,
     "metadata": {},
     "output_type": "execute_result"
    }
   ],
   "source": [
    "data"
   ]
  },
  {
   "cell_type": "code",
   "execution_count": 49,
   "id": "1fe6570c",
   "metadata": {},
   "outputs": [],
   "source": [
    "f=open('new file.txt','a')\n",
    "for i in range(11,22):\n",
    "    f.write(f'{i}. hello\\n')\n",
    "f.close()"
   ]
  },
  {
   "cell_type": "code",
   "execution_count": 53,
   "id": "79b8bffb",
   "metadata": {},
   "outputs": [],
   "source": [
    "with open('naver.txt','w')as f:\n",
    "    for i in range(10):\n",
    "        f.write('www.naver.com\\n')\n",
    "f.close()"
   ]
  },
  {
   "cell_type": "code",
   "execution_count": null,
   "id": "76bdcfdf",
   "metadata": {},
   "outputs": [],
   "source": []
  },
  {
   "cell_type": "code",
   "execution_count": null,
   "id": "5d30b61f",
   "metadata": {},
   "outputs": [],
   "source": []
  },
  {
   "cell_type": "code",
   "execution_count": null,
   "id": "e77b3ada",
   "metadata": {},
   "outputs": [],
   "source": []
  },
  {
   "cell_type": "code",
   "execution_count": null,
   "id": "ea238c72",
   "metadata": {},
   "outputs": [],
   "source": []
  },
  {
   "cell_type": "code",
   "execution_count": null,
   "id": "d4f8e1b7",
   "metadata": {},
   "outputs": [],
   "source": []
  },
  {
   "cell_type": "code",
   "execution_count": null,
   "id": "c9bc968c",
   "metadata": {},
   "outputs": [],
   "source": []
  },
  {
   "cell_type": "code",
   "execution_count": null,
   "id": "b7ad5906",
   "metadata": {},
   "outputs": [],
   "source": []
  }
 ],
 "metadata": {
  "kernelspec": {
   "display_name": "Python 3 (ipykernel)",
   "language": "python",
   "name": "python3"
  },
  "language_info": {
   "codemirror_mode": {
    "name": "ipython",
    "version": 3
   },
   "file_extension": ".py",
   "mimetype": "text/x-python",
   "name": "python",
   "nbconvert_exporter": "python",
   "pygments_lexer": "ipython3",
   "version": "3.10.4"
  }
 },
 "nbformat": 4,
 "nbformat_minor": 5
}
