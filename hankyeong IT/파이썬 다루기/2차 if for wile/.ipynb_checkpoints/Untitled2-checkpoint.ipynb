{
 "cells": [
  {
   "cell_type": "code",
   "execution_count": 9,
   "id": "40d8ee1a",
   "metadata": {},
   "outputs": [
    {
     "name": "stdout",
     "output_type": "stream",
     "text": [
      "1994-07-24 38.4\n"
     ]
    }
   ],
   "source": [
    "import csv\n",
    "with open('./seoul.csv','r')as f:\n",
    "    data=csv.reader(f)\n",
    "    header=next(data)\n",
    "    max_tmp=-9999999\n",
    "    max_day=''\n",
    "    for row in data:\n",
    "        if row[-1]!='':\n",
    "            tmp=float(row[-1])\n",
    "            if max_tmp<tmp:\n",
    "                max_tmp=tmp\n",
    "                max_day=row[0]\n",
    "print(max_day,max_tmp)"
   ]
  },
  {
   "cell_type": "code",
   "execution_count": 10,
   "id": "92e3802f",
   "metadata": {},
   "outputs": [
    {
     "name": "stdout",
     "output_type": "stream",
     "text": [
      "1994-07-24 38.4\n"
     ]
    }
   ],
   "source": [
    "import csv\n",
    "with open('./seoul.csv','r')as f:\n",
    "    data=csv.reader(f)\n",
    "    header=next(data)\n",
    "    max_tmp=-9999999\n",
    "    max_day=''\n",
    "    for row in data:\n",
    "        try:\n",
    "            tmp=float(row[-1])\n",
    "            if max_tmp<tmp:\n",
    "                max_tmp=tmp\n",
    "                max_day=row[0]\n",
    "        except:\n",
    "            pass\n",
    "print(max_day,max_tmp)"
   ]
  },
  {
   "cell_type": "code",
   "execution_count": null,
   "id": "7c561143",
   "metadata": {},
   "outputs": [],
   "source": [
    "try:"
   ]
  }
 ],
 "metadata": {
  "kernelspec": {
   "display_name": "Python 3 (ipykernel)",
   "language": "python",
   "name": "python3"
  },
  "language_info": {
   "codemirror_mode": {
    "name": "ipython",
    "version": 3
   },
   "file_extension": ".py",
   "mimetype": "text/x-python",
   "name": "python",
   "nbconvert_exporter": "python",
   "pygments_lexer": "ipython3",
   "version": "3.10.4"
  }
 },
 "nbformat": 4,
 "nbformat_minor": 5
}
