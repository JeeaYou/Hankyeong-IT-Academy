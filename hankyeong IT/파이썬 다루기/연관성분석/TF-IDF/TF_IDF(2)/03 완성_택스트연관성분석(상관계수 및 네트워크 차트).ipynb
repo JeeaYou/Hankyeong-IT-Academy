{
 "cells": [
  {
   "cell_type": "markdown",
   "id": "69138655",
   "metadata": {},
   "source": [
    "### ▶Part1. 토큰화\n",
    "- 문장에서 토큰으로 나눌 구분자를 이용하여 단어 분리"
   ]
  },
  {
   "cell_type": "code",
   "execution_count": 38,
   "id": "5563959d",
   "metadata": {},
   "outputs": [],
   "source": [
    "import numpy as np\n",
    "txt=['파이썬 차트 파이썬 머신러닝',\n",
    "      '차트 파이썬 R 차트',\n",
    "       'R 분석 시각화'\n",
    "      ]"
   ]
  },
  {
   "cell_type": "code",
   "execution_count": 2,
   "id": "fdeab383",
   "metadata": {},
   "outputs": [
    {
     "data": {
      "text/plain": [
       "[['파이썬', '차트', '파이썬', '머신러닝'], ['차트', '파이썬', 'R', '차트'], ['R', '분석', '시각화']]"
      ]
     },
     "execution_count": 2,
     "metadata": {},
     "output_type": "execute_result"
    }
   ],
   "source": [
    "# 빈칸 단위로 나누기\n",
    "txtList=[i.split(' ') for i in txt]\n",
    "txtList"
   ]
  },
  {
   "cell_type": "markdown",
   "id": "2658320c",
   "metadata": {},
   "source": [
    "### ▶Part2. 단어필드제작- 단어 unique\n",
    "- 중복단어를 제거하여 고유값으로 필드를 제작\n",
    "- 결과-> ['R', '머신러닝', '분석', '시각화', '차트', '파이썬']"
   ]
  },
  {
   "cell_type": "code",
   "execution_count": 3,
   "id": "d1449260",
   "metadata": {},
   "outputs": [],
   "source": [
    "wordList=[]\n",
    "nouns=sorted(list(set([n for i in txtList for n in i])))"
   ]
  },
  {
   "cell_type": "markdown",
   "id": "5beb1d86",
   "metadata": {},
   "source": [
    "### ▶Part3. TF"
   ]
  },
  {
   "cell_type": "code",
   "execution_count": 4,
   "id": "ee84304c",
   "metadata": {},
   "outputs": [],
   "source": [
    "import pandas as pd\n",
    "dtm=[]\n",
    "for i in txtList:\n",
    "    dtm.append([])\n",
    "    for j in nouns:\n",
    "        dtm[-1].append(i.count(j))\n",
    "tf_=pd.DataFrame(dtm, columns=nouns)"
   ]
  },
  {
   "cell_type": "code",
   "execution_count": 5,
   "id": "83c6fe7f",
   "metadata": {},
   "outputs": [
    {
     "data": {
      "text/html": [
       "<div>\n",
       "<style scoped>\n",
       "    .dataframe tbody tr th:only-of-type {\n",
       "        vertical-align: middle;\n",
       "    }\n",
       "\n",
       "    .dataframe tbody tr th {\n",
       "        vertical-align: top;\n",
       "    }\n",
       "\n",
       "    .dataframe thead th {\n",
       "        text-align: right;\n",
       "    }\n",
       "</style>\n",
       "<table border=\"1\" class=\"dataframe\">\n",
       "  <thead>\n",
       "    <tr style=\"text-align: right;\">\n",
       "      <th></th>\n",
       "      <th>R</th>\n",
       "      <th>머신러닝</th>\n",
       "      <th>분석</th>\n",
       "      <th>시각화</th>\n",
       "      <th>차트</th>\n",
       "      <th>파이썬</th>\n",
       "    </tr>\n",
       "  </thead>\n",
       "  <tbody>\n",
       "    <tr>\n",
       "      <th>0</th>\n",
       "      <td>0</td>\n",
       "      <td>1</td>\n",
       "      <td>0</td>\n",
       "      <td>0</td>\n",
       "      <td>1</td>\n",
       "      <td>2</td>\n",
       "    </tr>\n",
       "    <tr>\n",
       "      <th>1</th>\n",
       "      <td>1</td>\n",
       "      <td>0</td>\n",
       "      <td>0</td>\n",
       "      <td>0</td>\n",
       "      <td>2</td>\n",
       "      <td>1</td>\n",
       "    </tr>\n",
       "    <tr>\n",
       "      <th>2</th>\n",
       "      <td>1</td>\n",
       "      <td>0</td>\n",
       "      <td>1</td>\n",
       "      <td>1</td>\n",
       "      <td>0</td>\n",
       "      <td>0</td>\n",
       "    </tr>\n",
       "  </tbody>\n",
       "</table>\n",
       "</div>"
      ],
      "text/plain": [
       "   R  머신러닝  분석  시각화  차트  파이썬\n",
       "0  0     1   0    0   1    2\n",
       "1  1     0   0    0   2    1\n",
       "2  1     0   1    1   0    0"
      ]
     },
     "execution_count": 5,
     "metadata": {},
     "output_type": "execute_result"
    }
   ],
   "source": [
    "tf_"
   ]
  },
  {
   "cell_type": "markdown",
   "id": "1a50cad9",
   "metadata": {},
   "source": [
    "### ▶Part4. IDF"
   ]
  },
  {
   "cell_type": "code",
   "execution_count": 6,
   "id": "ab503cb7",
   "metadata": {},
   "outputs": [],
   "source": [
    "import numpy as np\n",
    "\n",
    "D=len(tf_) #총문서수\n",
    "df=tf_.astype(bool).sum()\n",
    "idf=D/df"
   ]
  },
  {
   "cell_type": "code",
   "execution_count": 7,
   "id": "05c7444f",
   "metadata": {},
   "outputs": [
    {
     "data": {
      "text/plain": [
       "R       1.5\n",
       "머신러닝    3.0\n",
       "분석      3.0\n",
       "시각화     3.0\n",
       "차트      1.5\n",
       "파이썬     1.5\n",
       "dtype: float64"
      ]
     },
     "execution_count": 7,
     "metadata": {},
     "output_type": "execute_result"
    }
   ],
   "source": [
    "idf"
   ]
  },
  {
   "cell_type": "markdown",
   "id": "14072c11",
   "metadata": {},
   "source": [
    "### ▶ Part4. TFIDF"
   ]
  },
  {
   "cell_type": "code",
   "execution_count": 8,
   "id": "45f644ac",
   "metadata": {},
   "outputs": [
    {
     "data": {
      "text/html": [
       "<div>\n",
       "<style scoped>\n",
       "    .dataframe tbody tr th:only-of-type {\n",
       "        vertical-align: middle;\n",
       "    }\n",
       "\n",
       "    .dataframe tbody tr th {\n",
       "        vertical-align: top;\n",
       "    }\n",
       "\n",
       "    .dataframe thead th {\n",
       "        text-align: right;\n",
       "    }\n",
       "</style>\n",
       "<table border=\"1\" class=\"dataframe\">\n",
       "  <thead>\n",
       "    <tr style=\"text-align: right;\">\n",
       "      <th></th>\n",
       "      <th>R</th>\n",
       "      <th>머신러닝</th>\n",
       "      <th>분석</th>\n",
       "      <th>시각화</th>\n",
       "      <th>차트</th>\n",
       "      <th>파이썬</th>\n",
       "    </tr>\n",
       "  </thead>\n",
       "  <tbody>\n",
       "    <tr>\n",
       "      <th>0</th>\n",
       "      <td>0.0</td>\n",
       "      <td>3.0</td>\n",
       "      <td>0.0</td>\n",
       "      <td>0.0</td>\n",
       "      <td>1.5</td>\n",
       "      <td>3.0</td>\n",
       "    </tr>\n",
       "    <tr>\n",
       "      <th>1</th>\n",
       "      <td>1.5</td>\n",
       "      <td>0.0</td>\n",
       "      <td>0.0</td>\n",
       "      <td>0.0</td>\n",
       "      <td>3.0</td>\n",
       "      <td>1.5</td>\n",
       "    </tr>\n",
       "    <tr>\n",
       "      <th>2</th>\n",
       "      <td>1.5</td>\n",
       "      <td>0.0</td>\n",
       "      <td>3.0</td>\n",
       "      <td>3.0</td>\n",
       "      <td>0.0</td>\n",
       "      <td>0.0</td>\n",
       "    </tr>\n",
       "  </tbody>\n",
       "</table>\n",
       "</div>"
      ],
      "text/plain": [
       "     R  머신러닝   분석  시각화   차트  파이썬\n",
       "0  0.0   3.0  0.0  0.0  1.5  3.0\n",
       "1  1.5   0.0  0.0  0.0  3.0  1.5\n",
       "2  1.5   0.0  3.0  3.0  0.0  0.0"
      ]
     },
     "execution_count": 8,
     "metadata": {},
     "output_type": "execute_result"
    }
   ],
   "source": [
    "tfidf_=tf_*idf\n",
    "tfidf_"
   ]
  },
  {
   "cell_type": "markdown",
   "id": "7f31410b",
   "metadata": {},
   "source": [
    "#  ** SKlearn 모듈 활용\n",
    "### 1. TF"
   ]
  },
  {
   "cell_type": "code",
   "execution_count": 9,
   "id": "35816b3a",
   "metadata": {},
   "outputs": [
    {
     "data": {
      "text/html": [
       "<div>\n",
       "<style scoped>\n",
       "    .dataframe tbody tr th:only-of-type {\n",
       "        vertical-align: middle;\n",
       "    }\n",
       "\n",
       "    .dataframe tbody tr th {\n",
       "        vertical-align: top;\n",
       "    }\n",
       "\n",
       "    .dataframe thead th {\n",
       "        text-align: right;\n",
       "    }\n",
       "</style>\n",
       "<table border=\"1\" class=\"dataframe\">\n",
       "  <thead>\n",
       "    <tr style=\"text-align: right;\">\n",
       "      <th></th>\n",
       "      <th>머신러닝</th>\n",
       "      <th>분석</th>\n",
       "      <th>시각화</th>\n",
       "      <th>차트</th>\n",
       "      <th>파이썬</th>\n",
       "    </tr>\n",
       "  </thead>\n",
       "  <tbody>\n",
       "    <tr>\n",
       "      <th>0</th>\n",
       "      <td>1</td>\n",
       "      <td>0</td>\n",
       "      <td>0</td>\n",
       "      <td>1</td>\n",
       "      <td>2</td>\n",
       "    </tr>\n",
       "    <tr>\n",
       "      <th>1</th>\n",
       "      <td>0</td>\n",
       "      <td>0</td>\n",
       "      <td>0</td>\n",
       "      <td>2</td>\n",
       "      <td>1</td>\n",
       "    </tr>\n",
       "    <tr>\n",
       "      <th>2</th>\n",
       "      <td>0</td>\n",
       "      <td>1</td>\n",
       "      <td>1</td>\n",
       "      <td>0</td>\n",
       "      <td>0</td>\n",
       "    </tr>\n",
       "  </tbody>\n",
       "</table>\n",
       "</div>"
      ],
      "text/plain": [
       "   머신러닝  분석  시각화  차트  파이썬\n",
       "0     1   0    0   1    2\n",
       "1     0   0    0   2    1\n",
       "2     0   1    1   0    0"
      ]
     },
     "execution_count": 9,
     "metadata": {},
     "output_type": "execute_result"
    }
   ],
   "source": [
    "from sklearn.feature_extraction.text import CountVectorizer\n",
    "cv=CountVectorizer()\n",
    "tdm=cv.fit_transform(txt)\n",
    "\n",
    "# 단어 목록 확인\n",
    "feature=cv.get_feature_names_out()\n",
    "#TF Matrix확인\n",
    "s_tf_=pd.DataFrame(tdm.toarray(), columns=feature)\n",
    "s_tf_"
   ]
  },
  {
   "cell_type": "markdown",
   "id": "3ed98f99",
   "metadata": {},
   "source": [
    "### 2. TF_IDF"
   ]
  },
  {
   "cell_type": "code",
   "execution_count": 10,
   "id": "67d7a20c",
   "metadata": {},
   "outputs": [
    {
     "data": {
      "text/html": [
       "<div>\n",
       "<style scoped>\n",
       "    .dataframe tbody tr th:only-of-type {\n",
       "        vertical-align: middle;\n",
       "    }\n",
       "\n",
       "    .dataframe tbody tr th {\n",
       "        vertical-align: top;\n",
       "    }\n",
       "\n",
       "    .dataframe thead th {\n",
       "        text-align: right;\n",
       "    }\n",
       "</style>\n",
       "<table border=\"1\" class=\"dataframe\">\n",
       "  <thead>\n",
       "    <tr style=\"text-align: right;\">\n",
       "      <th></th>\n",
       "      <th>머신러닝</th>\n",
       "      <th>분석</th>\n",
       "      <th>시각화</th>\n",
       "      <th>차트</th>\n",
       "      <th>파이썬</th>\n",
       "    </tr>\n",
       "  </thead>\n",
       "  <tbody>\n",
       "    <tr>\n",
       "      <th>0</th>\n",
       "      <td>0.50689</td>\n",
       "      <td>0.000000</td>\n",
       "      <td>0.000000</td>\n",
       "      <td>0.385503</td>\n",
       "      <td>0.771006</td>\n",
       "    </tr>\n",
       "    <tr>\n",
       "      <th>1</th>\n",
       "      <td>0.00000</td>\n",
       "      <td>0.000000</td>\n",
       "      <td>0.000000</td>\n",
       "      <td>0.894427</td>\n",
       "      <td>0.447214</td>\n",
       "    </tr>\n",
       "    <tr>\n",
       "      <th>2</th>\n",
       "      <td>0.00000</td>\n",
       "      <td>0.707107</td>\n",
       "      <td>0.707107</td>\n",
       "      <td>0.000000</td>\n",
       "      <td>0.000000</td>\n",
       "    </tr>\n",
       "  </tbody>\n",
       "</table>\n",
       "</div>"
      ],
      "text/plain": [
       "      머신러닝        분석       시각화        차트       파이썬\n",
       "0  0.50689  0.000000  0.000000  0.385503  0.771006\n",
       "1  0.00000  0.000000  0.000000  0.894427  0.447214\n",
       "2  0.00000  0.707107  0.707107  0.000000  0.000000"
      ]
     },
     "execution_count": 10,
     "metadata": {},
     "output_type": "execute_result"
    }
   ],
   "source": [
    "from sklearn.feature_extraction.text import TfidfVectorizer\n",
    "tfidf_vectorizer=TfidfVectorizer()\n",
    "tfidf_matrix=tfidf_vectorizer.fit_transform(txt)\n",
    "\n",
    "#단어집합\n",
    "s_tfidf_feature=tfidf_vectorizer.get_feature_names_out()\n",
    "\n",
    "#Tf_IDF\n",
    "s_tfidf_=pd.DataFrame(tfidf_matrix.toarray(),columns=s_tfidf_feature)\n",
    "s_tfidf_"
   ]
  },
  {
   "cell_type": "markdown",
   "id": "4b075596",
   "metadata": {},
   "source": [
    "## 단어간 상관도 계산"
   ]
  },
  {
   "cell_type": "code",
   "execution_count": 39,
   "id": "bddbcaca",
   "metadata": {},
   "outputs": [
    {
     "data": {
      "text/html": [
       "<div>\n",
       "<style scoped>\n",
       "    .dataframe tbody tr th:only-of-type {\n",
       "        vertical-align: middle;\n",
       "    }\n",
       "\n",
       "    .dataframe tbody tr th {\n",
       "        vertical-align: top;\n",
       "    }\n",
       "\n",
       "    .dataframe thead th {\n",
       "        text-align: right;\n",
       "    }\n",
       "</style>\n",
       "<table border=\"1\" class=\"dataframe\">\n",
       "  <thead>\n",
       "    <tr style=\"text-align: right;\">\n",
       "      <th></th>\n",
       "      <th>R</th>\n",
       "      <th>머신러닝</th>\n",
       "      <th>분석</th>\n",
       "      <th>시각화</th>\n",
       "      <th>차트</th>\n",
       "      <th>파이썬</th>\n",
       "    </tr>\n",
       "  </thead>\n",
       "  <tbody>\n",
       "    <tr>\n",
       "      <th>0</th>\n",
       "      <td>0</td>\n",
       "      <td>1</td>\n",
       "      <td>0</td>\n",
       "      <td>0</td>\n",
       "      <td>1</td>\n",
       "      <td>2</td>\n",
       "    </tr>\n",
       "    <tr>\n",
       "      <th>1</th>\n",
       "      <td>1</td>\n",
       "      <td>0</td>\n",
       "      <td>0</td>\n",
       "      <td>0</td>\n",
       "      <td>2</td>\n",
       "      <td>1</td>\n",
       "    </tr>\n",
       "    <tr>\n",
       "      <th>2</th>\n",
       "      <td>1</td>\n",
       "      <td>0</td>\n",
       "      <td>1</td>\n",
       "      <td>1</td>\n",
       "      <td>0</td>\n",
       "      <td>0</td>\n",
       "    </tr>\n",
       "  </tbody>\n",
       "</table>\n",
       "</div>"
      ],
      "text/plain": [
       "   R  머신러닝  분석  시각화  차트  파이썬\n",
       "0  0     1   0    0   1    2\n",
       "1  1     0   0    0   2    1\n",
       "2  1     0   1    1   0    0"
      ]
     },
     "execution_count": 39,
     "metadata": {},
     "output_type": "execute_result"
    }
   ],
   "source": [
    "tf_"
   ]
  },
  {
   "cell_type": "code",
   "execution_count": 40,
   "id": "c312872a",
   "metadata": {},
   "outputs": [
    {
     "name": "stdout",
     "output_type": "stream",
     "text": [
      "[[ 1.        -1.         0.5        0.5        0.        -0.8660254]\n",
      " [-1.         1.        -0.5       -0.5        0.         0.8660254]\n",
      " [ 0.5       -0.5        1.         1.        -0.8660254 -0.8660254]\n",
      " [ 0.5       -0.5        1.         1.        -0.8660254 -0.8660254]\n",
      " [ 0.         0.        -0.8660254 -0.8660254  1.         0.5      ]\n",
      " [-0.8660254  0.8660254 -0.8660254 -0.8660254  0.5        1.       ]]\n",
      "====================================================================================================\n"
     ]
    },
    {
     "data": {
      "text/html": [
       "<div>\n",
       "<style scoped>\n",
       "    .dataframe tbody tr th:only-of-type {\n",
       "        vertical-align: middle;\n",
       "    }\n",
       "\n",
       "    .dataframe tbody tr th {\n",
       "        vertical-align: top;\n",
       "    }\n",
       "\n",
       "    .dataframe thead th {\n",
       "        text-align: right;\n",
       "    }\n",
       "</style>\n",
       "<table border=\"1\" class=\"dataframe\">\n",
       "  <thead>\n",
       "    <tr style=\"text-align: right;\">\n",
       "      <th></th>\n",
       "      <th>R</th>\n",
       "      <th>머신러닝</th>\n",
       "      <th>분석</th>\n",
       "      <th>시각화</th>\n",
       "      <th>차트</th>\n",
       "      <th>파이썬</th>\n",
       "    </tr>\n",
       "  </thead>\n",
       "  <tbody>\n",
       "    <tr>\n",
       "      <th>R</th>\n",
       "      <td>1.000000</td>\n",
       "      <td>-1.000000</td>\n",
       "      <td>0.500000</td>\n",
       "      <td>0.500000</td>\n",
       "      <td>0.000000</td>\n",
       "      <td>-0.866025</td>\n",
       "    </tr>\n",
       "    <tr>\n",
       "      <th>머신러닝</th>\n",
       "      <td>-1.000000</td>\n",
       "      <td>1.000000</td>\n",
       "      <td>-0.500000</td>\n",
       "      <td>-0.500000</td>\n",
       "      <td>0.000000</td>\n",
       "      <td>0.866025</td>\n",
       "    </tr>\n",
       "    <tr>\n",
       "      <th>분석</th>\n",
       "      <td>0.500000</td>\n",
       "      <td>-0.500000</td>\n",
       "      <td>1.000000</td>\n",
       "      <td>1.000000</td>\n",
       "      <td>-0.866025</td>\n",
       "      <td>-0.866025</td>\n",
       "    </tr>\n",
       "    <tr>\n",
       "      <th>시각화</th>\n",
       "      <td>0.500000</td>\n",
       "      <td>-0.500000</td>\n",
       "      <td>1.000000</td>\n",
       "      <td>1.000000</td>\n",
       "      <td>-0.866025</td>\n",
       "      <td>-0.866025</td>\n",
       "    </tr>\n",
       "    <tr>\n",
       "      <th>차트</th>\n",
       "      <td>0.000000</td>\n",
       "      <td>0.000000</td>\n",
       "      <td>-0.866025</td>\n",
       "      <td>-0.866025</td>\n",
       "      <td>1.000000</td>\n",
       "      <td>0.500000</td>\n",
       "    </tr>\n",
       "    <tr>\n",
       "      <th>파이썬</th>\n",
       "      <td>-0.866025</td>\n",
       "      <td>0.866025</td>\n",
       "      <td>-0.866025</td>\n",
       "      <td>-0.866025</td>\n",
       "      <td>0.500000</td>\n",
       "      <td>1.000000</td>\n",
       "    </tr>\n",
       "  </tbody>\n",
       "</table>\n",
       "</div>"
      ],
      "text/plain": [
       "             R      머신러닝        분석       시각화        차트       파이썬\n",
       "R     1.000000 -1.000000  0.500000  0.500000  0.000000 -0.866025\n",
       "머신러닝 -1.000000  1.000000 -0.500000 -0.500000  0.000000  0.866025\n",
       "분석    0.500000 -0.500000  1.000000  1.000000 -0.866025 -0.866025\n",
       "시각화   0.500000 -0.500000  1.000000  1.000000 -0.866025 -0.866025\n",
       "차트    0.000000  0.000000 -0.866025 -0.866025  1.000000  0.500000\n",
       "파이썬  -0.866025  0.866025 -0.866025 -0.866025  0.500000  1.000000"
      ]
     },
     "execution_count": 40,
     "metadata": {},
     "output_type": "execute_result"
    }
   ],
   "source": [
    "#######################################################################\n",
    "### 방법1: numpy를 이용한 단어간 상관도 계산\n",
    "#######################################################################\n",
    "import numpy as np\n",
    "import pandas as pd\n",
    "\n",
    "word_corr=np.corrcoef(tf_,rowvar=False)\n",
    "print(word_corr)\n",
    "\n",
    "print('='*100)\n",
    "vocab=tf_.columns\n",
    "df=pd.DataFrame(word_corr,columns=vocab)\n",
    "df.index=vocab\n",
    "df"
   ]
  },
  {
   "cell_type": "code",
   "execution_count": 41,
   "id": "8b38aad5",
   "metadata": {},
   "outputs": [
    {
     "data": {
      "text/html": [
       "<div>\n",
       "<style scoped>\n",
       "    .dataframe tbody tr th:only-of-type {\n",
       "        vertical-align: middle;\n",
       "    }\n",
       "\n",
       "    .dataframe tbody tr th {\n",
       "        vertical-align: top;\n",
       "    }\n",
       "\n",
       "    .dataframe thead th {\n",
       "        text-align: right;\n",
       "    }\n",
       "</style>\n",
       "<table border=\"1\" class=\"dataframe\">\n",
       "  <thead>\n",
       "    <tr style=\"text-align: right;\">\n",
       "      <th></th>\n",
       "      <th>R</th>\n",
       "      <th>머신러닝</th>\n",
       "      <th>분석</th>\n",
       "      <th>시각화</th>\n",
       "      <th>차트</th>\n",
       "      <th>파이썬</th>\n",
       "    </tr>\n",
       "  </thead>\n",
       "  <tbody>\n",
       "    <tr>\n",
       "      <th>R</th>\n",
       "      <td>1.000000</td>\n",
       "      <td>-1.000000</td>\n",
       "      <td>0.500000</td>\n",
       "      <td>0.500000</td>\n",
       "      <td>0.000000</td>\n",
       "      <td>-0.866025</td>\n",
       "    </tr>\n",
       "    <tr>\n",
       "      <th>머신러닝</th>\n",
       "      <td>-1.000000</td>\n",
       "      <td>1.000000</td>\n",
       "      <td>-0.500000</td>\n",
       "      <td>-0.500000</td>\n",
       "      <td>0.000000</td>\n",
       "      <td>0.866025</td>\n",
       "    </tr>\n",
       "    <tr>\n",
       "      <th>분석</th>\n",
       "      <td>0.500000</td>\n",
       "      <td>-0.500000</td>\n",
       "      <td>1.000000</td>\n",
       "      <td>1.000000</td>\n",
       "      <td>-0.866025</td>\n",
       "      <td>-0.866025</td>\n",
       "    </tr>\n",
       "    <tr>\n",
       "      <th>시각화</th>\n",
       "      <td>0.500000</td>\n",
       "      <td>-0.500000</td>\n",
       "      <td>1.000000</td>\n",
       "      <td>1.000000</td>\n",
       "      <td>-0.866025</td>\n",
       "      <td>-0.866025</td>\n",
       "    </tr>\n",
       "    <tr>\n",
       "      <th>차트</th>\n",
       "      <td>0.000000</td>\n",
       "      <td>0.000000</td>\n",
       "      <td>-0.866025</td>\n",
       "      <td>-0.866025</td>\n",
       "      <td>1.000000</td>\n",
       "      <td>0.500000</td>\n",
       "    </tr>\n",
       "    <tr>\n",
       "      <th>파이썬</th>\n",
       "      <td>-0.866025</td>\n",
       "      <td>0.866025</td>\n",
       "      <td>-0.866025</td>\n",
       "      <td>-0.866025</td>\n",
       "      <td>0.500000</td>\n",
       "      <td>1.000000</td>\n",
       "    </tr>\n",
       "  </tbody>\n",
       "</table>\n",
       "</div>"
      ],
      "text/plain": [
       "             R      머신러닝        분석       시각화        차트       파이썬\n",
       "R     1.000000 -1.000000  0.500000  0.500000  0.000000 -0.866025\n",
       "머신러닝 -1.000000  1.000000 -0.500000 -0.500000  0.000000  0.866025\n",
       "분석    0.500000 -0.500000  1.000000  1.000000 -0.866025 -0.866025\n",
       "시각화   0.500000 -0.500000  1.000000  1.000000 -0.866025 -0.866025\n",
       "차트    0.000000  0.000000 -0.866025 -0.866025  1.000000  0.500000\n",
       "파이썬  -0.866025  0.866025 -0.866025 -0.866025  0.500000  1.000000"
      ]
     },
     "execution_count": 41,
     "metadata": {},
     "output_type": "execute_result"
    }
   ],
   "source": [
    "#######################################################################\n",
    "### 방법2: pandas를 이용한 단어간 상관도 계산\n",
    "#######################################################################\n",
    "\n",
    "import pandas as pd\n",
    "tf_.corr()\n"
   ]
  },
  {
   "cell_type": "code",
   "execution_count": 42,
   "id": "80ca716d",
   "metadata": {},
   "outputs": [
    {
     "data": {
      "text/plain": [
       "<AxesSubplot:>"
      ]
     },
     "execution_count": 42,
     "metadata": {},
     "output_type": "execute_result"
    },
    {
     "data": {
      "image/png": "[encoded data removed]",
      "text/plain": [
       "<Figure size 600x500 with 2 Axes>"
      ]
     },
     "metadata": {},
     "output_type": "display_data"
    }
   ],
   "source": [
    "#################################################\n",
    "#### 히트맵을 이용한 상관도 출력\n",
    "#################################################\n",
    "# R과 머신러닝이 -1 의 상관도임\n",
    "# R이라는 글자가 나올때는 머신러닝이라는 글자가 전혀 나오지 않는다는 뜻\n",
    "import matplotlib.pyplot as plt\n",
    "# 한글 폰트 설정\n",
    "plt.rcParams['font.family'] = 'Malgun Gothic'\n",
    "# 유니코드에서  음수 부호설정\n",
    "plt.rc('axes', unicode_minus=False)\n",
    "import seaborn as sns\n",
    "plt.figure(figsize=(6,5))\n",
    "\n",
    "sns.heatmap(tf_.corr(),annot=True,cmap = 'PuBu')"
   ]
  },
  {
   "cell_type": "markdown",
   "id": "2b8a48cd",
   "metadata": {},
   "source": [
    "### 단어별 상관관계 네트워크 차트"
   ]
  },
  {
   "cell_type": "code",
   "execution_count": 43,
   "id": "17be3bef",
   "metadata": {},
   "outputs": [
    {
     "data": {
      "text/html": [
       "<div>\n",
       "<style scoped>\n",
       "    .dataframe tbody tr th:only-of-type {\n",
       "        vertical-align: middle;\n",
       "    }\n",
       "\n",
       "    .dataframe tbody tr th {\n",
       "        vertical-align: top;\n",
       "    }\n",
       "\n",
       "    .dataframe thead th {\n",
       "        text-align: right;\n",
       "    }\n",
       "</style>\n",
       "<table border=\"1\" class=\"dataframe\">\n",
       "  <thead>\n",
       "    <tr style=\"text-align: right;\">\n",
       "      <th></th>\n",
       "      <th>R</th>\n",
       "      <th>머신러닝</th>\n",
       "      <th>분석</th>\n",
       "      <th>시각화</th>\n",
       "      <th>차트</th>\n",
       "      <th>파이썬</th>\n",
       "    </tr>\n",
       "  </thead>\n",
       "  <tbody>\n",
       "    <tr>\n",
       "      <th>0</th>\n",
       "      <td>0</td>\n",
       "      <td>1</td>\n",
       "      <td>0</td>\n",
       "      <td>0</td>\n",
       "      <td>1</td>\n",
       "      <td>2</td>\n",
       "    </tr>\n",
       "    <tr>\n",
       "      <th>1</th>\n",
       "      <td>1</td>\n",
       "      <td>0</td>\n",
       "      <td>0</td>\n",
       "      <td>0</td>\n",
       "      <td>2</td>\n",
       "      <td>1</td>\n",
       "    </tr>\n",
       "    <tr>\n",
       "      <th>2</th>\n",
       "      <td>1</td>\n",
       "      <td>0</td>\n",
       "      <td>1</td>\n",
       "      <td>1</td>\n",
       "      <td>0</td>\n",
       "      <td>0</td>\n",
       "    </tr>\n",
       "  </tbody>\n",
       "</table>\n",
       "</div>"
      ],
      "text/plain": [
       "   R  머신러닝  분석  시각화  차트  파이썬\n",
       "0  0     1   0    0   1    2\n",
       "1  1     0   0    0   2    1\n",
       "2  1     0   1    1   0    0"
      ]
     },
     "execution_count": 43,
     "metadata": {},
     "output_type": "execute_result"
    }
   ],
   "source": [
    "tf_"
   ]
  },
  {
   "cell_type": "code",
   "execution_count": 44,
   "id": "134c34ba",
   "metadata": {},
   "outputs": [],
   "source": [
    "### 단어의 집합별 상관계수 값 리스트화 하기\n",
    "\n",
    "words=tf_.columns\n",
    "edges = []\n",
    "\n",
    "for i in range(len(words)):\n",
    "    for j in range(i+1, len(words)):\n",
    "        edges.append((words[i],words[j], word_corr[i,j]))"
   ]
  },
  {
   "cell_type": "code",
   "execution_count": 45,
   "id": "1dd5d03f",
   "metadata": {},
   "outputs": [
    {
     "data": {
      "text/plain": [
       "[('R', '머신러닝', -1.0),\n",
       " ('R', '분석', 0.4999999999999999),\n",
       " ('R', '시각화', 0.4999999999999999),\n",
       " ('R', '차트', 0.0),\n",
       " ('R', '파이썬', -0.8660254037844385),\n",
       " ('머신러닝', '분석', -0.5),\n",
       " ('머신러닝', '시각화', -0.5),\n",
       " ('머신러닝', '차트', 0.0),\n",
       " ('머신러닝', '파이썬', 0.8660254037844387),\n",
       " ('분석', '시각화', 0.9999999999999998),\n",
       " ('분석', '차트', -0.8660254037844385),\n",
       " ('분석', '파이썬', -0.8660254037844385),\n",
       " ('시각화', '차트', -0.8660254037844385),\n",
       " ('시각화', '파이썬', -0.8660254037844385),\n",
       " ('차트', '파이썬', 0.5)]"
      ]
     },
     "execution_count": 45,
     "metadata": {},
     "output_type": "execute_result"
    }
   ],
   "source": [
    "edges"
   ]
  },
  {
   "cell_type": "code",
   "execution_count": 46,
   "id": "7b50dfa2",
   "metadata": {},
   "outputs": [
    {
     "data": {
      "text/plain": [
       "[('분석', '시각화', 0.9999999999999998),\n",
       " ('머신러닝', '파이썬', 0.8660254037844387),\n",
       " ('차트', '파이썬', 0.5),\n",
       " ('R', '분석', 0.4999999999999999),\n",
       " ('R', '시각화', 0.4999999999999999),\n",
       " ('R', '차트', 0.0),\n",
       " ('머신러닝', '차트', 0.0),\n",
       " ('머신러닝', '분석', -0.5),\n",
       " ('머신러닝', '시각화', -0.5),\n",
       " ('R', '파이썬', -0.8660254037844385),\n",
       " ('분석', '차트', -0.8660254037844385),\n",
       " ('분석', '파이썬', -0.8660254037844385),\n",
       " ('시각화', '차트', -0.8660254037844385),\n",
       " ('시각화', '파이썬', -0.8660254037844385),\n",
       " ('R', '머신러닝', -1.0)]"
      ]
     },
     "execution_count": 46,
     "metadata": {},
     "output_type": "execute_result"
    }
   ],
   "source": [
    "# 상관도 내림차순순으로 sort(reverse=True)\n",
    "# 상관도 오름차순순으로 sort(reverse=False)\n",
    "edges = sorted(edges, key=lambda x:x[2],reverse=True)\n",
    "edges "
   ]
  },
  {
   "cell_type": "code",
   "execution_count": 47,
   "id": "6cfde37c",
   "metadata": {},
   "outputs": [
    {
     "data": {
      "text/plain": [
       "[0.9999999999999998,\n",
       " 0.8660254037844387,\n",
       " 0.5,\n",
       " 0.4999999999999999,\n",
       " 0.4999999999999999,\n",
       " 0.0,\n",
       " 0.0,\n",
       " -0.5,\n",
       " -0.5,\n",
       " -0.8660254037844385,\n",
       " -0.8660254037844385,\n",
       " -0.8660254037844385,\n",
       " -0.8660254037844385,\n",
       " -0.8660254037844385,\n",
       " -1.0]"
      ]
     },
     "execution_count": 47,
     "metadata": {},
     "output_type": "execute_result"
    }
   ],
   "source": [
    "###########################################################\n",
    "#상관계수 추출 : 상관게수를 네트워크 차트의 가중치로 사용함\n",
    "#############################################################\n",
    "weight_list=[x[2] for x in edges]   \n",
    "# weight_list = [weight for _, _, weight in edges] 도 사용가능\n",
    "weight_list"
   ]
  },
  {
   "cell_type": "code",
   "execution_count": 48,
   "id": "1c53fc3c",
   "metadata": {},
   "outputs": [
    {
     "data": {
      "text/plain": [
       "[('분석', '시각화'),\n",
       " ('머신러닝', '파이썬'),\n",
       " ('차트', '파이썬'),\n",
       " ('R', '분석'),\n",
       " ('R', '시각화'),\n",
       " ('R', '차트'),\n",
       " ('머신러닝', '차트'),\n",
       " ('머신러닝', '분석'),\n",
       " ('머신러닝', '시각화'),\n",
       " ('R', '파이썬'),\n",
       " ('분석', '차트'),\n",
       " ('분석', '파이썬'),\n",
       " ('시각화', '차트'),\n",
       " ('시각화', '파이썬'),\n",
       " ('R', '머신러닝')]"
      ]
     },
     "execution_count": 48,
     "metadata": {},
     "output_type": "execute_result"
    }
   ],
   "source": [
    "##################################################\n",
    "### 상관계수 시각화에 사용할 연결된 노드 이름 쌍\n",
    "#################################################\n",
    "edge_list = [(word1,word2) for word1, word2, weight in edges]\n",
    "edge_list"
   ]
  },
  {
   "cell_type": "code",
   "execution_count": 50,
   "id": "db33bb35",
   "metadata": {},
   "outputs": [
    {
     "data": {
      "text/plain": [
       "{('R', '분석'),\n",
       " ('R', '시각화'),\n",
       " ('R', '차트'),\n",
       " ('R', '파이썬'),\n",
       " ('머신러닝', '분석'),\n",
       " ('머신러닝', '시각화'),\n",
       " ('머신러닝', '차트'),\n",
       " ('머신러닝', '파이썬'),\n",
       " ('분석', '시각화'),\n",
       " ('차트', '파이썬')}"
      ]
     },
     "execution_count": 50,
     "metadata": {},
     "output_type": "execute_result"
    }
   ],
   "source": [
    "import networkx as nx\n",
    "\n",
    "G = nx.Graph()\n",
    "rank=10\n",
    "\n",
    "edge_set = set()  \n",
    "for word1, word2, weight in edges[:rank]:   # 상관도가 높은 값에서 10개까지. 여기서는 15개만 있음으로 모두 나옴.\n",
    "    G.add_edge(word1, word2, weight=weight) # 단어1,2 자료와 거기에 해당되는 상관도값(weight)\n",
    "    edge_set.add((word1,word2))\n",
    "edge_set"
   ]
  },
  {
   "cell_type": "code",
   "execution_count": 51,
   "id": "1495d5e8",
   "metadata": {},
   "outputs": [
    {
     "name": "stdout",
     "output_type": "stream",
     "text": [
      "\n",
      " ▶ 노드갯수 출력\n",
      "6\n",
      "\n",
      " ▶노드값 출력\n",
      "['분석', '시각화', '머신러닝', '파이썬', '차트', 'R']\n",
      "\n",
      " ▶ 엣지(word1,word2)값 출력\n",
      "[('분석', '시각화'), ('분석', 'R'), ('분석', '머신러닝'), ('시각화', 'R'), ('시각화', '머신러닝'), ('머신러닝', '파이썬'), ('머신러닝', '차트'), ('파이썬', '차트'), ('파이썬', 'R'), ('차트', 'R')]\n",
      "\n",
      " ▶ 디그리값 출력\n",
      "[('분석', 3), ('시각화', 3), ('머신러닝', 4), ('파이썬', 3), ('차트', 3), ('R', 4)]\n",
      "\n",
      " ▶ 인접\n",
      "{'분석': {'시각화': {'weight': 0.9999999999999998}, 'R': {'weight': 0.4999999999999999}, '머신러닝': {'weight': -0.5}}, '시각화': {'분석': {'weight': 0.9999999999999998}, 'R': {'weight': 0.4999999999999999}, '머신러닝': {'weight': -0.5}}, '머신러닝': {'파이썬': {'weight': 0.8660254037844387}, '차트': {'weight': 0.0}, '분석': {'weight': -0.5}, '시각화': {'weight': -0.5}}, '파이썬': {'머신러닝': {'weight': 0.8660254037844387}, '차트': {'weight': 0.5}, 'R': {'weight': -0.8660254037844385}}, '차트': {'파이썬': {'weight': 0.5}, 'R': {'weight': 0.0}, '머신러닝': {'weight': 0.0}}, 'R': {'분석': {'weight': 0.4999999999999999}, '시각화': {'weight': 0.4999999999999999}, '차트': {'weight': 0.0}, '파이썬': {'weight': -0.8660254037844385}}}\n",
      "\n",
      " ▶ edges의 갯수\n",
      "10\n",
      "\n",
      " ▶ 요약 \n",
      "Graph with 6 nodes and 10 edges\n"
     ]
    },
    {
     "name": "stderr",
     "output_type": "stream",
     "text": [
      "C:\\Users\\user\\AppData\\Local\\Temp\\ipykernel_11288\\3912046564.py:30: DeprecationWarning: info is deprecated and will be removed in version 3.0.\n",
      "\n",
      "  print(nx.info(G))\n"
     ]
    }
   ],
   "source": [
    "# https://networkx.org/documentation/stable/tutorial.html\n",
    "# https://95pbj.tistory.com/34   (한국어 사이트)\n",
    "\n",
    "\n",
    "print('\\n ▶ 노드갯수 출력')   # feature 갯수 (R, 분석, 시각화, 머신러닝, 파이썬, 차트)\n",
    "print(G.number_of_nodes())\n",
    "\n",
    "print('\\n ▶노드값 출력')\n",
    "print(G.nodes)\n",
    "\n",
    "print('\\n ▶ 엣지(word1,word2)값 출력')\n",
    "print(G.edges)\n",
    "\n",
    "\n",
    "## 디그리는 노드에서 분기하는 선의 갯수로서\n",
    "# 여기서는 모든 노드와 연결되어 있음.(상관도를 모두 구함으로)\n",
    "# 그래서 분석일때는 5개의 노드(n-1)개의 디그리가 생김.  분석->시각화, 분석->머신러닝, 분석->파이썬, 분석->차트, 분석-R\n",
    "print('\\n ▶ 디그리값 출력')  \n",
    "print(G.degree)\n",
    "\n",
    "\n",
    "print('\\n ▶ 인접')\n",
    "print(G.adj)\n",
    "      \n",
    "print('\\n ▶ edges의 갯수')\n",
    "print(G.number_of_edges())\n",
    "\n",
    "\n",
    "print('\\n ▶ 요약 ')\n",
    "print(nx.info(G))"
   ]
  },
  {
   "cell_type": "code",
   "execution_count": 52,
   "id": "3d994e2d",
   "metadata": {},
   "outputs": [
    {
     "name": "stdout",
     "output_type": "stream",
     "text": [
      "R       2\n",
      "머신러닝    1\n",
      "분석      1\n",
      "시각화     1\n",
      "차트      3\n",
      "파이썬     3\n",
      "dtype: int64\n",
      "====================================================================================================\n",
      "R       1000.0\n",
      "머신러닝       0.0\n",
      "분석         0.0\n",
      "시각화        0.0\n",
      "차트      2000.0\n",
      "파이썬     2000.0\n",
      "dtype: float64\n"
     ]
    }
   ],
   "source": [
    "tmp=np.sum(tf_)\n",
    "print(tmp)\n",
    "print('='*100)\n",
    "nsize=tmp\n",
    "nsize=2000*(nsize-min(nsize))/(max(nsize)-min(nsize))\n",
    "\n",
    "print(nsize)"
   ]
  },
  {
   "cell_type": "code",
   "execution_count": 53,
   "id": "61f3bee5",
   "metadata": {},
   "outputs": [
    {
     "data": {
      "text/html": [
       "<div>\n",
       "<style scoped>\n",
       "    .dataframe tbody tr th:only-of-type {\n",
       "        vertical-align: middle;\n",
       "    }\n",
       "\n",
       "    .dataframe tbody tr th {\n",
       "        vertical-align: top;\n",
       "    }\n",
       "\n",
       "    .dataframe thead th {\n",
       "        text-align: right;\n",
       "    }\n",
       "</style>\n",
       "<table border=\"1\" class=\"dataframe\">\n",
       "  <thead>\n",
       "    <tr style=\"text-align: right;\">\n",
       "      <th></th>\n",
       "      <th>R</th>\n",
       "      <th>머신러닝</th>\n",
       "      <th>분석</th>\n",
       "      <th>시각화</th>\n",
       "      <th>차트</th>\n",
       "      <th>파이썬</th>\n",
       "    </tr>\n",
       "  </thead>\n",
       "  <tbody>\n",
       "    <tr>\n",
       "      <th>0</th>\n",
       "      <td>0</td>\n",
       "      <td>1</td>\n",
       "      <td>0</td>\n",
       "      <td>0</td>\n",
       "      <td>1</td>\n",
       "      <td>2</td>\n",
       "    </tr>\n",
       "    <tr>\n",
       "      <th>1</th>\n",
       "      <td>1</td>\n",
       "      <td>0</td>\n",
       "      <td>0</td>\n",
       "      <td>0</td>\n",
       "      <td>2</td>\n",
       "      <td>1</td>\n",
       "    </tr>\n",
       "    <tr>\n",
       "      <th>2</th>\n",
       "      <td>1</td>\n",
       "      <td>0</td>\n",
       "      <td>1</td>\n",
       "      <td>1</td>\n",
       "      <td>0</td>\n",
       "      <td>0</td>\n",
       "    </tr>\n",
       "  </tbody>\n",
       "</table>\n",
       "</div>"
      ],
      "text/plain": [
       "   R  머신러닝  분석  시각화  차트  파이썬\n",
       "0  0     1   0    0   1    2\n",
       "1  1     0   0    0   2    1\n",
       "2  1     0   1    1   0    0"
      ]
     },
     "execution_count": 53,
     "metadata": {},
     "output_type": "execute_result"
    }
   ],
   "source": [
    "tf_"
   ]
  },
  {
   "cell_type": "code",
   "execution_count": 54,
   "id": "ddb8b7dc",
   "metadata": {},
   "outputs": [
    {
     "name": "stdout",
     "output_type": "stream",
     "text": [
      "[('분석', '시각화', 0.9999999999999998), ('머신러닝', '파이썬', 0.8660254037844387), ('차트', '파이썬', 0.5), ('R', '분석', 0.4999999999999999), ('R', '시각화', 0.4999999999999999), ('R', '차트', 0.0), ('머신러닝', '차트', 0.0), ('머신러닝', '분석', -0.5), ('머신러닝', '시각화', -0.5), ('R', '파이썬', -0.8660254037844385)]\n"
     ]
    },
    {
     "data": {
      "image/png": "[encoded data removed]",
      "text/plain": [
       "<Figure size 1600x1200 with 1 Axes>"
      ]
     },
     "metadata": {},
     "output_type": "display_data"
    }
   ],
   "source": [
    "###############################\n",
    "### 상관계수 시각화\n",
    "## 그래프를  그리기 위해서 준비해야 하는건\n",
    "## 몇개의 노드를 준비할지,\n",
    "# 그 노드에서 몇개의 디그리가 나올지\n",
    "# 그리고 엣지(노드와 노드의 쌍)별 거리는 무엇으로 할지.\n",
    "##############################\n",
    "\n",
    "import matplotlib.pyplot as plt\n",
    "import matplotlib.font_manager as fm\n",
    "plt.figure(figsize=(16,12)); plt.axis('off')\n",
    "\n",
    "fname = fm.FontProperties().get_name()\n",
    "\n",
    "\n",
    "print(edges[:rank])\n",
    "nx.draw_networkx(G, with_labels = True,\n",
    "                 font_family=fname,width=weight_list[:rank],edge_color='lightblue',font_size=15,\n",
    "                 node_size=nsize)   # 상관관계값이 높을수록 가깝게 표시됨\n",
    "\n",
    "# nx.draw_networkx(G,node_size=nsize,\n",
    "#                  alpha=0.5, edge_color='0.1', #cmap=plt.cm.YlGn,\n",
    "#                  font_family=fname,font_size=15)"
   ]
  },
  {
   "cell_type": "markdown",
   "id": "44e29db0",
   "metadata": {},
   "source": [
    "### <수정>"
   ]
  },
  {
   "cell_type": "code",
   "execution_count": 55,
   "id": "1d7eb03a",
   "metadata": {},
   "outputs": [
    {
     "data": {
      "text/html": [
       "<div>\n",
       "<style scoped>\n",
       "    .dataframe tbody tr th:only-of-type {\n",
       "        vertical-align: middle;\n",
       "    }\n",
       "\n",
       "    .dataframe tbody tr th {\n",
       "        vertical-align: top;\n",
       "    }\n",
       "\n",
       "    .dataframe thead th {\n",
       "        text-align: right;\n",
       "    }\n",
       "</style>\n",
       "<table border=\"1\" class=\"dataframe\">\n",
       "  <thead>\n",
       "    <tr style=\"text-align: right;\">\n",
       "      <th></th>\n",
       "      <th>R</th>\n",
       "      <th>머신러닝</th>\n",
       "      <th>분석</th>\n",
       "      <th>시각화</th>\n",
       "      <th>차트</th>\n",
       "      <th>파이썬</th>\n",
       "    </tr>\n",
       "  </thead>\n",
       "  <tbody>\n",
       "    <tr>\n",
       "      <th>0</th>\n",
       "      <td>0</td>\n",
       "      <td>1</td>\n",
       "      <td>0</td>\n",
       "      <td>0</td>\n",
       "      <td>1</td>\n",
       "      <td>2</td>\n",
       "    </tr>\n",
       "    <tr>\n",
       "      <th>1</th>\n",
       "      <td>1</td>\n",
       "      <td>0</td>\n",
       "      <td>0</td>\n",
       "      <td>0</td>\n",
       "      <td>2</td>\n",
       "      <td>1</td>\n",
       "    </tr>\n",
       "    <tr>\n",
       "      <th>2</th>\n",
       "      <td>1</td>\n",
       "      <td>0</td>\n",
       "      <td>1</td>\n",
       "      <td>1</td>\n",
       "      <td>0</td>\n",
       "      <td>0</td>\n",
       "    </tr>\n",
       "  </tbody>\n",
       "</table>\n",
       "</div>"
      ],
      "text/plain": [
       "   R  머신러닝  분석  시각화  차트  파이썬\n",
       "0  0     1   0    0   1    2\n",
       "1  1     0   0    0   2    1\n",
       "2  1     0   1    1   0    0"
      ]
     },
     "execution_count": 55,
     "metadata": {},
     "output_type": "execute_result"
    }
   ],
   "source": [
    "tf_"
   ]
  },
  {
   "cell_type": "code",
   "execution_count": 56,
   "id": "037c0f01",
   "metadata": {},
   "outputs": [
    {
     "data": {
      "text/plain": [
       "R       1000.0\n",
       "머신러닝       0.0\n",
       "분석         0.0\n",
       "시각화        0.0\n",
       "차트      2000.0\n",
       "파이썬     2000.0\n",
       "dtype: float64"
      ]
     },
     "execution_count": 56,
     "metadata": {},
     "output_type": "execute_result"
    }
   ],
   "source": [
    "# 노드size: 단어빈도수(TF)\n",
    "nsize"
   ]
  },
  {
   "cell_type": "code",
   "execution_count": 57,
   "id": "12ba670f",
   "metadata": {},
   "outputs": [
    {
     "data": {
      "text/plain": [
       "DegreeView({'분석': 3, '시각화': 3, '머신러닝': 4, '파이썬': 3, '차트': 3, 'R': 4})"
      ]
     },
     "execution_count": 57,
     "metadata": {},
     "output_type": "execute_result"
    }
   ],
   "source": [
    "# 노드 degree 확인 : degree 키값으로 node그려짐..따라서...degree 키값 기반으로 size 재 조정함\n",
    "G.degree"
   ]
  },
  {
   "cell_type": "code",
   "execution_count": 58,
   "id": "56029a46",
   "metadata": {},
   "outputs": [
    {
     "data": {
      "text/plain": [
       "{'분석': 0.0, '시각화': 0.0, '머신러닝': 0.0, '파이썬': 2000.0, '차트': 2000.0, 'R': 1000.0}"
      ]
     },
     "execution_count": 58,
     "metadata": {},
     "output_type": "execute_result"
    }
   ],
   "source": [
    "temp={k:nsize[k] for k in dict(G.degree)}\n",
    "temp"
   ]
  },
  {
   "cell_type": "code",
   "execution_count": 61,
   "id": "8c613431",
   "metadata": {},
   "outputs": [
    {
     "name": "stdout",
     "output_type": "stream",
     "text": [
      "[('분석', '시각화', 0.9999999999999998), ('머신러닝', '파이썬', 0.8660254037844387), ('차트', '파이썬', 0.5), ('R', '분석', 0.4999999999999999), ('R', '시각화', 0.4999999999999999), ('R', '차트', 0.0), ('머신러닝', '차트', 0.0), ('머신러닝', '분석', -0.5), ('머신러닝', '시각화', -0.5), ('R', '파이썬', -0.8660254037844385)]\n"
     ]
    },
    {
     "data": {
      "image/png": "[encoded data removed]",
      "text/plain": [
       "<Figure size 1000x500 with 1 Axes>"
      ]
     },
     "metadata": {},
     "output_type": "display_data"
    }
   ],
   "source": [
    "###############################\n",
    "### 상관계수 시각화\n",
    "## 그래프를  그리기 위해서 준비해야 하는건\n",
    "## 몇개의 노드를 준비할지,\n",
    "# 그 노드에서 몇개의 디그리가 나올지\n",
    "# 그리고 엣지(노드와 노드의 쌍)별 거리는 무엇으로 할지.\n",
    "##############################\n",
    "\n",
    "import matplotlib.pyplot as plt\n",
    "import matplotlib.font_manager as fm\n",
    "plt.figure(figsize=(10,5)); plt.axis('off')\n",
    "\n",
    "fname = fm.FontProperties().get_name()\n",
    "\n",
    "\n",
    "print(edges[:rank])\n",
    "nx.draw_networkx(G, with_labels = True,\n",
    "                 font_family=fname,width=weight_list[:rank],edge_color='lightblue',font_size=15,\n",
    "                 node_size=nsize)   # 상관관계값이 높을수록 가깝게 표시됨"
   ]
  },
  {
   "cell_type": "code",
   "execution_count": null,
   "id": "2a457657",
   "metadata": {},
   "outputs": [],
   "source": []
  }
 ],
 "metadata": {
  "kernelspec": {
   "display_name": "Python 3.10.4 ('han')",
   "language": "python",
   "name": "python3"
  },
  "language_info": {
   "codemirror_mode": {
    "name": "ipython",
    "version": 3
   },
   "file_extension": ".py",
   "mimetype": "text/x-python",
   "name": "python",
   "nbconvert_exporter": "python",
   "pygments_lexer": "ipython3",
   "version": "3.10.4"
  },
  "vscode": {
   "interpreter": {
    "hash": "9ffd841040af6bedd50cabf1584399d13f777232c008d7c4ad470663779a547a"
   }
  }
 },
 "nbformat": 4,
 "nbformat_minor": 5
}
