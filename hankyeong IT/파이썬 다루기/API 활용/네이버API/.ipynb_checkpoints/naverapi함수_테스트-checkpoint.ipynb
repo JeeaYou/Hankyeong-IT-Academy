{
 "cells": [
  {
   "cell_type": "code",
   "execution_count": 3,
   "id": "d1c38aa8",
   "metadata": {},
   "outputs": [],
   "source": [
    "import naverapi as na"
   ]
  },
  {
   "cell_type": "code",
   "execution_count": 6,
   "id": "9d1905af",
   "metadata": {},
   "outputs": [
    {
     "name": "stdout",
     "output_type": "stream",
     "text": [
      "머신러닝:267\n",
      "메타버스:242\n",
      "AI:1722\n",
      "딥러닝:243\n"
     ]
    }
   ],
   "source": [
    "ls=['머신러닝','메타버스','AI','딥러닝']\n",
    "for i in ls:\n",
    "    total=na.total_count(i,'book')\n",
    "    print(f'{i}:{total}')"
   ]
  },
  {
   "cell_type": "code",
   "execution_count": 4,
   "id": "c6fa5d79",
   "metadata": {},
   "outputs": [
    {
     "data": {
      "text/plain": [
       "['__builtins__',\n",
       " '__cached__',\n",
       " '__doc__',\n",
       " '__file__',\n",
       " '__loader__',\n",
       " '__name__',\n",
       " '__package__',\n",
       " '__spec__',\n",
       " 'connect',\n",
       " 'json',\n",
       " 'naver_api',\n",
       " 'os',\n",
       " 'pd',\n",
       " 'sys',\n",
       " 'total_count',\n",
       " 'urllib']"
      ]
     },
     "execution_count": 4,
     "metadata": {},
     "output_type": "execute_result"
    }
   ],
   "source": [
    "dir(na)"
   ]
  },
  {
   "cell_type": "code",
   "execution_count": null,
   "id": "ec0a54bd",
   "metadata": {},
   "outputs": [],
   "source": []
  }
 ],
 "metadata": {
  "kernelspec": {
   "display_name": "Python 3 (ipykernel)",
   "language": "python",
   "name": "python3"
  },
  "language_info": {
   "codemirror_mode": {
    "name": "ipython",
    "version": 3
   },
   "file_extension": ".py",
   "mimetype": "text/x-python",
   "name": "python",
   "nbconvert_exporter": "python",
   "pygments_lexer": "ipython3",
   "version": "3.10.4"
  }
 },
 "nbformat": 4,
 "nbformat_minor": 5
}
