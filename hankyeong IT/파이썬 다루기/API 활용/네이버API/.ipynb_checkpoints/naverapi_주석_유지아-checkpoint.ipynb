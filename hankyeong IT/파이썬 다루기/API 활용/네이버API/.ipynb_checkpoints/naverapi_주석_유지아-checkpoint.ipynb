{
 "cells": [
  {
   "cell_type": "code",
   "execution_count": 75,
   "id": "a0f605cc",
   "metadata": {},
   "outputs": [],
   "source": [
    "import os\n",
    "import sys\n",
    "import urllib.request\n",
    "import json\n",
    "\n",
    "def connect(검색어,api='blog'):\n",
    "    client_id = \"c3IscpJm_c4tcHI0dp2x\"\n",
    "    client_secret = \"a1aZB7Uw_7\"\n",
    "    encText = urllib.parse.quote(검색어)\n",
    "\n",
    "\n",
    "    url = 'https://openapi.naver.com/v1/search/'+api+'?query=' + encText +'&display=100&start=1'# json 결과\n",
    "    # url = \"https://openapi.naver.com/v1/search/blog.xml?query=\" + encText # xml 결과\n",
    "    request = urllib.request.Request(url)\n",
    "    request.add_header(\"X-Naver-Client-Id\",client_id)\n",
    "    request.add_header(\"X-Naver-Client-Secret\",client_secret)\n",
    "    response = urllib.request.urlopen(request)\n",
    "    rescode = response.getcode()\n",
    "    \n",
    "    if(rescode!=200):\n",
    "        print(\"Error Code:\" + rescode)\n",
    "        return\n",
    "    \n",
    "    response_body = response.read()\n",
    "    response=json.loads(response_body)  # json를 딕셔너리로 바꾼다\n",
    "    return response\n",
    "\n",
    "def naver_api(검색어,api='blog'):\n",
    "    '''\n",
    "     naver_api(검색어,api='blog'\n",
    "     \n",
    "     api='blog'(default) 'news | cafearticle | kin | book | encyc | movie'\n",
    "     \n",
    "     'news(뉴스) | cafearticle(카페글) | kin(지식인) | book(책검색) | encyc(백과사전) | movie(영화검색)'\n",
    "\n",
    "    '''\n",
    "    response=connect(검색어,api='blog')\n",
    "    df=pd.DataFrame(response['items'])\n",
    "    return df\n",
    "\n",
    "def total_count(검색어,api):\n",
    "    '''\n",
    "     total_count(검색어,api='blog')\n",
    "     \n",
    "     api='blog'(default) 'news | cafearticle | kin | book | encyc | movie'\n",
    "     \n",
    "     'news(뉴스) | cafearticle(카페글) | kin(지식인) | book(책검색) | encyc(백과사전) | movie(영화검색)'\n",
    "\n",
    "    '''\n",
    "    response=connect(검색어,api)\n",
    "    total=response['total']\n",
    "    return tot\n",
    "\n",
    "if __name__=='__main__':\n",
    "    t=total_count('파이썬','news')\n",
    "#     df=naver_api('파이썬','kin')\n",
    "#     display(df)"
   ]
  },
  {
   "cell_type": "code",
   "execution_count": null,
   "id": "82cf9ee8",
   "metadata": {},
   "outputs": [],
   "source": []
  }
 ],
 "metadata": {
  "kernelspec": {
   "display_name": "Python 3 (ipykernel)",
   "language": "python",
   "name": "python3"
  },
  "language_info": {
   "codemirror_mode": {
    "name": "ipython",
    "version": 3
   },
   "file_extension": ".py",
   "mimetype": "text/x-python",
   "name": "python",
   "nbconvert_exporter": "python",
   "pygments_lexer": "ipython3",
   "version": "3.10.4"
  }
 },
 "nbformat": 4,
 "nbformat_minor": 5
}
