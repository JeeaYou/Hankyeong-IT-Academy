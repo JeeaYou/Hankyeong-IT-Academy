{
 "cells": [
  {
   "cell_type": "code",
   "execution_count": 80,
   "id": "a0f605cc",
   "metadata": {},
   "outputs": [],
   "source": [
    "import os\n",
    "import sys\n",
    "import urllib.request\n",
    "import json\n",
    "import pandas as pd\n",
    "\n",
    "def connect(검색어,api='blog'):                  # 서버함수의 정의\n",
    "    client_id = \"c3IscpJm_c4tcHI0dp2x\"           # 네이버api ID\n",
    "    client_secret = \"a1aZB7Uw_7\"                 # 네이버api 비번\n",
    "    encText = urllib.parse.quote(검색어)         # 검색어를 검색\n",
    "\n",
    "\n",
    "    url = 'https://openapi.naver.com/v1/search/'+api+'?query=' + encText +'&display=100&start=1'    # url주소\n",
    "    request = urllib.request.Request(url)                   # 지정url를 요청하기\n",
    "    request.add_header(\"X-Naver-Client-Id\",client_id)        # client_ID로 네이버에 요청한다\n",
    "    request.add_header(\"X-Naver-Client-Secret\",client_secret)  # client_비번으로 네이버에 요청한다\n",
    "    response = urllib.request.urlopen(request)    # url를 요청하는 함수를 response라고 한다\n",
    "    rescode = response.getcode()  # url요청이 성공하면 response.status의 값이 생성된다\n",
    "    \n",
    "    if(rescode!=200):             # 만약에 http 에 요청하지 못하면\n",
    "        print(\"Error Code:\" + rescode)   # Error Code 와 에러코드번호가 뜬다\n",
    "        return\n",
    "    \n",
    "    response_body = response.read()       # response를 읽는다\n",
    "    response=json.loads(response_body)    # response를 json 딕셔너리로 바꾼다\n",
    "    return response           # response를 리턴한다\n",
    "\n",
    "def naver_api(검색어,api='blog'):      # naver_api함수를 정의한다\n",
    "    '''\n",
    "     naver_api(검색어,api='blog'\n",
    "     \n",
    "     api='blog'(default) 'news | cafearticle | kin | book | encyc | movie'\n",
    "     \n",
    "     'news(뉴스) | cafearticle(카페글) | kin(지식인) | book(책검색) | encyc(백과사전) | movie(영화검색)'\n",
    "\n",
    "    '''\n",
    "    response=connect(검색어,api)    # 서버함수를 갖고온다\n",
    "    df=pd.DataFrame(response['items'])     # 데이터를 데이터프레임으로 출력한다\n",
    "    return df           # 데이터를 반환한다\n",
    "\n",
    "def total_count(검색어,api):           # total_count함수를 정의한다\n",
    "    '''\n",
    "     total_count(검색어,api='blog')\n",
    "     \n",
    "     api='blog'(default) 'news | cafearticle | kin | book | encyc | movie'\n",
    "     \n",
    "     'news(뉴스) | cafearticle(카페글) | kin(지식인) | book(책검색) | encyc(백과사전) | movie(영화검색)'\n",
    "\n",
    "    '''\n",
    "    response=connect(검색어,api)         # 서버함수를 갖고온다\n",
    "    total=response['total']              # 데이터를 데이터프레임으로 출력한다\n",
    "    return total               # 토탈 개수를 반환한다\n",
    "\n",
    "# if __name__=='__main__':            \n",
    "#     t=total_count('파이썬','blog')\n",
    "#     df=naver_api('파이썬','kin')\n",
    "#     display(df)"
   ]
  },
  {
   "cell_type": "code",
   "execution_count": 81,
   "id": "82cf9ee8",
   "metadata": {},
   "outputs": [
    {
     "data": {
      "text/plain": [
       "346526"
      ]
     },
     "execution_count": 81,
     "metadata": {},
     "output_type": "execute_result"
    }
   ],
   "source": []
  },
  {
   "cell_type": "code",
   "execution_count": null,
   "id": "31fe5ccc",
   "metadata": {},
   "outputs": [],
   "source": []
  }
 ],
 "metadata": {
  "kernelspec": {
   "display_name": "Python 3 (ipykernel)",
   "language": "python",
   "name": "python3"
  },
  "language_info": {
   "codemirror_mode": {
    "name": "ipython",
    "version": 3
   },
   "file_extension": ".py",
   "mimetype": "text/x-python",
   "name": "python",
   "nbconvert_exporter": "python",
   "pygments_lexer": "ipython3",
   "version": "3.10.4"
  }
 },
 "nbformat": 4,
 "nbformat_minor": 5
}
