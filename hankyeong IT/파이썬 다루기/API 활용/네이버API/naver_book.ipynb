{
 "cells": [
  {
   "cell_type": "code",
   "execution_count": 9,
   "id": "26b4d849",
   "metadata": {},
   "outputs": [],
   "source": [
    "# 네이버 검색 API예제는 블로그를 비롯 전문자료까지 호출방법이 동일하므로 blog검색만 대표로 예제를 올렸습니다.\n",
    "# 네이버 검색 Open API 예제 - 블로그 검색\n",
    "import os\n",
    "import sys\n",
    "import urllib.request\n",
    "import pandas as pd"
   ]
  },
  {
   "cell_type": "code",
   "execution_count": 2,
   "id": "46d472fc",
   "metadata": {},
   "outputs": [],
   "source": [
    "client_id = \"c3IscpJm_c4tcHI0dp2x\"\n",
    "client_secret = \"a1aZB7Uw_7\"\n",
    "\n",
    "def naver_api(book,api):\n",
    "    for i in book:\n",
    "        start=1\n",
    "        encText = urllib.parse.quote(book)\n",
    "        res=[]\n",
    "        for start in range(100):\n",
    "            url = 'https://openapi.naver.com/v1/search/'+api+'?query=' + encText+ '&display=100&start='+str(start) # json 결과\n",
    "            # url = \"https://openapi.naver.com/v1/search/blog.xml?query=\" + encText # xml 결과\n",
    "            \n",
    "            request = urllib.request.Request(url)\n",
    "            request.add_header(\"X-Naver-Client-Id\",client_id)\n",
    "            request.add_header(\"X-Naver-Client-Secret\",client_secret)\n",
    "            response = urllib.request.urlopen(request)\n",
    "            rescode = response.getcode()\n",
    "            \n",
    "            if(rescode==200):\n",
    "                response_body = response.read()\n",
    "                json_obj = json.loads(response_body)\n",
    "                data=pd.DataFrame(json_obj['items'])\n",
    "                res.append(data)\n",
    "            else:\n",
    "                print(\"Error Code:\" + rescode)\n",
    "                \n",
    "            pd.concat(res).reset_index(drop = True)"
   ]
  },
  {
   "cell_type": "code",
   "execution_count": null,
   "id": "5f6326de",
   "metadata": {},
   "outputs": [],
   "source": []
  }
 ],
 "metadata": {
  "kernelspec": {
   "display_name": "Python 3 (ipykernel)",
   "language": "python",
   "name": "python3"
  },
  "language_info": {
   "codemirror_mode": {
    "name": "ipython",
    "version": 3
   },
   "file_extension": ".py",
   "mimetype": "text/x-python",
   "name": "python",
   "nbconvert_exporter": "python",
   "pygments_lexer": "ipython3",
   "version": "3.10.4"
  }
 },
 "nbformat": 4,
 "nbformat_minor": 5
}
