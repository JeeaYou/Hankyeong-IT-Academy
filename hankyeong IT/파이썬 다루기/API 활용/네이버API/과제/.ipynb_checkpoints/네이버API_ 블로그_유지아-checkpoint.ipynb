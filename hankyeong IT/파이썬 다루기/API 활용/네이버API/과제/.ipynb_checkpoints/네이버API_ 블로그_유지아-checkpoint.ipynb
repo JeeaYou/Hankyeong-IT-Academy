{
 "cells": [
  {
   "cell_type": "code",
   "execution_count": 68,
   "id": "fdc051fe",
   "metadata": {},
   "outputs": [
    {
     "name": "stdout",
     "output_type": "stream",
     "text": [
      "스타벅스\n",
      "총 글 수: 4,241,689\n",
      "총 글 수: 4,241,689\n",
      "총 글 수: 4,241,672\n",
      "이디야\n",
      "총 글 수: 515,865\n",
      "총 글 수: 515,865\n",
      "총 글 수: 515,864\n",
      "빽다방\n",
      "총 글 수: 213,513\n",
      "총 글 수: 213,513\n",
      "총 글 수: 213,513\n"
     ]
    }
   ],
   "source": [
    "# 네이버 검색 API예제는 블로그를 비롯 전문자료까지 호출방법이 동일하므로 blog검색만 대표로 예제를 올렸습니다.\n",
    "# 네이버 검색 Open API 예제 - 블로그 검색\n",
    "import os\n",
    "import sys\n",
    "import urllib.request\n",
    "import pandas as pd\n",
    "import json\n",
    "client_id = \"c3IscpJm_c4tcHI0dp2x\"\n",
    "client_secret = \"a1aZB7Uw_7\"\n",
    "\n",
    "검색어=['스타벅스','이디야','빽다방']\n",
    "os.makedirs('./카페/', exist_ok=True)\n",
    "\n",
    "for i in 검색어:\n",
    "    start=1\n",
    "    api='blog'\n",
    "    encText = urllib.parse.quote(i)\n",
    "    print(i)\n",
    "    res=[]\n",
    "    for start in range(1,202,100):\n",
    "        url = 'https://openapi.naver.com/v1/search/'+api+'?query=' + encText + '&display=100&start='+str(start)# json 결과\n",
    "        # url = \"https://openapi.naver.com/v1/search/blog.xml?query=\" + encText # xml 결과\n",
    "\n",
    "        request = urllib.request.Request(url)\n",
    "        request.add_header(\"X-Naver-Client-Id\",client_id)\n",
    "        request.add_header(\"X-Naver-Client-Secret\",client_secret)\n",
    "        response = urllib.request.urlopen(request)\n",
    "        rescode = response.getcode()\n",
    "        \n",
    "        if(rescode==200):\n",
    "            response_body = response.read()\n",
    "            json_obj = json.loads(response_body)\n",
    "            data=pd.DataFrame(json_obj['items'])\n",
    "            res.append(data)\n",
    "        else:\n",
    "            print(\"Error Code:\" + rescode)\n",
    "        \n",
    "        df=pd.concat(res).reset_index(drop = True)\n",
    "        print(f\"총 글 수: {json_obj['total']:,}\")\n",
    "        df.to_csv(f'./카페/{i}.csv')  "
   ]
  },
  {
   "cell_type": "code",
   "execution_count": null,
   "id": "5ef9d463",
   "metadata": {},
   "outputs": [],
   "source": []
  }
 ],
 "metadata": {
  "kernelspec": {
   "display_name": "Python 3 (ipykernel)",
   "language": "python",
   "name": "python3"
  },
  "language_info": {
   "codemirror_mode": {
    "name": "ipython",
    "version": 3
   },
   "file_extension": ".py",
   "mimetype": "text/x-python",
   "name": "python",
   "nbconvert_exporter": "python",
   "pygments_lexer": "ipython3",
   "version": "3.10.4"
  }
 },
 "nbformat": 4,
 "nbformat_minor": 5
}
