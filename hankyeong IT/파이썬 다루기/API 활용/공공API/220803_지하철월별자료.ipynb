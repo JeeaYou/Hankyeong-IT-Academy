{
 "cells": [
  {
   "cell_type": "code",
   "execution_count": 1,
   "id": "3eb0cd46",
   "metadata": {},
   "outputs": [],
   "source": [
    "import subway_p as sb\n",
    "import pandas as pd\n",
    "import os\n",
    "import datetime"
   ]
  },
  {
   "cell_type": "code",
   "execution_count": 4,
   "id": "ab3911f8",
   "metadata": {},
   "outputs": [],
   "source": [
    "# 문제 3 2021년 모든 지하철 승하차 인원 월별로 저장 2021_01.csv같은 파일명으로 저장\n",
    "# 20210101 ~ 20210331까지 제한\n",
    "\n",
    "for i in range (1,4): #1월 2월 3월로 잡기 위해 범위를 1,2,3 카운트\n",
    "    \n",
    "    start_date= '2022-01-01' #2022년 시작일 설정\n",
    "    end_date = '2022-12-31' #2022년 종료일 설정\n",
    "    set_enddates = pd.date_range(start_date,end_date,freq='M').astype(str) #각 월별 끝 날짜 나오는 함수\n",
    "    #pandas에서는 날짜 자료형 타입이 별도로 존재해 문자로 변환해야 함\n",
    "    start_month = f'2022-0{i}-01' #시작일 i월 1일로\n",
    "    for x in range(len(set_enddates)): #set_enddates 전체를 검색해 for 문을 돌릴 것이다\n",
    "        if '0'+str(i) in set_enddates[x][5:7]: #날짜가 01~12까지라 '0'+str(i)로 처리 - 10~12월은 별도 예외처리가 필요\n",
    "            end_month = set_enddates[x] #i월의 끝 날짜 지정\n",
    "    ts_days_idx = pd.date_range(start_month,end_month).astype(str) # 월별 날짜 구하는 함수 1월 1일~31일 등\n",
    "    res_tmp=[] #임시리스트 작성\n",
    "    for d in ts_days_idx: #월별 날짜를 이용해 for문 처리할 것\n",
    "        d= d.replace('-','') #날짜에 -가 있어 지하철 format에 맞게 처리하기 위해 '-'제거\n",
    "        res_tmp.append(sb.subway_p(d)) #각 일별 자료 res_tmp에 append\n",
    "    #for d 문 종료\n",
    "    df_tmp=pd.concat(res_tmp,ignore_index=True) #담은 일별자료 묶어 월별자료로 전환   \n",
    "    os.makedirs(f'./지하철/{i}월',exist_ok=True) #i월 폴더 만들기\n",
    "    df_tmp.to_csv(f'./지하철/{i}월/2021_0{i}.csv') #i월 파일 제작\n",
    "    #i월 작업 끝!\n",
    "\n",
    "#전체 월 작업 끝\n"
   ]
  },
  {
   "cell_type": "code",
   "execution_count": 3,
   "id": "48c23596",
   "metadata": {},
   "outputs": [
    {
     "data": {
      "text/plain": [
       "['20220101',\n",
       " '20220102',\n",
       " '20220103',\n",
       " '20220104',\n",
       " '20220105',\n",
       " '20220106',\n",
       " '20220107',\n",
       " '20220108',\n",
       " '20220109',\n",
       " '20220110',\n",
       " '20220111',\n",
       " '20220112',\n",
       " '20220113',\n",
       " '20220114',\n",
       " '20220115',\n",
       " '20220116',\n",
       " '20220117',\n",
       " '20220118',\n",
       " '20220119',\n",
       " '20220120',\n",
       " '20220121',\n",
       " '20220122',\n",
       " '20220123',\n",
       " '20220124',\n",
       " '20220125',\n",
       " '20220126',\n",
       " '20220127',\n",
       " '20220128',\n",
       " '20220129',\n",
       " '20220130',\n",
       " '20220131',\n",
       " '20220201',\n",
       " '20220202',\n",
       " '20220203',\n",
       " '20220204',\n",
       " '20220205',\n",
       " '20220206',\n",
       " '20220207',\n",
       " '20220208',\n",
       " '20220209',\n",
       " '20220210',\n",
       " '20220211',\n",
       " '20220212',\n",
       " '20220213',\n",
       " '20220214',\n",
       " '20220215',\n",
       " '20220216',\n",
       " '20220217',\n",
       " '20220218',\n",
       " '20220219',\n",
       " '20220220',\n",
       " '20220221',\n",
       " '20220222',\n",
       " '20220223',\n",
       " '20220224',\n",
       " '20220225',\n",
       " '20220226',\n",
       " '20220227',\n",
       " '20220228',\n",
       " '20220301',\n",
       " '20220302',\n",
       " '20220303',\n",
       " '20220304',\n",
       " '20220305',\n",
       " '20220306',\n",
       " '20220307',\n",
       " '20220308',\n",
       " '20220309',\n",
       " '20220310',\n",
       " '20220311',\n",
       " '20220312',\n",
       " '20220313',\n",
       " '20220314',\n",
       " '20220315',\n",
       " '20220316',\n",
       " '20220317',\n",
       " '20220318',\n",
       " '20220319',\n",
       " '20220320',\n",
       " '20220321',\n",
       " '20220322',\n",
       " '20220323',\n",
       " '20220324',\n",
       " '20220325',\n",
       " '20220326',\n",
       " '20220327',\n",
       " '20220328',\n",
       " '20220329',\n",
       " '20220330',\n",
       " '20220331']"
      ]
     },
     "execution_count": 3,
     "metadata": {},
     "output_type": "execute_result"
    }
   ],
   "source": [
    "month=pd.date_range('20220101', '20220331').astype('str')\n",
    "res_m=[]\n",
    "for i in range(len(month)):\n",
    "    m=month[i].replace('-','')\n",
    "    res_m.append(m)\n",
    "res_m"
   ]
  },
  {
   "cell_type": "code",
   "execution_count": 6,
   "id": "9284e4ac",
   "metadata": {},
   "outputs": [
    {
     "ename": "NameError",
     "evalue": "name 'df' is not defined",
     "output_type": "error",
     "traceback": [
      "\u001b[1;31m---------------------------------------------------------------------------\u001b[0m",
      "\u001b[1;31mNameError\u001b[0m                                 Traceback (most recent call last)",
      "Input \u001b[1;32mIn [6]\u001b[0m, in \u001b[0;36m<cell line: 1>\u001b[1;34m()\u001b[0m\n\u001b[1;32m----> 1\u001b[0m \u001b[43mdf\u001b[49m\n",
      "\u001b[1;31mNameError\u001b[0m: name 'df' is not defined"
     ]
    }
   ],
   "source": [
    "df"
   ]
  },
  {
   "cell_type": "code",
   "execution_count": 5,
   "id": "d0a37098",
   "metadata": {},
   "outputs": [
    {
     "ename": "NameError",
     "evalue": "name 'd_ranges' is not defined",
     "output_type": "error",
     "traceback": [
      "\u001b[1;31m---------------------------------------------------------------------------\u001b[0m",
      "\u001b[1;31mNameError\u001b[0m                                 Traceback (most recent call last)",
      "Input \u001b[1;32mIn [5]\u001b[0m, in \u001b[0;36m<cell line: 1>\u001b[1;34m()\u001b[0m\n\u001b[1;32m----> 1\u001b[0m \u001b[43md_ranges\u001b[49m\n",
      "\u001b[1;31mNameError\u001b[0m: name 'd_ranges' is not defined"
     ]
    }
   ],
   "source": [
    "d=pd.Series(d_ranges)"
   ]
  },
  {
   "cell_type": "code",
   "execution_count": null,
   "id": "f22a1adb",
   "metadata": {},
   "outputs": [],
   "source": [
    "d.map(sb.subway_p)"
   ]
  },
  {
   "cell_type": "code",
   "execution_count": null,
   "id": "c988bc99",
   "metadata": {},
   "outputs": [],
   "source": [
    "df_res=pd.concat([d,d1],axis=1)"
   ]
  },
  {
   "cell_type": "code",
   "execution_count": 7,
   "id": "aa2c603e",
   "metadata": {},
   "outputs": [
    {
     "ename": "NameError",
     "evalue": "name 'df_res' is not defined",
     "output_type": "error",
     "traceback": [
      "\u001b[1;31m---------------------------------------------------------------------------\u001b[0m",
      "\u001b[1;31mNameError\u001b[0m                                 Traceback (most recent call last)",
      "Input \u001b[1;32mIn [7]\u001b[0m, in \u001b[0;36m<cell line: 1>\u001b[1;34m()\u001b[0m\n\u001b[1;32m----> 1\u001b[0m df_res[\u001b[38;5;124m'\u001b[39m\u001b[38;5;124m월\u001b[39m\u001b[38;5;124m'\u001b[39m]\u001b[38;5;241m=\u001b[39m[i[\u001b[38;5;241m4\u001b[39m:\u001b[38;5;241m2\u001b[39m] \u001b[38;5;28;01mfor\u001b[39;00m i \u001b[38;5;129;01min\u001b[39;00m \u001b[43mdf_res\u001b[49m[\u001b[38;5;241m0\u001b[39m]]\n",
      "\u001b[1;31mNameError\u001b[0m: name 'df_res' is not defined"
     ]
    }
   ],
   "source": [
    "df_res['월']=[i[4:2] for i in df_res[0]]"
   ]
  },
  {
   "cell_type": "code",
   "execution_count": null,
   "id": "e10ed856",
   "metadata": {},
   "outputs": [],
   "source": [
    "df_res"
   ]
  },
  {
   "cell_type": "code",
   "execution_count": null,
   "id": "dde0f04a",
   "metadata": {},
   "outputs": [],
   "source": [
    "월=df_res['월'].unique()"
   ]
  },
  {
   "cell_type": "code",
   "execution_count": null,
   "id": "a7ede750",
   "metadata": {},
   "outputs": [],
   "source": [
    "for i in 월:\n",
    "    tmp=display(df_res[df_res['월']==01])\n",
    "    display(tmp.iloc[1])\n",
    "#     for j in tmp:\n",
    "#         display(j)\n",
    "    break"
   ]
  },
  {
   "cell_type": "code",
   "execution_count": null,
   "id": "82730f72",
   "metadata": {},
   "outputs": [],
   "source": [
    "for i in 월:\n",
    "    print(df_res)\n",
    "    break"
   ]
  },
  {
   "cell_type": "code",
   "execution_count": null,
   "id": "95acdf39",
   "metadata": {},
   "outputs": [],
   "source": []
  },
  {
   "cell_type": "code",
   "execution_count": null,
   "id": "f2fe09b6",
   "metadata": {},
   "outputs": [],
   "source": []
  }
 ],
 "metadata": {
  "kernelspec": {
   "display_name": "Python 3 (ipykernel)",
   "language": "python",
   "name": "python3"
  },
  "language_info": {
   "codemirror_mode": {
    "name": "ipython",
    "version": 3
   },
   "file_extension": ".py",
   "mimetype": "text/x-python",
   "name": "python",
   "nbconvert_exporter": "python",
   "pygments_lexer": "ipython3",
   "version": "3.10.4"
  }
 },
 "nbformat": 4,
 "nbformat_minor": 5
}
