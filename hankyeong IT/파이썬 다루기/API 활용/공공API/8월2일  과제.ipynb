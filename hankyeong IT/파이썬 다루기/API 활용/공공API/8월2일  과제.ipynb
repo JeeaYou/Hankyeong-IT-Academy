{
 "cells": [
  {
   "cell_type": "code",
   "execution_count": null,
   "id": "221c0856",
   "metadata": {},
   "outputs": [],
   "source": [
    "import requests\n",
    "from bs4 import BeautifulSoup as bs\n",
    "import pandas as pd\n",
    "import matplotlib.pyplot as plt\n",
    "plt.rcParams['font.family'] = 'Malgun Gothic'#한글 깨짐 해결\n",
    "plt.rcParams['axes.unicode_minus'] = False  #- 깨짐 해결\n",
    "for day in range(20210701,20210732): #7월1일 부터 7월 31일까지 날짜를 출력한다\n",
    "    key='587a6152736b696d35344c42507475' # 내 키\n",
    "    date=str(day) #7월1일 부터 7월31일 까지\n",
    "    url1='http://openapi.seoul.go.kr:8088/'+key\n",
    "    url2='/xml/CardSubwayStatsNew/1/1000/'+date\n",
    "    url=url1+url2 \n",
    "    #url=http://openapi.seoul.go.kr:8088/587a6152736b696d35344c42507475/xml/CardSubwayStatsNew/1/1000/20210701\n",
    "\n",
    "    xml=requests.get(url)    #xml 변수에 request.get(url) 을 지정\n",
    "\n",
    "    soup=bs(xml.text,'html.parser')   #bs함수로 xml을 html 를 사용해 text만 불러오기\n",
    "\n",
    "    rows=soup.find_all('row') #row안에 있는 데이터를 모두 불러온다\n",
    "\n",
    "    ls=['use_dt','line_num','sub_sta_nm','ride_pasgr_num','alight_pasgr_num']\n",
    "    res=[]\n",
    "    for row in rows:\n",
    "        dt={}\n",
    "        for j in ls:\n",
    "            dt[j]=row.find(j).text\n",
    "        res.append(dt)\n",
    "    \n",
    "        df=pd.DataFrame(res)\n",
    "    df.to_csv('./지하철/'+date+'.csv',encoding='cp949') #./지하철/20210701.csv로 저장\n",
    "print('end') #for문이 끝나면 끝났다고 알려주기\n"
   ]
  }
 ],
 "metadata": {
  "kernelspec": {
   "display_name": "Python 3 (ipykernel)",
   "language": "python",
   "name": "python3"
  },
  "language_info": {
   "codemirror_mode": {
    "name": "ipython",
    "version": 3
   },
   "file_extension": ".py",
   "mimetype": "text/x-python",
   "name": "python",
   "nbconvert_exporter": "python",
   "pygments_lexer": "ipython3",
   "version": "3.10.4"
  }
 },
 "nbformat": 4,
 "nbformat_minor": 5
}
