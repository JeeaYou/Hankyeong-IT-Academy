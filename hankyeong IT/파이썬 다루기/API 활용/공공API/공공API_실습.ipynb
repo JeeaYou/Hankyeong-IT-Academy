{
 "cells": [
  {
   "cell_type": "code",
   "execution_count": 2,
   "id": "c959ac04",
   "metadata": {},
   "outputs": [
    {
     "name": "stdout",
     "output_type": "stream",
     "text": [
      "https://api.visitkorea.or.kr/openapi/service/rest/KorService/searchFestival?serviceKey=2cEINdHyQva8gLZV3f60g86MwuvFmRscrEqPByci4qmrdaauq07ryNDP5eSxQV5O4h8VcKV87fcsnCvw3w235Q%3D%3D&numOfRows=1000&pageNo=1&MobileOS=ETC&MobileApp=AppTest&arrange=A&listYN=Y&eventStartDate=20210101&eventEndDate=20211231\n"
     ]
    }
   ],
   "source": [
    "print('https://api.visitkorea.or.kr/openapi/service/rest/KorService/searchFestival?serviceKey=2cEINdHyQva8gLZV3f60g86MwuvFmRscrEqPByci4qmrdaauq07ryNDP5eSxQV5O4h8VcKV87fcsnCvw3w235Q%3D%3D&numOfRows=1000&pageNo=1&MobileOS=ETC&MobileApp=AppTest&arrange=A&listYN=Y&eventStartDate=20210101&eventEndDate=20211231')"
   ]
  },
  {
   "cell_type": "code",
   "execution_count": 3,
   "id": "5d6837a3",
   "metadata": {},
   "outputs": [],
   "source": [
    "import requests\n",
    "from bs4 import BeautifulSoup as bs\n",
    "import pandas as pd\n",
    "import matplotlib.pyplot as plt\n",
    "plt.rcParams['font.family']='Malgun Gothic'\n",
    "plt.rcParams['axes.unicode_minus']=False"
   ]
  },
  {
   "cell_type": "code",
   "execution_count": 29,
   "id": "14aa11e3",
   "metadata": {},
   "outputs": [
    {
     "data": {
      "text/plain": [
       "'https://api.visitkorea.or.kr/openapi/service/rest/KorService/searchFestival?serviceKey=2cEINdHyQva8gLZV3f60g86MwuvFmRscrEqPByci4qmrdaauq07ryNDP5eSxQV5O4h8VcKV87fcsnCvw3w235Q%3D%3D&numOfRows=1000&pageNo=1&MobileOS=ETC&MobileApp=AppTest&arrange=A&listYN=Y&eventStartDate=20220101&eventEndDate=20221231'"
      ]
     },
     "execution_count": 29,
     "metadata": {},
     "output_type": "execute_result"
    }
   ],
   "source": [
    "서비스키='2cEINdHyQva8gLZV3f60g86MwuvFmRscrEqPByci4qmrdaauq07ryNDP5eSxQV5O4h8VcKV87fcsnCvw3w235Q%3D%3D'\n",
    "시작일='20220101'\n",
    "종료일='20221231'\n",
    "\n",
    "url1='https://api.visitkorea.or.kr/openapi/service/rest/KorService/searchFestival?serviceKey='+서비스키\n",
    "url2='&numOfRows=1000&pageNo=1&MobileOS=ETC&MobileApp=AppTest&arrange=A&listYN=Y&eventStartDate='+시작일\n",
    "url3='&eventEndDate='+종료일\n",
    "\n",
    "url=url1+url2+url3\n",
    "url"
   ]
  },
  {
   "cell_type": "code",
   "execution_count": 30,
   "id": "8c11240d",
   "metadata": {},
   "outputs": [
    {
     "name": "stdout",
     "output_type": "stream",
     "text": [
      "접속됨\n"
     ]
    }
   ],
   "source": [
    "xml=requests.get(url)\n",
    "if xml.status_code==200:\n",
    "    print('접속됨')\n",
    "else:\n",
    "    print('연결실패')\n",
    "\n"
   ]
  },
  {
   "cell_type": "code",
   "execution_count": 31,
   "id": "e1de6b3a",
   "metadata": {},
   "outputs": [
    {
     "name": "stderr",
     "output_type": "stream",
     "text": [
      "C:\\Users\\yumei\\.conda\\envs\\han\\lib\\site-packages\\bs4\\builder\\__init__.py:545: XMLParsedAsHTMLWarning: It looks like you're parsing an XML document using an HTML parser. If this really is an HTML document (maybe it's XHTML?), you can ignore or filter this warning. If it's XML, you should know that using an XML parser will be more reliable. To parse this document as XML, make sure you have the lxml package installed, and pass the keyword argument `features=\"xml\"` into the BeautifulSoup constructor.\n",
      "  warnings.warn(\n"
     ]
    }
   ],
   "source": [
    "soup=bs(xml.text,'html.parser')"
   ]
  },
  {
   "cell_type": "code",
   "execution_count": 32,
   "id": "3b5021ed",
   "metadata": {},
   "outputs": [
    {
     "data": {
      "text/plain": [
       "bs4.BeautifulSoup"
      ]
     },
     "execution_count": 32,
     "metadata": {},
     "output_type": "execute_result"
    }
   ],
   "source": [
    "type(soup)"
   ]
  },
  {
   "cell_type": "code",
   "execution_count": 33,
   "id": "69150415",
   "metadata": {},
   "outputs": [
    {
     "data": {
      "text/plain": [
       "0"
      ]
     },
     "execution_count": 33,
     "metadata": {},
     "output_type": "execute_result"
    }
   ],
   "source": [
    "len(soup.find_all('resultCode'))"
   ]
  },
  {
   "cell_type": "code",
   "execution_count": 34,
   "id": "39e08c82",
   "metadata": {},
   "outputs": [
    {
     "data": {
      "text/plain": [
       "str"
      ]
     },
     "execution_count": 34,
     "metadata": {},
     "output_type": "execute_result"
    }
   ],
   "source": [
    "type(soup.find('addr1').text)"
   ]
  },
  {
   "cell_type": "code",
   "execution_count": 35,
   "id": "1a8733b9",
   "metadata": {},
   "outputs": [
    {
     "data": {
      "text/plain": [
       "622"
      ]
     },
     "execution_count": 35,
     "metadata": {},
     "output_type": "execute_result"
    }
   ],
   "source": [
    "items=soup.find_all('item')\n",
    "len(items)"
   ]
  },
  {
   "cell_type": "code",
   "execution_count": 36,
   "id": "3fb9935f",
   "metadata": {},
   "outputs": [
    {
     "data": {
      "text/plain": [
       "(622, 10)"
      ]
     },
     "execution_count": 36,
     "metadata": {},
     "output_type": "execute_result"
    }
   ],
   "source": [
    "ls=['title','addr1','eventstatdate','eventenddate','areacode','cat1','cat2','cat3','mapx','mapy']\n",
    "res=[]\n",
    "for item in items:\n",
    "    dt={}\n",
    "    for j in ls:\n",
    "        try:\n",
    "            dt[j]=item.find(j).text\n",
    "        except:\n",
    "            dt[j]=None\n",
    "\n",
    "    res.append(dt)\n",
    "df=pd.DataFrame(res)\n",
    "\n",
    "df.shape"
   ]
  },
  {
   "cell_type": "code",
   "execution_count": 28,
   "id": "91da799a",
   "metadata": {},
   "outputs": [
    {
     "data": {
      "text/plain": [
       "{'title': '《MMCA 이건희컬렉션 특별전: 한국미술명작》',\n",
       " 'addr1': '서울특별시 종로구 삼청로 30',\n",
       " 'eventstatdate': None,\n",
       " 'eventenddate': '20220606',\n",
       " 'areacode': '1',\n",
       " 'cat1': 'A02',\n",
       " 'cat2': 'A0208',\n",
       " 'cat3': 'A02080700',\n",
       " 'mapx': '126.9800649747',\n",
       " 'mapy': '37.5788361778'}"
      ]
     },
     "execution_count": 28,
     "metadata": {},
     "output_type": "execute_result"
    }
   ],
   "source": [
    "dt"
   ]
  },
  {
   "cell_type": "code",
   "execution_count": 85,
   "id": "6305e14c",
   "metadata": {},
   "outputs": [],
   "source": [
    "data=soup.find_all('item')\n",
    "items=['title','addr1','eventstatdate','eventenddate','areacode','cat1','cat2','cat3','mapx','mapy']\n",
    "\n",
    "res=[]\n",
    "for i in data:\n",
    "    ls={}\n",
    "    for j in items:\n",
    "        try:\n",
    "            ls[j]=i.find(j).text\n",
    "        except:\n",
    "            ls[j]=None\n",
    "    res.append(ls)"
   ]
  },
  {
   "cell_type": "code",
   "execution_count": 86,
   "id": "83204716",
   "metadata": {},
   "outputs": [
    {
     "name": "stdout",
     "output_type": "stream",
     "text": [
      "[{'title': \"남이섬 '한스 크리스티안 안데르센상 도서전 : 책과 어린이를 하나로' 2021\", 'addr1': '강원도 춘천시 남산면 남이섬길 1', 'eventstatdate': None, 'eventenddate': '20211031', 'areacode': '32', 'cat1': 'A02', 'cat2': 'A0208', 'cat3': 'A02080700', 'mapx': '127.5261480243', 'mapy': '37.7901798790'}, {'title': '대구음식관광박람회', 'addr1': '대구광역시 북구 엑스코로 10', 'eventstatdate': None, 'eventenddate': '20200913', 'areacode': '4', 'cat1': 'A02', 'cat2': 'A0208', 'cat3': 'A02080600', 'mapx': '128.6131378604', 'mapy': '35.9070383402'}, {'title': '성북문화바캉스', 'addr1': '서울특별시 성북구 정릉로 279', 'eventstatdate': None, 'eventenddate': '20200802', 'areacode': '1', 'cat1': 'A02', 'cat2': 'A0207', 'cat3': 'A02070200', 'mapx': '127.0140583608', 'mapy': '37.6048226570'}, {'title': '아세안 영화주간 - 온:택트', 'addr1': '서울특별시 강남구 논현로 848', 'eventstatdate': None, 'eventenddate': '20200326', 'areacode': '1', 'cat1': 'A02', 'cat2': 'A0208', 'cat3': 'A02081300', 'mapx': '127.0288731753', 'mapy': '37.5246239091'}, {'title': '팀랩: 라이프', 'addr1': '서울특별시 중구 을지로 281', 'eventstatdate': None, 'eventenddate': '20210822', 'areacode': '1', 'cat1': 'A02', 'cat2': 'A0208', 'cat3': 'A02081300', 'mapx': '127.0099486810', 'mapy': '37.5675991318'}, {'title': '파주 마장계곡 송어축제 2021', 'addr1': '경기도 파주시 광탄면 마장리 421-1', 'eventstatdate': None, 'eventenddate': '20210228', 'areacode': '31', 'cat1': 'A02', 'cat2': 'A0207', 'cat3': 'A02070200', 'mapx': '126.8799157350', 'mapy': '37.7761447494'}, {'title': '2021 진안고원 김치보쌈축제', 'addr1': '전북 진안군 진안읍 진무로 1054-14', 'eventstatdate': None, 'eventenddate': '20211120', 'areacode': '37', 'cat1': 'A02', 'cat2': 'A0207', 'cat3': 'A02070200', 'mapx': '127.4266460375', 'mapy': '35.7882526691'}, {'title': 'Delight Seoul 2021', 'addr1': '서울특별시 종로구 인사동길 49', 'eventstatdate': None, 'eventenddate': '20210630', 'areacode': '1', 'cat1': 'A02', 'cat2': 'A0208', 'cat3': 'A02080700', 'mapx': '126.9835703327', 'mapy': '37.5745200760'}]\n"
     ]
    }
   ],
   "source": [
    "print(res)"
   ]
  },
  {
   "cell_type": "code",
   "execution_count": null,
   "id": "a8d7cf0a",
   "metadata": {},
   "outputs": [],
   "source": []
  }
 ],
 "metadata": {
  "kernelspec": {
   "display_name": "Python 3 (ipykernel)",
   "language": "python",
   "name": "python3"
  },
  "language_info": {
   "codemirror_mode": {
    "name": "ipython",
    "version": 3
   },
   "file_extension": ".py",
   "mimetype": "text/x-python",
   "name": "python",
   "nbconvert_exporter": "python",
   "pygments_lexer": "ipython3",
   "version": "3.10.4"
  }
 },
 "nbformat": 4,
 "nbformat_minor": 5
}
