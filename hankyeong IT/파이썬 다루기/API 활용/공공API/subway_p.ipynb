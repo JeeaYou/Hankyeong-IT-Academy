{
 "cells": [
  {
   "cell_type": "code",
   "execution_count": 1,
   "id": "45376117",
   "metadata": {},
   "outputs": [
    {
     "name": "stdout",
     "output_type": "stream",
     "text": [
      "http://openapi.seoul.go.kr:8088/4e426f637979756d3638537a754e55/xml/CardSubwayStatsNew/1/1000/20210801\n"
     ]
    }
   ],
   "source": [
    "key='4e426f637979756d3638537a754e55'\n",
    "date='20210801'\n",
    "url1='http://openapi.seoul.go.kr:8088/'+key\n",
    "url2='/xml/CardSubwayStatsNew/1/1000/'+date\n",
    "url=url1+url2\n",
    "print(url)"
   ]
  },
  {
   "cell_type": "code",
   "execution_count": null,
   "id": "f91abfa2",
   "metadata": {},
   "outputs": [],
   "source": []
  }
 ],
 "metadata": {
  "kernelspec": {
   "display_name": "Python 3 (ipykernel)",
   "language": "python",
   "name": "python3"
  },
  "language_info": {
   "codemirror_mode": {
    "name": "ipython",
    "version": 3
   },
   "file_extension": ".py",
   "mimetype": "text/x-python",
   "name": "python",
   "nbconvert_exporter": "python",
   "pygments_lexer": "ipython3",
   "version": "3.10.4"
  }
 },
 "nbformat": 4,
 "nbformat_minor": 5
}
