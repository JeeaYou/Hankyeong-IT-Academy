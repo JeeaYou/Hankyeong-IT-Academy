{
 "cells": [
  {
   "cell_type": "code",
   "execution_count": 2,
   "id": "3eb0cd46",
   "metadata": {},
   "outputs": [],
   "source": [
    "import subway_p as sb\n",
    "import pandas as pd\n",
    "import os\n",
    "import datetime"
   ]
  },
  {
   "cell_type": "code",
   "execution_count": 3,
   "id": "ab3911f8",
   "metadata": {},
   "outputs": [],
   "source": [
    "# 문제 3 2021년 모든 지하철 승하차 인원 월별로 저장 2021_01.csv같은 파일명으로 저장\n",
    "# 20210101 ~ 20210331까지 제한\n",
    "\n",
    "for i in range (1,4): #1월 2월 3월로 잡기 위해 범위를 1,2,3 카운트\n",
    "    \n",
    "    start_date= '2022-01-01' #2022년 시작일 설정\n",
    "    end_date = '2022-12-31' #2022년 종료일 설정\n",
    "    set_enddates = pd.date_range(start_date,end_date,freq='M').astype(str) #각 월별 끝 날짜 나오는 함수\n",
    "    #pandas에서는 날짜 자료형 타입이 별도로 존재해 문자로 변환해야 함\n",
    "    start_month = f'2022-0{i}-01' #시작일 i월 1일로\n",
    "    for x in range(len(set_enddates)): #set_enddates 전체를 검색해 for 문을 돌릴 것이다\n",
    "        if '0'+str(i) in set_enddates[x][5:7]: #날짜가 01~12까지라 '0'+str(i)로 처리 - 10~12월은 별도 예외처리가 필요\n",
    "            end_month = set_enddates[x] #i월의 끝 날짜 지정\n",
    "    ts_days_idx = pd.date_range(start_month,end_month).astype(str) # 월별 날짜 구하는 함수 1월 1일~31일 등\n",
    "    res_tmp=[] #임시리스트 작성\n",
    "    for d in ts_days_idx: #월별 날짜를 이용해 for문 처리할 것\n",
    "        d= d.replace('-','') #날짜에 -가 있어 지하철 format에 맞게 처리하기 위해 '-'제거\n",
    "        res_tmp.append(sb.subway_p(d)) #각 일별 자료 res_tmp에 append\n",
    "    #for d 문 종료\n",
    "    df_tmp=pd.concat(res_tmp,ignore_index=True) #담은 일별자료 묶어 월별자료로 전환   \n",
    "    os.makedirs(f'./지하철/{i}월',exist_ok=True) #i월 폴더 만들기\n",
    "    df_tmp.to_csv(f'./지하철/{i}월/2021_0{i}.csv') #i월 파일 제작\n",
    "    #i월 작업 끝!\n",
    "\n",
    "#전체 월 작업 끝\n"
   ]
  },
  {
   "cell_type": "code",
   "execution_count": null,
   "id": "c0ff4d2f",
   "metadata": {},
   "outputs": [],
   "source": []
  }
 ],
 "metadata": {
  "kernelspec": {
   "display_name": "Python 3 (ipykernel)",
   "language": "python",
   "name": "python3"
  },
  "language_info": {
   "codemirror_mode": {
    "name": "ipython",
    "version": 3
   },
   "file_extension": ".py",
   "mimetype": "text/x-python",
   "name": "python",
   "nbconvert_exporter": "python",
   "pygments_lexer": "ipython3",
   "version": "3.10.4"
  }
 },
 "nbformat": 4,
 "nbformat_minor": 5
}
