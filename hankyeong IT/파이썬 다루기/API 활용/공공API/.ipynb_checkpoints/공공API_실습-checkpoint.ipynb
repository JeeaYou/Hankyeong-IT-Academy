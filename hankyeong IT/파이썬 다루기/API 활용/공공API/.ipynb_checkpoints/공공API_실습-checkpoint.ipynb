{
 "cells": [
  {
   "cell_type": "code",
   "execution_count": 2,
   "id": "7f3c6121",
   "metadata": {},
   "outputs": [
    {
     "name": "stdout",
     "output_type": "stream",
     "text": [
      "https://api.visitkorea.or.kr/openapi/service/rest/KorService/searchFestival?serviceKey=2cEINdHyQva8gLZV3f60g86MwuvFmRscrEqPByci4qmrdaauq07ryNDP5eSxQV5O4h8VcKV87fcsnCvw3w235Q%3D%3D&numOfRows=1000&pageNo=1&MobileOS=ETC&MobileApp=AppTest&arrange=A&listYN=Y&eventStartDate=20210101&eventEndDate=20211231\n"
     ]
    }
   ],
   "source": [
    "print('https://api.visitkorea.or.kr/openapi/service/rest/KorService/searchFestival?serviceKey=2cEINdHyQva8gLZV3f60g86MwuvFmRscrEqPByci4qmrdaauq07ryNDP5eSxQV5O4h8VcKV87fcsnCvw3w235Q%3D%3D&numOfRows=1000&pageNo=1&MobileOS=ETC&MobileApp=AppTest&arrange=A&listYN=Y&eventStartDate=20210101&eventEndDate=20211231')"
   ]
  },
  {
   "cell_type": "code",
   "execution_count": 4,
   "id": "834b97c6",
   "metadata": {},
   "outputs": [],
   "source": [
    "import requests\n",
    "from bs4 import BeautifulSoup as bs\n",
    "import pandas as pd\n",
    "import matplotlib.pyplot as plt\n",
    "plt.rcParams['font.family']='Malgun Gothic'\n",
    "plt.rcParams['axes.unicode_minus']=False"
   ]
  },
  {
   "cell_type": "code",
   "execution_count": 7,
   "id": "539af4a3",
   "metadata": {},
   "outputs": [
    {
     "data": {
      "text/plain": [
       "'https://api.visitkorea.or.kr/openapi/service/rest/KorService/searchFestival?serviceKey=2cEINdHyQva8gLZV3f60g86MwuvFmRscrEqPByci4qmrdaauq07ryNDP5eSxQV5O4h8VcKV87fcsnCvw3w235Q%3D%3D&numOfRows=1000&pageNo=1&MobileOS=ETC&MobileApp=AppTest&arrange=A&listYN=Y&eventStartDate=20220101&eventEndDate=20221231'"
      ]
     },
     "execution_count": 7,
     "metadata": {},
     "output_type": "execute_result"
    }
   ],
   "source": [
    "서비스키='2cEINdHyQva8gLZV3f60g86MwuvFmRscrEqPByci4qmrdaauq07ryNDP5eSxQV5O4h8VcKV87fcsnCvw3w235Q%3D%3D'\n",
    "시작일='20220101'\n",
    "종료일='20221231'\n",
    "\n",
    "url1='https://api.visitkorea.or.kr/openapi/service/rest/KorService/searchFestival?serviceKey='+서비스키\n",
    "url2='&numOfRows=1000&pageNo=1&MobileOS=ETC&MobileApp=AppTest&arrange=A&listYN=Y&eventStartDate='+시작일\n",
    "url3='&eventEndDate='+종료일\n",
    "\n",
    "url=url1+url2+url3\n",
    "url"
   ]
  },
  {
   "cell_type": "code",
   "execution_count": 15,
   "id": "09d909bc",
   "metadata": {},
   "outputs": [],
   "source": [
    "xml=requests.get(url)\n",
    "# if xml.status_code==200:\n",
    "#     print('접속됨')\n",
    "# else:\n",
    "#     print('연결실패')\n",
    "soup=bs(xml.text,'html.parser')\n"
   ]
  },
  {
   "cell_type": "code",
   "execution_count": 16,
   "id": "bbdd0084",
   "metadata": {},
   "outputs": [
    {
     "data": {
      "text/plain": [
       "bs4.BeautifulSoup"
      ]
     },
     "execution_count": 16,
     "metadata": {},
     "output_type": "execute_result"
    }
   ],
   "source": [
    "type(soup)"
   ]
  },
  {
   "cell_type": "code",
   "execution_count": null,
   "id": "7a12e792",
   "metadata": {},
   "outputs": [],
   "source": []
  }
 ],
 "metadata": {
  "kernelspec": {
   "display_name": "Python 3 (ipykernel)",
   "language": "python",
   "name": "python3"
  },
  "language_info": {
   "codemirror_mode": {
    "name": "ipython",
    "version": 3
   },
   "file_extension": ".py",
   "mimetype": "text/x-python",
   "name": "python",
   "nbconvert_exporter": "python",
   "pygments_lexer": "ipython3",
   "version": "3.10.4"
  }
 },
 "nbformat": 4,
 "nbformat_minor": 5
}
