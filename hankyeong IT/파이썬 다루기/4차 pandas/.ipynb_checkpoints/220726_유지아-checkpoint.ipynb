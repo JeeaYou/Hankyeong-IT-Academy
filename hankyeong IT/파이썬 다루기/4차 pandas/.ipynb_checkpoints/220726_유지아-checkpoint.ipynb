{
 "cells": [
  {
   "cell_type": "code",
   "execution_count": 1,
   "id": "1e318c20",
   "metadata": {},
   "outputs": [],
   "source": [
    "import pandas as pd"
   ]
  },
  {
   "cell_type": "code",
   "execution_count": 13,
   "id": "57c944f3",
   "metadata": {},
   "outputs": [],
   "source": [
    "a=['a','b','c','d']\n",
    "a1=pd.Series(a)"
   ]
  },
  {
   "cell_type": "code",
   "execution_count": 10,
   "id": "1931315e",
   "metadata": {
    "scrolled": true
   },
   "outputs": [
    {
     "data": {
      "text/plain": [
       "['a', 'b', 'c', 'd']"
      ]
     },
     "execution_count": 10,
     "metadata": {},
     "output_type": "execute_result"
    }
   ],
   "source": [
    "a"
   ]
  },
  {
   "cell_type": "code",
   "execution_count": 11,
   "id": "43ecdf40",
   "metadata": {},
   "outputs": [],
   "source": [
    "a1=pd.Series(a)\n"
   ]
  },
  {
   "cell_type": "code",
   "execution_count": 6,
   "id": "d2ecae96",
   "metadata": {},
   "outputs": [
    {
     "data": {
      "text/plain": [
       "list"
      ]
     },
     "execution_count": 6,
     "metadata": {},
     "output_type": "execute_result"
    }
   ],
   "source": [
    "type(a)"
   ]
  },
  {
   "cell_type": "code",
   "execution_count": 14,
   "id": "2f746c0c",
   "metadata": {},
   "outputs": [
    {
     "data": {
      "text/plain": [
       "pandas.core.series.Series"
      ]
     },
     "execution_count": 14,
     "metadata": {},
     "output_type": "execute_result"
    }
   ],
   "source": [
    "type(a1)"
   ]
  },
  {
   "cell_type": "code",
   "execution_count": 16,
   "id": "066edb9e",
   "metadata": {},
   "outputs": [
    {
     "data": {
      "text/plain": [
       "0    a\n",
       "1    b\n",
       "2    c\n",
       "3    d\n",
       "dtype: object"
      ]
     },
     "execution_count": 16,
     "metadata": {},
     "output_type": "execute_result"
    }
   ],
   "source": [
    "a1"
   ]
  },
  {
   "cell_type": "code",
   "execution_count": 27,
   "id": "79deaaad",
   "metadata": {},
   "outputs": [],
   "source": [
    "b=pd.Series([3,4,5,6,7])"
   ]
  },
  {
   "cell_type": "code",
   "execution_count": 33,
   "id": "36572202",
   "metadata": {},
   "outputs": [
    {
     "data": {
      "text/plain": [
       "0     9\n",
       "1    16\n",
       "2    25\n",
       "3    36\n",
       "4    49\n",
       "dtype: int64"
      ]
     },
     "execution_count": 33,
     "metadata": {},
     "output_type": "execute_result"
    }
   ],
   "source": [
    "b**2"
   ]
  },
  {
   "cell_type": "code",
   "execution_count": 21,
   "id": "6ac458d4",
   "metadata": {},
   "outputs": [],
   "source": [
    "b[1:3]=100"
   ]
  },
  {
   "cell_type": "code",
   "execution_count": 22,
   "id": "7bbdf33e",
   "metadata": {},
   "outputs": [
    {
     "data": {
      "text/plain": [
       "0      3\n",
       "1    100\n",
       "2    100\n",
       "3      6\n",
       "4      7\n",
       "dtype: int64"
      ]
     },
     "execution_count": 22,
     "metadata": {},
     "output_type": "execute_result"
    }
   ],
   "source": [
    "b"
   ]
  },
  {
   "cell_type": "code",
   "execution_count": 25,
   "id": "27d96c5e",
   "metadata": {},
   "outputs": [],
   "source": [
    "b[:]=6"
   ]
  },
  {
   "cell_type": "code",
   "execution_count": 32,
   "id": "f095c0a4",
   "metadata": {},
   "outputs": [
    {
     "data": {
      "text/plain": [
       "0     9\n",
       "1    16\n",
       "2    25\n",
       "3    36\n",
       "4    49\n",
       "dtype: int64"
      ]
     },
     "execution_count": 32,
     "metadata": {},
     "output_type": "execute_result"
    }
   ],
   "source": [
    "b**2"
   ]
  },
  {
   "cell_type": "code",
   "execution_count": 34,
   "id": "c09c23a0",
   "metadata": {},
   "outputs": [],
   "source": [
    "a=pd.Series(['a','a','b','b','c','c','c'])"
   ]
  },
  {
   "cell_type": "code",
   "execution_count": 35,
   "id": "6e2e8453",
   "metadata": {},
   "outputs": [
    {
     "data": {
      "text/plain": [
       "0    a\n",
       "1    a\n",
       "2    b\n",
       "3    b\n",
       "4    c\n",
       "5    c\n",
       "6    c\n",
       "dtype: object"
      ]
     },
     "execution_count": 35,
     "metadata": {},
     "output_type": "execute_result"
    }
   ],
   "source": [
    "a"
   ]
  },
  {
   "cell_type": "code",
   "execution_count": 50,
   "id": "087785ea",
   "metadata": {},
   "outputs": [],
   "source": [
    "b=a.value_counts()"
   ]
  },
  {
   "cell_type": "code",
   "execution_count": 51,
   "id": "cd8a55cf",
   "metadata": {},
   "outputs": [
    {
     "data": {
      "text/plain": [
       "pandas.core.series.Series"
      ]
     },
     "execution_count": 51,
     "metadata": {},
     "output_type": "execute_result"
    }
   ],
   "source": [
    "type(b)"
   ]
  },
  {
   "cell_type": "code",
   "execution_count": 52,
   "id": "cf16ba77",
   "metadata": {},
   "outputs": [
    {
     "data": {
      "text/plain": [
       "c    3\n",
       "a    2\n",
       "b    2\n",
       "dtype: int64"
      ]
     },
     "execution_count": 52,
     "metadata": {},
     "output_type": "execute_result"
    }
   ],
   "source": [
    "b"
   ]
  },
  {
   "cell_type": "code",
   "execution_count": 53,
   "id": "ddbbcea0",
   "metadata": {
    "scrolled": true
   },
   "outputs": [
    {
     "data": {
      "text/plain": [
       "Index(['c', 'a', 'b'], dtype='object')"
      ]
     },
     "execution_count": 53,
     "metadata": {},
     "output_type": "execute_result"
    }
   ],
   "source": [
    "b.index"
   ]
  },
  {
   "cell_type": "code",
   "execution_count": 54,
   "id": "80917d53",
   "metadata": {},
   "outputs": [
    {
     "data": {
      "text/plain": [
       "2"
      ]
     },
     "execution_count": 54,
     "metadata": {},
     "output_type": "execute_result"
    }
   ],
   "source": [
    "b['a']"
   ]
  },
  {
   "cell_type": "code",
   "execution_count": 56,
   "id": "7f16fed7",
   "metadata": {},
   "outputs": [
    {
     "data": {
      "text/plain": [
       "3"
      ]
     },
     "execution_count": 56,
     "metadata": {},
     "output_type": "execute_result"
    }
   ],
   "source": [
    "b['c']"
   ]
  },
  {
   "cell_type": "code",
   "execution_count": null,
   "id": "cf832ab6",
   "metadata": {},
   "outputs": [],
   "source": []
  }
 ],
 "metadata": {
  "kernelspec": {
   "display_name": "Python 3 (ipykernel)",
   "language": "python",
   "name": "python3"
  },
  "language_info": {
   "codemirror_mode": {
    "name": "ipython",
    "version": 3
   },
   "file_extension": ".py",
   "mimetype": "text/x-python",
   "name": "python",
   "nbconvert_exporter": "python",
   "pygments_lexer": "ipython3",
   "version": "3.10.4"
  }
 },
 "nbformat": 4,
 "nbformat_minor": 5
}
