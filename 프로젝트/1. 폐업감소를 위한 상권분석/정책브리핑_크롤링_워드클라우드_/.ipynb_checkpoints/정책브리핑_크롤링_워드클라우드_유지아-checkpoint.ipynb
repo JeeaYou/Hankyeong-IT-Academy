{
 "cells": [
  {
   "cell_type": "code",
   "execution_count": 9,
   "id": "04dd3b1d",
   "metadata": {},
   "outputs": [],
   "source": [
    "import pandas as pd \n",
    "from konlpy.tag import Okt \n",
    "import nltk \n",
    "import requests\n",
    "from bs4 import BeautifulSoup as bs    \n",
    "import time\n",
    "from selenium import webdriver\n",
    "from selenium.webdriver.common.by import By\n",
    "from selenium.webdriver.common.keys import Keys\n",
    "import warnings\n",
    "warnings.filterwarnings('ignore')"
   ]
  },
  {
   "cell_type": "code",
   "execution_count": 10,
   "id": "c820e3c2",
   "metadata": {},
   "outputs": [
    {
     "data": {
      "text/html": [
       "<div>\n",
       "<style scoped>\n",
       "    .dataframe tbody tr th:only-of-type {\n",
       "        vertical-align: middle;\n",
       "    }\n",
       "\n",
       "    .dataframe tbody tr th {\n",
       "        vertical-align: top;\n",
       "    }\n",
       "\n",
       "    .dataframe thead th {\n",
       "        text-align: right;\n",
       "    }\n",
       "</style>\n",
       "<table border=\"1\" class=\"dataframe\">\n",
       "  <thead>\n",
       "    <tr style=\"text-align: right;\">\n",
       "      <th></th>\n",
       "      <th>제목</th>\n",
       "      <th>링크</th>\n",
       "    </tr>\n",
       "  </thead>\n",
       "  <tbody>\n",
       "    <tr>\n",
       "      <th>0</th>\n",
       "      <td>\\n기업가형 소상공인 육성하고 행복한 로컬상권 조성한다\\n</td>\n",
       "      <td>https://www.korea.kr/news/policyNewsView.do?ne...</td>\n",
       "    </tr>\n",
       "    <tr>\n",
       "      <th>1</th>\n",
       "      <td>\\n코로나 피해 자영업자·소상공인 맞춤형 금융지원 25일부터 시행\\n</td>\n",
       "      <td>https://www.korea.kr/news/policyNewsView.do?ne...</td>\n",
       "    </tr>\n",
       "    <tr>\n",
       "      <th>2</th>\n",
       "      <td>\\n올해 세무조사 역대 최저 수준으로 축소…홈택스 전면 개편\\n</td>\n",
       "      <td>https://www.korea.kr/news/policyNewsView.do?ne...</td>\n",
       "    </tr>\n",
       "    <tr>\n",
       "      <th>3</th>\n",
       "      <td>\\n외식산업에 5년간 1조원 투자…미래 성장산업으로 육성\\n</td>\n",
       "      <td>https://www.korea.kr/news/policyNewsView.do?ne...</td>\n",
       "    </tr>\n",
       "    <tr>\n",
       "      <th>4</th>\n",
       "      <td>\\n코로나19 온전한 손실 보상…감염병 대응체계 고도화\\n</td>\n",
       "      <td>https://www.korea.kr/news/policyNewsView.do?ne...</td>\n",
       "    </tr>\n",
       "    <tr>\n",
       "      <th>...</th>\n",
       "      <td>...</td>\n",
       "      <td>...</td>\n",
       "    </tr>\n",
       "    <tr>\n",
       "      <th>135</th>\n",
       "      <td>\\n저소득 근로자 월세도 40% 소득공제\\n</td>\n",
       "      <td>https://www.korea.kr/news/policyNewsView.do?ne...</td>\n",
       "    </tr>\n",
       "    <tr>\n",
       "      <th>136</th>\n",
       "      <td>\\n한통의 문자서비스에 엄마는 안심\\n</td>\n",
       "      <td>https://www.korea.kr/news/policyNewsView.do?ne...</td>\n",
       "    </tr>\n",
       "    <tr>\n",
       "      <th>137</th>\n",
       "      <td>\\n일자리 정책 실효성 따져 보완대책 마련\\n</td>\n",
       "      <td>https://www.korea.kr/news/policyNewsView.do?ne...</td>\n",
       "    </tr>\n",
       "    <tr>\n",
       "      <th>138</th>\n",
       "      <td>\\n영세자영업자 경영안정 10조9000억 투입\\n</td>\n",
       "      <td>https://www.korea.kr/news/policyNewsView.do?ne...</td>\n",
       "    </tr>\n",
       "    <tr>\n",
       "      <th>139</th>\n",
       "      <td>\\n일자리 산파, 고용지원센터 가보니\\n</td>\n",
       "      <td>https://www.korea.kr/news/policyNewsView.do?ne...</td>\n",
       "    </tr>\n",
       "  </tbody>\n",
       "</table>\n",
       "<p>140 rows × 2 columns</p>\n",
       "</div>"
      ],
      "text/plain": [
       "                                         제목  \\\n",
       "0          \\n기업가형 소상공인 육성하고 행복한 로컬상권 조성한다\\n   \n",
       "1    \\n코로나 피해 자영업자·소상공인 맞춤형 금융지원 25일부터 시행\\n   \n",
       "2       \\n올해 세무조사 역대 최저 수준으로 축소…홈택스 전면 개편\\n   \n",
       "3         \\n외식산업에 5년간 1조원 투자…미래 성장산업으로 육성\\n   \n",
       "4          \\n코로나19 온전한 손실 보상…감염병 대응체계 고도화\\n   \n",
       "..                                      ...   \n",
       "135                \\n저소득 근로자 월세도 40% 소득공제\\n   \n",
       "136                   \\n한통의 문자서비스에 엄마는 안심\\n   \n",
       "137               \\n일자리 정책 실효성 따져 보완대책 마련\\n   \n",
       "138             \\n영세자영업자 경영안정 10조9000억 투입\\n   \n",
       "139                  \\n일자리 산파, 고용지원센터 가보니\\n   \n",
       "\n",
       "                                                    링크  \n",
       "0    https://www.korea.kr/news/policyNewsView.do?ne...  \n",
       "1    https://www.korea.kr/news/policyNewsView.do?ne...  \n",
       "2    https://www.korea.kr/news/policyNewsView.do?ne...  \n",
       "3    https://www.korea.kr/news/policyNewsView.do?ne...  \n",
       "4    https://www.korea.kr/news/policyNewsView.do?ne...  \n",
       "..                                                 ...  \n",
       "135  https://www.korea.kr/news/policyNewsView.do?ne...  \n",
       "136  https://www.korea.kr/news/policyNewsView.do?ne...  \n",
       "137  https://www.korea.kr/news/policyNewsView.do?ne...  \n",
       "138  https://www.korea.kr/news/policyNewsView.do?ne...  \n",
       "139  https://www.korea.kr/news/policyNewsView.do?ne...  \n",
       "\n",
       "[140 rows x 2 columns]"
      ]
     },
     "metadata": {},
     "output_type": "display_data"
    }
   ],
   "source": [
    "driver=webdriver.Chrome('./chromedriver.exe')\n",
    "url='https://www.korea.kr/totalSearch.do?srchFlag=N&keyword=%EC%B0%BD%EC%97%85%ED%8F%90%EC%97%85&oldKeyword=%EC%B0%BD%EC%97%85%ED%8F%90%EC%97%85&resultKeyword=%EC%B0%BD%EC%97%85%ED%8F%90%EC%97%85&sort=date&scnt=1&punit=10&where=news_korea_new_v2&dateRange=all&range=ALL&op=and&multiFlag=Y&news_type=pol'\n",
    "driver.get(url)\n",
    "time.sleep(2)\n",
    "res=[bs(driver.page_source,'html.parser')]\n",
    "\n",
    "for page in range(2,15):\n",
    "    if page%10==0:\n",
    "        driver.find_element(By.LINK_TEXT,str(page)).click()\n",
    "        time.sleep(2)\n",
    "        tmp=driver.page_source\n",
    "        res.append(bs(tmp))\n",
    "        driver.find_element(By.XPATH,'//*[@id=\"paging\"]/div/a[3]').click()\n",
    "        \n",
    "    else: \n",
    "        driver.find_element(By.LINK_TEXT,str(page)).click()\n",
    "        time.sleep(2)\n",
    "        tmp=driver.page_source\n",
    "        res.append(bs(tmp))\n",
    "        \n",
    "driver.close()\n",
    "driver.quit()\n",
    "\n",
    "#제목과 링크를 판다스 df로 만들었음\n",
    "result=[]\n",
    "for j in res:\n",
    "    for i in j.select('span.text>strong>a'):\n",
    "        result.append({\n",
    "            '제목':i.text.replace('\\t',''),\n",
    "            '링크':'https://www.korea.kr'+i['href']\n",
    "        })\n",
    "\n",
    "df=pd.DataFrame(result)\n",
    "display(df)\n"
   ]
  },
  {
   "cell_type": "code",
   "execution_count": null,
   "id": "d689fc7f",
   "metadata": {},
   "outputs": [],
   "source": [
    "res_a=[]\n",
    "for i in df['링크']:\n",
    "    html=requests.get(i)\n",
    "    soup=bs(html.text,'html.parser')\n",
    "    \n",
    "    title=soup.select_one('div.article-head>h1').text\n",
    "    date=soup.select('div.info>span')[0].text\n",
    "    writer=soup.select('div.info>span')[1].text.replace('\\t','').replace('\\r','')\n",
    "    contents=soup.find('div','view-cont').text.replace('\\n','').replace('\\t','').replace('\\r','')\n",
    "    res_a.append([title,date,writer,contents])\n",
    "#     break\n",
    "\n",
    "df=pd.DataFrame(res_a)\n",
    "df.columns=['제목','날짜','작성자','내용']\n",
    "df"
   ]
  },
  {
   "cell_type": "code",
   "execution_count": null,
   "id": "b3d67a03",
   "metadata": {},
   "outputs": [],
   "source": [
    "df.to_csv('./정책브리핑.csv')"
   ]
  },
  {
   "cell_type": "code",
   "execution_count": null,
   "id": "cecc0d9e",
   "metadata": {
    "scrolled": true
   },
   "outputs": [],
   "source": [
    "df=pd.read_csv('./정책브리핑_유지아.csv')\n",
    "df=df[:100]"
   ]
  },
  {
   "cell_type": "code",
   "execution_count": null,
   "id": "b44352fa",
   "metadata": {},
   "outputs": [],
   "source": [
    "for i in df.index:\n",
    "    contents=df['내용'][i]\n",
    "    print(contents)"
   ]
  },
  {
   "cell_type": "code",
   "execution_count": null,
   "id": "f279bbb1",
   "metadata": {},
   "outputs": [],
   "source": [
    "okt=Okt()\n",
    "word=okt.nouns(contents)\n",
    "word"
   ]
  },
  {
   "cell_type": "code",
   "execution_count": null,
   "id": "11ddb681",
   "metadata": {},
   "outputs": [],
   "source": [
    "words = [word[i]for i in range(len(word)) if len(word[i])>=2]    \n",
    "words"
   ]
  },
  {
   "cell_type": "code",
   "execution_count": null,
   "id": "918df23d",
   "metadata": {},
   "outputs": [],
   "source": [
    "len(words)"
   ]
  },
  {
   "cell_type": "code",
   "execution_count": null,
   "id": "90286bc1",
   "metadata": {
    "scrolled": false
   },
   "outputs": [],
   "source": [
    "words=' '.join(words)\n",
    "words"
   ]
  },
  {
   "cell_type": "code",
   "execution_count": null,
   "id": "97df7a3a",
   "metadata": {},
   "outputs": [],
   "source": [
    "words[:50]"
   ]
  },
  {
   "cell_type": "code",
   "execution_count": null,
   "id": "58d09e9d",
   "metadata": {
    "scrolled": true
   },
   "outputs": [],
   "source": [
    "from wordcloud import WordCloud\n",
    "import matplotlib.pyplot as plt\n",
    "import numpy as np\n",
    "# 한글 폰트 설정\n",
    "plt.rcParams['font.family'] = 'Malgun Gothic'\n",
    "# 유니코드에서  음수 부호설정\n",
    "plt.rc('axes', unicode_minus=False)\n",
    "\n",
    "wc = WordCloud(\"C:/windows/fonts/malgun.ttf\",\n",
    "               background_color = \"white\",\n",
    "               max_words = 200,\n",
    "               width=500,\n",
    "               height=300,\n",
    "               prefer_horizontal=0.9\n",
    "              )\n",
    "wc = wc.generate(words) \n",
    "\n",
    "#matplotlib로 시작화(1)\n",
    "wc.to_image()"
   ]
  },
  {
   "cell_type": "code",
   "execution_count": null,
   "id": "5709ce42",
   "metadata": {},
   "outputs": [],
   "source": [
    "wc.words_"
   ]
  },
  {
   "cell_type": "code",
   "execution_count": 3,
   "id": "15f1a163",
   "metadata": {},
   "outputs": [
    {
     "ename": "NameError",
     "evalue": "name 'words' is not defined",
     "output_type": "error",
     "traceback": [
      "\u001b[1;31m---------------------------------------------------------------------------\u001b[0m",
      "\u001b[1;31mNameError\u001b[0m                                 Traceback (most recent call last)",
      "Input \u001b[1;32mIn [3]\u001b[0m, in \u001b[0;36m<cell line: 2>\u001b[1;34m()\u001b[0m\n\u001b[0;32m      1\u001b[0m \u001b[38;5;28;01mfrom\u001b[39;00m \u001b[38;5;21;01mcollections\u001b[39;00m \u001b[38;5;28;01mimport\u001b[39;00m Counter\n\u001b[1;32m----> 2\u001b[0m re\u001b[38;5;241m=\u001b[39m\u001b[43mwords\u001b[49m\u001b[38;5;241m.\u001b[39msplit(\u001b[38;5;124m'\u001b[39m\u001b[38;5;124m \u001b[39m\u001b[38;5;124m'\u001b[39m) \n\u001b[0;32m      3\u001b[0m top\u001b[38;5;241m=\u001b[39m\u001b[38;5;241m20\u001b[39m\n\u001b[0;32m      4\u001b[0m cnt \u001b[38;5;241m=\u001b[39m Counter(re)\n",
      "\u001b[1;31mNameError\u001b[0m: name 'words' is not defined"
     ]
    }
   ],
   "source": [
    "from collections import Counter\n",
    "re=words.split(' ') \n",
    "top=20\n",
    "cnt = Counter(re)\n",
    "top_=cnt.most_common(top)\n",
    "top_[:5]"
   ]
  },
  {
   "cell_type": "code",
   "execution_count": 4,
   "id": "f4e53385",
   "metadata": {},
   "outputs": [
    {
     "ename": "NameError",
     "evalue": "name 'top_' is not defined",
     "output_type": "error",
     "traceback": [
      "\u001b[1;31m---------------------------------------------------------------------------\u001b[0m",
      "\u001b[1;31mNameError\u001b[0m                                 Traceback (most recent call last)",
      "Input \u001b[1;32mIn [4]\u001b[0m, in \u001b[0;36m<cell line: 1>\u001b[1;34m()\u001b[0m\n\u001b[1;32m----> 1\u001b[0m df_word\u001b[38;5;241m=\u001b[39mpd\u001b[38;5;241m.\u001b[39mDataFrame(\u001b[43mtop_\u001b[49m, columns\u001b[38;5;241m=\u001b[39m[\u001b[38;5;124m'\u001b[39m\u001b[38;5;124mword\u001b[39m\u001b[38;5;124m'\u001b[39m,\u001b[38;5;124m'\u001b[39m\u001b[38;5;124mfreq\u001b[39m\u001b[38;5;124m'\u001b[39m])\n\u001b[0;32m      2\u001b[0m display(df_word)\n",
      "\u001b[1;31mNameError\u001b[0m: name 'top_' is not defined"
     ]
    }
   ],
   "source": [
    "df_word=pd.DataFrame(top_, columns=['word','freq'])\n",
    "display(df_word)"
   ]
  },
  {
   "cell_type": "code",
   "execution_count": 5,
   "id": "aca6d20c",
   "metadata": {},
   "outputs": [
    {
     "ename": "NameError",
     "evalue": "name 'df_word' is not defined",
     "output_type": "error",
     "traceback": [
      "\u001b[1;31m---------------------------------------------------------------------------\u001b[0m",
      "\u001b[1;31mNameError\u001b[0m                                 Traceback (most recent call last)",
      "Input \u001b[1;32mIn [5]\u001b[0m, in \u001b[0;36m<cell line: 1>\u001b[1;34m()\u001b[0m\n\u001b[1;32m----> 1\u001b[0m \u001b[43mdf_word\u001b[49m\u001b[38;5;241m.\u001b[39mset_index(\u001b[38;5;124m'\u001b[39m\u001b[38;5;124mword\u001b[39m\u001b[38;5;124m'\u001b[39m)\u001b[38;5;241m.\u001b[39mplot(kind\u001b[38;5;241m=\u001b[39m\u001b[38;5;124m'\u001b[39m\u001b[38;5;124mbar\u001b[39m\u001b[38;5;124m'\u001b[39m, figsize\u001b[38;5;241m=\u001b[39m(\u001b[38;5;241m15\u001b[39m,\u001b[38;5;241m12\u001b[39m))\n\u001b[0;32m      2\u001b[0m plt\u001b[38;5;241m.\u001b[39mgrid()\n",
      "\u001b[1;31mNameError\u001b[0m: name 'df_word' is not defined"
     ]
    }
   ],
   "source": [
    "df_word.set_index('word').plot(kind='bar', figsize=(15,12))\n",
    "plt.grid()"
   ]
  },
  {
   "cell_type": "code",
   "execution_count": 6,
   "id": "3d1d56fe",
   "metadata": {},
   "outputs": [
    {
     "ename": "NameError",
     "evalue": "name 'df_word' is not defined",
     "output_type": "error",
     "traceback": [
      "\u001b[1;31m---------------------------------------------------------------------------\u001b[0m",
      "\u001b[1;31mNameError\u001b[0m                                 Traceback (most recent call last)",
      "Input \u001b[1;32mIn [6]\u001b[0m, in \u001b[0;36m<cell line: 1>\u001b[1;34m()\u001b[0m\n\u001b[1;32m----> 1\u001b[0m \u001b[43mdf_word\u001b[49m[\u001b[38;5;124m'\u001b[39m\u001b[38;5;124mfreq\u001b[39m\u001b[38;5;124m'\u001b[39m]\u001b[38;5;241m.\u001b[39msum()\n",
      "\u001b[1;31mNameError\u001b[0m: name 'df_word' is not defined"
     ]
    }
   ],
   "source": [
    "df_word['freq'].sum()"
   ]
  },
  {
   "cell_type": "code",
   "execution_count": 38,
   "id": "bc524909",
   "metadata": {
    "scrolled": true
   },
   "outputs": [
    {
     "data": {
      "text/plain": [
       "0     0.143939\n",
       "1     0.090909\n",
       "2     0.075758\n",
       "3     0.075758\n",
       "4     0.068182\n",
       "5     0.060606\n",
       "6     0.053030\n",
       "7     0.037879\n",
       "8     0.037879\n",
       "9     0.037879\n",
       "10    0.037879\n",
       "11    0.037879\n",
       "12    0.030303\n",
       "13    0.030303\n",
       "14    0.030303\n",
       "15    0.030303\n",
       "16    0.030303\n",
       "17    0.030303\n",
       "18    0.030303\n",
       "19    0.030303\n",
       "Name: freq, dtype: float64"
      ]
     },
     "execution_count": 38,
     "metadata": {},
     "output_type": "execute_result"
    }
   ],
   "source": [
    "percent=df_word['freq']/df_word['freq'].sum()\n",
    "percent"
   ]
  },
  {
   "cell_type": "code",
   "execution_count": 28,
   "id": "5ef8ab0a",
   "metadata": {},
   "outputs": [
    {
     "data": {
      "text/plain": [
       "0     0.95\n",
       "1     0.60\n",
       "2     0.50\n",
       "3     0.50\n",
       "4     0.45\n",
       "5     0.40\n",
       "6     0.35\n",
       "7     0.25\n",
       "8     0.25\n",
       "9     0.25\n",
       "10    0.25\n",
       "11    0.25\n",
       "12    0.20\n",
       "13    0.20\n",
       "14    0.20\n",
       "15    0.20\n",
       "16    0.20\n",
       "17    0.20\n",
       "18    0.20\n",
       "19    0.20\n",
       "Name: freq, dtype: float64"
      ]
     },
     "execution_count": 28,
     "metadata": {},
     "output_type": "execute_result"
    }
   ],
   "source": [
    "tmp=df_word['freq']/len(df_word['word'])\n",
    "tmp"
   ]
  },
  {
   "cell_type": "code",
   "execution_count": 45,
   "id": "9a22046b",
   "metadata": {},
   "outputs": [
    {
     "data": {
      "text/plain": [
       "'최근 창업 선도 대학 대학생 창업 동아리 연합 창업 예정자 대상 결과 마련 한결 답변 또한 기업 실패 원인 중소기업 가장 애로 사항 판매 부진 아이디어 창업 기술 개발 통한 창조 혁신 제품 판로 소비자 사장 경우 중소기업청 초기 창조 혁신 제품 시장 진입 아이디어 사업 판로 순환 창조경제 생태계 구현 위해 마케팅 이노베이션 지원 사업 시행 계획 확정 발표 사업 계획 신청 접수 시작 마케팅 이노베이션 사업 규모 개사 제품 소비자 반응 조사 대형 유통 상품 기획 현장 전문가 선정 평가 선별 지원 선정 모든 제품 대해 소비자 전문가 평가 통한 시장 조사 실시 혁신 제품 대해 마케팅 전략 수립 제품 개선 지원 정부 보조금 지원 조건 우대 사항 정부 지원 금액 정부 보조금 비중 고시 장성 조사 소비자 전문가 평가 마케팅 전략 수립 업체 부담 제품 개선 업체 부담 이번 사업 주요 특징 그간 마케팅 사업 칸막이 지원 제품 중심 종합 마케팅 지원 시스템 마련 통해 혁신 제품 시장 진입 공률 고하 도록 또한 시장 혁신 제품 발굴 시장 조사 기반 선정 시스템 구축 아이디어 혁신 제품 유통 시장 소비자 만날 접근성 제품 대한 시장 조사 참여 기업 대해 제품 전용 판매 입점 기회 제공 혁신 제품 선정 마케팅 전략 수립 이행 경우 마케팅 사업 참여 자격 부여 마케팅 지원 사업 방안 테스트 마켓 시장 검증 인지도 해외진출 백화점 정책 매장 제품 판매 고속도로 휴게소 시장 평가 상품 검증 백화점 민간 유통 입점 홈쇼핑 무료 방송 온라인 판촉 홍보 제품 홍보 프라자 미국 인니 해외 홈쇼핑 진출 사업 신청 자격 중소기업 기본 규정 중소기업 제조 위탁 생산 소비재 완제 다음 신청 자격 충족 지원 제외 사항 해당 경우 신청 신청 자격 개월 이내 국내 시장 유통 입점 생활 주방 가전 멀티미디어 차량 용품 제품군 참고 제품군 생활 가전 주방 가전 기기 멀티미디어 차량 용품 조명 기기 가구 의료기기 유아 용품 스포츠 용품 다만 사업 목적 수입 제품 해외 위탁 생산 제품 제품 건설 자재 부품 중간 정책 판매 취급 수산물 참여 또한 사업 참여 신청 기업 대표자 부도 폐업 금융기관 채무불이행 확인 경우 제외 신청 기간 온라인 시스템 사업 계획 신청 마케팅 전문가 구성 선정 평가 절차 최종 참여 기업 확정 계획 문의 중소기업청 판로'"
      ]
     },
     "execution_count": 45,
     "metadata": {},
     "output_type": "execute_result"
    }
   ],
   "source": [
    "words"
   ]
  },
  {
   "cell_type": "code",
   "execution_count": null,
   "id": "d2f9b6ef",
   "metadata": {},
   "outputs": [],
   "source": [
    "from mlxtend.preprocessing import TransactionEncoder\n",
    "from mlxtend.frequent_patterns import apriori, association_rules\n",
    "\n",
    "te=TransactionEncoder()\n",
    "te_ary=te.fit()"
   ]
  }
 ],
 "metadata": {
  "kernelspec": {
   "display_name": "Python 3 (ipykernel)",
   "language": "python",
   "name": "python3"
  },
  "language_info": {
   "codemirror_mode": {
    "name": "ipython",
    "version": 3
   },
   "file_extension": ".py",
   "mimetype": "text/x-python",
   "name": "python",
   "nbconvert_exporter": "python",
   "pygments_lexer": "ipython3",
   "version": "3.10.4"
  }
 },
 "nbformat": 4,
 "nbformat_minor": 5
}
